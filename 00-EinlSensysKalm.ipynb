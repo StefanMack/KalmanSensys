{
 "cells": [
  {
   "cell_type": "markdown",
   "metadata": {},
   "source": [
    "# Der Kalman-Filter für die Sensorsignalverarbeitung\n",
    "15.10.2019, S. Mack\n",
    "\n",
    "## Vorbemerkungen\n",
    "Dieses Jupyter-Notebook zum Kalmanfilter basiert auf den Notebooks von R. Labbe, welche auf GitHub unter [rlabbe/Kalman-and-Bayesian-Filters-in-Python](https://www.github.com/rlabbe/Kalman-and-Bayesian-Filters-in-Python) zugänglich sind.  \n",
    "Die Inhalte wurden leicht geändert, und als Anwendungsbeispiel wird hier die Abstandssensorik am Roboterfahrzeug des Projekts \"Sensorsysteme\" im Masterstudium Mechatronik an der Hochschule Reutlingen verwendet:  \n",
    "\n",
    "<img src=\"RoboFahrzeugParallel.png\" width=\"400\">\n",
    "  \n",
    "Das Fahrzeug soll, wie in der Zeichnung oben dargestellt, im konstanten Abstand an der Wand entlang fahren. Der Abstand wird z.B. mit einem am Fahrzeug angebrachten Lidarsensor gemessen und dient als Eingangssignal für eine Regelung.  \n",
    "Der Abstandsmesswert besitzt jedoch eine erhebliche statistische Streuung und ist mit häufigen Ausreißern behaftet, welche durch EMV-Probleme oder Fremdlicht verursacht sind. Für die zyklisch anfallenden Messdaten wird also ein Filter benötigt, der die Messwertstreuung reduziert und insbesondere die \"Ausreißer\" entsprechend wenig gewichtet.  \n",
    "Zudem verfügt die Wand über Nischen, denen das Roboterfahrzeug folgen soll. Daher kommt eine gleitende Mittelwertbildung nicht in Frage. Denn ein tatsächlicher Sprung der Abstandsmesswerte muss unmittelbar erkannt werden.  \n",
    "Außerdem soll mit nur *einem* 1D-Abstandssensor erkannt werden, ob das Fahrzeug gerade parallel oder schräg zur Wand fährt.  \n",
    "\n",
    "Dies ist das optimale Einsatzgebiet eines **Kalman-Filters**. Ein Kalman-Filter wird aber nicht nur dazu verwendet, um bei einem Messsignal das Rauschen zu reduzieren. Mit einem Kalmanfilter kann man auch Zustandsgrößen eines Systems schätzen, welche durch eine Sensormessung gar nicht zugänglich sind. Im Beispiel des Roboterfahrzeugs kann beispielsweise der Winkel des Fahrzeugs zur Wand geschätzt werden, für dessen Messung ansonsten zwei Abstandssensoren nötig wären. Darüber hinaus können mit einem Kalmanfilter mehrere Sensormesswerte fusioniert werden: Würde das Roboterfahrzeug sowohl den Abstand als auch die Relativgeschwindigkeit zur Wand mit einem Radarsensor messen, dann kann mit einem Kalman-Filter der Wandabstand noch genauer geschätzt werden.\n",
    "\n",
    "Der Kalman-Filter ist eine Spezialform des **g-h-Filters**. Daher macht es Sinn, sich zuerst mit diesem Filterkonzept zu befassen. Zuerst wird daher Schritt für Schritt ein g-h-Filter entwickelt. Im folgenden Jupyter-Notebook wird dieser Filter mittels simulierter Abstandsmessdaten des Roboterfahrzeugs getestet.  \n",
    "Darauf folgen Jupyter-Notebooks zum diskreten **Bayes-Filter**, ebenfalls eine Spezialform des **g-h-Filters**. Nach einem weiteren Jupyter-Notebook zu den Grundlagen der Wahrscheinlichkeitsrechnung wird der **eindimensionale Kalman-Filter** behandelt.  \n",
    "Darauf aufbauend folgen Jupyter-Notebooks zum **mehrdimensionalem Kalman-Filter** nachdem zuvor die mehrdimensionalen Gaußverteilungen eingeführt wurden."
   ]
  },
  {
   "cell_type": "markdown",
   "metadata": {},
   "source": [
    "### \"Das\" oder \"der\" Filter?\n",
    "In der Elektrotechnik verwendet man meistens *das* Filter und in der Optik *der* Filter. Allgemeinsprachlich wird überwiegend die männliche Form des Worts Filter verwendet. Dies wird der Einfachheit halber auch hier so gemacht, denn es geht um das Verstehen technischer Sachverhalte und nicht um Formalitäten.  \n",
    "Zum Glück hat sich der Duden auch dieser Sichtweise angenommen, nur in den Schulen sitzen allzu oft noch pedantische Germanisten, die besser Sprachwissenschaftler im Elfenbeinturm geworden wären ;-) "
   ]
  },
  {
   "cell_type": "markdown",
   "metadata": {},
   "source": [
    "## Übersicht der einzelnen Jupyter-Notebooks\n",
    "Die Links verweisen jeweils auf eine Internetadresse des Webservices ``nbviewer``, mit dem die entsprechenden Jupyter-Notebooks lediglich dargestellt werden. Um das Notebook interaktiv auszuführen, muss aus ``nbviewer`` heraus der Webservice ``binder`` gestartet werden.\n",
    "\n",
    "[**Der g-h-Filter am Beispiel eines Abstandssensors**](https://nbviewer.jupyter.org/github/StefanMack/KalmanSensys/blob/master/01-GHFilterBasics.ipynb)  \n",
    "Hier werden die Grundlagen behandelt, wie mit Hilfe eines physikalischen Modells ein Vorhersagewert erstellt wird, welcher mit einem Messwert fusioniert wird. Daraus entsteht ein korrigierter Schätzwert mit geringerer Messunsicherheit.\n",
    "\n",
    "[**Beispiele zum g-h-Filter**](https://nbviewer.jupyter.org/github/StefanMack/KalmanSensys/blob/master/02-GHFilterBeispiele.ipynb)  \n",
    "Hier werden die im vorangegangenen Jupyter-Notebook erarbeiteten Grundlagen anhand von Beispielen vertieft. Dafür wird das Roboterfahrzeug verwendet, welches mit Hilfe eines verrauschten Abstandssensors parallel zur Wand fahren soll.\n",
    "\n",
    "[**Der diskrete Bayes-Filter zum Tracken eines Roboterfahrzeugs, Teil 1**](https://nbviewer.jupyter.org/github/StefanMack/KalmanSensys/blob/master/03-BayesFilterTeil1.ipynb)  \n",
    "Ein Roboterfahrzeug wird mit einem Bayes-Filter getrackt, der eine multimodale Wahrscheinlichkeitsverteilung der Fahrzeugposition als Schätzwert ausgibt. Dazu wird die Bayes-Wahrscheinlichkeitsrechnung eingeführt, die Begrifflichkeiten hierfür erklärt und ein Algorithmus für die Korrektur/Vorhersage entwickelt.\n",
    "\n",
    "[**Der diskrete Bayes-Filter zum Tracken eines Roboterfahrzeugs, Teil 2**](https://nbviewer.jupyter.org/github/StefanMack/KalmanSensys/blob/master/04-BayesFilterTeil2.ipynb)  \n",
    "Der Bayes-Filter als Vorhersage-Korrektur-Algorithmus wird mathematisch vertieft. Dazu wird die Anwendung einer Faltung für die Vorhersage sowie die Anwendung des Bayes-Theorems für die Korrektur vorgestellt. Als Applikationsbeispiele werden Fahrzeugbewegungen simuliert und anschließend mit dem entwickelten Filter getrackt.\n",
    "\n",
    "[**Grundlagen der eindimensionalen gaußschen Wahrscheinlichkeitsrechnung**](https://nbviewer.jupyter.org/github/StefanMack/KalmanSensys/blob/master/05-GrundlStat.ipynb)  \n",
    "Der Kalman-Gilter als eine Spezialform des g-h-Filters basiert auf der gaußschen Wahrscheinlichkeitsrechnung. Die Theorie hierzu -vorerst beschränkt auf eine Dimension d.h. nur eine Zufallsvariable- wird anschaulich anhand vieler Beispiele erklärt.\n",
    "\n",
    "[**Der eindimensionale Kalman-Filter, Teil 1 Grundlagen**](https://nbviewer.jupyter.org/github/StefanMack/KalmanSensys/blob/master/06-EindimKalmTeil1.ipynb)  \n",
    "Das Tracken als Iterationen aus Vorhersage- und Korrekturschritten, wie es beim g-h- und Bayes-Filter eingeführt wurde, wird auf Gaußverteilungen übertragen. Die dazu notwendige Mathematik wird entwickelt und anschließend damit ein Kalman-Filter implementiert.\n",
    "\n",
    "[**Der eindimensionale Kalman-Filter, Teil 2 Simulationen**](https://nbviewer.jupyter.org/github/StefanMack/KalmanSensys/blob/master/07-EindimKalmTeil2.ipynb)  \n",
    "Es werden Messwerte simuliert und anschließend mit einem Kalman-Filter getrackt. Hierzu werden generische Funktionen erstellt. Der bisher entwickelte Code wir neu implementiert, so dass die Bezeichnungen der Variablen und Parameter darin denen der üblichen Lehrbücher entsprechen. \n",
    "\n",
    "[**Mehrdimensionale Gaußverteilungen**](https://nbviewer.jupyter.org/github/StefanMack/KalmanSensys/blob/master/08-MehrdimGauss.ipynb)  \n",
    "Richtig nützlich wird ein Kalman-Filter erst, wenn er mehrere Zustandsgrößen trackt. Daher wird aufbauend auf die Grundlagen der eindimensionalen Gaußverteilung nun auf mehrdimensionale Gaußverteilungen eingegangen. Hierbei spielt die Kovarianzmatrix eine wichtige Rolle, da sie die Korrelation verschiedener Zufallsvariablen beschreibt: Die Korrelation ermöglicht wesentlich genauere Schätzwerte sogar für Zustandsgrößen, welche gar nicht gemessen werden.\n",
    "\n",
    "[**Der mehrdimensionale Kalman-Filter, Teil 1 Grundlagen**](https://nbviewer.jupyter.org/github/StefanMack/KalmanSensys/blob/master/09-MehrdimKalmTeil1.ipynb)  \n",
    "Ein zweidimensionaler Kalman-Filter basierend auf newtonsche Bewegungsgleichungen wird allgemein entwickelt. Die Bedeutung der einzelnen Filterparameter wird erklärt und der allgemeine Filteralgorithmus damit als Python-Funktion implementiert.\n",
    "\n",
    "[**Der mehrdimensionale Kalman-Filter, Teil 2 Simulationen**](https://nbviewer.jupyter.org/github/StefanMack/KalmanSensys/blob/master/10-MehrdimKalmTeil2.ipynb)  \n",
    "Ein mehrdimensionaler Kalman-Filter wird hier am Beispiel des Roboterautos simuliert: Zusätzlich zum Abstand wird nun auch die Relativgeschwindigkeit zur Wand als Zustandsgröße des Filters mit einbezogen. Dadurch kann das Fahrzeug nicht nur besser lokalisiert werden. Sondern der Filter liefert nun auch sehr gute Schätzwerte für dessen Relativgeschwindigkeit zur Wand ohne dass dafür ein Sensor eingesetzt wird. Aus der Relativgeschwindigkeit kann der Winkel berechnet werden, welcher die Fahrtrichtung zur Wand bildet."
   ]
  },
  {
   "cell_type": "markdown",
   "metadata": {},
   "source": [
    "*Anmerkung zu verwendeten Programmiersprache Python:*  \n",
    "Der Code der nachfolgenden Notebooks und die Notebooks selbst wurden unter Python 3.6.5 mit der Distribution Anaconda entwickelt. Als Bibliotheken sind ``NumPy``, ``SciPy``, ``Matplotlib``, ``copy``, ``time`` und ``collections`` eingebunden worden."
   ]
  }
 ],
 "metadata": {
  "kernelspec": {
   "display_name": "Python 3",
   "language": "python",
   "name": "python3"
  },
  "language_info": {
   "codemirror_mode": {
    "name": "ipython",
    "version": 3
   },
   "file_extension": ".py",
   "mimetype": "text/x-python",
   "name": "python",
   "nbconvert_exporter": "python",
   "pygments_lexer": "ipython3",
   "version": "3.6.5"
  }
 },
 "nbformat": 4,
 "nbformat_minor": 1
}
