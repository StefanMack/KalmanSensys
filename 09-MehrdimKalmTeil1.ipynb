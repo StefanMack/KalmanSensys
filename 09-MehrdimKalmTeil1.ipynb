{
 "cells": [
  {
   "cell_type": "markdown",
   "metadata": {},
   "source": [
    "# Der mehrdimensionale Kalman-Filter, Teil 1 Grundlagen\n",
    "1.6.2020, S. Mack"
   ]
  },
  {
   "cell_type": "code",
   "execution_count": 1,
   "metadata": {},
   "outputs": [],
   "source": [
    "# display plots inside this notebook\n",
    "%matplotlib inline \n",
    "import matplotlib.pyplot as plt\n",
    "import numpy as np"
   ]
  },
  {
   "cell_type": "markdown",
   "metadata": {},
   "source": [
    "Die wichtigsten Erkenntnisse des voran gegangenen Jupyter-Notebooks zu den mehrdimensionalen Gaußverteilungen waren:\n",
    "* Aus der skalaren Zufallsvariable und dem skalaren Erwartungswert werden beim Übergang von der eindimensionalen auf die mehrdimensionale Gaußverteilung Vektoren. Der Vektor $\\boldsymbol\\mu$ des Erwartungswerts besitzt für jede Zufallsvariable $i$ im entsprechenden Element den dazugehörigen Erwartungswert $\\mu_i$.\n",
    "* Aus der skalaren Standardabweichung wird im n-dimensionalen Fall eine $n \\times n$-Matrix, die sogenannte Kovarianzmatrix $\\mathbf\\Sigma$. In deren Diagonalelementen $\\Sigma_{ii}$ stecken die Varianzen der einzelnen Zufallsvariablen $i$. Außerhalb der Diagonalen befinden sich in den Elementen $\\Sigma_{ij}$ die Kovarianzen, also das Korrelationsausmaß zwischen den beiden Zufallsvariablen $X_i$ und $X_j$.\n",
    "* Beim Kalman-Filter sind die Zustandsgrößen die Zufallsvariablen. Auch sie werden zu einem Vektor, dem Zustandsvektor, zusammengefasst.\n",
    "* Der Korrekturschritt ist wie im eindimensionalen Fall eine Multiplikation der beiden jetzt mehrdimensionalen Gaußverteilungen von Vorhersage und Messung. Die Mathematik dazu ändert sich nicht wesentlich.\n",
    "* Die Korrelation zweier Zustandsgrößen führt dazu, dass dieser Korrekturschritt einen erheblich genaueren Schätzwert liefert als wären diese unkorreliert.\n",
    "* Selbst wenn eine Zustandsgröße nicht gemessen wird, kann ihr Wert aufgrund der Korrelation genau geschätzt werden. Die Funktion des Kalman-Filters ist in diesem Fall primär gar nicht das Filtern der Messdaten sondern das Schätzen eines Paramters des physikalischen Modells, welcher oft gar nicht mit Sensoren erfasst werden kann.  \n",
    "\n",
    "Im mehrdimensionalen Kalman-Filter **spielt die Korrelation zweier Zustandsgrößen** die zentrale Rolle.  \n",
    "\n",
    "Dieses Jupyter-Notebook behandelt nur eine Unterklasse mehrdimensionaler Kalman-Filter: Filter mit einem physikalischen Modell, welches auf den newtonschen Bewegungsgleichungen beruht. \n",
    "Hierfür wird aber die allgemeine Form eines Kalman-Filters verwendet, so dass sich an den hier vorgestellen Algorithmen und an der Mathematik nichts wesentlich ändert, falls ein Kalman-Filter z.B. für die Ladezustand einer Batterie verwendet werden soll. Wenn dann auch noch die dem physikalischen Modell zugrunde liegenden Differentialgleichungen die selbe Struktur haben, dann kann der nachfolgend entwickelte Kalman-Filter sogar 1:1 darauf übertragen werden. Beispielsweise wird aus \"Abstand\" dann die Zustandsgröße \"Ladung\" und aus \"Abstandsänderung\" die Zustandsgröße \"Strom\".\n",
    "\n",
    "In diesem Sinne werden im nächsten Kapitel zuerst einmal die newtonschen Bewegungsgleichungen wiederholt:"
   ]
  },
  {
   "cell_type": "markdown",
   "metadata": {},
   "source": [
    " ## Die newtonschen Bewegungsgleichungen\n",
    "\n",
    "Die einfachste newtonsche Bewegungsgleichung berechnet bei bekannter Geschwindigkeit $v$ die Position $x$ in Abhängigkeit von der verstrichenen Zeit $t$:\n",
    "\n",
    "$$x(t) = vt + x_0$$\n",
    "\n",
    "Beispielsweise startet ein Fahrzeug an der Position $x_0 = 13 m$, besitzt eine konstante Geschwindigkeit $v = 10 m/s$ und fährt $t = 12 s$ lang. Am Ende dieser Zeit erreicht es somit die Position $ 133 m = 10 m/s\\cdot 12 s + 13 m$ .\n",
    "\n",
    "In einer etwas komplexeren Bewegungsgleichung besitzt das Fahrzeug zusätzlich eine Beschleunigung $a$. Dann ist nicht nur die Position $x$ sondern auch die (momentane) Geschwindigkeit $v$ von der verstrichenen Zeit $t$ abhängig:\n",
    "\n",
    "$$x(t) = \\int_0^t v(t)\\, dt + v_0t + x_0 = \\frac{1}{2}at^2 + v_0t + x_0$$\n",
    "\n",
    "Beide Bewegungsgleichungen sind Lösungen des sogenannten zweiten newtonschen Gesetzes $F = m \\cdot a$. Der Fall $a=0$ ist streng genommen das erste newtonsche Gesetz: \"Wirkt auf einen Körper keine Kraft, so ist seine Geschwindigkeit zeitlich konstant\". Somit gilt mit $v(t) = v = const.$:\n",
    "\n",
    "$$\\begin{aligned} v &= \\frac{dx}{dt}\\\\\n",
    "dx &= v\\, dt \\\\\n",
    "\\int_{x_0}^x\\, dx &= \\int_0^t v\\, dt\\\\\n",
    "x(t) - x_0 &= vt - 0\\\\\n",
    "x(t) &= vt + x_0\\end{aligned}$$\n",
    "\n",
    "**Die Ausgangsformel $v = {dx}/{dt}$ ist eine** (triviale) **Differentialgleichung**.  \n",
    "**Für die hier behandelte Unterklasse von Kalman-Filtern sind es genau solche Differentialgleichungen der Zustandsgrößen, welche die Grundlage für das physikalisches Modell bilden.** Hier sind es konkret die newtonschen Gesetze für einen Kalman-Filter, der die Bewegung des Roboterfahrzeugs tracken soll."
   ]
  },
  {
   "cell_type": "markdown",
   "metadata": {},
   "source": [
    "## Kalman-Filter: Von eindimensional auf mehrdimensional\n",
    "Nachfolgend ist nochmals der grundlegende Algorithmus eines Kalman-Filters wie schon im Jupyter-Notebook des eindimensionalen Kalman-Filters grafisch dargestellt.  \n",
    "\n",
    "<img src=\"grafikKalman_VorhersKorr.png\" width=\"800\">   \n",
    "\n",
    ">Ein Kalman-Filter erstellt eine Vorhersage, macht eine Messung und berechnet daraus einen Korrekturwert (auch Schätzwert genannt), der zwischen dem Vorhersagewert und dem Messwert liegt.  \n",
    "\n",
    "Der generische Kalman-Filter-Algorithmus für den mehrdimensionalen Fall lässt sich in neun Schritten beschreiben: \n",
    "  \n",
    "**Initialisierung**\n",
    "\n",
    "1. Ein physikalisches Modell erstellen und daraus eine mathematische Berechnungsformel für die Vorhersage ableiten.\n",
    "2. Einen Startwert der Zustandsgrößen (Werte, Varianzen) willkürlich festlegen.\n",
    "    \n",
    "**Vorhersage**\n",
    "\n",
    "1. Die Zustandswerte für den nächsten Zeitschritt mit Hilfe des Prozessmodells vorhersagen.\n",
    "2. Die Unsicherheit des Prozessmodells in die Varianzen der Vorhersagewerte einfließen lassen.\n",
    "    \n",
    "**Korrektur**\n",
    "\n",
    "1. Messungen jeder Zustandsgröße durchführen und wenn möglich deren Varianzen bestimmen, falls diese nicht als  konstant angenommen werden.\n",
    "2. Die Resuiduen jeweils von Messwert minus Vorhersagewert berechnen.\n",
    "3. Die Gewichtungsfaktoren (Kalman Gain) über den jeweiligen Vergleich der Varianzen von Messwert und Vorhersagewert berechnen.\n",
    "4. Mit den Gewichtungsfaktoren die Korrekturwerte jeweils zwischen Messwert und Vorhersagewert verorten.\n",
    "5. Die Varianzen der Korrekturwerte jeweils über die Varianzen von Mess- und Vorhersagewerte berechnen.\n",
    "\n",
    "Gegenüber dem entsprechenden Abschnitt im Jupyter-Notebook zum eindimensionalen Kalman-Filter hat sich hier bei einigen Begriffen nur der Numerus von Einzahl auf Mehrzahl geändert - der Algorithmus ist der selbe geblieben."
   ]
  },
  {
   "cell_type": "markdown",
   "metadata": {},
   "source": [
    "Im Jupyter-Notebook zum eindimensionalen Kalman-Filter wurde schon der Übergang von der allgemeinen statistischen Notation ($\\mu$, $\\sigma^2$ usw.) zur Kalman-Notation ($x$, $P$, $Q$, usw.) dargestellt. Die folgenden Tabellen bauen darauf auf und erhalten nun eine weitere Spalte für den mehrdimensionalen Kalman-Filter. Aus den Skalaren werden nun fett gedruckte Vektoren bzw. Matrizen:\n",
    "\n",
    "<u>Vorhersage</u>\n",
    "\n",
    "$\\begin{array}{|l|l|l|}\n",
    "\\hline\n",
    "\\text{Notation} &  \\text{Notation}& \\text{Notation}\\\\\n",
    "\\text{eindim. Statistik} & \\text{eindim. Kalman} & \\text{mehrdim. Kalman}\\\\\n",
    "\\hline\n",
    "\\bar \\mu = \\mu + \\mu_{f_x} & \\bar x = \\hat x + dx & \\bar{\\mathbf x} = \\mathbf{F \\hat x} + \\mathbf{Bu}\\\\\n",
    "\\bar\\sigma^2 = \\sigma_x^2 + \\sigma_{f_x}^2 & \\bar P = \\hat P + Q & \\bar{\\mathbf P} = \\mathbf{F{\\hat P}F}^\\mathsf T + \\mathbf Q \\\\\n",
    "\\hline\n",
    "\\end{array}$\n",
    "\n",
    "Auch ohne Kenntnisse in linearer Algebra lassen sich aus den Gleichungen oben folgende Korrespondenzen zwischen der eindimensionalen und mehrdimensionalen Kalman-Notation ablesen:\n",
    "\n",
    "$\\mathbf {\\hat x}$ und $\\mathbf {\\hat P}$ sind der Erwartungswertvektor und die Kovarianzmatrix der Zustandsgröße. Sie entsprechen in der Gaußstatistik-Notation den Skalaren $\\hat x$ und $\\sigma^2$ im eindimensionalen Fall bzw. dem Vektor $\\boldsymbol \\mu$ sowie der Matrix $ \\boldsymbol \\Sigma$ im mehrdimensionalen Fall.\n",
    "\n",
    "$\\mathbf F$ ist ebenfalls eine Matrix und wird als *Übergangsmatrix* bezeichnet. In ihr steckt das physikalische Modell, ihre Multiplikation mit dem Zustandsvektor $\\mathbf{\\hat x}$ ergibt die Vorhersage $\\mathbf{\\bar x}$. \n",
    "\n",
    "$\\mathbf Q$ ist die Kovarianzmatrix des Prozessrauschens. Sie entspricht im eindimensionalen Fall $\\sigma^2_{f_x}$. In ihr stecken die Unsicherheiten des Modells sowie modellbedingte Korrelationen zwischen den einzelnen Zustandsgrößen.\n",
    "\n",
    "$\\mathbf B$ und $\\mathbf u$ sind neu. Sie beschreiben den Einfluss einer äußeren deterministischen Störung oder Steuerung des Systems. Mann nennt sie *Störmatrix* bzw. *Steuermatrix* und *Störgröße* bzw. *Steuergröße*."
   ]
  },
  {
   "cell_type": "markdown",
   "metadata": {},
   "source": [
    "<u>Korrektur</u>\n",
    "\n",
    "$\\begin{array}{|l|l|l|}\n",
    "\\hline\n",
    "\\text{Notation} &  \\text{Notation}& \\text{Notation}\\\\\n",
    "\\text{eindim. Statistik} & \\text{eindim. Kalman} & \\text{mehrdim. Kalman}\\\\\n",
    "\\hline\n",
    "& y = z - \\bar x & \\mathbf y = \\mathbf z - \\mathbf{H\\bar x} \\\\\n",
    "& K = \\frac{\\bar P}{\\bar P+R}&\n",
    "\\mathbf K = \\mathbf{\\bar{P}H}^\\mathsf T (\\mathbf{H\\bar{P}H}^\\mathsf T + \\mathbf R)^{-1} \\\\\n",
    "\\mu=\\frac{\\bar\\sigma^2\\, \\mu_z + \\sigma_z^2 \\, \\bar\\mu} {\\bar\\sigma^2 + \\sigma_z^2} & \\hat x = \\bar x + Ky & \\mathbf{\\hat x} = \\mathbf {\\bar x} + \\mathbf{Ky} \\\\\n",
    "\\sigma^2 = \\frac{\\sigma_1^2\\sigma_2^2}{\\sigma_1^2+\\sigma_2^2} & \\hat P = (1-K)\\bar P &\n",
    "\\mathbf {\\hat P} = (\\mathbf I - \\mathbf{KH})\\mathbf{\\bar{P}} \\\\\n",
    "\\hline\n",
    "\\end{array}$\n",
    "\n",
    "\n",
    "$\\mathbf H$ ist die Beobachtungsmatrix. Ihr Sinn und Zweck wird später behandelt. Sie hat etwas damit zu tun, dass eine Zustandsgröße $x_i$ oft nicht 1:1 dem entsprechenden Messwert $z_i$ entspricht. Vorerst wird aber angenommen, dass Messgröße und Zustandsgröße identisch sind, also $\\mathbf H = \\mathbf 1$ gilt. Dies ist z.B. bei der Abstandmessung des Beispiel-Roboterfahrzeugs der Fall. Somit kann $\\mathbf H$ aus den Gleichungen oben entfernt werden. Dadurch wird die Ähnlichkeit zum eindimensionalen Fall leichter sichtbar:  \n",
    "\n",
    "$\\mathbf z$ und $\\mathbf R$ sind der Messwertvektor und dessen Kovarianzmatrix (aka \"Messunsicherheiten\"). Diese entsprechen $z$ bzw. $\\sigma_z^2$ für den eindimensionalen Fall. $\\mathbf R$ besitzt meistens nur Diagonalelemente, da die unterschiedlichen Messwerte unkorreliert streuen.\n",
    "\n",
    "$\\mathbf y$ und $\\mathbf K$ bezeichnen das Residuum und den Kalman-Gain - im mehrdimensionalen Fall in Form eines Vektors bzw. einer Matrix. "
   ]
  },
  {
   "cell_type": "markdown",
   "metadata": {},
   "source": [
    "Der Übergang von Eindimensional zu Mehrdimensional spiegelt sich mathematisch im Übergang von eindimensionale auf mehrdimensionale Gaußverteilungen wieder:\n",
    "\n",
    "-  Der Schätzwert und dessen Unsicherheit eines Zustands wird durch eine (mehrdimensionale) Gaußverteilung repräsentiert.\n",
    "-  Der Messwert und dessen Unsicherheit wird durch eine (mehrdimensionale) Gaußverteilung repräsentiert.\n",
    "-  Auch das Prozessmodell wird durch eine (mehrdimensionale) Gaußverteilung repräsentiert, da es ebenfalls mit Unsicherheiten behaftet ist.\n",
    "\n",
    "Um einen Kalman-Filter auf die Beine zu stellen, muss man also die Übergangsmatrix $\\mathbf F$ deren Kovarianzmatrix $\\mathbf Q$ (Prozessrauschen), die Beobachtungsmatrix $\\mathbf H$ und ggfs. die Störmatrix $\\mathbf B$ bestimmen. Falls nicht vom Sensor geliefert benötigt man zusätzlich für den Messwert $\\mathbf z $ die Kovarianzmatrix  $\\mathbf R$ der Messunsicherheiten.   \n",
    "Dann benötigt man noch einen Startwert für den ersten Schätzwertvektor $\\hat{\\mathbf x}_0$  und dessen Kovarianzmatrix $\\mathbf {\\hat P}$. Die Eingangsgrößen des Kalmanfilters sind dann die Messwerte $\\mathbf z $ sowie ggfs. die Störgrößen $\\mathbf u$.\n",
    "\n",
    "#### Bemerkung zur Notation:\n",
    "In der Literatur wird meistens das Symbol $\\mathbf x$ nicht nur für den Zustandsvektor sondern auch für den Schätzwert, also den Erwartungswert des Zustandsvektors verwendet. In diesen Jupyter-Notebooks wird jedoch zwischen $\\mathbf x$ und $\\mathbf {\\hat x}$ unterschieden. Das Dach gibt an, dass es sich um einen Schätzwert, also dem Ergebnis des Korrekturschritts handelt. Gleiches gilt für die Kovarianzmatrix $\\mathbf P$."
   ]
  },
  {
   "cell_type": "markdown",
   "metadata": {},
   "source": [
    "# Konkret: Zweidimensionaler Kalman-Filter für das Roboterfahrzeug\n",
    "## Beispiel Roboterfahrzeug\n",
    "Nachfolgend soll ein zweidimensionaler Kalman-Filter entwickelt werden, der genau wie im Jupyter-Notebook des g-h-Filters bzw. des eindimensionalen Kalman-Filters ein Roboterfahrzeug tracken soll.\n",
    "<img src=\"RoboFahrzeug15Grad.png\" width=\"400\">\n",
    "Wie im schon bekannten Bild oben dargestellt, fährt das Roboterfahrzeug geradlinig schräg zu einer Wand. Gemessen wird der Abstand zur Wand.  \n",
    "Anders als beim eindimensionalen Kalman-Filter soll nun auch die Änderung des Wandabstands getrackt und ausgegeben werden. Die Relativgeschwindigkeit zur Wand ist also die zweite Zustandsgröße in dem hier zu entwickelnden *mehrdimensionalen* Kalman-Filter.  \n",
    "Anders als im eindimensionalen Fall soll nun das physikalische Modell nicht starr *nur für einen* vorgegebenen Winkel (= Relativgeschwindigkeit) zur Wand funktionieren.\n",
    "Der zweidimensionale Kalman-Filter des folgenden Abschnitts soll am Beispiels des Roboterfahrzeugs entwickelt und im folgenden Jupyter-Notebook mithilfe einer Simulation getestet werden.  \n",
    "\n",
    "Der Zustandsgrößenvektor $\\mathbf x$ besteht nun aus den beiden Komponenten *Abstand zur Wand* $x_0$ und *Relativgeschwindigkeit zur Wand* $\\frac{d}{dt} x_0 = x_1$.  \n",
    "Der zu entwickelnde Kalman-Filter soll nun beide Zustandsgrößen tracken, d.h. er soll Schätzwerte für den Abstand und die Abstandsänderung ausgeben sowie deren Varianzen berechnen. Normalerweise gibt es zu jeder Zustandsgröße einen Messwert.\n",
    ">Man spricht dann von einer ***beobachteten* Zustandsgröße**. Im Fall der Relativgeschwindigkeit zur Wand gibt es jedoch beim Beispiel des Roboterfahrzeugs keinen Sensor. Daher handelt es sich bei dieser Zustandsgröße um eine sogenannte ***verdeckte* Zustandsgröße**.  "
   ]
  },
  {
   "cell_type": "markdown",
   "metadata": {},
   "source": [
    "**Der Kalman-Filter soll nun also nicht nur den Wandabstand sondern auch die Abstandsänderung schätzen.** Das klingt jetzt nicht besonders sexy, führt aber dazu, dass anders als im eindimensionalen Fall dieser neue Kalmanfilter nicht auf einen bestimmten Winkel zur Wand voreingestellt ist. Er funktioniert wesentlich besser, falls der wahre Winkel nicht bekannt ist, und in der Folge das physikalische Modell diesen falsch annimmt.   \n",
    "Die neue Kalman-Filter-Funktion, den Wert der verdeckten Zustandsgröße auszugeben, ist in diesem speziellen Fall nicht wirklich der Rede wert. Es gibt aber andere Kalman-Filter, welche verdeckte Zustandsgrößen schätzen, die gar keiner Messung zugänglich sind. Das beste Beispiel hierfür ist das ESP eines Autos, welches die Querbewegung als verdeckte Zustandsgröße schätzt.  \n",
    "\n",
    "Nun wird zuerst der Vorhersageschritt und anschließend der Korrekturschritt des Kalmanfilters betrachtet. Es wird jeweils der Algorithmus, die mathematische und anschließend die softwareseitige Implementierung behandelt.\n",
    "\n",
    "## Der Vorhersageschritt und das physikalische Modell (Prozessmodell) beim zweidimensionalen Kalman-Filter\n",
    "\n",
    "In den nun folgenden Abschnitten werden die einzelnen Parameter für den Vorhersageschritt entwickelt und diskutiert."
   ]
  },
  {
   "cell_type": "markdown",
   "metadata": {},
   "source": [
    "### Der Zustandsvektor\n",
    "In diesem zweidimensionalen Fall besitzt der Zustandsvektor $\\mathbf x$ zwei Elemente (Abstand und Abstandsänderung). Betragen beispielsweise die Erwartungswerte des Abstands 1,0 m und der Abstandsänderung 0,45 m pro Sekunde, dann gilt für den Zustandsvektor:\n",
    "\n",
    "$$\\boldsymbol \\mu = \\mathbf x = \\begin{bmatrix}1,0\\\\0,45\\end{bmatrix}$$\n",
    "\n",
    "Von hier an wird nur noch die Kalman-Notation verwendet, der Erwartungswert des Zustandsvektors wird also mit $ \\mathbf x $ statt mit $\\boldsymbol \\mu$ bezeichnet. Seine Elemente \"$x_i$\" bezeichnen jeweils eine Zustandsgröße.  \n",
    "\"$x_i$\" muss nicht unbedingt für einen Weg oder einen Abstand sehen, wie der Buchstabe \"x\" vielleicht andeutet. Sondern  \"$x_0$\" könnte eine Batteriespannung sein und \"$x_1$\" beispielsweise ein Batterieladezustand.   \n",
    "\n",
    "Für das Roboterfahrzeug ist der Zustandsvektor $\\mathbf x$ gleich\n",
    "$$\\mathbf x =\\begin{bmatrix}x_0 \\\\ \\dot x_0\\end{bmatrix}$$"
   ]
  },
  {
   "cell_type": "markdown",
   "metadata": {},
   "source": [
    "### Die Kovarianzmatrix des Zustandsvektors\n",
    "Beim eindimensionalen Kalman-Filter war $P$ noch ein Skalar und entsprach der Varianz. Nun ist $\\mathbf P$ eine Matrix mit den Varianzen von $x_0$ und $\\dot x_0 = x_1$ als Diagonalelemente.  \n",
    "Nachfolgend ist für eine Beispielmatrix $\\mathbf P$ für die Varianz von $x_0$ der Wert 0.25  und für die Varianz von $\\dot x_0 = x_1$ der Wert 0.009 angenommen:  \n",
    "\n",
    "$$\\mathbf P = \\begin{bmatrix}0.25 & 0 \\\\ 0&0.0009\\end{bmatrix}$$\n",
    "\n",
    "Die beiden Varianzen für den Startwert von $\\mathbf P$ sind wieder mal aus der Hüfte geschossen. Sie sollten aber sinnvoll gewählt werden und in etwa dem Bereich der vermuteten Position bzw. Geschwindigkeit entsprechen.  \n",
    "In diesem Beispiel würde man zum Startzeitpunkt des Filters das Roboterfahrzeug maximal $3\\sigma \\: \\hat{=} \\: 3 \\cdot \\sqrt{0,25\\:m^2} = 1,5\\:m$ weiter weg von der Wand als die angenommenen $x_0 = 1\\:m$ mit einer Relativgeschwindigkeit von maximal $3\\sigma \\: {\\hat{=}} \\: 3 \\cdot \\sqrt{0,0009\\:m^2/s^2} = 0.09\\:m/s$ schneller/langsamer als die angenommenen $x_1 = 0,45\\:m/s$ vermuten.  \n",
    "\n",
    "Welcher Startwert sollen den beiden Kovarianzen in $\\mathbf {\\hat P}$ zugewiesen werden? Die Antwort darauf ist recht einfach: Beide Matrixelemente außerhalb der Diagonalen erhalten den Startwert 0. Wie später gezeigt wird, werden die Kovarianzen automatisch durch das physikalische Modell, also bei der Multiplikation mit der Übergangsmatrix $\\mathbf F$, mit Werten gefüllt.  \n",
    "Mit ``NumPy`` kann man recht einfach über folgenden Code eine Kovarianzmatrix $\\mathbf P$ instanziieren:"
   ]
  },
  {
   "cell_type": "code",
   "execution_count": 3,
   "metadata": {},
   "outputs": [
    {
     "data": {
      "text/plain": [
       "array([[0.25  , 0.    ],\n",
       "       [0.    , 0.0009]])"
      ]
     },
     "execution_count": 3,
     "metadata": {},
     "output_type": "execute_result"
    }
   ],
   "source": [
    "P = np.diag([0.25, 0.0009])\n",
    "P"
   ]
  },
  {
   "cell_type": "markdown",
   "metadata": {},
   "source": [
    "### Die Übergangsmatrix F\n",
    "Das physikalische Modell steckt in einer nun zu erstellenden Übergangsmatrix $\\mathbf F$: Multipliziert mit dem aktuellen Schätzwert  $\\hat{\\mathbf x}$ ergibt sich damit der Vorhersagewert $\\mathbf {\\bar x}$:  \n",
    "$$\\mathbf{\\bar x} = \\mathbf{F \\hat x}$$ \n",
    "\n",
    "Für den eindimensionalen Kalman-Filter wurde hierfür die Funktion $\\bar x = \\hat x + dx$ verwendet, was gleichbedeutend mit der Funktion $\\bar x = \\hat x + \\dot x \\cdot dt$ ist.  \n",
    "Für den nun vorliegenden zweidimensionalen Fall muss also eine Matrix $\\mathbf F$ gefunden werden, für die gilt:  \n",
    "\n",
    "$$\\begin{bmatrix} \\bar {x_0} \\\\ \\bar{\\dot {x_0}}\\end{bmatrix} = \\begin{bmatrix}? & ? \\\\? & ?\\end{bmatrix}\\begin{bmatrix}\\hat{x_0}\\\\ \\hat{\\dot{x_0}} \\end{bmatrix}$$  \n",
    "\n",
    "Zur Erinnerung in Sachen Lineare Algebra:  \n",
    "Die Multiplikation $\\mathbf{Ax}=\\mathbf b$ eines Vektors $\\mathbf x$ mit einer hier willkürlich gewählten Matrix $\\mathbf A$ wird folgendermaßen durchgeführt:  \n",
    "\n",
    "$$\\mathbf{A} = \\begin{bmatrix}2& 3 \\\\ 4&-1\\end{bmatrix},\\, \\mathbf x = \\begin{bmatrix}x_0\\\\x_1\\end{bmatrix}, \\mathbf b=\\begin{bmatrix}2x_0 + 3x_1\\\\4x_0 - 1x_1\\end{bmatrix}$$\n",
    "\n",
    "Eine geradlinige Bewegung des Roboterfahrzeug heißt nicht anderes, dass dessen Relativgeschwindigkeit $\\dot x_0$ zur Wand konstant ist. Für die beiden Komponenten des Zustandsvektors $\\mathbf x$ gilt also:\n",
    "$$\n",
    "\\begin{aligned}\n",
    "\\bar{x_0} &= \\hat{x_0} + \\hat{\\dot{x_0}} \\Delta t \\\\\n",
    "\\bar{\\dot{x_0}} &= \\hat{\\dot{x_0}}\n",
    "\\end{aligned}\n",
    "$$\n",
    "\n",
    "\n",
    "\n",
    "Oder anders geschrieben:\n",
    "$$\n",
    "\\begin{aligned}\n",
    "\\bar{x_0} &= 1\\hat{x_0} + \\Delta t \\hat{\\dot{x_0}} &\\bar{x_0}&= 1\\hat{x_0} + \\Delta t \\hat{x_1}\\\\\n",
    "\\bar{\\dot{x_0}} &= 0\\hat{x_0} + 1 \\hat {\\dot{x_0}} &\\bar{x_1}&= 0\\hat{x_0} + 1\\hat{x_1}\n",
    "\\end{aligned}\n",
    "$$\n",
    "\n",
    "Nun ist es fast offensichtlich, welche Elemente die Übergangsmatrix $\\mathbf F$ haben muss:  \n",
    "\n",
    "$$\n",
    "\\mathbf{\\bar x} = \\mathbf{F \\hat x} \\quad \\leftrightarrows \\quad \\begin{bmatrix}\\bar{x_0} \\\\ \\bar{x_1}\\end{bmatrix} = \\begin{bmatrix}1&\\Delta t  \\\\ 0&1\\end{bmatrix}  \\begin{bmatrix}\\hat{x_0} \\\\ \\hat{x_1} \\end{bmatrix}\\\\\n",
    "\\Rightarrow \\mathbf{F} = \\begin{bmatrix}1&\\Delta t  \\\\ 0&1\\end{bmatrix}\n",
    "$$\n",
    "\n",
    "Im anschließenden Codebeispiel wird diese Matrix instanziiert."
   ]
  },
  {
   "cell_type": "code",
   "execution_count": 4,
   "metadata": {},
   "outputs": [
    {
     "data": {
      "text/plain": [
       "array([[1. , 0.1],\n",
       "       [0. , 1. ]])"
      ]
     },
     "execution_count": 4,
     "metadata": {},
     "output_type": "execute_result"
    }
   ],
   "source": [
    "dt = 0.1\n",
    "F = np.array([[1, dt],[0, 1]])\n",
    "F"
   ]
  },
  {
   "cell_type": "markdown",
   "metadata": {},
   "source": [
    "### Die Kovarianzmatrix des Prozessrauschens Q\n",
    "Unser physikalisches Modell des Roboterfahrzeugs (der \"Prozess\") nimmt bisher an, dass sich das Fahrzeug absolut geradlinig mit absolut konstanter Geschwindigkeit entlang dieser Linie bewegt.  \n",
    "Dies ist aber in der Realität sicherlich nicht der Fall: Es wird aufgrund  sich ändernder Bodenbeschaffenheit wohl nicht exakt geradeaus fahren. Werden dessen Räder von getrennten Elektromotoren angetrieben, deren jeweilige Drehzahlen untereinander leicht schwanken, wird das Roboterfahrzeug auch um die ideale Fahrtrichtung etwas herum \"taumeln\". Zu guter Letzt kann auch noch die Geschwindigkeit entlang der Idealline schwanken.   \n",
    "\n",
    "Die Zustandsgröße *Abstand* als auch die Zustandsgröße *Abstandsänderung* wird im allgemeinen Fall folglich schwanken und sollte also mit einem Rauschen $\\mathbf w$ beaufschlagt werden. Dieses Rauschen ist zum Glück aber mittelwertfrei, was die Mathematik wesentlich vereinfacht. Die Betrachtung des Rauschens vereinfacht sich weiter, denn es müssen primär nur die Schwankungen der Abstandsänderung $w_1$ berücksichtigt werden. Das Rauschen des Abstands $w_0$ ergibt sich daraus über das zugrunde liegende physikalische Modell.  \n",
    "\n",
    "Es ist zuerst wichtig intuitiv zu verstehen, welche Bedeutung die Matrix $\\mathbf Q$ hat.  \n",
    "Der eindimensionale Kalman-Filter verwendet für die Vorhersage die Funktion $\\bar P = \\hat P + Q$. Im mehrdimensionalen Fall sieht die entsprechende Formel nicht viel anders aus: $\\bar{\\mathbf P} = \\mathbf{F{\\hat P}F}^\\mathsf T + \\mathbf Q$.  \n",
    "$\\mathbf Q$ ist also das Delta, um das sich die Kovarianzmatrix bei der Vorhersage vergrößert, analog zur Varianz im eindimensionalen Fall, die sich ebenfalls infolge der Addition einer Gaußverteilung vergrößerte.  "
   ]
  },
  {
   "cell_type": "markdown",
   "metadata": {},
   "source": [
    "*In dem hier betrachteten zweidimensionalen Kalman-Filter nimmt man also an, die Abstandsänderung bleibt während eines Zeitschritts konstant, schwankt aber leicht zwischen zwei Zeitschritten. Das unkorrelierte Streuen dieser Abstandänderung zwischen den Zeitschritten hat eine gaußförmige Verteilung mit einer Varianz $w_1$.*  \n",
    "Da bei der Vorhersage diese Streuung hinzukommt, ergibt sich $\\mathbf Q = \\mathbb E[\\mathbf{ww}^\\mathsf T]$.\n",
    "\n",
    "Die verbleibende Herausforderung ist es nun, bei Kenntnis von $w_1 = \\mathbf Q_{11}$ für das Roboterfahrzeug die restlichen Elemente der Matrix $\\mathbf Q$ zu erzeugen. Dafür sorgen die newtonschen Bewegungsgleichungen, welche in der Übergangsmatrix $\\mathbf F$ stecken. Die mathematische Herleitung hierfür findet sich in der Jupyter-Notebookreihe von R. Labbe.\n",
    "  \n",
    "*Für das real im Sensorsystemeprojekt eingesetzte Roboterfahrzeug stelle man sich vor, es stehe parallel zur Wand und alle vier Radmotoren würden mit der gleichen Solldrehzahl gesteuert: Dann würde das Fahrzeug in etwa um 0,003 m pro Sekunde von einer Ideallinie parallel zur Wand abweichen ($3\\sigma$).*  \n",
    "*Eine vernünftige Annahme für $w_0$ ist somit $w_0 = (0,001\\:m)^2 = 10^{-6}$.*  Dies entspricht für $dt = 1\\:s$ einer Varianz der Relativgeschwindigkeit zur Wand, also einer Varianz der Abstandsänderung von $w_1 = (2 /dt)^2 \\cdot 10 ^{-6} \\:(m/s)^2 = 4 \\cdot 10 ^{-6}\\: (m/s)^2$.  \n",
    "\n",
    "Auf den ersten Blick sollte man meinen, der Abstand und die Abstandsänderung sollten für $dt=1\\:s$ zahlenmäßig um den gleichen Wert schwanken. Die Standardabweichung des Abstands ist jedoch nur halb so groß wie die Standardabweichung der mittelwertfreien Abstandsänderung - ähnlich wie bei einem Random Walk Verhalten. Dadurch entsteht ein Faktor 1/2, welcher beim Übergang von der Standardabweichung auf die Varianz durch das Quadrieren zum Faktor 1/4 wird. Somit gilt $\\mathbf Q_{00} = 1/4 \\cdot \\mathbf Q_{11}$.  \n",
    "\n",
    "Die folgende Funktion ``Q_zero_mean`` bewerkstelligt die Berechnung der fehlenden Elemente von $\\mathbf Q$, insbesondere der Kovarianzen außerhalb der Diagonalen. Sie benötigt als Eingangswerte die Dimension von $\\mathbf Q$, die Größe des Zeitschritts sowie die Varianz der Abstandsänderung $w_1$.  "
   ]
  },
  {
   "cell_type": "code",
   "execution_count": 5,
   "metadata": {},
   "outputs": [
    {
     "data": {
      "text/plain": [
       "array([[1.e-06, 2.e-06],\n",
       "       [2.e-06, 4.e-06]])"
      ]
     },
     "execution_count": 5,
     "metadata": {},
     "output_type": "execute_result"
    }
   ],
   "source": [
    "from scipy.linalg import block_diag\n",
    "\n",
    "def Q_zero_mean(dim, dt=1., var=1):\n",
    "    '''generates start value of process covariance matrix based on given estimate\n",
    "    of variance for the highest order state variable (e.g. velocity for two dimensions)'''\n",
    "    if not (dim == 2 or dim == 3 or dim == 4):\n",
    "        raise ValueError(\"dim must be between 2 and 4\")\n",
    "\n",
    "    if dim == 2:\n",
    "        Q = np.array([[.25*dt**4, .5*dt**3],\n",
    "             [ .5*dt**3,    dt**2]])\n",
    "    elif dim == 3:\n",
    "        Q = np.array([[.25*dt**4, .5*dt**3, .5*dt**2],\n",
    "             [ .5*dt**3,    dt**2,       dt],\n",
    "             [ .5*dt**2,       dt,        1]])\n",
    "    else:\n",
    "        Q = np.array([[(dt**6)/36, (dt**5)/12, (dt**4)/6, (dt**3)/6],\n",
    "             [(dt**5)/12, (dt**4)/4,  (dt**3)/2, (dt**2)/2],\n",
    "             [(dt**4)/6,  (dt**3)/2,   dt**2,     dt],\n",
    "             [(dt**3)/6,  (dt**2)/2 ,  dt,        1.]])\n",
    "\n",
    "    #return block_diag(*[Q]) * var \n",
    "    return Q*var\n",
    "\n",
    "Q_zero_mean(dim=2, dt=1., var=4e-6)"
   ]
  },
  {
   "cell_type": "markdown",
   "metadata": {},
   "source": [
    "### Die Steuermatrix und die Steuergröße\n",
    "Der Kalman-Filter wurde bekanntlich im Apolloprogramm der NASA zum ersten Mal eingesetzt. Dort ging es u.a. darum, bei der Mondlandung den Abstand zur Oberfläche zu tracken. Hierbei mussten natürlich auch die Steuergrößen also die Bremsraketen im Filter berücksichtigt werden. Diese Information wollte man für den Filter natürlich nicht einfach ignorieren.  \n",
    "Nicht zuletzt aus diesem historischen Anlass ist bei einem Kalman-Filter sozusagen von Werk aus auch schon die Einbeziehung *externer Steuer- oder anders ausgedrückt Störgrößen* vorhanden.  \n",
    "\n",
    "Für ein lineares System kann der Einfluss einer Steuergröße als lineares Gleichungssystem mathematisch modelliert werden. Ein lineares Gleichungssystem ist jedoch nichts Anderes als eine Vektor-Matrix-Multiplikation aus der linearen Algebra:  \n",
    "\n",
    "$$\\Delta\\bar{\\mathbf x} = \\mathbf{Bu}$$\n",
    "\n",
    "Hier steht $\\mathbf u$ für die Steuergröße und $\\mathbf B$ für die Steuermatrix.  \n",
    "Beispielsweise könnte $\\mathbf u$ das Puls-Pausen-Verhältnis des PWM-Signals sein, welches die Motoren des Roboterfahrzeugs steuert. $\\mathbf u$ multipliziert mit $\\mathbf{B}$ ergibt \n",
    "$\\Delta[\\begin{smallmatrix}{\\bar x} \\\\ \\bar {\\dot x}\\end{smallmatrix}]$.  \n",
    "D.h. die Multiplikation der Steuergröße mit der Steuermatrix ergibt die Änderung der vorhergesagten Zustandsgrößen.  \n",
    "\n",
    "Somit ergibt sich für den mehrdimensionalen Vorhersageschritt die folgende Formel:  \n",
    "\n",
    "$$\\mathbf{\\bar x} = \\mathbf{Fx} + \\mathbf{Bu}$$  \n",
    "\n",
    "Die Übergangsmatrix $\\mathbf{F}$ berechnet die Vorhersage für den neuen Zustandsvektor $\\mathbf {\\bar x}$. Zusätzlich darauf wird noch dessen Änderung durch die externe Steuerung aufaddiert.  \n",
    "\n",
    "Im Beispiel des hier betrachteten Roboterfahrzeugs gibt es keine (Fern-)Steuerung: Daher wird $\\mathbf B$ als Null angenommen.\n",
    "\n",
    "### Zusammenfassung Initialisierung Vorhersage\n",
    "Für den Kalman-Filter müssen folgende Arrays (Vektoren bzw. Matrizen) initialisiert werden:\n",
    "* $\\mathbf{\\hat x}$, $\\mathbf {\\hat P}$: Der Startwert und die Kovarianzmatrix des Zustandsvektors (\"nullter\" Schätzwert)\n",
    "* $\\mathbf F$,  $\\mathbf Q$: Das Prozessmodell in Form der Übergangsmatrix und das zugehörige Prozessrauschen\n",
    "* $\\mathbf B$, $\\mathbf u$: Optional die Steuermatrix und die von extern wirkende Steuergröße"
   ]
  },
  {
   "cell_type": "markdown",
   "metadata": {},
   "source": [
    "### Die Vorhersagefunktion\n",
    "Zu guter Letzt muss nun nur noch eine Vorhersagefunktion ``predict(x, P, F, Q, B, u)`` in Python implementiert werden. Diese erhält die o.g. Größen übergeben und gibt vorhergesagten Zustandsvektor $\\mathbf{\\bar x}$ sowie dessen Kovarianzmatrix $\\bar{\\mathbf P}$ zurück."
   ]
  },
  {
   "cell_type": "code",
   "execution_count": 6,
   "metadata": {},
   "outputs": [],
   "source": [
    "def predict(x, P, F, Q, B, u):\n",
    "    x_prior = np.dot(F, x)+ np.dot(B, u)\n",
    "    P_prior = np.dot(F, P).dot(F.T) + Q #A.dot(B) is the same as np.dot(A,B)\n",
    "    return x_prior,P_prior   "
   ]
  },
  {
   "cell_type": "markdown",
   "metadata": {},
   "source": [
    "Mit den im voran gegangenen Text erarbeiteten Initialisierungen für das Roboterfahrzeug wird nun die obige Vorhersagefunktion exemplarisch vier mal angewendet. Als Zeitschritt wurde hier 2 Sekunden gewählt, damit die Werte des Zustandsvektors und dessen Kovarianzmatrix nicht zu klein sind.  \n",
    "Normalerweise würde ja nach jedem Vorhersageschritt noch ein Korrekturschritt folgen. Die vier Zeitschritte hier sollen nur den Einfluss der Vorhersage auf den Zustandsvektor $\\mathbf{\\bar x}$ sowie dessen Kovarianzmatrix $\\bar{\\mathbf P}$ verdeutlichen."
   ]
  },
  {
   "cell_type": "code",
   "execution_count": 7,
   "metadata": {},
   "outputs": [
    {
     "name": "stdout",
     "output_type": "stream",
     "text": [
      "[0.   0.05] x start\n",
      "[[0.25  0.   ]\n",
      " [0.    0.001]] P start\n",
      "\n",
      "[0.1  0.05] x\n",
      "[[0.254 0.002]\n",
      " [0.002 0.001]] P\n",
      "\n",
      "[0.2  0.05] x\n",
      "[[0.264 0.004]\n",
      " [0.004 0.001]] P\n",
      "\n",
      "[0.3  0.05] x\n",
      "[[0.283 0.005]\n",
      " [0.005 0.001]] P\n",
      "\n",
      "[0.4  0.05] x\n",
      "[[0.308 0.007]\n",
      " [0.007 0.001]] P\n"
     ]
    }
   ],
   "source": [
    "x = np.array([0., 0.05])\n",
    "P = np.diag([0.25, 0.0009])\n",
    "dt = 2\n",
    "F = np.array([[1, dt],[0, 1]])\n",
    "Q = Q_zero_mean(dim=2, dt=1., var=4e-6)\n",
    "B = 0\n",
    "\n",
    "print(np.around(x,decimals=3), 'x start')\n",
    "print(np.around(P,decimals=3), 'P start')\n",
    "for _ in range(4):\n",
    "    print()\n",
    "    x,P = predict(x, P, F, Q, B, u=0)\n",
    "    print(np.around(x,decimals=3), 'x')\n",
    "    print(np.around(P,decimals=3), 'P')"
   ]
  },
  {
   "cell_type": "markdown",
   "metadata": {},
   "source": [
    "Am Werteverlauf des Zustandsvektors $\\mathbf{\\bar x}$ ist gut zu erkennen, dass das Roboterfahrzeug sich pro 2 Sekunden Zeitschritt jeweils um 0,1 m von der Wand weg bewegt. Seine Geschwindigkeit bleibt wie erwartet konstant bei 0,05 m/s.  \n",
    "\n",
    "Interessanter ist, wie sich die Kovarianzmatrix $\\bar{\\mathbf P}$ entwickelt: Die Varianz des Abstands steigt bei jeder Vorhersage aufgrund des Prozessrauschens an und die Varianz der Abstandsänderung bleibt konstant - dementsprechend wurde ja die Matrix $\\mathbf Q$ berechnet. Also kein Wunder.  \n",
    "\n",
    ">Was schon eher in die Kategorie \"Wunder\" fällt, sind die Außerdiagonalelemente von $\\bar{\\mathbf P}$:  \n",
    "Durch das physikalische Modell in der Matrix $\\mathbf F$ entwickelt sich automatisch in der Matrix $\\bar{\\mathbf P}$ eine Korrelation zwischen Abstand und Abstandsänderung. \n",
    "\n",
    "Im nachfolgenden Plot der Konfidenzellipsen zu der Start-Matrix $\\mathbf P$ und den vier Vorhersage-Matrizen $\\bar{\\mathbf P}$ ist diese Zunahme der Korrelation deutlich durch ein Kippen der Ellipse sichtbar. Die Zentren der Ellipsen (schwarze Kreuze) symbolisieren die Erwartungswerte, also hier die gleichförmige Bewegung von der Wand weg."
   ]
  },
  {
   "cell_type": "code",
   "execution_count": 8,
   "metadata": {},
   "outputs": [],
   "source": [
    "import math\n",
    "import scipy.linalg as linalg\n",
    "from matplotlib.patches import Ellipse\n",
    "\n",
    "# Computes orientation, width and height of the ellipse of covariance matrix\n",
    "def covariance_ellipse(sigma):\n",
    "    U, s, _ = linalg.svd(sigma)\n",
    "    orientation = math.atan2(U[1, 0], U[0, 0])\n",
    "    width = math.sqrt(s[0])\n",
    "    height = math.sqrt(s[1])\n",
    "    if height > width: raise ValueError('width must be greater than height')       \n",
    "    return (orientation, width, height)\n",
    "\n",
    "#plots the ellipse of covariance matrix\n",
    "def plot_covariance(mu, sigma=None, std=None, axis_equal=True, show_center=True,\n",
    "                    facecolor='none', edgecolor='k',alpha=1.0, x_lim=None, y_lim=None, ls='solid'):\n",
    "    ellipse = covariance_ellipse(sigma)\n",
    "    angle = np.degrees(ellipse[0])\n",
    "    width = ellipse[1] * 2.\n",
    "    height = ellipse[2] * 2.\n",
    "\n",
    "    #fig, ax = plt.subplots()\n",
    "    ax = plt.gca() # get handle of current plot\n",
    "    ax.grid()\n",
    "    for sd in std:\n",
    "        e = Ellipse(xy=mu, width=sd*width, height=sd*height, angle=angle,\n",
    "                    facecolor=facecolor, edgecolor=edgecolor, alpha=alpha, lw=2, ls=ls)\n",
    "        ax.add_patch(e)\n",
    "    x, y = mu\n",
    "    \n",
    "    if axis_equal: plt.axis('equal')\n",
    "    if show_center: plt.scatter(x, y, marker='+',alpha=alpha,color=edgecolor)\n",
    "    if x_lim is not None: ax.set_xlim(x-x_lim,x+x_lim)\n",
    "    if y_lim is not None: ax.set_ylim(y-y_lim,y+y_lim)"
   ]
  },
  {
   "cell_type": "code",
   "execution_count": 9,
   "metadata": {},
   "outputs": [
    {
     "data": {
      "text/plain": [
       "Text(0,0.5,'Abstandsänderung (m/s)')"
      ]
     },
     "execution_count": 9,
     "metadata": {},
     "output_type": "execute_result"
    },
    {
     "data": {
      "image/png": "[encoded data removed]",
      "text/plain": [
       "<Figure size 432x288 with 1 Axes>"
      ]
     },
     "metadata": {},
     "output_type": "display_data"
    }
   ],
   "source": [
    "x = np.array([0., 0.05])\n",
    "P = np.diag([0.25, 0.0009])\n",
    "dt = 2\n",
    "F = np.array([[1, dt],[0, 1]])\n",
    "Q = Q_zero_mean(dim=2, dt=1., var=4e-6)\n",
    "B = 0\n",
    "u = 0\n",
    "fig, ax = plt.subplots()\n",
    "plot_covariance(x, P, alpha=1, std=[1], axis_equal=False, x_lim=1, y_lim=0.1)\n",
    "for i in range(4):\n",
    "    x,P = predict(x, P, F, Q, B, u)\n",
    "    plot_covariance(x, P, alpha=1/(i+2), std=[1], axis_equal=False, x_lim=1, y_lim=0.1)\n",
    "    \n",
    "ax.set_xlabel('Abstand (m)')\n",
    "ax.set_ylabel('Abstandsänderung (m/s)')"
   ]
  },
  {
   "cell_type": "markdown",
   "metadata": {},
   "source": [
    ">**Letztlich ist dieses automatische Erscheinen der Korrelation die zentrale Eigenschaft, die diesen zweidimensionalen Kalman-Filter im Vergleich zum eindimensionalen auszeichnet.**  \n",
    "Wie im Jupyter-Notebook zu den mehrdimensionalen Gaußverteilungen gezeigt, bewirkt diese Korrelation anschließend im Korrekturschritt die wesentlich bessere Schätzung der Zustandsgröße \"Abstand\" sowie überhaupt eine Schätzung der verdeckten Zustandsgröße \"Abstandsänderung\"."
   ]
  },
  {
   "cell_type": "markdown",
   "metadata": {},
   "source": [
    "## Der Korrekturschritt beim zweidimensionalen Kalman-Filter\n",
    "Der Korrekturschritt ist beim Übergang zum zweidimensionalen Kalman-Filter auch nicht komplizierter als der Vorhersageschritt. Ähnlich wie die Steuermatrix bei der Vorhersage gibt es hier auch einen neuen Parameter, die Beobachtungsmatrix $\\mathbf H$.\n"
   ]
  },
  {
   "cell_type": "markdown",
   "metadata": {},
   "source": [
    "### Die Beobachtungsmatrix\n",
    "Bisher gab es zu jedem Zustandswert immer den entsprechenden Messwert. Daher konnte das Residuum $y$ einfach aus der Differenz zwischen dem Vorhersagewert und dem Messwert berechnet werden: $y = z - \\bar x$.  \n",
    "Aber schon beim Beispiel Roboterfahrzeug gibt es für die verdeckte Zustandsgröße Abstandsänderung keinen Messwert.\n",
    "Außerdem gibt es oft Situationen, bei denen ein Messwert mehrdeutig ist - wie z.B. beim Phasenverfahren des Lidar-Sensors. In diesem Fall kann zwar über den Zustandswert eindeutig auf einen Messwert geschlossen werden. Umgekehrt ist das jedoch nicht möglich.  \n",
    "Aus diesen Gründen ist es praktikabler, das Residuum nicht im \"Zustandsraum\" sondern im \"Messwertraum\" zu berechnen. Sprich man wandelt den Zustandsvektor der Vorhersage $\\mathbf x$ zuerst in einen Messwertvektor um. Im Fall einer verdeckten Zustandsgröße fehlt dann im Messwertvektor die entsprechende Komponente, wie gleich gezeigt wird.\n",
    "**Die Umwandlung vom Zustandsraum in den Messwertraum übernimmt die Beobachtungsmatrix $\\mathbf H$.**\n",
    "\n",
    "$$\\mathbf y = \\mathbf z - \\mathbf{H \\bar x}$$  \n",
    "\n",
    "Entsprechend ändert sich die grafische Darstellung des eindimensionalen Kalmanfilters wie folgt:\n",
    "\n",
    "<img src=\"grafikKalman_VorhersKorr_mehrDim.png\" width=\"800\">"
   ]
  },
  {
   "cell_type": "markdown",
   "metadata": {},
   "source": [
    "Welche Elemente muss die Beobachtungsmatrix $\\mathbf H$ für das Roboterfahrzeug besitzen?  \n",
    "Bei der Abstandsänderung handelt es ich um eine verdeckte Zustandsgröße. Daher muss $\\mathbf H$ eine solche Gestalt haben, dass  $\\mathbf{H\\bar x}$ einen eindimensionalen Messwertvektor $\\mathbf z$ ergibt.  \n",
    "\n",
    "$$\\mathbf z = \\begin{bmatrix}z_0\\end{bmatrix}$$\n",
    "\n",
    "Die Berechnungsformel für das Residuum, welches auch ein eindimensionaler Vektor ist, muss dann folgende Form annehmen:  \n",
    "\n",
    "$$\n",
    "\\begin{aligned}\n",
    "\\textbf{y} &= \\mathbf z - \\mathbf{H\\bar x}  \\\\\n",
    "\\begin{bmatrix}y \\end{bmatrix} &= \\begin{bmatrix}z_0\\end{bmatrix} - \\begin{bmatrix}?&?\\end{bmatrix} \\begin{bmatrix}x_0 \\\\  x_1\\end{bmatrix}\n",
    "\\end{aligned}\n",
    "$$\n",
    "\n",
    "$\\mathbf H$ muss also eine 1x2-Matrix sein. Und für das Residuum $\\mathbf y$ muss gelten $\\mathbf{y} = [z_0 - \\bar x_0]$, denn es hängt nur vom Abstand $x_0$ ab.  \n",
    "\n",
    "Folglich berechnet sich die Beobachtungsmatrix für das Roboterfahrzeug zu $\\mathbf H=\\begin{bmatrix}1&0\\end{bmatrix}$.  \n",
    "Nachfolgend wird diese Matrix im Code implementiert."
   ]
  },
  {
   "cell_type": "code",
   "execution_count": 10,
   "metadata": {},
   "outputs": [],
   "source": [
    "H = np.array([[1., 0.]])"
   ]
  },
  {
   "cell_type": "markdown",
   "metadata": {},
   "source": [
    "### Der Messwertvektor und dessen Kovarianzmatrix\n",
    "Der Messwertvektor beinhaltet die Sensormesswerte des Prozesses, d.h. hier die Messwerte des Abstandssensors des Roboterfahrzeugs. Da wegen der verdeckten Zustandsgröße \"Abstandsänderung\" nur ein Messwert im Vektor $\\mathbf z$ vorliegt, gilt:\n",
    "\n",
    "$$\\mathbf z = \\begin{bmatrix}z_0\\end{bmatrix}$$\n",
    "\n",
    "Bei zwei Messwerten würde beispielsweise gelten \n",
    "\n",
    "$$\\mathbf z = \\begin{bmatrix}z_0 \\\\ z_1\\end{bmatrix}$$.\n",
    "\n",
    "In der Kovarianzmatrix $\\mathbf R$ von $\\mathbf z$ sind die Messunsicherheiten enthalten. Sie ist eine quadratische Matrix der Form $n \\times n$, wobei n die Anzahl der Sensoren bzw. unterschiedlichen Messgrößen ist. Bei mehreren Sensoren sind die Diagonalelemente meist bekannt, da es sich um die Varianzen = Messunsicherheiten der einzelnen Sensoren handelt. Manchmal sind die Messunsicherheiten verschiedener Sensoren jedoch korreliert und/oder nicht wirklich gaußverteilt.  \n",
    "\n",
    "Im hier betrachteten Beispiel des Roboterfahrzeugs lässt sich die Kovarianzmatrix $\\mathbf R$ ganz einfach zu\n",
    "\n",
    "$$R = \\begin{bmatrix}\\sigma^2_z\\end{bmatrix}$$ \n",
    "\n",
    "bestimmen.\n",
    "\n",
    "Bei zwei unterschiedlichen Messwerten mit einer angenommenen Standardabweichung $\\sigma_{z_0} = 0,1 m$ und $\\sigma_{z_0} = 0,4 m$ würde sich folgende Matrix ergeben: \n",
    "$$R = \\begin{bmatrix}0,01&0\\\\0&0,16\\end{bmatrix}$$ \n",
    "\n",
    "Im Fall des Roboterfahrzeug mit nur einem Sensor mit $\\sigma_{z_0} = 0,1 m$ berechnet sich die Kovarianzmatrix des Messwerts zu $R = \\begin{bmatrix}0,01\\end{bmatrix}$. "
   ]
  },
  {
   "cell_type": "code",
   "execution_count": 11,
   "metadata": {},
   "outputs": [],
   "source": [
    "sigma_z = 0.1\n",
    "R = np.array([[sigma_z**2]])"
   ]
  },
  {
   "cell_type": "markdown",
   "metadata": {},
   "source": [
    "Für das Roboterfahrzeug ist der zweidimensionale Kalman-Filter nun komplett initialisiert und alle Parameter sind berechnet. Der Vorhersage-Algorithmus wurde oben schon in Python-Code implementiert. Gleiches muss nur noch mit dem Korrektur-Algorithmus geschehen.\n",
    "Dies sowie die Simulation des Roboterfahrzeugs sind die Inhalte des nächsten Jupyter-Notebooks. Darin wird dann auch der zweidimensionale Kalman-Filter an verschiedenen Simulationsdaten für das Roboterfahrzeug getestet."
   ]
  },
  {
   "cell_type": "markdown",
   "metadata": {},
   "source": [
    "## Bemerkung zu den physikalischen Einheiten\n",
    "Um die Darstellung der Gleichungen in diesem Jupyter-Notebook möglichst übersichtlich zu halten, wurde in den meisten Fällen auf Einheiten verzichtet. Im Fall des Roboterfahrzeugs müssten korrekter Weise bei den Abständen immer die Einheit \"m\", bei den Abstandsänderungen \"m/s\" und bei der Zeit die Einheit \"s\" aufgeführt werden.  \n",
    "Grundsätzlich macht es Sinn, die Einheiten weg zu lassen. Im Gegenzug ist jedoch für jede Größe peinlich darauf zu achten, dass immer nur diese eine festgelegte Einheit verwendet wird."
   ]
  }
 ],
 "metadata": {
  "kernelspec": {
   "display_name": "Python 3",
   "language": "python",
   "name": "python3"
  },
  "language_info": {
   "codemirror_mode": {
    "name": "ipython",
    "version": 3
   },
   "file_extension": ".py",
   "mimetype": "text/x-python",
   "name": "python",
   "nbconvert_exporter": "python",
   "pygments_lexer": "ipython3",
   "version": "3.6.9"
  }
 },
 "nbformat": 4,
 "nbformat_minor": 2
}
