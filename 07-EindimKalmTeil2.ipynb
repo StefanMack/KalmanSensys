{
 "cells": [
  {
   "cell_type": "markdown",
   "metadata": {},
   "source": [
    "# Eindimensionaler Kalman-Filter, Teil 2 Simulationen\n",
    "5.4.2022, S. Mack"
   ]
  },
  {
   "cell_type": "code",
   "execution_count": 1,
   "metadata": {},
   "outputs": [],
   "source": [
    "# display plots inside this notebook\n",
    "%matplotlib inline \n",
    "import matplotlib.pyplot as plt\n",
    "import numpy as np\n",
    "\n",
    "from collections import namedtuple\n",
    "gaussian = namedtuple('Gaussverteilung', ['mean', 'var'])\n",
    "gaussian.__repr__ = lambda s: '𝒩(μ={:.3f}, 𝜎²={:.3f})'.format(s[0], s[1])\n",
    "\n",
    "def gaussian_multiply(g1, g2):\n",
    "    mean = (g1.var * g2.mean + g2.var * g1.mean) / (g1.var + g2.var)\n",
    "    variance = (g1.var * g2.var) / (g1.var + g2.var)\n",
    "    return gaussian(mean, variance)\n",
    "\n",
    "def predict(pos, movement):\n",
    "    return gaussian(pos.mean + movement.mean, pos.var + movement.var)\n",
    "\n",
    "def update(prior, likelyhood):\n",
    "    posterior = gaussian_multiply(likelyhood, prior)\n",
    "    return posterior"
   ]
  },
  {
   "cell_type": "markdown",
   "metadata": {},
   "source": [
    "Die beiden Funktionen ``update()`` und ``predict()`` aus dem letzten Notebook sind  oben aufgeführt. Dort findet sich auch der Quellcode für das Rechnen mit Gaußverteilungen. Mit diesem Code lässt sich nun ein Kalman-Filter realisieren, der einen Zustandswert mit der bekannten Vorhersage-/Korrektur-Iteration trackt.  \n",
    "Damit der Filter getestet werden kann, müssen Messdaten simuliert werden. Daher wird im nächsten Abschnitt noch Code für die Simulation der Bewegung des Roboterfahrzeugs entwickelt. Die Algorithmen hierfür werden durch die Klasse ``RoboSim`` implementiert.\n",
    "\n",
    "## Klasse RoboSim für Simulation von Messdaten \n",
    "Es soll ein Roboterfahrzeug simuliert werden, welches im Wesentlichen geradlinig entlang einer geraden Wand fährt. Dabei muss seine Fahrspur nicht parallel zur Wand sein.  \n",
    "Von Interesse ist nicht mehr die Position entlang des Flurs sondern um die Position in Bezug auf die Wand: Es wird der Abstand zur Wand gemessen - diese Messgröße ist somit die zu filternde \"Zustandsgröße\". Auf diese Messgröße beziehen sich die nachfolgenden Variablen wie ``x0``, ``velocity`` usw.  \n",
    "Es wird also **nicht der zurück gelegte Weg sondern der Abstand bzw. die Abständsänderung zur Wand** betrachtet. Fährt das Fahrzeug beispielsweise geradlinig schräg von der Wand weg, dann besitzt es eine konstante Geschwindigkeit ``velocity``, mit der es sich von der Wand weg bewegt.\n",
    "\n",
    "Der Konstruktor ``RoboSim(x0,velocity,measurement_var,process_var)`` erhält folgende Variablen übergeben: \n",
    "* ``x0``: Startposition des Roboters, also der anfängliche Abstand zur Wand. \n",
    "* ``velocity``: Die (mittlere) Positionsänderung pro Iteration, also der Erwartungswert der Abstandsänderung zur Wand.\n",
    "* ``process_var``: Die Varianz des gaussförmigen Prozessrauschens, mit dem ``velocity`` beaufschlagt wird. Der Roboter bewegt sich realitätsnah *nicht* mit absolut konstanter Geschwindigkeit relativ zur Wand. D.h. er fährt beispielsweise leichte Schlangenlinien im Gegensatz zu einer idealen Fahrspur in Form einer Geraden.\n",
    "* ``measurement_var``: Die Varianz der Messunsicherheit des Positionssensors, also des Messrauschens.  \n",
    "  \n",
    "Die Methode `sense_position()` schlägt auf den schon durch das Prozessrauschen verrauschten wahren Positionswert zusätzlich ein Messrauschen auf."
   ]
  },
  {
   "cell_type": "code",
   "execution_count": 2,
   "metadata": {},
   "outputs": [],
   "source": [
    "import copy # needed for deepcopy() ín move_and_sense()\n",
    "class RoboSim(object):\n",
    "\n",
    "    def __init__(self, x0=0, velocity=1, process_var=0.0, measurement_var=0.0):\n",
    "        ''' x0 - initial position, velocity - (+=right, -=left), process_variance - variance \n",
    "        velocity of process (m/s)^2, measurement_variance - variance in measurement m^2 '''\n",
    "        self.x = x0\n",
    "        self.velocity = velocity\n",
    "        self.measurement_noise = np.sqrt(measurement_var)\n",
    "        self.process_noise = np.sqrt(process_var)\n",
    "\n",
    "    def move(self, dt=1.0):\n",
    "        '''compute new position of the robot assuming `dt` seconds have passed since the last update\n",
    "        based on (velocity + process noise).'''\n",
    "        velocity = self.velocity + np.random.randn() * self.process_noise * dt\n",
    "        self.x += velocity * dt\n",
    "\n",
    "    def sense_position(self):\n",
    "        # simulates measuring the position with measurement noise\n",
    "        return self.x + np.random.randn() * self.measurement_noise\n",
    "\n",
    "    def move_and_sense(self, dt=1.0):\n",
    "        self.move(dt)\n",
    "        x = copy.deepcopy(self.x)\n",
    "        return x, self.sense_position() # true noisy position and measured position of robot\n",
    "\n",
    "    def run_simulation(self, dt=1, count=1):\n",
    "        ''' simulate the robot moving over a period of time and returns data: np.array[float, float],2D array, \n",
    "        column 0: true actual position of robot, column 1: measurement of robot position\n",
    "        '''\n",
    "        return np.array([self.move_and_sense(dt) for i in range(count)])"
   ]
  },
  {
   "cell_type": "markdown",
   "metadata": {},
   "source": [
    "Im Quellcode oben ist es wichtig, den Unterschied zwischen dem Prozessrauschen und dem Messrauschen zu erkennen: \n",
    ">Das Prozessrauschen bewirkt, dass der Roboter sich nicht absolut gleichförmig bewegt. Diese schon \"verrauschte\" wahre Position wird von einem Sensor mit Messunsicherheit (= Messrauschen) gemessen und dadurch zusätzlich \"verrauscht\".\n",
    "\n",
    "Der Rückgabewert der Funktion ``run_simulation`` ist ein Array aus Tupeln. Jedes Arrayelement entspricht einem Zeitschritt. In zugehörigen Tupel befindet sich an Position 0 der wahre Abstandswert und an Position 1 der gemessene Abstandswert des Roboters.\n",
    "\n",
    "Nachfolgend wird mit der Klasse ``RoboSim`` eine Fahrt des Roboterfahrzeugs simuliert und grafisch dargestellt.\n",
    "\n",
    "### Beispiel Simulation Roboterfahrzeug"
   ]
  },
  {
   "cell_type": "code",
   "execution_count": 3,
   "metadata": {},
   "outputs": [
    {
     "data": {
      "image/png": "[encoded data removed]",
      "text/plain": [
       "<Figure size 720x288 with 1 Axes>"
      ]
     },
     "metadata": {
      "needs_background": "light"
     },
     "output_type": "display_data"
    }
   ],
   "source": [
    "np.random.seed(13) # to make the simulation reproducible\n",
    "\n",
    "process_var = 1. # variance of robot velocity, same as later in Kalman filter\n",
    "sensor_var = 2. # variance distance sensor, same as later in Kalman filter\n",
    "\n",
    "n = 10 # number of date to be simulated\n",
    "x_start = 0\n",
    "velocity = 1\n",
    "dt = 1. # time step in seconds\n",
    "process_model = gaussian(velocity, process_var) # for simulation same parameters as later in Kalman filter\n",
    "  \n",
    "# simulate robot and get measurements\n",
    "robot = RoboSim(x0=x_start,velocity=process_model.mean,measurement_var=sensor_var,process_var=process_model.var)\n",
    "\n",
    "# create list of measurements\n",
    "zs = [robot.move_and_sense() for _ in range(n)] # column 0: true position, column 1: measurend position\n",
    "\n",
    "fig, ax = plt.subplots(figsize=(10,4))\n",
    "time = np.linspace(dt,n*dt, n)\n",
    "ax.plot(time, [z[0] for z in zs], color='r', mfc='None', marker = 'v', linestyle='None',label='wahrer Wert')\n",
    "ax.plot(time, [z[1] for z in zs], color='k', mfc='None', marker = 'o', linestyle=':', linewidth = 1, label='Messwert')\n",
    "ax.set_xlabel('Zeit (s)')\n",
    "ax.set_ylabel('Wandabstand Roboterfahrzeug (a.u.)')\n",
    "ax.legend()    \n",
    "ax.grid()"
   ]
  },
  {
   "cell_type": "markdown",
   "metadata": {},
   "source": [
    "Auf die oben simulierten Daten des Roboterfahrzeugs wird nun ein Kalman-Filter angewendet und dessen Wirkung untersucht. Dafür werden zuerst aber noch zwei Hilfsfunktionen benötigt.\n",
    "\n",
    "## Hilfsfunktionen\n",
    "### Plotfunktion für Ergebnisse Simulation mit Kalman-Filter\n",
    "Nachfolgend wird eine Plotfunktion erstellt, die für die kommenden Simulationen den Verlauf der Vorhersagewerte, Messwerte und Schätzwerte (=Filteroutput) grafisch darstellt.  "
   ]
  },
  {
   "cell_type": "code",
   "execution_count": 4,
   "metadata": {},
   "outputs": [],
   "source": [
    "def plot_meas_pred_est(measurements, predictions, estimates, est_vars):\n",
    "    plt.figure(figsize=(10,4))\n",
    "    n = len(measurements)\n",
    "    time = range(1,n+1)\n",
    "    meas, = plt.plot(time, measurements, color='k', mfc='None', marker = 'o', linestyle='None') # mfc = hollow markers\n",
    "    pred, = plt.plot(time, predictions, color='k', mfc='None', marker = '+', linestyle='None')\n",
    "    est, = plt.plot(time, estimates, marker = 'o', linestyle=':', linewidth = 2, markersize=3)\n",
    "    est_var_min = np.asarray(estimates) - np.asarray(est_vars) # conversion to np.array because adding lists not possible\n",
    "    est_var_max = np.asarray(estimates) + np.asarray(est_vars)\n",
    "    plt.fill_between(time, est_var_min, est_var_max, facecolor='C0', alpha=0.2)\n",
    "    \n",
    "    plt.legend([meas, pred, est], ['Messwerte','Vorhersagewerte','Schätzwerte (Filter) $\\pm \\sigma$'], loc=\"upper left\", \n",
    "               bbox_to_anchor=(1,1))\n",
    "    plt.xlabel('Zeit (s)')\n",
    "    plt.ylabel('Zustandswert (a.u.)')\n",
    "    plt.grid()"
   ]
  },
  {
   "cell_type": "markdown",
   "metadata": {},
   "source": [
    "Auch für den Kalmanfilter wird eine Funktion erstellt, damit die Quellcodes in diesem Notebook überschaubar bleiben. Die nachfolgende Funktion ``kal_filt_for_plot()`` filtert die übergebenen Messdaten aus ``zs`` (Position 0 der einzelnen Tupel dieser Liste) und gibt Arrays für die grafische Darstellung zurück.\n",
    "\n",
    "### Funktion für Anwendung des Kalman-Filters auf Simulationsdaten inkl. Ergebnisplot"
   ]
  },
  {
   "cell_type": "code",
   "execution_count": 5,
   "metadata": {},
   "outputs": [],
   "source": [
    "def kal_filt_for_plot(meas_data, est_start, est_start_var, process_model, sensor_var):\n",
    "    posterior = gaussian(est_start, est_start_var)  # first initial guess of Robot position\n",
    "    priors=[] # needed for subsequent plotting\n",
    "    measurements=[]\n",
    "    posteriors=[]\n",
    "    post_vars=[]\n",
    "\n",
    "    print('Wahr \\t Vorhers. +/-Var      Mess +/-Var        Korr. +/-Var')\n",
    "\n",
    "    # perform Kalman filter on measurement z, process_model and sensor_var values same as for simulation.\n",
    "    for z in meas_data:    \n",
    "        prior = predict(posterior, process_model)\n",
    "        likelihood = gaussian(z[1], sensor_var)\n",
    "        posterior = update(prior, likelihood)\n",
    "        print('{:6.3f}\\t {:6.3f} +/-{:7.3f}    {:6.3f} +/-{:6.3f}\\t  {:6.3f} +/-{:6.3f}'.format\n",
    "              (z[0],prior.mean, prior.var,z[1],sensor_var,posterior.mean,posterior.var))\n",
    "        priors.append(prior.mean)\n",
    "        posteriors.append(posterior.mean)\n",
    "        post_vars.append(np.sqrt(posterior.var))\n",
    "        measurements.append(z[1])\n",
    "    \n",
    "    #plot_meas_pred_est(measurements,priors,posteriors,post_vars)\n",
    "    print()\n",
    "    print('final estimate:        {:10.3f}'.format(posterior.mean))\n",
    "    print('actual final position: {:10.3f}'.format(robot.x))\n",
    "    return measurements,priors,posteriors,post_vars"
   ]
  },
  {
   "cell_type": "markdown",
   "metadata": {},
   "source": [
    "## Vorbemerkung zu den nachfolgenden Simulationen\n",
    "In den nachfolgend gezeigten Simulationsbeispielen erhält der Kalman-Filter für sein physikalisches Modell die selbe Geschwindigkeit ``velocity`` und Varianz ``process_var`` wie sie für die Simulation der Roboterbewegung verwendet wurde. Das Gleiche gilt auch für das Sensorrauschen: Das im Kalman-Filter angenommene Messwertrauschen ``sensor_var`` ist gleich zu dem simulierten Sensorrauschen ``measurement_var``.  \n",
    "Diese Tatsache hat ein wenig den Beigeschmack einer Täuschung, denn bei einem realen, nicht simulierten Fahrzeug liegen diese Werte nicht vor. Letztlich kann man aber sowohl das Fahrzeug als auch den Sensor empirisch untersuchen, und erhält so Informationen zumindest zu den beiden Varianz-Parametern. \n",
    "\n",
    "**Der Parameter Geschwindigkeit im physikalischen Modell ist hier unveränderlich auf den Wert 1 festgelegt.**\n",
    "Damit er ähnlich wie beim g-h-Filter dynamisch angepasst werden kann, muss der Kalman-Filter diesen Zustandswert ebenfalls schätzen. Dafür ist aber ein *zweidimensionaler* Kalmanfilter nötig, der erst im nächsten Jupyter\n",
    "Notebook entwickelt wird.   \n",
    "\n",
    "## Simulation mit zehn Iterationen zur Verdeutlichung der Filterwirkung"
   ]
  },
  {
   "cell_type": "code",
   "execution_count": 6,
   "metadata": {},
   "outputs": [
    {
     "name": "stdout",
     "output_type": "stream",
     "text": [
      "Wahr \t Vorhers. +/-Var      Mess +/-Var        Korr. +/-Var\n",
      " 0.288\t  1.000 +/-401.000     1.354 +/- 2.000\t   1.352 +/- 1.990\n",
      " 1.243\t  2.352 +/-  2.990     1.882 +/- 2.000\t   2.070 +/- 1.198\n",
      " 3.588\t  3.070 +/-  2.198     4.341 +/- 2.000\t   3.736 +/- 1.047\n",
      " 5.938\t  4.736 +/-  2.047     7.156 +/- 2.000\t   5.960 +/- 1.012\n",
      " 8.417\t  6.960 +/-  2.012     6.939 +/- 2.000\t   6.949 +/- 1.003\n",
      " 8.628\t  7.949 +/-  2.003     6.844 +/- 2.000\t   7.396 +/- 1.001\n",
      "10.191\t  8.396 +/-  2.001     9.847 +/- 2.000\t   9.122 +/- 1.000\n",
      "12.105\t 10.122 +/-  2.000    12.553 +/- 2.000\t  11.338 +/- 1.000\n",
      "13.232\t 12.338 +/-  2.000    16.273 +/- 2.000\t  14.305 +/- 1.000\n",
      "14.838\t 15.305 +/-  2.000    14.800 +/- 2.000\t  15.053 +/- 1.000\n",
      "\n",
      "final estimate:            15.053\n",
      "actual final position:     14.838\n"
     ]
    },
    {
     "data": {
      "image/png": "[encoded data removed]",
      "text/plain": [
       "<Figure size 720x288 with 1 Axes>"
      ]
     },
     "metadata": {
      "needs_background": "light"
     },
     "output_type": "display_data"
    }
   ],
   "source": [
    "np.random.seed(13) # to make the simulation reproducible\n",
    "est_start = 0\n",
    "est_start_var = 400\n",
    "\n",
    "process_var = 1. # variance of robot velocity, same as later in Kalman filter\n",
    "sensor_var = 2. # variance distance sensor, same as later in Kalman filter\n",
    "\n",
    "x_start = 0\n",
    "velocity = 1\n",
    "dt = 1. # time step in seconds\n",
    "process_model = gaussian(velocity, process_var) # for simulation same parameters as later in Kalman filter\n",
    "  \n",
    "# simulate robot and get measurements\n",
    "robot = RoboSim(x0=x_start,velocity=process_model.mean,measurement_var=sensor_var,process_var=process_model.var)\n",
    "\n",
    "# create list of measurements\n",
    "zs = [robot.move_and_sense() for _ in range(10)] # column 0: true position, column 1: measurend position\n",
    "# perform Kalman tracking and plot results, * needed to unpack arguments out of the list\n",
    "plot_meas_pred_est(*kal_filt_for_plot(zs,est_start,est_start_var,process_model,sensor_var))"
   ]
  },
  {
   "cell_type": "markdown",
   "metadata": {},
   "source": [
    "Die wahren Roboterpositionen wurden mit der Klasse ``RoboSim`` simuliert. Die Startposition ist 0, die Geschwindigkeit 1. Mit der selben Klasse wurden auch die Messwerte simuliert: Sie streuen relativ zu den wahren Abstandswerten (die auch schon streuen) mit einer Varianz von 2.    \n",
    "Der Startpostionswert des Filters beträgt 0 und hat eine Varianz von 400. Dieser Wert ist der Schätzwert zur Zeit 0, welcher nicht im Plot und auch nicht oben in der Tabelle dargestellt ist. Die große Varianz bedeutet, dass das Roboterfahrzeug am Anfang praktisch überall vermutet wird.    \n",
    "Der erste Vorhersagewert ist gleich 1, denn im Prozessmodell ist eine feste Geschwindigkeit von 1/s angenommen und der Zeitschritt beträgt 1 s. Die Varianz dieses ersten Vorhersagewerts ist mit 401 sogar noch um 1 höher als die Varianz des Startwerts.  \n",
    "Der Schätzwert für die Zeit 1 liegt deshalb sehr nahe am Messwert (und nicht am Vorhersagewert), da dessen Varianz mit (konstant) 2 wesentlich kleiner ist als die des Vorhersagewerts (401).  \n",
    "Bei den nächsten Iterationen (=Zeitschritten) liegt der Schätzwert wie erwartet immer zwischen dem Vorhersagewert und dem Messwert.\n",
    "  \n",
    "Die Standardabweichung (*also die Wurzel der Varianz!*) des Schätzwertes ist durch das hellblaue Band markiert und engt sich rasch auf den Wert 1 ein: Die Varianz des Messwerts ist konstant 2 und die Varianz des Vorhersagewerts konvergiert gegen den Wert 2. Die Kombination dieser beiden Varianzen lässt sich als Mittelwertbildung aus zwei unabhängigen Zufallswerten mit Varianz 2 auffassen. Somit ergibt sich für den Mittelwert die halbe Varianz von 1, was gleich einer Standardabweichung von 1 ist.\n",
    "> Die Varianz des des Filter-Outputs (Korrekturwert=Schätzwert) ist schon bei der zweiten Iteration deutlich kleiner als die Varianz des Messwerts. Der Kalman-Filter zeigt also große Wirkung. Zudem liegt der wahre Wert immer innerhalb des 68 % Vertrauensintervalls des Filter-Outpus.\n",
    "  \n",
    "Die Varianz des Vorhersagewerts nähert sich rasch dem Wert 2, da jeweils die Varianz 1 des Prozessmodells zur vorherigen Varianz des Schätzwerts hinzu kommt."
   ]
  },
  {
   "cell_type": "markdown",
   "metadata": {},
   "source": [
    "## Kalman-Filter für Simulation mit hohem Prozessrauschen\n",
    "\n",
    "```python\n",
    "process_var = 40\n",
    "sensor_var = 2\n",
    "```\n",
    "Hier ist die Varianz des Messwerts auf lange Sicht gleich ``sensor_var``, denn die Vorhersage wird wegen ihrer ungleich höheren Unsicherheit nicht mehr ernst genommen. "
   ]
  },
  {
   "cell_type": "code",
   "execution_count": 7,
   "metadata": {},
   "outputs": [
    {
     "name": "stdout",
     "output_type": "stream",
     "text": [
      "Wahr \t Vorhers. +/-Var      Mess +/-Var        Korr. +/-Var\n",
      "-3.506\t  1.000 +/-440.000    -2.440 +/- 2.000\t  -2.424 +/- 1.991\n",
      "-2.787\t -1.424 +/- 41.991    -2.148 +/- 2.000\t  -2.115 +/- 1.909\n",
      " 6.720\t -1.115 +/- 41.909     7.473 +/- 2.000\t   7.082 +/- 1.909\n",
      "16.259\t  8.082 +/- 41.909    17.477 +/- 2.000\t  17.049 +/- 1.909\n",
      "26.612\t 18.049 +/- 41.909    25.133 +/- 2.000\t  24.810 +/- 1.909\n",
      "22.622\t 25.810 +/- 41.909    20.837 +/- 2.000\t  21.064 +/- 1.909\n",
      "27.181\t 22.064 +/- 41.909    26.837 +/- 2.000\t  26.620 +/- 1.909\n",
      "33.960\t 27.620 +/- 41.909    34.409 +/- 2.000\t  34.100 +/- 1.909\n",
      "35.765\t 35.100 +/- 41.909    38.807 +/- 2.000\t  38.638 +/- 1.909\n",
      "40.600\t 39.638 +/- 41.909    40.562 +/- 2.000\t  40.520 +/- 1.909\n",
      "\n",
      "final estimate:            40.520\n",
      "actual final position:     40.600\n"
     ]
    },
    {
     "data": {
      "image/png": "[encoded data removed]",
      "text/plain": [
       "<Figure size 720x288 with 1 Axes>"
      ]
     },
     "metadata": {
      "needs_background": "light"
     },
     "output_type": "display_data"
    }
   ],
   "source": [
    "np.random.seed(13) # to make the simulation reproducible\n",
    "est_start = 0\n",
    "est_start_var = 400\n",
    "\n",
    "process_var = 40.\n",
    "sensor_var = 2.\n",
    "\n",
    "x_start = 0\n",
    "velocity = 1\n",
    "dt = 1. # time step in seconds\n",
    "process_model = gaussian(velocity, process_var) # for simulation same parameters as later in Kalman filter\n",
    "  \n",
    "# simulate robot and get measurements\n",
    "robot = RoboSim(x0=x_start,velocity=process_model.mean,measurement_var=sensor_var,process_var=process_model.var)\n",
    "\n",
    "# create list of measurements\n",
    "zs = [robot.move_and_sense() for _ in range(10)] # column 0: true position, column 1: measurend position\n",
    "# perform Kalman tracking and plot results, * needed to unpack arguments out of the list\n",
    "plot_meas_pred_est(*kal_filt_for_plot(zs,est_start,est_start_var,process_model,sensor_var))"
   ]
  },
  {
   "cell_type": "markdown",
   "metadata": {},
   "source": [
    "## Kalman-Filter für Simulation mit hohem Sensorrauschen\n",
    "\n",
    "```python\n",
    "process_var = 2\n",
    "sensor_var = 40\n",
    "```\n",
    "Hier ist die Varianz des Korrekturwerte auf lange Sicht etwa 8. Es stellt sich ein Gleichgewicht ein: Die Vorhersagewerte liegen bei einer Varianz von ca. 10, was mit der konstanten Varianz 40 der Messwerte zu einer resultierenden Varianz von 8 kombiniert wird."
   ]
  },
  {
   "cell_type": "code",
   "execution_count": 8,
   "metadata": {},
   "outputs": [
    {
     "name": "stdout",
     "output_type": "stream",
     "text": [
      "Wahr \t Vorhers. +/-Var      Mess +/-Var        Korr. +/-Var\n",
      "-0.007\t  1.000 +/-402.000     4.760 +/-40.000\t   4.420 +/-36.380\n",
      " 0.930\t  5.420 +/- 38.380     3.787 +/-40.000\t   4.620 +/-19.587\n",
      " 3.832\t  5.620 +/- 21.587     7.199 +/-40.000\t   6.173 +/-14.020\n",
      " 6.741\t  7.173 +/- 16.020    12.188 +/-40.000\t   8.608 +/-11.439\n",
      " 9.832\t  9.608 +/- 13.439     3.221 +/-40.000\t   8.001 +/-10.059\n",
      " 9.717\t  9.001 +/- 12.059     1.738 +/-40.000\t   7.319 +/- 9.266\n",
      "11.513\t  8.319 +/- 11.266     9.974 +/-40.000\t   8.682 +/- 8.790\n",
      "13.805\t  9.682 +/- 10.790    15.812 +/-40.000\t  10.985 +/- 8.498\n",
      "14.985\t 11.985 +/- 10.498    28.585 +/-40.000\t  15.436 +/- 8.315\n",
      "16.842\t 16.436 +/- 10.315    16.673 +/-40.000\t  16.484 +/- 8.201\n",
      "\n",
      "final estimate:            16.484\n",
      "actual final position:     16.842\n"
     ]
    },
    {
     "data": {
      "image/png": "[encoded data removed]",
      "text/plain": [
       "<Figure size 720x288 with 1 Axes>"
      ]
     },
     "metadata": {
      "needs_background": "light"
     },
     "output_type": "display_data"
    }
   ],
   "source": [
    "np.random.seed(13) # to make the simulation reproducible\n",
    "est_start = 0\n",
    "est_start_var = 400\n",
    "\n",
    "process_var = 2.\n",
    "sensor_var = 40.\n",
    "\n",
    "x_start = 0\n",
    "velocity = 1\n",
    "dt = 1. # time step in seconds\n",
    "process_model = gaussian(velocity, process_var) # for simulation same parameters as later in Kalman filter\n",
    "  \n",
    "# simulate robot and get measurements\n",
    "robot = RoboSim(x0=x_start,velocity=process_model.mean,measurement_var=sensor_var,process_var=process_model.var)\n",
    "\n",
    "# create list of measurements\n",
    "zs = [robot.move_and_sense() for _ in range(10)] # column 0: true position, column 1: measurend position\n",
    "# perform Kalman tracking and plot results, * needed to unpack arguments out of the list\n",
    "plot_meas_pred_est(*kal_filt_for_plot(zs,est_start,est_start_var,process_model,sensor_var))"
   ]
  },
  {
   "cell_type": "markdown",
   "metadata": {},
   "source": [
    "## Kalmanfilter mit unpassendem Prozessmodell\n",
    "Nachfolgend wird untersucht, wie ein Kalman-Filter reagiert, wenn die Messdaten ganz und gar nicht zum Prozessmodell passen.\n",
    "Dazu wird die Klasse RoboSim so modifiziert, dass der Roboter sich nun nicht mehr gleichförmig sondern mit konstanter Beschleunigung bewegt. Dazu wird eine Klasse RoboSimAcc erstellt, die von der Klasse RoboSim erbt.    "
   ]
  },
  {
   "cell_type": "code",
   "execution_count": 9,
   "metadata": {},
   "outputs": [],
   "source": [
    "class RoboSimAcc(RoboSim):\n",
    "    def __init__(self, x0=0, velocity=1, accel = 1, process_var=0.0, measurement_var=0.0):\n",
    "        ''' x0 - initial position, velocity - (+=right, -=left), process_variance - variance in process (m/s)^2, \n",
    "        measurement_variance - variance in measurement m^2 '''\n",
    "        super().__init__(x0=0, velocity=1, process_var=0.0, measurement_var=0.0)\n",
    "        self.accel = accel\n",
    "        \n",
    "    def move(self, dt=1.0):\n",
    "        '''compute new position of the robot assuming `dt` seconds have passed since the last update.'''\n",
    "        # computes new position based on velocity and acceleration + process noise added\n",
    "        self.velocity = self.velocity + self.accel * dt\n",
    "        velocity = self.velocity + np.random.randn() * self.process_noise * dt\n",
    "        self.x += velocity * dt"
   ]
  },
  {
   "cell_type": "markdown",
   "metadata": {},
   "source": [
    "Das Prozessmodell des Kalman-Filters basiert jedoch anders als die im Code oben erzeugten Simulationswerte immer noch auf einer gleichförmigen Bewegung. **Im Gegensatz zu den vorangegangenen Abschnitten verwendet die Simulation der Roboterbewegung also einen ganz anderen Geschwindigkeitsverlauf als das Prozessmodell des Kalman-Filters.** \n",
    "Wie der nachfolgende Plot darstellt, kann nun der Kalman-Filter der beschleunigten Bewegung nicht folgen, da er ja von einer gleichförmigen Bewegung ausgeht. Das Gleiche wurde auch beim gh-Filter gezeigt. Der wahre Wert liegt ab der dritten Iteration immer außerhalb des 68 % Vertrauensintervalls des Filter-Outpus.\n",
    "Nur wenn das Prozessrauschen sehr viel größer als das Sensorrauschen gewählt wird, folgen die Schätzwerte dem Parabelverlauf. Dann aber findet jedoch fast gar keine Filterwirkung statt."
   ]
  },
  {
   "cell_type": "code",
   "execution_count": 13,
   "metadata": {},
   "outputs": [
    {
     "name": "stdout",
     "output_type": "stream",
     "text": [
      "Wahr \t Vorhers. +/-Var      Mess +/-Var        Korr. +/-Var\n",
      " 2.000\t  1.000 +/-401.000     2.000 +/- 2.000\t   1.995 +/- 1.990\n",
      " 5.000\t  2.995 +/-  2.990     5.000 +/- 2.000\t   4.196 +/- 1.198\n",
      " 9.000\t  5.196 +/-  2.198     9.000 +/- 2.000\t   7.188 +/- 1.047\n",
      "14.000\t  8.188 +/-  2.047    14.000 +/- 2.000\t  11.128 +/- 1.012\n",
      "20.000\t 12.128 +/-  2.012    20.000 +/- 2.000\t  16.075 +/- 1.003\n",
      "27.000\t 17.075 +/-  2.003    27.000 +/- 2.000\t  22.041 +/- 1.001\n",
      "35.000\t 23.041 +/-  2.001    35.000 +/- 2.000\t  29.022 +/- 1.000\n",
      "44.000\t 30.022 +/-  2.000    44.000 +/- 2.000\t  37.011 +/- 1.000\n",
      "54.000\t 38.011 +/-  2.000    54.000 +/- 2.000\t  46.006 +/- 1.000\n",
      "65.000\t 47.006 +/-  2.000    65.000 +/- 2.000\t  56.003 +/- 1.000\n",
      "\n",
      "final estimate:            56.003\n",
      "actual final position:     65.000\n"
     ]
    },
    {
     "data": {
      "image/png": "[encoded data removed]",
      "text/plain": [
       "<Figure size 720x288 with 1 Axes>"
      ]
     },
     "metadata": {
      "needs_background": "light"
     },
     "output_type": "display_data"
    }
   ],
   "source": [
    "np.random.seed(13) # to make the simulation reproducible\n",
    "est_start = 0\n",
    "est_start_var = 400\n",
    "\n",
    "process_var = 1. # variance of robot velocity, same as later in Kalman filter 1\n",
    "sensor_var = 2. # variance distance sensor, same as later in Kalman filter 2\n",
    "\n",
    "x_start = 0\n",
    "velocity = 1\n",
    "dt = 1. # time step in seconds\n",
    "process_model = gaussian(velocity, process_var) # for simulation same parameters as later in Kalman filter\n",
    "  \n",
    "# simulate robot and get measurements\n",
    "robot = RoboSimAcc(x0=x_start,velocity=process_model.mean,accel = 1,measurement_var=sensor_var,process_var=process_model.var)\n",
    "\n",
    "# create list of measurements\n",
    "zs = [robot.move_and_sense() for _ in range(10)] # column 0: true position, column 1: measurend position\n",
    "# perform Kalman tracking and plot results, * needed to unpack arguments out of the list\n",
    "plot_meas_pred_est(*kal_filt_for_plot(zs,est_start,est_start_var,process_model,sensor_var))"
   ]
  },
  {
   "cell_type": "markdown",
   "metadata": {},
   "source": [
    "## Allgemeine Notation und Bezeichnungen für den Kalman-Filter in der Literatur\n",
    "\n",
    "Es gibt viele, auch gute Lehrbücher zum Kalman-Filter. Sie haben aber fast alle gemeinsam, dass sie zuerst die Theorie behandeln und erst dann den tapferen Leser mit praktischen Beispielen belohnen.  \n",
    "In diesen Notebooks wird bewusst auf die \"reine Theorie\" verzichtet. Der Kalman-Filter wurde hier Schritt für Schritt intuitiv mit vielen Beispielen und Simulationen entwickelt.  \n",
    "\n",
    "Will man sich näher mit dem Kalman-Filter befassen und auch die Theorie dahinter verstehen, dann ist es wichtig, die Notationen und Bezeichnungen aus der Literatur den Bezeichnungen in diesen Notebooks zuordnen zu können. Dies ist der Sinn und Zweck dieses Abschnitts.  \n",
    "Generell gilt im vorliegenden Jupyter Notebook: Ein Dach $\\hat \\quad$ über einer Größe bezeichnet deren Wert nach der Korrektur. Ein Balken $\\bar \\quad$ über einer Größe bezeichnet deren Wert nach der Vorhersage.\n",
    "\n",
    "Im Korrekturschritt sind sowohl der Vorhersagewert als auch der Messwert Gaußverteilungen, die jeweils über einen Erwartungswert $\\bar\\mu$ bzw. $\\mu_z$ und eine Varianz $\\bar\\sigma^2$ bzw. ${\\sigma_z}^2$ definiert werden.  \n",
    "\n",
    "Der Korrekturwert (auch Posterior oder Schätzwert genannt) wird über folgende Formel berechnet:\n",
    "\n",
    "$$\n",
    "\\hat\\mu=\\frac{\\bar\\sigma^2\\, \\mu_z + \\sigma_z^2 \\, \\bar\\mu} {\\bar\\sigma^2 + \\sigma_z^2}\n",
    "$$\n",
    "\n",
    "Dies kann umgeformt werden zu:\n",
    "\n",
    "$$\\hat\\mu = \\left( \\frac{\\bar\\sigma^2}{\\bar\\sigma^2 + \\sigma_z^2}\\right) \\mu_z + \\left(\\frac{\\sigma_z^2}{\\bar\\sigma^2 + \\sigma_z^2}\\right)\\bar\\mu$$\n",
    "\n",
    "Letztlich sieht man oben wieder wie beim g-h-Filter einen gewichteten Mittelwert aus Vorhersagewert und Messwert. Aus den beiden Gewichtungsfaktoren in den Klammern wird nun wie beim beim g-h-Filter ein Gain berechnet, der dem Parameter $g$ des g-h-Filters entspricht: \n",
    "\n",
    "Mit \n",
    "$$K=\\frac{\\bar\\sigma^2}{\\bar\\sigma^2 + \\sigma_z^2}$$ \n",
    "ergibt sich:\n",
    "\n",
    "$$\\begin{aligned}\n",
    "\\hat\\mu &= K \\mu_z + (1-K) \\bar\\mu\\\\\n",
    "&= \\bar\\mu + K(\\mu_z - \\bar\\mu)\n",
    "\\end{aligned}$$\n",
    "\n",
    "> $K$ wird in der Literatur als *Kalman gain* bezeichnet. Er ist das Verhältnis der Gewichtung des Vorhersagewerts im Vergleich zum Messwert.\n",
    "\n",
    "Der dem g-h-Filter entsprechende Parameter $h$ wird hier übrigens noch nicht implementiert - im phyiskalischen Modell diese *eindimensionalen* Kalman-Filters wird die Abständsänderung nicht dem Messwertverlauf angepasst sonder immer gleich 1 angenommen."
   ]
  },
  {
   "cell_type": "markdown",
   "metadata": {},
   "source": [
    "### Neuimplementierung der Kalman-Filter-Iterationsschritte \"update\" und \"predict\"\n",
    "Nachfolgend sind neue Implementierungen der Funktionen ``update()`` and ``predict()`` dargestellt. Vom Algorithmus her sind sie identisch zu denen am Beginn dieses Notebooks. Hier werden lediglich die Bezeichnungen denen der in der Literatur angepasst."
   ]
  },
  {
   "cell_type": "code",
   "execution_count": 11,
   "metadata": {},
   "outputs": [],
   "source": [
    "def update(prior, measurement):\n",
    "    x, P = prior        # mean and variance of prior\n",
    "    z, R = measurement  # mean and variance of measurement\n",
    "    \n",
    "    y = z - x        # residual\n",
    "    K = P / (P + R)  # Kalman gain\n",
    "\n",
    "    x = x + K*y      # posterior\n",
    "    P = (1 - K) * P  # posterior variance, product of two gaussians\n",
    "    return gaussian(x, P)\n",
    "\n",
    "def predict(posterior, movement):\n",
    "    x, P = posterior # mean and variance of posterior\n",
    "    dx, Q = movement # mean and variance of movement\n",
    "    x = x + dx\n",
    "    P = P + Q # prior, sum of two gaussions\n",
    "    return gaussian(x, P)"
   ]
  },
  {
   "cell_type": "markdown",
   "metadata": {},
   "source": [
    "Zum besseren Verständnis ist nachfolgend nochmals eine Iteration aus Vorhersage und Korrektur grafisch dargestellt.  \n",
    ">Der Kalman Gain $K$ bestimmt, wo der neue Schätzwert entlang des Residuums zu liegen kommt.  \n",
    "\n",
    "<img src=\"grafikKalman_VorhersKorr.png\" width=\"800\">  \n",
    "\n",
    "In der vorherigen Notation war $z = \\mu_z$ und $\\bar x_t = \\bar \\mu$."
   ]
  },
  {
   "cell_type": "markdown",
   "metadata": {},
   "source": [
    "Die im Quellcode verwendeten Bezeichnungen ``z``, ``P``, ``Q`` und ``R`` findet man sehr oft in Literatur zum Kalman-Filter. Sie sind eine Standardnotation für den Kalman-Filter.\n",
    "+ $z$ steht meistens für den Messwert.\n",
    "+ $R$ steht für Varianz des Messwerts.\n",
    "+ $Q$ steht für Varianz des Prozesses.\n",
    "+ $P$ steht für die Varianz des Zustands, mit Balken $\\bar P$ des Priors (Vorhersagewert) bzw. mit Dach $\\hat P$ des Posteriors (Korrekturwert)"
   ]
  },
  {
   "cell_type": "markdown",
   "metadata": {},
   "source": [
    "### Korrespondenz der Bezeichnungen zum Buch \"Kalman-Filter\" von R. Marchthaler  und S. Dingler\n",
    "Dieses aktuelle Buch bietet die Möglichkeit, sich tiefer in den Thematik des Kalman-Filters einzuarbeiten. Hier sind auch die nötigen theoretischen Grundlagen erklärt.  \n",
    "Damit der Umstieg von dieser Notebookreihe auf das Fachbuch gelingt, sind in der Tabelle die Begrifflichkeiten verglichen.\n",
    "\n",
    "\n",
    "| Parameter in diesem Notebook | entsprechender Parameter Marchthaler |            Bemerkung            |\n",
    "| :--------------------------- | :----------------------------------: | -------------------------------:|\n",
    "| Prior, Vorhersagewert $\\bar x$ | prädizierter Zustandsvektor $\\hat {\\underline x}(k)$ | Ausgang predict()<br/>selbe Messgröße wie z|\n",
    "| Varianz Prior $\\bar P$ | prädizierte Kovarianz des Schätzfehlers $\\hat{\\underline P}(k)$ | Ausgang predict() |\n",
    "| Posterior, Korrekturwert $\\hat x$ | Korrigierter Zustandsvektor $\\tilde {\\underline x}(k)$ | Ausgang update() |\n",
    "| Varianz Posterior $\\hat P$ | korrigierte Kovarianz des Schätzfehlers $\\tilde{\\underline P}(k)$ | Ausgang update() |\n",
    "| Messwert z | Ausgangsvektor ${\\underline y}(k)$| hier Abstand |\n",
    "| Varianz Messwert R | Varianz Messrauschen ${\\underline R}(k)$ | hier const. |\n",
    "| - | prädizierter Messwert $\\hat {\\underline y}(k)$| = $\\underline C \\cdot \\hat {\\underline x}(k)$ meist = $\\hat {\\underline x}(k)$ |\n",
    "| Bewegung dx | steckt in Systemmatrix ${\\underline {A_d}}(k)$| hier: v = const., im Buch: $f(v,a) \\neq $const.|\n",
    "| Varianz Prozess Q | Systemrauschen ${\\underline Q}(k)$ | Zunahme Varianz Prior x durch Prädiktion |\n",
    "| Kalman Gain K | Kalmanverstärkung ${\\underline K}(k)$ | Input $\\hat {\\underline P}(k) , {\\underline R}(k)$ |\n",
    "| Residuum y | $\\Delta \\underline y(k)$ | engl. \"residual\" |\n",
    "\n",
    "In der Einleitung dieses Buchs ist am Beispiel der Mondlandefähre der Kalmanfilter erklärt. Hier handelt es sich aber im Gegensatz zu diesem Notebook um einen zweidimensionalen Kalmanfilter, bei dem der Zustandsvektor nicht aus dem einen Element einer Ortskoordinate sondern aus der Ortskoordinate h, der Geschwindigkeit v und der Beschleunigung a besteht. Messwerte existieren nur für h und a. v ist durch die Matrix C immer gleich Null. Das bedeutet, dass v zwar eine Zustandsgröße aber kein Messwert ist.  \n",
    "Die Rolle des Eingangsvektors $\\underline u(k)$ ist im Buch ebenfalls unklar. Vermutlich hat dieser Vektor rein gar nichts mit dem Filteralgorithmus selbst zu tun. Auch dem Autor dieses Notebooks fällt es übrigens sehr schwer, die reine Theorie eines Kalmanfilters aus dem Buch von Marchthaler et al. zu verstehen ;-)"
   ]
  },
  {
   "cell_type": "markdown",
   "metadata": {},
   "source": [
    "### Die Gleichungen und Implementierungen für einen Kalman-Filter\n",
    "\n",
    "Zu Übersicht sind hier nochmals die verschiedenen Gleichungen aufgeführt, die in diesem und den voran gegangenen Notebook im Zusammenhang mit dem Kalman-Filter aufgetaucht sind:\n",
    "\n",
    "\n",
    "<u>Vorhersage</u>\n",
    "\n",
    "$\\begin{array}{|l|l|l|}\n",
    "\\hline\n",
    "\\text{Gleichung} & \\text{Implementierung} & \\text{Kalman-Form}\\\\\n",
    "\\hline\n",
    " \\bar x = \\hat x + f_x & \\bar\\mu = \\hat\\mu + \\mu_{f_x} & \\bar x = \\hat x + dx\\\\\n",
    "& \\bar\\sigma^2 = \\sigma^2 + \\sigma_{f_x}^2 & \\bar P = \\hat P + Q\\\\\n",
    "\\hline\n",
    "\\end{array}$\n",
    "\n",
    "\n",
    "<u>Korrektur</u>\n",
    "\n",
    "$\\begin{array}{|l|l|l|}\n",
    "\\hline\n",
    "\\text{Gleichung} & \\text{Implementierung}& \\text{Kalman-Form}\\\\\n",
    "\\hline\n",
    " \\hat x = \\| \\mathcal L \\circ  \\bar x\\| & y = \\mu_z - \\bar\\mu & y = z - \\bar x\\\\\n",
    " & K = \\frac {\\bar\\sigma^2} {\\bar\\sigma^2 + \\sigma_z^2} & K = \\frac {\\bar P}{\\bar P+R}\\\\\n",
    " & \\hat\\mu = \\bar \\mu + Ky & \\hat x = \\bar x + Ky\\\\\n",
    " & \\sigma^2 = \\frac {\\bar\\sigma^2 \\sigma_z^2} {\\bar\\sigma^2 + \\sigma_z^2} & \\hat P = (1-K)\\bar P\\\\\n",
    "\\hline\n",
    "\\end{array}$"
   ]
  },
  {
   "cell_type": "markdown",
   "metadata": {},
   "source": [
    "### Der generische Algorithmus eines Kalman-Filters\n",
    "\n",
    ">Ein Kalman-Filter erstellt eine Vorhersage, macht eine Messung und berechnet daraus einen Korrekturwert (auch Schätzwert genannt), der zwischen dem Vorhersagewert und dem Messwert liegt.  \n",
    "Egal welches Lehrbuch über Kalman-Filter man aufschlägt, zugrunde liegt immer dieser Algorithmus. Er wird nur unterschiedlich mathematisch implementiert. So unterscheiden sich die verschiedenen Lehrbücher und Implementierungen im Wesentlichen in der verwendeteten Mathematik *jedoch nicht im Algorithmus*.\n",
    "\n",
    "Dieser generische Kalman-Filter-Algorithmus lässt sich in neun Schritten beschreiben: \n",
    "  \n",
    "**Initialisierung**\n",
    "\n",
    "1. Ein physikalisches Modell erstellen und daraus eine mathematische Berechnungsformel für die Vorhersage ableiten.\n",
    "2. Einen Startwert der Zustandsgröße (Wert, Unsicherheit) willkürlich festlegen.\n",
    "    \n",
    "**Vorhersage**\n",
    "\n",
    "1. Den Zustandswert (Prior) für den nächsten Zeitschritt mit Hilfe es Prozessmodells vorhersagen.\n",
    "2. Die Unsicherheit des Prozessmodells in die Unsicherheit des Vorhersagewerts einfließen lassen.\n",
    "    \n",
    "**Korrektur**\n",
    "\n",
    "1. Eine Messung durchführen und wenn möglich deren Unsicherheit bestimmen, falls diese nicht als konstant angenommen wird.\n",
    "2. Das Resuiduum von Messwert minus Vorhersagewert berechnen.\n",
    "3. Den Gewichtungsfaktor (Kalman Gain) über den Vergleich der Unsicherheit von Messwert und Vorhersagewert berechnen.\n",
    "4. Mit dem Gewichtungsfaktor den Korrekturwert zwischen Messwert und Vorhersagewert verorten.\n",
    "5. Die Unsicherheit des Korrekturwerts über die Unsicherheiten von Mess- und Vorhersagewert berechnen.\n",
    "    \n",
    "**Bemerkung:** Oben wurde bewusst der Begriff \"Unsicherheit\" statt \"Varianz\" verwendet, obwohl damit Letzteres gemeint ist. "
   ]
  },
  {
   "cell_type": "markdown",
   "metadata": {},
   "source": [
    "### Neuimplementierung der Funktion kal_filt_for_plot()\n",
    "Nachfolgend wird die Funktion ``kal_filt_for_plot()`` nochmals neu mit den aktualisierten Funktionen ``update()`` und ``predict()`` implementiert. Dadurch wird der Code übersichtlicher, kann besser mit Codebeispielen aus der Literatur verglichen werden und später für Übungen wiederverwendet werden.  \n",
    "Im Array ``zs`` befinden sich nach wie vor die wahren Werte (Spalte 0) und und die Messwerte (Spalte 1)."
   ]
  },
  {
   "cell_type": "code",
   "execution_count": 12,
   "metadata": {},
   "outputs": [],
   "source": [
    "def kal_filt(z_vals, z_var, x_start, process_model, do_print=False):\n",
    "    x = x_start  # first initial guess of Robot position\n",
    "    priors=[] # needed for subsequent plotting\n",
    "    measurements=[]\n",
    "    x_vals=[]\n",
    "    x_vars=[]\n",
    "\n",
    "    if do_print: print('Wahr \\t Vorhers. +/-Var      Mess +/-Var        Korr. +/-Var')\n",
    "\n",
    "    # perform Kalman filter on measurements zs\n",
    "    for z in z_vals:    \n",
    "        prior = predict(x, process_model)\n",
    "        x = update(prior, gaussian(z[1], z_var))\n",
    "        if do_print: print('{:6.3f}\\t {:6.3f} +/-{:7.3f}    {:6.3f} +/-{:6.3f}\\t  {:6.3f} +/-{:6.3f}'.format\n",
    "              (z[0],z[1],sensor_var,prior.mean, prior.var,x.mean,x.var))\n",
    "        priors.append(prior.mean)\n",
    "        x_vals.append(x.mean)\n",
    "        x_vars.append(np.sqrt(x.var))\n",
    "        measurements.append(z[1])\n",
    "    print('Letzter Schätzwert:  {:10.3f}'.format(x.mean))\n",
    "    return measurements,priors,x_vals,x_vars"
   ]
  },
  {
   "cell_type": "markdown",
   "metadata": {},
   "source": [
    "## Einführung Design eines Kalman-Filters\n",
    "\n",
    "Die Auslegung eines Kalmanfilters hängt immer vom Sensorverhalten und vom zugrunde liegenden physikalischen Modell (Prozessmodell) ab.  \n",
    "Angenommen, nun soll nicht mehr ein Roboterfahrzeug sondern ein Thermometer getrackt werden:  \n",
    "Die Zustandsgröße ist die Temperatur, welche mit einem integrierten Temperatursensor gemessen wird. Der Sensor gibt die Temperatur in °C als Spannungswert aus. Der Sensorhersteller spezifiziert das Rauschen dieses Sensors mit 0,13 V (Standardabweichung).\n",
    "\n",
    "Somit werden für den Temperatursensor mit folgender Funktion verrauschte Messwerte simuliert:"
   ]
  },
  {
   "cell_type": "code",
   "execution_count": 13,
   "metadata": {},
   "outputs": [],
   "source": [
    "def volt(voltage, std): # simulation of thermometer readings\n",
    "    return voltage, voltage + (np.random.randn() * std) # true value (without noise), noisy value"
   ]
  },
  {
   "cell_type": "markdown",
   "metadata": {},
   "source": [
    "Die Varianz der Messwerte ist über das Sensordatenblatt bekannt. Für das Prozessmodell wird angenommen, dass die Temperatur weitgehend konstant bleibt, da sich das Thermometer beispielsweise in einem klimatisierten Raum befindet. Der wahre Temperaturwert ändert sich also im Mittel nicht. Daher sollte eigentlich auch der Erwartungswert des Prozessmodells, also die angenommene Temperaturänderung gleich 0 sein. Würde man nun auch noch eine Varianz von 0 für das Prozessmodell annehmen - also ausschließen, dass sich die Temperatur doch ändern kann, dann würde der Filter so träge, dass er selbst kleinsten Temperaturschwankungen beispielsweise durch kurzes Lüften nicht mehr folgt. Ein solches Lüften wird nachfolgend in der Mitte der Zeit während 8 Sekunden simuliert. \n",
    "In diesem Fall macht es also Sinn, einen Wert für ``process_var`` größer Null zu wählen."
   ]
  },
  {
   "cell_type": "code",
   "execution_count": 14,
   "metadata": {},
   "outputs": [
    {
     "name": "stdout",
     "output_type": "stream",
     "text": [
      "Letzter Schätzwert:      16.305\n"
     ]
    },
    {
     "data": {
      "image/png": "[encoded data removed]",
      "text/plain": [
       "<Figure size 720x288 with 1 Axes>"
      ]
     },
     "metadata": {
      "needs_background": "light"
     },
     "output_type": "display_data"
    }
   ],
   "source": [
    "np.random.seed(10)\n",
    "\n",
    "true_voltage = 16.3 # true value of constant temperature\n",
    "voltage_std = 0.13 # try different values, nominal value 0.13\n",
    "process_mean = 0.0 # mean of movement, try different values, nominal value 0.0\n",
    "process_var = 0.005 # variance of movement, try different values, nominal value 0.005\n",
    "\n",
    "x_start = gaussian(18., 1000.) # initial state\n",
    "process_model = gaussian(process_mean, process_var)\n",
    "z_vars = voltage_std**2\n",
    "\n",
    "N = 50 # must be greater than 10\n",
    "z_vals = [volt(true_voltage , voltage_std) for i in range(N)]\n",
    "for i in range(N//2-4, N//2+4):\n",
    "    z_vals[i] = volt(true_voltage*0.95 , voltage_std) # intermediate small temperature drop due to open window\n",
    "plot_meas_pred_est(*kal_filt(z_vals, z_vars, x_start, process_model))"
   ]
  },
  {
   "cell_type": "markdown",
   "metadata": {},
   "source": [
    "Das Festlegen des Parameters ``process_var`` ist demnach die schwerste Aufgabe in diesem Beispiel:  \n",
    "**Frage:** Welche Schwankungen sind z.B. durch das Lüften zu erwarten? Wie groß darf man diesen Parameter wählen, damit der Filter nicht dem Sensorrauschen folgt?  \n",
    "**Antwort:** Entscheidend ist für den Filter die Information über das Sensorrauschen ``voltage_std``: Nur wenn dieser Wert stimmt, dann werden die Messwerte auch mit einer angemessenen Signifikanz in den Filter mit einbezogen. Ist der Wert zu hoch, dann wird dem Sensor zu wenig vertraut. Ist der Wert zu klein, dann wird das Sensorrauschen fälschlicherweise als echte Temperaturschwankung interpretiert."
   ]
  },
  {
   "cell_type": "markdown",
   "metadata": {},
   "source": [
    "## Fixed Gain Kalman-Filter\n",
    "\n",
    "Bei den Simulationen zum Roboterfahrzeug, wo für jede Iteration die verschiedenen Werte des Filters in Textform ausgegeben werden, war auffällig, dass die Varianzen der Messwerte und der Vorhersagewerte jeweils zu einem bestimmten Wert hin konvergierten. Dies liegt daran, dass konstante Varianzen für den Sensor und für das Prozessmodell verwendet wurden.  \n",
    "\n",
    "Sind diese Konvergenzwerte bekannt, dann kann man auch einen Kalman-Filter mit konstantem fest vorgegebenem Gain implementieren. Dann muss man aber auch den Filter mit einem guten Startwert initialisieren.\n",
    "\n",
    "In diesem Fall würde sich der Quellcode wie folgt vereinfachen:\n",
    "\n",
    "```python\n",
    "def update(x, z):\n",
    "    K = const  # experimentally derived Kalman gain\n",
    "    y = z - x   # residual\n",
    "    x = x + K*y # posterior\n",
    "    return x\n",
    "    \n",
    "def predict(x):\n",
    "    return x + dx\n",
    "```\n",
    "\n",
    "Bei preissensiblen Anwendungen kann man so Kosten für die Hardware einsparen. "
   ]
  }
 ],
 "metadata": {
  "anaconda-cloud": {},
  "kernelspec": {
   "display_name": "Python 3",
   "language": "python",
   "name": "python3"
  },
  "language_info": {
   "codemirror_mode": {
    "name": "ipython",
    "version": 3
   },
   "file_extension": ".py",
   "mimetype": "text/x-python",
   "name": "python",
   "nbconvert_exporter": "python",
   "pygments_lexer": "ipython3",
   "version": "3.8.10"
  },
  "widgets": {
   "application/vnd.jupyter.widget-state+json": {
    "state": {
     "005ffd8fe4924006baf1c6dcd0f94eed": {
      "model_module": "@jupyter-widgets/controls",
      "model_module_version": "1.1.0",
      "model_name": "FloatSliderModel",
      "state": {
       "continuous_update": false,
       "description": "sensor_noise",
       "layout": "IPY_MODEL_3b9bb838c2204746b1f88b2b8d7da796",
       "step": 0.1,
       "style": "IPY_MODEL_cd75ab47767a4e289032dd1bd8c2b2be",
       "value": 5
      }
     },
     "01cdcc7c3fb3434aaaae26722436f698": {
      "model_module": "@jupyter-widgets/controls",
      "model_module_version": "1.1.0",
      "model_name": "SliderStyleModel",
      "state": {
       "description_width": ""
      }
     },
     "026364d29eeb48b9b79b634898662c7e": {
      "model_module": "@jupyter-widgets/controls",
      "model_module_version": "1.1.0",
      "model_name": "FloatSliderModel",
      "state": {
       "description": "v2",
       "layout": "IPY_MODEL_3dc1ea60ab084514b808494cb6ccc511",
       "max": 2,
       "min": 0.1,
       "step": 0.1,
       "style": "IPY_MODEL_403a8c6ca2b84f35b5053ab8e7a89b52",
       "value": 1
      }
     },
     "0283bcbb2ddc4239bb8f0d09fcfbf6eb": {
      "model_module": "@jupyter-widgets/base",
      "model_module_version": "1.0.0",
      "model_name": "LayoutModel",
      "state": {}
     },
     "029a444143df4934a0b787b12d785f02": {
      "model_module": "@jupyter-widgets/controls",
      "model_module_version": "1.1.0",
      "model_name": "IntSliderModel",
      "state": {
       "description": "start_pos",
       "layout": "IPY_MODEL_f6f5a4cfb86c4921b05290ff4dd74cb6",
       "max": 10,
       "min": -10,
       "style": "IPY_MODEL_1453dbf4cb704aa9bff103fe4e4abb22"
      }
     },
     "0396e6caa48a4cbba482c7152c403496": {
      "model_module": "@jupyter-widgets/controls",
      "model_module_version": "1.1.0",
      "model_name": "VBoxModel",
      "state": {
       "_dom_classes": [
        "widget-interact"
       ],
       "children": [
        "IPY_MODEL_dc7674fc2afe432b85551960531d2e1f",
        "IPY_MODEL_b255774e69a24b6ebbc1c4b39b53c7b6",
        "IPY_MODEL_cfe94002bc0241c881f75b411b51e011",
        "IPY_MODEL_36340b8e2f004ae0b15bc073af138ab5",
        "IPY_MODEL_aab2f6e001d44b8a9da145fa31edbe0d"
       ],
       "layout": "IPY_MODEL_abf6b1e8a7854091b390b766fa4c52f1"
      }
     },
     "03a8cacc3f3848faaea5539ac22dfc0e": {
      "model_module": "@jupyter-widgets/controls",
      "model_module_version": "1.1.0",
      "model_name": "FloatSliderModel",
      "state": {
       "description": "m1",
       "layout": "IPY_MODEL_0eec4aafd69b4bba9740e9eb74127779",
       "max": 10,
       "min": 5,
       "step": 0.5,
       "style": "IPY_MODEL_c12f994b4fac4f8e8beddda188143729",
       "value": 7.5
      }
     },
     "03b0305ffb5842d8b0358424a5ebcc03": {
      "model_module": "@jupyter-widgets/controls",
      "model_module_version": "1.1.0",
      "model_name": "SliderStyleModel",
      "state": {
       "description_width": ""
      }
     },
     "04e32ea18c164e4cb2d4e80bb3c18ff3": {
      "model_module": "@jupyter-widgets/base",
      "model_module_version": "1.0.0",
      "model_name": "LayoutModel",
      "state": {}
     },
     "0576c9a9355b44f8864d34874e241d06": {
      "model_module": "@jupyter-widgets/controls",
      "model_module_version": "1.1.0",
      "model_name": "SliderStyleModel",
      "state": {
       "description_width": ""
      }
     },
     "0678934f34814a3bbc9030402b5689a1": {
      "model_module": "@jupyter-widgets/controls",
      "model_module_version": "1.1.0",
      "model_name": "FloatSliderModel",
      "state": {
       "continuous_update": false,
       "description": "process_noise",
       "layout": "IPY_MODEL_20e981e0333242d7bffe378f81ecada1",
       "max": 40,
       "step": 0.1,
       "style": "IPY_MODEL_eaf994a16d8d4dca96970ab80128a3a0",
       "value": 0.1
      }
     },
     "06cf3abfc4ef4985bf38f8b0f4f039a6": {
      "model_module": "@jupyter-widgets/controls",
      "model_module_version": "1.1.0",
      "model_name": "FloatSliderModel",
      "state": {
       "continuous_update": false,
       "description": "velocity",
       "layout": "IPY_MODEL_a5dd0be268c44ae492d17c5b2ff2589a",
       "max": 2,
       "min": -2,
       "step": 0.1,
       "style": "IPY_MODEL_c941e50422f2413bb40f3e2aaf518239",
       "value": 1
      }
     },
     "0900d2edeba643fc8458d7552f46eddd": {
      "model_module": "@jupyter-widgets/output",
      "model_module_version": "1.0.0",
      "model_name": "OutputModel",
      "state": {
       "layout": "IPY_MODEL_d63b2db028054739835f3970a9df990e",
       "outputs": [
        {
         "data": {
          "image/png": "iVBORw0KGgoAAAANSUhEUgAAAusAAAEaCAYAAACo3xkcAAAABHNCSVQICAgIfAhkiAAAAAlwSFlz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\nERERmSgW60REREREJorFOhERERGRifofuFOKJOhdILkAAAAASUVORK5CYII=\n",
          "text/plain": "<matplotlib.figure.Figure at 0x256353de6a0>"
         },
         "metadata": {},
         "output_type": "display_data"
        }
       ]
      }
     },
     "0992c9e61af84070a64069c4f0d10858": {
      "model_module": "@jupyter-widgets/controls",
      "model_module_version": "1.1.0",
      "model_name": "FloatSliderModel",
      "state": {
       "description": "v2",
       "layout": "IPY_MODEL_29acfd365c7a42f9867b25d1098dfa7a",
       "max": 2,
       "min": 0.1,
       "step": 0.1,
       "style": "IPY_MODEL_55c50d10aca64f4a91b5ceab3659bece",
       "value": 1
      }
     },
     "09adfebd232a4a13bff77489310891fa": {
      "model_module": "@jupyter-widgets/controls",
      "model_module_version": "1.1.0",
      "model_name": "FloatSliderModel",
      "state": {
       "description": "m1",
       "layout": "IPY_MODEL_7dd2de4d4fdd461ea7424118f663834d",
       "max": 10,
       "min": 5,
       "step": 0.5,
       "style": "IPY_MODEL_b7297aa9f91643a1bfcff6b13a75f13f",
       "value": 7.5
      }
     },
     "0bed713e77f34c64ad1f698c7e644980": {
      "model_module": "@jupyter-widgets/controls",
      "model_module_version": "1.1.0",
      "model_name": "VBoxModel",
      "state": {
       "_dom_classes": [
        "widget-interact"
       ],
       "children": [
        "IPY_MODEL_f05bb041bec8447292eec1114847a0c5",
        "IPY_MODEL_43d4c82e04d144c195d134a30d2aa57c",
        "IPY_MODEL_e8e07a68a0ea4fef84220d73ce46ea86",
        "IPY_MODEL_a31ef5a2816d463587caff183bc95105",
        "IPY_MODEL_f0e21b9df58b4f2c94223f5120159fd8"
       ],
       "layout": "IPY_MODEL_753ce2b21de241bf86adf2e92a97b11e"
      }
     },
     "0c823f5c8fc1458bb79af4c5b89263cc": {
      "model_module": "@jupyter-widgets/controls",
      "model_module_version": "1.1.0",
      "model_name": "SliderStyleModel",
      "state": {
       "description_width": ""
      }
     },
     "0dce25f844bf487aa0ffacb0cba10633": {
      "model_module": "@jupyter-widgets/base",
      "model_module_version": "1.0.0",
      "model_name": "LayoutModel",
      "state": {}
     },
     "0e788290c43a47bcb59f15e45ad178e0": {
      "model_module": "@jupyter-widgets/base",
      "model_module_version": "1.0.0",
      "model_name": "LayoutModel",
      "state": {}
     },
     "0ed926cb54c34ee89c28396840bb7e88": {
      "model_module": "@jupyter-widgets/base",
      "model_module_version": "1.0.0",
      "model_name": "LayoutModel",
      "state": {}
     },
     "0eec4aafd69b4bba9740e9eb74127779": {
      "model_module": "@jupyter-widgets/base",
      "model_module_version": "1.0.0",
      "model_name": "LayoutModel",
      "state": {}
     },
     "105a57faee8c4d93aad81b7496dbd2bf": {
      "model_module": "@jupyter-widgets/base",
      "model_module_version": "1.0.0",
      "model_name": "LayoutModel",
      "state": {}
     },
     "127398c1c9144fe7b85fb59afbdc7d02": {
      "model_module": "@jupyter-widgets/base",
      "model_module_version": "1.0.0",
      "model_name": "LayoutModel",
      "state": {}
     },
     "1453dbf4cb704aa9bff103fe4e4abb22": {
      "model_module": "@jupyter-widgets/controls",
      "model_module_version": "1.1.0",
      "model_name": "SliderStyleModel",
      "state": {
       "description_width": ""
      }
     },
     "1543e8ba89fa4becbf7c14c3e4980956": {
      "model_module": "@jupyter-widgets/controls",
      "model_module_version": "1.1.0",
      "model_name": "SliderStyleModel",
      "state": {
       "description_width": ""
      }
     },
     "15c25488bd674ee59cb19f84d84ca3ea": {
      "model_module": "@jupyter-widgets/controls",
      "model_module_version": "1.1.0",
      "model_name": "FloatSliderModel",
      "state": {
       "description": "velocity",
       "layout": "IPY_MODEL_6ab5757683b34d16b4faa920342576b8",
       "max": 2,
       "min": -2,
       "step": 0.1,
       "style": "IPY_MODEL_f28a229c6b604cc5ae95a962cc028465",
       "value": 1
      }
     },
     "162edca49ac54447af36d68acfb57fb5": {
      "model_module": "@jupyter-widgets/controls",
      "model_module_version": "1.1.0",
      "model_name": "SliderStyleModel",
      "state": {
       "description_width": ""
      }
     },
     "17d7d5724bf94735b6efb6407892b2f9": {
      "model_module": "@jupyter-widgets/controls",
      "model_module_version": "1.1.0",
      "model_name": "FloatSliderModel",
      "state": {
       "continuous_update": false,
       "description": "sensor_noise",
       "layout": "IPY_MODEL_8725cdec61d645cf85486118334dc476",
       "step": 0.1,
       "style": "IPY_MODEL_f5329de0771a4ef886ec5f7cb8fba95b",
       "value": 5
      }
     },
     "1dc1572ab50a4be484e1d84d79e4b0be": {
      "model_module": "@jupyter-widgets/controls",
      "model_module_version": "1.1.0",
      "model_name": "SliderStyleModel",
      "state": {
       "description_width": ""
      }
     },
     "1e36962b95ec45b9a54bb6cdff0dea6e": {
      "model_module": "@jupyter-widgets/base",
      "model_module_version": "1.0.0",
      "model_name": "LayoutModel",
      "state": {}
     },
     "1faec520822f4bf286aa5b4d6bd37f80": {
      "model_module": "@jupyter-widgets/controls",
      "model_module_version": "1.1.0",
      "model_name": "SliderStyleModel",
      "state": {
       "description_width": ""
      }
     },
     "20e981e0333242d7bffe378f81ecada1": {
      "model_module": "@jupyter-widgets/base",
      "model_module_version": "1.0.0",
      "model_name": "LayoutModel",
      "state": {}
     },
     "219592e00a4f46659279861bd0c8a7d5": {
      "model_module": "@jupyter-widgets/base",
      "model_module_version": "1.0.0",
      "model_name": "LayoutModel",
      "state": {}
     },
     "26c7bd3c617c438fb95f6acab73283ce": {
      "model_module": "@jupyter-widgets/controls",
      "model_module_version": "1.1.0",
      "model_name": "FloatSliderModel",
      "state": {
       "description": "sensor_noise",
       "layout": "IPY_MODEL_e82f62af573c4cc19388471a8808b080",
       "step": 0.1,
       "style": "IPY_MODEL_346e497a24734e868bbb94201ae1878e",
       "value": 5
      }
     },
     "28732f35722547ad972d93abc0953515": {
      "model_module": "@jupyter-widgets/controls",
      "model_module_version": "1.1.0",
      "model_name": "FloatSliderModel",
      "state": {
       "description": "m2",
       "layout": "IPY_MODEL_89617fa477734ce3911bfd3ef1797387",
       "max": 15,
       "min": 10,
       "step": 0.5,
       "style": "IPY_MODEL_1543e8ba89fa4becbf7c14c3e4980956",
       "value": 12
      }
     },
     "2979199a09c441928ed8e50192ce81ae": {
      "model_module": "@jupyter-widgets/base",
      "model_module_version": "1.0.0",
      "model_name": "LayoutModel",
      "state": {}
     },
     "29acfd365c7a42f9867b25d1098dfa7a": {
      "model_module": "@jupyter-widgets/base",
      "model_module_version": "1.0.0",
      "model_name": "LayoutModel",
      "state": {}
     },
     "29c76484c6954891be128263032d967e": {
      "model_module": "@jupyter-widgets/controls",
      "model_module_version": "1.1.0",
      "model_name": "VBoxModel",
      "state": {
       "_dom_classes": [
        "widget-interact"
       ],
       "children": [
        "IPY_MODEL_5deb47f2c67840d08bd45447c48c187a",
        "IPY_MODEL_26c7bd3c617c438fb95f6acab73283ce",
        "IPY_MODEL_8ac3e01fcc1a4e0bb924dc3e80b528d4",
        "IPY_MODEL_c5b83685525a42dea42903575679fc68",
        "IPY_MODEL_48371fab09844c16ad0b8c1024e3dfea"
       ],
       "layout": "IPY_MODEL_76ac8a66a3eb4a468d5e1049e7bad3f8"
      }
     },
     "29e5bc10ac59476ba2cfb48bc5ff98f5": {
      "model_module": "@jupyter-widgets/base",
      "model_module_version": "1.0.0",
      "model_name": "LayoutModel",
      "state": {}
     },
     "2b03522925d14d4abeb8020d3557f942": {
      "model_module": "@jupyter-widgets/controls",
      "model_module_version": "1.1.0",
      "model_name": "VBoxModel",
      "state": {
       "_dom_classes": [
        "widget-interact"
       ],
       "children": [
        "IPY_MODEL_e361e47f9ba14a10b0813dba5eb11b4b",
        "IPY_MODEL_4755e76257944166a23c977fa1c5bae7",
        "IPY_MODEL_b4a3cb2acb4f4f20a2a20e6da6f9a8eb",
        "IPY_MODEL_86841bb112f24dbf920756b6cb20b511",
        "IPY_MODEL_d32124a05f3f475ea067c11cb1cc68d7"
       ],
       "layout": "IPY_MODEL_31ac4641e80c4e7199f3728da682026b"
      }
     },
     "2b2ee57ef23d455c8f303cd70cb78216": {
      "model_module": "@jupyter-widgets/base",
      "model_module_version": "1.0.0",
      "model_name": "LayoutModel",
      "state": {}
     },
     "2e1868045cec4dafaf6af5ae40a7f42a": {
      "model_module": "@jupyter-widgets/base",
      "model_module_version": "1.0.0",
      "model_name": "LayoutModel",
      "state": {}
     },
     "2e68a72a99dc4f91ae6ef048cc0e5195": {
      "model_module": "@jupyter-widgets/controls",
      "model_module_version": "1.1.0",
      "model_name": "FloatSliderModel",
      "state": {
       "description": "sensor_noise",
       "layout": "IPY_MODEL_40737a392c9a407fbc8d2cf1c480d2d7",
       "step": 0.1,
       "style": "IPY_MODEL_162edca49ac54447af36d68acfb57fb5",
       "value": 5
      }
     },
     "2fe00805039f45208f4306a4e01ce842": {
      "model_module": "@jupyter-widgets/controls",
      "model_module_version": "1.1.0",
      "model_name": "SliderStyleModel",
      "state": {
       "description_width": ""
      }
     },
     "3010638c7cf541509753b09577037929": {
      "model_module": "@jupyter-widgets/controls",
      "model_module_version": "1.1.0",
      "model_name": "FloatSliderModel",
      "state": {
       "continuous_update": false,
       "description": "velocity",
       "layout": "IPY_MODEL_e10bbb97f5144fe98bd4855cfd52a4b7",
       "max": 2,
       "min": -2,
       "step": 0.1,
       "style": "IPY_MODEL_73694bd44a09442786d3699afd53f6ac",
       "value": 1
      }
     },
     "305137f4ac924fe699a466a3d0c3c39c": {
      "model_module": "@jupyter-widgets/controls",
      "model_module_version": "1.1.0",
      "model_name": "SliderStyleModel",
      "state": {
       "description_width": ""
      }
     },
     "31ac4641e80c4e7199f3728da682026b": {
      "model_module": "@jupyter-widgets/base",
      "model_module_version": "1.0.0",
      "model_name": "LayoutModel",
      "state": {}
     },
     "321260fb2efb482f8a2c52d05a28a09c": {
      "model_module": "@jupyter-widgets/output",
      "model_module_version": "1.0.0",
      "model_name": "OutputModel",
      "state": {
       "layout": "IPY_MODEL_a14fac7c10394cdd9ea37bd7805f5b23",
       "outputs": [
        {
         "data": {
          "image/png": "iVBORw0KGgoAAAANSUhEUgAAAhMAAAC+CAYAAACPvo09AAAABHNCSVQICAgIfAhkiAAAAAlwSFlz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\nEREZEyUTIiIiMiZKJkRERGRM/j8WMahLELmyzgAAAABJRU5ErkJggg==\n",
          "text/plain": "<matplotlib.figure.Figure at 0x1669da52f98>"
         },
         "metadata": {},
         "output_type": "display_data"
        }
       ]
      }
     },
     "32a4368d324e482b982adcb55526e0fa": {
      "model_module": "@jupyter-widgets/base",
      "model_module_version": "1.0.0",
      "model_name": "LayoutModel",
      "state": {}
     },
     "33205a2ed11d4867a856339ae5d4d322": {
      "model_module": "@jupyter-widgets/controls",
      "model_module_version": "1.1.0",
      "model_name": "SliderStyleModel",
      "state": {
       "description_width": ""
      }
     },
     "3330686a2dbb4dcd84c4a2a8ee201763": {
      "model_module": "@jupyter-widgets/base",
      "model_module_version": "1.0.0",
      "model_name": "LayoutModel",
      "state": {}
     },
     "33c6284cc39e4d0cbab28bd731aff008": {
      "model_module": "@jupyter-widgets/controls",
      "model_module_version": "1.1.0",
      "model_name": "FloatSliderModel",
      "state": {
       "description": "v1",
       "layout": "IPY_MODEL_cdb52aeb91ac40d789c3f41a4b910c11",
       "max": 2,
       "min": 0.1,
       "step": 0.1,
       "style": "IPY_MODEL_b657048650ab454eb5c219664edb5edb",
       "value": 1
      }
     },
     "346e497a24734e868bbb94201ae1878e": {
      "model_module": "@jupyter-widgets/controls",
      "model_module_version": "1.1.0",
      "model_name": "SliderStyleModel",
      "state": {
       "description_width": ""
      }
     },
     "36340b8e2f004ae0b15bc073af138ab5": {
      "model_module": "@jupyter-widgets/controls",
      "model_module_version": "1.1.0",
      "model_name": "FloatSliderModel",
      "state": {
       "description": "v2",
       "layout": "IPY_MODEL_8c254e8906574ff5a11a49ee99136664",
       "max": 2,
       "min": 0.1,
       "step": 0.1,
       "style": "IPY_MODEL_01cdcc7c3fb3434aaaae26722436f698",
       "value": 1
      }
     },
     "38c8d26f9b544ed5ad86a0ef8b8e58a2": {
      "model_module": "@jupyter-widgets/base",
      "model_module_version": "1.0.0",
      "model_name": "LayoutModel",
      "state": {}
     },
     "38ec69850e834913b6753a85057c8f47": {
      "model_module": "@jupyter-widgets/base",
      "model_module_version": "1.0.0",
      "model_name": "LayoutModel",
      "state": {}
     },
     "3a9473d18c9d415b97e4580d8ab873fa": {
      "model_module": "@jupyter-widgets/controls",
      "model_module_version": "1.1.0",
      "model_name": "FloatSliderModel",
      "state": {
       "description": "m1",
       "layout": "IPY_MODEL_2979199a09c441928ed8e50192ce81ae",
       "max": 10,
       "min": 5,
       "step": 0.5,
       "style": "IPY_MODEL_9cebfb53b4e6457c817d4b47debe30f5",
       "value": 7.5
      }
     },
     "3aa4921cb10f4e1d86a75c7166c576f2": {
      "model_module": "@jupyter-widgets/base",
      "model_module_version": "1.0.0",
      "model_name": "LayoutModel",
      "state": {}
     },
     "3b9bb838c2204746b1f88b2b8d7da796": {
      "model_module": "@jupyter-widgets/base",
      "model_module_version": "1.0.0",
      "model_name": "LayoutModel",
      "state": {}
     },
     "3b9d308cf9f041dd98b7d0ab0b65653b": {
      "model_module": "@jupyter-widgets/base",
      "model_module_version": "1.0.0",
      "model_name": "LayoutModel",
      "state": {}
     },
     "3bb1f026bff94437bb5461684c1081d5": {
      "model_module": "@jupyter-widgets/controls",
      "model_module_version": "1.1.0",
      "model_name": "FloatSliderModel",
      "state": {
       "description": "m2",
       "layout": "IPY_MODEL_2e1868045cec4dafaf6af5ae40a7f42a",
       "max": 15,
       "min": 10,
       "step": 0.5,
       "style": "IPY_MODEL_57726f99bf55426d987835de138d6c84",
       "value": 12
      }
     },
     "3bcb1f6d26fb4f5682fb0ff544c70206": {
      "model_module": "@jupyter-widgets/base",
      "model_module_version": "1.0.0",
      "model_name": "LayoutModel",
      "state": {}
     },
     "3dc1ea60ab084514b808494cb6ccc511": {
      "model_module": "@jupyter-widgets/base",
      "model_module_version": "1.0.0",
      "model_name": "LayoutModel",
      "state": {}
     },
     "3de6b5c6812e4976b939adaccab0d279": {
      "model_module": "@jupyter-widgets/output",
      "model_module_version": "1.0.0",
      "model_name": "OutputModel",
      "state": {
       "layout": "IPY_MODEL_6d8c3682894d4047bd196b062c0ecaff",
       "outputs": [
        {
         "data": {
          "text/plain": "<matplotlib.figure.Figure at 0x256354a64e0>"
         },
         "metadata": {},
         "output_type": "display_data"
        }
       ]
      }
     },
     "3f148519c85a425aa85c7d96821de88c": {
      "model_module": "@jupyter-widgets/controls",
      "model_module_version": "1.1.0",
      "model_name": "SliderStyleModel",
      "state": {
       "description_width": ""
      }
     },
     "403a8c6ca2b84f35b5053ab8e7a89b52": {
      "model_module": "@jupyter-widgets/controls",
      "model_module_version": "1.1.0",
      "model_name": "SliderStyleModel",
      "state": {
       "description_width": ""
      }
     },
     "40737a392c9a407fbc8d2cf1c480d2d7": {
      "model_module": "@jupyter-widgets/base",
      "model_module_version": "1.0.0",
      "model_name": "LayoutModel",
      "state": {}
     },
     "413485a0b43d456791570633e4fd1d30": {
      "model_module": "@jupyter-widgets/controls",
      "model_module_version": "1.1.0",
      "model_name": "SliderStyleModel",
      "state": {
       "description_width": ""
      }
     },
     "438d99a8cb9548edb61f558abcfdad94": {
      "model_module": "@jupyter-widgets/controls",
      "model_module_version": "1.1.0",
      "model_name": "SliderStyleModel",
      "state": {
       "description_width": ""
      }
     },
     "43d4c82e04d144c195d134a30d2aa57c": {
      "model_module": "@jupyter-widgets/controls",
      "model_module_version": "1.1.0",
      "model_name": "FloatSliderModel",
      "state": {
       "continuous_update": false,
       "description": "sensor_noise",
       "layout": "IPY_MODEL_a3c4591463b945ee80c23eece2b318fe",
       "step": 0.1,
       "style": "IPY_MODEL_438d99a8cb9548edb61f558abcfdad94",
       "value": 5
      }
     },
     "4496666807dd48e1bdf1e1dd8eac1f21": {
      "model_module": "@jupyter-widgets/base",
      "model_module_version": "1.0.0",
      "model_name": "LayoutModel",
      "state": {}
     },
     "4755e76257944166a23c977fa1c5bae7": {
      "model_module": "@jupyter-widgets/controls",
      "model_module_version": "1.1.0",
      "model_name": "FloatSliderModel",
      "state": {
       "continuous_update": false,
       "description": "sensor_noise",
       "layout": "IPY_MODEL_b8318ca84e844fbfb563f70c634c28f1",
       "step": 0.1,
       "style": "IPY_MODEL_2fe00805039f45208f4306a4e01ce842",
       "value": 5
      }
     },
     "48371fab09844c16ad0b8c1024e3dfea": {
      "model_module": "@jupyter-widgets/output",
      "model_module_version": "1.0.0",
      "model_name": "OutputModel",
      "state": {
       "layout": "IPY_MODEL_9c215721bb424cecb292ef9c087de81a",
       "outputs": [
        {
         "data": {
          "text/plain": "<matplotlib.figure.Figure at 0x1a4bdd20438>"
         },
         "metadata": {},
         "output_type": "display_data"
        }
       ]
      }
     },
     "48b7ed45589b47bfa9625fe65ae6a76c": {
      "model_module": "@jupyter-widgets/base",
      "model_module_version": "1.0.0",
      "model_name": "LayoutModel",
      "state": {}
     },
     "49161475f9dc4b9691e4aaff7f0186f2": {
      "model_module": "@jupyter-widgets/controls",
      "model_module_version": "1.1.0",
      "model_name": "FloatSliderModel",
      "state": {
       "description": "v1",
       "layout": "IPY_MODEL_4d858eecb7c8439b89705e3d539c3330",
       "max": 2,
       "min": 0.1,
       "step": 0.1,
       "style": "IPY_MODEL_b21a7ed3613f46dea7a062d10b04d607",
       "value": 1
      }
     },
     "49c177b6614c4627ae21b6debace3486": {
      "model_module": "@jupyter-widgets/base",
      "model_module_version": "1.0.0",
      "model_name": "LayoutModel",
      "state": {}
     },
     "4ac5c477a8774f4eb2565581fd6cc370": {
      "model_module": "@jupyter-widgets/controls",
      "model_module_version": "1.1.0",
      "model_name": "VBoxModel",
      "state": {
       "_dom_classes": [
        "widget-interact"
       ],
       "children": [
        "IPY_MODEL_029a444143df4934a0b787b12d785f02",
        "IPY_MODEL_2e68a72a99dc4f91ae6ef048cc0e5195",
        "IPY_MODEL_b6d619853ea24dcfa2e42503bc6f8e0c",
        "IPY_MODEL_f9620034c3834a64b12cb1e676ddfe6d",
        "IPY_MODEL_558f292b7af84e24b0167e9e1c3171c5"
       ],
       "layout": "IPY_MODEL_e83744fb3f4c45c5a80510fbaceb2510"
      }
     },
     "4b7fb18747604c1ea8e84690126bcc20": {
      "model_module": "@jupyter-widgets/controls",
      "model_module_version": "1.1.0",
      "model_name": "SliderStyleModel",
      "state": {
       "description_width": ""
      }
     },
     "4c8676f031ad4ddf9394680575375e27": {
      "model_module": "@jupyter-widgets/base",
      "model_module_version": "1.0.0",
      "model_name": "LayoutModel",
      "state": {}
     },
     "4d858eecb7c8439b89705e3d539c3330": {
      "model_module": "@jupyter-widgets/base",
      "model_module_version": "1.0.0",
      "model_name": "LayoutModel",
      "state": {}
     },
     "4ff8f1c1b239440d9a84f27fb1f627a6": {
      "model_module": "@jupyter-widgets/controls",
      "model_module_version": "1.1.0",
      "model_name": "IntSliderModel",
      "state": {
       "description": "start_pos",
       "layout": "IPY_MODEL_fd172594797448eaad18420057deac83",
       "max": 10,
       "min": -10,
       "style": "IPY_MODEL_0c823f5c8fc1458bb79af4c5b89263cc"
      }
     },
     "555feea42c764f4eb959fc890cece38d": {
      "model_module": "@jupyter-widgets/base",
      "model_module_version": "1.0.0",
      "model_name": "LayoutModel",
      "state": {}
     },
     "558f292b7af84e24b0167e9e1c3171c5": {
      "model_module": "@jupyter-widgets/output",
      "model_module_version": "1.0.0",
      "model_name": "OutputModel",
      "state": {
       "layout": "IPY_MODEL_587ab3ba657e4d23a2e8f5cd3f2108e8",
       "outputs": [
        {
         "data": {
          "text/plain": "<matplotlib.figure.Figure at 0x229ce8168d0>"
         },
         "metadata": {},
         "output_type": "display_data"
        }
       ]
      }
     },
     "55c50d10aca64f4a91b5ceab3659bece": {
      "model_module": "@jupyter-widgets/controls",
      "model_module_version": "1.1.0",
      "model_name": "SliderStyleModel",
      "state": {
       "description_width": ""
      }
     },
     "57726f99bf55426d987835de138d6c84": {
      "model_module": "@jupyter-widgets/controls",
      "model_module_version": "1.1.0",
      "model_name": "SliderStyleModel",
      "state": {
       "description_width": ""
      }
     },
     "5815b70d69ee4d60a7548b22f9f6d64b": {
      "model_module": "@jupyter-widgets/controls",
      "model_module_version": "1.1.0",
      "model_name": "FloatSliderModel",
      "state": {
       "description": "m2",
       "layout": "IPY_MODEL_4496666807dd48e1bdf1e1dd8eac1f21",
       "max": 15,
       "min": 10,
       "step": 0.5,
       "style": "IPY_MODEL_fb9a9a77d88d456eb6447e93f30ba2a9",
       "value": 12
      }
     },
     "587ab3ba657e4d23a2e8f5cd3f2108e8": {
      "model_module": "@jupyter-widgets/base",
      "model_module_version": "1.0.0",
      "model_name": "LayoutModel",
      "state": {}
     },
     "59bd6517a6d0460d881029ad25a3fa8f": {
      "model_module": "@jupyter-widgets/controls",
      "model_module_version": "1.1.0",
      "model_name": "SliderStyleModel",
      "state": {
       "description_width": ""
      }
     },
     "5a49f95505d44d759e13bd995bec0111": {
      "model_module": "@jupyter-widgets/controls",
      "model_module_version": "1.1.0",
      "model_name": "IntSliderModel",
      "state": {
       "description": "start_pos",
       "layout": "IPY_MODEL_81739e1f63534ae7b862fe7c986ed6f4",
       "max": 10,
       "min": -10,
       "style": "IPY_MODEL_6d76ad1529ca4c04b84226b51ec5a07f"
      }
     },
     "5b1b2e92af5b4fd9a487e0188616d864": {
      "model_module": "@jupyter-widgets/controls",
      "model_module_version": "1.1.0",
      "model_name": "SliderStyleModel",
      "state": {
       "description_width": ""
      }
     },
     "5deb47f2c67840d08bd45447c48c187a": {
      "model_module": "@jupyter-widgets/controls",
      "model_module_version": "1.1.0",
      "model_name": "IntSliderModel",
      "state": {
       "description": "start_pos",
       "layout": "IPY_MODEL_74f4d93c28a746bdb530f2a3a336649b",
       "max": 10,
       "min": -10,
       "style": "IPY_MODEL_f1df9e9424b64fd0a525613b5bf46872"
      }
     },
     "62cf1b896ab449e2b5cfcecd4fe3b3e5": {
      "model_module": "@jupyter-widgets/controls",
      "model_module_version": "1.1.0",
      "model_name": "FloatSliderModel",
      "state": {
       "description": "sensor_noise",
       "layout": "IPY_MODEL_de5af69d277c49bb8e4097527dd9f8ba",
       "step": 0.1,
       "style": "IPY_MODEL_633ad5651b8a4667a7486d84249feb7d",
       "value": 5
      }
     },
     "633ad5651b8a4667a7486d84249feb7d": {
      "model_module": "@jupyter-widgets/controls",
      "model_module_version": "1.1.0",
      "model_name": "SliderStyleModel",
      "state": {
       "description_width": ""
      }
     },
     "63e46f553a6b41d6b0a7fc3a907f6d56": {
      "model_module": "@jupyter-widgets/controls",
      "model_module_version": "1.1.0",
      "model_name": "IntSliderModel",
      "state": {
       "description": "start_pos",
       "layout": "IPY_MODEL_9c758426e7574ce393e9eb0798d69954",
       "max": 10,
       "min": -10,
       "style": "IPY_MODEL_8f788977ea894031b6b1d38bb851517c"
      }
     },
     "64433d39295047f1b0b12c69392d4cd7": {
      "model_module": "@jupyter-widgets/base",
      "model_module_version": "1.0.0",
      "model_name": "LayoutModel",
      "state": {}
     },
     "686aedf507e44cf4bbe31019a8cdee76": {
      "model_module": "@jupyter-widgets/base",
      "model_module_version": "1.0.0",
      "model_name": "LayoutModel",
      "state": {}
     },
     "68a16e00ea464980a6176c659452b073": {
      "model_module": "@jupyter-widgets/base",
      "model_module_version": "1.0.0",
      "model_name": "LayoutModel",
      "state": {}
     },
     "6a969d2a4f6c4235a825d2352a26dd73": {
      "model_module": "@jupyter-widgets/base",
      "model_module_version": "1.0.0",
      "model_name": "LayoutModel",
      "state": {}
     },
     "6ab5757683b34d16b4faa920342576b8": {
      "model_module": "@jupyter-widgets/base",
      "model_module_version": "1.0.0",
      "model_name": "LayoutModel",
      "state": {}
     },
     "6c492880ac674115884dd11d4836cbaa": {
      "model_module": "@jupyter-widgets/base",
      "model_module_version": "1.0.0",
      "model_name": "LayoutModel",
      "state": {}
     },
     "6cf9371247434ca4a0bbca8e170c618a": {
      "model_module": "@jupyter-widgets/controls",
      "model_module_version": "1.1.0",
      "model_name": "FloatSliderModel",
      "state": {
       "description": "m1",
       "layout": "IPY_MODEL_802a4d04c25e4a0bb49e4bd0a569a80b",
       "max": 10,
       "min": 5,
       "step": 0.5,
       "style": "IPY_MODEL_8be0f7f4c4c64334b479a8c3b6a254b0",
       "value": 7.5
      }
     },
     "6d76ad1529ca4c04b84226b51ec5a07f": {
      "model_module": "@jupyter-widgets/controls",
      "model_module_version": "1.1.0",
      "model_name": "SliderStyleModel",
      "state": {
       "description_width": ""
      }
     },
     "6d8c3682894d4047bd196b062c0ecaff": {
      "model_module": "@jupyter-widgets/base",
      "model_module_version": "1.0.0",
      "model_name": "LayoutModel",
      "state": {}
     },
     "6e33c5d2bcb247afac5b816261184f94": {
      "model_module": "@jupyter-widgets/output",
      "model_module_version": "1.0.0",
      "model_name": "OutputModel",
      "state": {
       "layout": "IPY_MODEL_d33b5a9aba4746e7ba21290f975f25fa",
       "outputs": [
        {
         "data": {
          "image/png": "iVBORw0KGgoAAAANSUhEUgAAAhMAAAC+CAYAAACPvo09AAAABHNCSVQICAgIfAhkiAAAAAlwSFlz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\nEREZEyUTIiIiMiZKJkRERGRM/j8WMahLELmyzgAAAABJRU5ErkJggg==\n",
          "text/plain": "<matplotlib.figure.Figure at 0x1a4bd9009b0>"
         },
         "metadata": {},
         "output_type": "display_data"
        }
       ]
      }
     },
     "6ef9fa9ad5894414910b58f75b630228": {
      "model_module": "@jupyter-widgets/controls",
      "model_module_version": "1.1.0",
      "model_name": "SliderStyleModel",
      "state": {
       "description_width": ""
      }
     },
     "6fae96fb148044c4bd4a4623cda0dfe6": {
      "model_module": "@jupyter-widgets/controls",
      "model_module_version": "1.1.0",
      "model_name": "VBoxModel",
      "state": {
       "_dom_classes": [
        "widget-interact"
       ],
       "children": [
        "IPY_MODEL_5a49f95505d44d759e13bd995bec0111",
        "IPY_MODEL_17d7d5724bf94735b6efb6407892b2f9",
        "IPY_MODEL_fe6bb1c192d44741aa36af64ebe855ed",
        "IPY_MODEL_0678934f34814a3bbc9030402b5689a1",
        "IPY_MODEL_321260fb2efb482f8a2c52d05a28a09c"
       ],
       "layout": "IPY_MODEL_3330686a2dbb4dcd84c4a2a8ee201763"
      }
     },
     "70419aa6094846ceb37b638a04c2a211": {
      "model_module": "@jupyter-widgets/controls",
      "model_module_version": "1.1.0",
      "model_name": "VBoxModel",
      "state": {
       "_dom_classes": [
        "widget-interact"
       ],
       "children": [
        "IPY_MODEL_6cf9371247434ca4a0bbca8e170c618a",
        "IPY_MODEL_8d7cfcf72b914c1ab3cc32d595e1cf67",
        "IPY_MODEL_33c6284cc39e4d0cbab28bd731aff008",
        "IPY_MODEL_e0d1d1c9f9034206b1c7460355f1eaac",
        "IPY_MODEL_e84e3f5ad8244ac8b5a1a522d4fdb707"
       ],
       "layout": "IPY_MODEL_4c8676f031ad4ddf9394680575375e27"
      }
     },
     "70e5cff5f12c4ef8b1f4b493f0d8c792": {
      "model_module": "@jupyter-widgets/controls",
      "model_module_version": "1.1.0",
      "model_name": "FloatSliderModel",
      "state": {
       "description": "process_noise",
       "layout": "IPY_MODEL_859f087c5fb5433e8e0b0d845f12b21a",
       "step": 0.1,
       "style": "IPY_MODEL_9c6d64a4ba4d4e048f1d233a7effc8de",
       "value": 5
      }
     },
     "73694bd44a09442786d3699afd53f6ac": {
      "model_module": "@jupyter-widgets/controls",
      "model_module_version": "1.1.0",
      "model_name": "SliderStyleModel",
      "state": {
       "description_width": ""
      }
     },
     "74187f4a66f94eb6a9b3df68ed2bcc50": {
      "model_module": "@jupyter-widgets/controls",
      "model_module_version": "1.1.0",
      "model_name": "VBoxModel",
      "state": {
       "_dom_classes": [
        "widget-interact"
       ],
       "children": [
        "IPY_MODEL_eca9816c3069401a9eeda3327720961f",
        "IPY_MODEL_d5e322675f224fee8f32b5f7e6271fb5",
        "IPY_MODEL_06cf3abfc4ef4985bf38f8b0f4f039a6",
        "IPY_MODEL_aa02a7f96ffd421980335a86bb5dfd6b",
        "IPY_MODEL_9f4811b1a06a465e9f632ac9bc0bc60b"
       ],
       "layout": "IPY_MODEL_105a57faee8c4d93aad81b7496dbd2bf"
      }
     },
     "7442c4f8542c48ab92859fb4dd798e06": {
      "model_module": "@jupyter-widgets/controls",
      "model_module_version": "1.1.0",
      "model_name": "SliderStyleModel",
      "state": {
       "description_width": ""
      }
     },
     "74f4d93c28a746bdb530f2a3a336649b": {
      "model_module": "@jupyter-widgets/base",
      "model_module_version": "1.0.0",
      "model_name": "LayoutModel",
      "state": {}
     },
     "753ce2b21de241bf86adf2e92a97b11e": {
      "model_module": "@jupyter-widgets/base",
      "model_module_version": "1.0.0",
      "model_name": "LayoutModel",
      "state": {}
     },
     "758bd052a8f84708b064fd72639185ca": {
      "model_module": "@jupyter-widgets/controls",
      "model_module_version": "1.1.0",
      "model_name": "SliderStyleModel",
      "state": {
       "description_width": ""
      }
     },
     "7625ded3fd2d4325800d22e6bab29611": {
      "model_module": "@jupyter-widgets/controls",
      "model_module_version": "1.1.0",
      "model_name": "FloatSliderModel",
      "state": {
       "continuous_update": false,
       "description": "process_noise",
       "layout": "IPY_MODEL_48b7ed45589b47bfa9625fe65ae6a76c",
       "max": 40,
       "step": 0.1,
       "style": "IPY_MODEL_4b7fb18747604c1ea8e84690126bcc20",
       "value": 0.1
      }
     },
     "76ac8a66a3eb4a468d5e1049e7bad3f8": {
      "model_module": "@jupyter-widgets/base",
      "model_module_version": "1.0.0",
      "model_name": "LayoutModel",
      "state": {}
     },
     "7db8fa623d3d48a9923b88b0b5a47961": {
      "model_module": "@jupyter-widgets/controls",
      "model_module_version": "1.1.0",
      "model_name": "SliderStyleModel",
      "state": {
       "description_width": ""
      }
     },
     "7dd2de4d4fdd461ea7424118f663834d": {
      "model_module": "@jupyter-widgets/base",
      "model_module_version": "1.0.0",
      "model_name": "LayoutModel",
      "state": {}
     },
     "802a4d04c25e4a0bb49e4bd0a569a80b": {
      "model_module": "@jupyter-widgets/base",
      "model_module_version": "1.0.0",
      "model_name": "LayoutModel",
      "state": {}
     },
     "8148ad7674f4468cbcd8ca6f085ef866": {
      "model_module": "@jupyter-widgets/base",
      "model_module_version": "1.0.0",
      "model_name": "LayoutModel",
      "state": {}
     },
     "81739e1f63534ae7b862fe7c986ed6f4": {
      "model_module": "@jupyter-widgets/base",
      "model_module_version": "1.0.0",
      "model_name": "LayoutModel",
      "state": {}
     },
     "81aed4529b704bc7a1bde71cc379b93f": {
      "model_module": "@jupyter-widgets/base",
      "model_module_version": "1.0.0",
      "model_name": "LayoutModel",
      "state": {}
     },
     "83d6137b2e714993be9d68b8978d0269": {
      "model_module": "@jupyter-widgets/output",
      "model_module_version": "1.0.0",
      "model_name": "OutputModel",
      "state": {
       "layout": "IPY_MODEL_e0b54f5012a84964888f15c1fd7c8ea2",
       "outputs": [
        {
         "data": {
          "image/png": "iVBORw0KGgoAAAANSUhEUgAAAusAAAEaCAYAAACo3xkcAAAABHNCSVQICAgIfAhkiAAAAAlwSFlz\nAAAPYQAAD2EBqD+naQAAADl0RVh0U29mdHdhcmUAbWF0cGxvdGxpYiB2ZXJzaW9uIDIuMS4wLCBo\ndHRwOi8vbWF0cGxvdGxpYi5vcmcvpW3flQAAIABJREFUeJzs3XlcVPX+x/HXGWZkVwQERVEwc8F9\nKzMrN9wyF1LRyMoWy2tdq5vVzV3T1Lq3W+qvzEwtE/c1FTVFLTPUVNw1N0RR2RSQRZjl98cERSwy\nOHBm4PN8PHzInPXNHAY+853v+X4Vk8lkQgghhBBCCGFzNGoHEEIIIYQQQhROinUhhBBCCCFslBTr\nQgghhBBC2Cgp1oUQQgghhLBRUqwLIYQQQghho7RqByiK0WjEaDTmW6YoCoqiqJRICCGEEEKI0jOZ\nTPx9IEaNRoNGU3T7uU0X6+np6WrHEEIIIYQQosy4uroWW6xLNxghhBBCCCFslBTrQgghhBBC2Cgp\n1oUQQgghhLBRNttnvbAbSe/Vp0dY38mTJ9Hr9Wi1Wpo2bap2HFHO5PpXbnL9Ky+59pWbXP+yU9g9\nmfcaPMWuivV73S0rrM9oNGIwGOS5r6Tk+lducv0rL7n2lZtc//J1r2JdroAQQgghhBA2Sop1IYQQ\nQgghbJQU60IIIYQQQtgoKdaFEEIIIYSwUTZ7g6kQQgghRGkZDAZu375NRkaG2lHsjk6nQ6vVoigK\nsbGxasexOxqNBk9PT5ydna1yPCnWhRBCCFGhGAwGrl27RvXq1fH09LznaBsiv4yMDEwmE4qi4OLi\nonYcu5OTk8P169epXbs2Dg4O9308KdaFEKIC0Bv1LD65mE0XNqE36vOWT3t0Gm182wBgNBm5a7iL\ns9Y6rT1C2Krbt29TvXp13N3d1Y4iKiGdToe3tzdJSUn4+Pjc9/GkWBdCCDt3OeUy434ex7HEYwXW\nZemz8r5ednoZ4WfCmd5pOq18WpVnRCHKVUZGBp6enmrHEJWYs7MzSUlJVjmWFOtCCGHHrqReYfCm\nwWQZsnDTufF2u7d50OPBvPX1PeoDkGPMYcXZFVxJu8LzEc/zQtMXGN1qNFUcqqgVXYgyJV1fhJqs\n+fMnxboQQtgxf3d/nvB/gpS7KUx7dBo1XWsWup1Oo+P7J79n1oFZbLywkW9OfMNP137io04f0ciz\nUTmnFkIIUVIydKMQQtiZiEsRJGclA+bWm2mPTmN+8PwiC/VcVatUZXqn6fyvy//wdPLk91u/M3Tz\nUL4+/jUmk6k8ogshhLCQFOtCCGFH9l3bx7t73+XDXz/MK7Cdtc5olJL/Ou9Wtxtr+62lW91u6I16\nPjv8GUfij5RVZCGEEPdBusEIIYSduJF+g3//9G9MmHDVuWLChELp+kV6OXvxaedPWXp6KbXdaueN\nGCOEEMK2SLEuhBB2QG/U897e97h19xZNPJswvsN4i1rTC6MoCsODhlspoRBCiLIg3WCEEMIOzD0y\nl8Pxh3HVufLJE5/g6OBo9XPcSL/BvKPzpP+6EBVUYmIiR45Ilzd7I8W6EELYuL1X97LwxEIApnac\nSt2qda1+jix9FmGbw/gy+kuWnl5q9eMLIdS1d+9eAgMDadOmDZMmTVI7jrCAFOtCCGHD9EY9M6Jm\nADCs8TB6BPQok/M4aZ14qflLAPz30H85llBwgiUhhO26efNmketMJhNTp04lPDycWrVqERcXx9Sp\nUwkKCsJoNOZt98ILL6AoCq6urri5ueHq6oqiKHn/fv3112Iz7N69O9/2luz7d2lpabz77rv06NGD\nGjVqoCgKkydPtugYd+7c4c0338TPzw8nJydatWrF8uXLC2y3cOFCateuTXp6ukXHLy9SrAshhA3T\narR8FfwV/R/ozzvt3inTcw1rPIzgesHoTXrG7hnLHf2dMj2fEMJ6wsLCuHz5cqHroqKiePrpp+nb\nty9nz55lwoQJzJ49m6lTp6LR/FkKTpgwgf379xMZGcmuXbuIjIxk//79eHt7U7t2bdq3b1+iLDNm\nzGD//v35/jVr1syi7ycpKYmvvvqKu3fvMmDAAIv2zRUSEsKSJUuYNGkSW7dupX379gwbNoxly5bl\n2+7555/H1dWV2bNnl+o8ZU1uMBVCCBtXt2pdPuz0YZmfR1EUpnScwpnkM8SmxfLVla94vc7rZX5e\nIcT9O3ToEAsXLmTatGkF1q1fv55//vOfALi7u/Phhx/i4eFBSEhIvu0eeOABHnjgATIyMjCZTCiK\nwsGDB0lMTGT8+PE4ODiUKMuDDz5Ihw4d7uv7qVevHrdu3UJRFBITE/n6668t2n/Lli3s2LGDZcuW\nMWzYMAC6dOlCTEwMY8eOJTQ0NO/70Wq1vPrqq0ybNo333nsPFxeX+8pubdKyLoQQNujgjYPsj9tf\n7ud1r+LOJ098gk6j43DqYXYl7yr3DEKUpYxsver/rO3ixYukpKTwzTffoNcXPP7169fx8/MDIDs7\nm4ULF/LMM8/ka1UvysKFC1EUhRdffNHquYuT232mtNatW4ebmxuDBw/Ot3zEiBHExcURFRWVb3lY\nWBipqamFdpNRm7SsCyGEjTGajMw6MItzt87xedfP6ezfuVzPH+QVxL/a/YuZB2ay9/Zeevr2LNfz\nC1GWgiZuUzsCl2c+adXjHTp0iMDAQC5dusSGDRt4+umn89adPXuWRo0a5T2OiooiKSmJLl263PO4\nKSkprF69mm7duhEYGFjiPKNHj2bo0KG4uLjwyCOPMGHCBDp16mTZN3WfTpw4QZMmTdBq85e6LVq0\nyFvfsWPHvOU1a9akcePGbN68udzfmNyLtKwLIYSNibgUwdlbZ3HVudKqRitVMoQ2CmVEnRGMCxx3\nX61bQoiy9+uvvzJnzhx0Oh1z5szJt27Dhg30798/7/H+/eZP7Nq0ufdEaKtWrSIzM5OXXnqpRDmq\nVavGmDFjmD9/PpGRkXz22WfExsbSuXNntm0r3zdJSUlJeHp6FlieuywpKanAujZt2rBv374yz2Yp\naVkXQggbkmPMYd7ReQC80PQFPJw8VMmh1Wjp5t2NnJwcVc4vRFk5NbXifVJ05MgRPv74YwYNGkR4\neDiHDx/OK8ZPnz7Nu+++m7dtXFwciqLg7e19z+MuWbIELy8vBg4cWKIcrVu3pnXr1nmPH3vsMQYO\nHEjz5s1599136dmzfJ/74hoaClvn4+NDfHw8er2+QIu8mqRlXQghbMj68+u5knYFTydPm5ld1Ggy\ncjLxpNoxhLAKlypa1f9ZU3JyMp6enjg4ODBhwgQ0Gg1TpkwBzJMg+fj45Ns+MzMTnU53z5tFT5w4\nweHDh3n22WdxdCz9JGweHh707duXY8eOkZmZWerjWMrLy6vQ1vPk5GSAQlvdnZycMJlMZGVllXk+\nS0ixLoQQNiJLn8WXR78EYGSLkbjo1B+R4I7+Dv8++2+e2/ocN9JvqB1HCPE3a9eupV+/fgA0adKE\nsLAwNm7cSGRkJFu2bKFv3775tvf29iY7O/ueY4ovWbIEgJdffvm+M+bOilyeXeqaN2/O6dOnC9xw\ne/z4cYBCh5JMTk7G0dERNze3cslYUlKsCyGEjVh+ZjnxmfH4ufoxuOHge+9QDlwdXKmqrUq2MZsv\nor9QO44Q4m/WrVuXb8STWbNm4e7uziuvvMLOnTvz3UQJ0LhxYwAuXLhQ5DHv3r3LihUraNeuncXj\no//drVu3+OGHH2jVqhVOTk73dSxLDBw4kDt37rBmzZp8y5csWYKfnx8PP/xwgX0uXrxIUFBQeUUs\nMSnWhRDCRni7eOPj7MOoVqOo4lBF7TiAuSUstFYoYO6icynlksqJhKjczp8/T0BAAJGRkcybN492\n7drlGxe8Vq1aTJ8+nQsXLqDRaAp0d+ncuTNAsTOKbtq0ieTkZF544YUit9mzZw9arZapU6fmLXvm\nmWd4//33Wb16Nbt372bBggU88sgj3Lx5k48//jjf/oqi5GUpytatW1m9ejWbNm0C4NSpU6xevZrV\nq1eTkZFRbJbevXsTHBzMqFGjWLBgAZGRkYwcOZKIiAhmz55d4HkxGo0cOHCgRKPklDeLi/WSTt36\nd4sXLy5yCtobN+SjVSGE6Fu/L5tDNvNU/afUjpJPA9cGdPbvjNFkZO6RuWrHEaJSS0lJISYmhq5d\nuxIeHs77779fYJvXX3+d7t275xsFJpe/vz+PPfYYGzZsKPIcS5YswdXVlUGDBhW5jclkwmAwYDQa\n85a1aNGCbdu28fLLL9O9e3fGjRtHUFAQv/zyC927d8/b7s4d8+zItWrVKvZ7HTVqFIMHD84bSnHV\nqlUMHjyYwYMHEx8fX2wWMHcRGj58OBMnTqRXr15ERUURHh5OWFhYgXPt3r2blJSUQtepzeK7HEJC\nQjh48CAzZ86kYcOGeTNDGY1GnnnmmXvuv2jRoryPYHJ5eXlZGkMIISokJ235fUxsiTdav8Ge2D1s\nj9nOqaRTBHnZ3kfFQlQGbdu2ZdeuXVy7do1BgwYV2rVEURRWrlxZ5EycY8aMITQ0lGvXrlG7du0C\n6zdt2pQ3g2lROnfunNcXPdf7779f6JuHv9u7dy+KovDBBx8Uu93ly5fveayisgC4ubnx2Wef8dln\nn93zGIsWLaJjx44lGtKyvFlUrFsydWtRmjVrRrt27UqfWAghKpiFxxfi4+JDn8A+OGhKNp13eWtY\nvSF96vdh88XNfH74c74M/lLtSEJUWiXpqlG9evUi14WEhNC+fXs++ugj5s4t/0/LIiMjGTp0KM2b\nNy/3cxfmwoULrFixgl27bHPGZou6wVg6dasQQojixd2JY97ReXzw8wcciT+idpxijW45Gq2iJUOf\nQUZOxr13EELYJEVRWLBgAX5+fgW6jpSHjz/+mGXLlpX7eYty5coV5s6dW+6zrJaUYirsc4MiPPLI\nIxgMBg4cOJBv+cmTJ2nWrBnz589n5MiRhe67ePFiRowYga+vLwkJCVSrVo3OnTszderUQu80NhqN\npKWl5Vt25coVVX6oKrO/Toii0+lUTCLUINe/7C24soA9yXsIcgvigwbFfyRc3gq7/lczr1LbqbbM\nalrB2ftrX6fTERAQoHYMu/XX0lBe66V3+fLlAhPLaTQa6tatm2+Zu7s7Gk3R7ecWdYNJSkqifv36\nBZYXN3Vrrpo1azJu3Dg6dOhA1apVOX78ODNnzqRDhw7s27ePli1b3vP8er0eg8FgSWRhRTKTYeUm\n19/6UnJS+PnWzwCE1Aix6ec4N5uv1rfAuMWiYrPln8uiaLXaQvswC8vJ81h6JpOpwOvnXt3FC2Px\nDaaWTt2aq1evXvTq1Svv8eOPP86TTz5J8+bNmThxYrF3JefSarXFvvMQ1mfvrSvi/sj1L1s/Jf2E\nwWTgQZcHaVyt8b13KGfFXf90fTrn0s/Rulrrv+8mKgB7f+3njjYnSkda1q1DUZQCr5/S1LEWFeul\nmbq1OAEBAXTq1KnYsT7/qmnTplKsl7Po6GhycnLQ6XQl+vRDVCxy/ctOjjGHt86+BcBLbV+iZX3b\ne36Luv4302/y1PqnyDHmsGPQDrydvVVMKcqCvb/2Y2NjixwJRdxbRkZG3mgw8jyWnru7O/7+/vmW\nFdbN+14sqnxLM3XrvZhMJinAhRCVzs6YnSRkJuDt7E2Pej3UjmMRX1dfGlVvhN6oZ9W5VWrHEUKI\nCs2iKrk0U7cW59KlS+zbt48OHTpYtJ8QQti7Gi416FCrA0MaDkHnYH/dDIY1Ng/fu+rsKnIM9ten\nWQgh7IVF3WD+OnVramoqDRo0IDw8nIiICJYuXZrXaf6ll15iyZIlXLhwgXr16gHQvXt3Hn/8cVq0\naJF3g+ns2bNRFIVp06ZZ/zsTQggb1ta3LQt6LMBoss8RroLrBfPxoY9JyEzgxys/0juwt9qRhBCi\nQrK4/0lJpm41GAwYDIZ8Nyg0b96cFStW8Nxzz9GzZ09mz55N165dOXToUKm6zwghREWgUeyzG6DO\nQcfghuY5N8LPhKucRgghKi6LR4MpydStixcvZvHixfmWffrppxaHE0KIiuZ21m3Cz4QzqOEgarjU\nUDvOfRnccDALji3gSPwRTiedpolXE7UjCSFEhWOfTTpCCGGn1p5fy/9F/x9jIseoHeW+1XCpQXBA\nMFpFy/HE42rHEUKICsnilnUhhBClYzAaWHFmBUBeFxJ798/W/+Rfbf+Fr6uv2lGEEKJCkpZ1IYQo\nJ3uu7iEuPQ4PR48Kc0NmHfc6UqgLYScSExM5cuSI2jGEhaRYF0KIcrLszDIAQh4MwUnrpHIa67uU\ncgmD0aB2DCFEIfbu3UtgYCBt2rRh0qRJascRFpBiXQghysGF2xeIuh6FRtEQ2ihU7ThW997e9+i3\nvh+7r+5WO4oQldLNmzeLXGcymZg6dSrh4eHUqlWLuLg4pk6dSlBQEEbjn8PHpqWl8e677/LUU09R\nr149XF1dmTx5cqHH3LVrFy+++CKNGzfG1dWV2rVr079/f3777bcS5b1z5w5vvvkmfn5+ODk50apV\nK5YvX27R9/z33D169KBGjRooilJk7vvJs3DhQmrXrk16enqpcpaWFOtCCFEOcoc37FynM35ufiqn\nsb6arjUBCD8twzgKoYawsDAuX75c6LqoqCiefvpp+vbty9mzZ5kwYQKzZ89m6tSp+WaRT0pK4quv\nviI7O5unnnqq2PN98cUXXL58mTFjxrBlyxY+++wz4uPj6dChA7t27bpn3pCQEJYsWcKkSZPYunUr\n7du3Z9iwYSxbtsyi7/uvue/evcuAAQMs3r+keZ5//nlcXV2ZPXt2qc5RWnKDqRBClAOdRoeTgxPP\nNHlG7ShlIrRRKItPLibqRhTnb52nQfUGakcSolI5dOgQCxcuLHSiyfXr1/PPf/4TAHd3dz788EM8\nPDwICQnJt129evW4desWmZmZJCQkFBiG+6/mzZuHj49PvmW9evWiQYMGzJgxg65duxa575YtW9ix\nYwfLli1j2DDzbMhdunQhJiaGsWPHEhoamjfRZknk5lYUhcTERL7++usS72tJHq1Wy6uvvsq0adN4\n7733cHFxseg8pSUt60IIUQ7ee+g9fhz8Iw/VfEjtKGXCz82PznU6A7Du/Dp1wwhRnOx09f9Z2cWL\nF0lJSeGbb75Br9cXWH/9+nX8/Myf6GVnZ7Nw4UKeeeaZfK3qAIqioChKic7590IdzHPxBAUFERsb\nW+y+69atw83NjcGD84+KNWLECOLi4oiKiipRhlyW5L7fPGFhYaSmppa6y05pSMu6EEKUk2qO1dSO\nUKYGNBjArthdbL64mbfavoVWI39ihA2aYQPd0CanWPVwhw4dIjAwkEuXLrFhwwaefvrpvHVnz56l\nUaNGeY+joqJISkqiS5cuVs0AkJKSwuHDh4ttVQc4ceIETZo0QavN/zuiRYsWees7duxo9XzWyFOz\nZk0aN27M5s2befHFF8sln7SsCyFEGYrPiOdM8hm1Y5SLTnU64enkSVJWEr/E/aJ2HCEqjV9//ZU5\nc+ag0+mYM2dOvnUbNmygf//+eY/3798PQJs2bayeY/To0aSnpzNu3Lhit0tKSsLT07PA8txlSUlJ\nVs9mzTxt2rRh37595ZINpGVdCCHK1MqzK5l/bD6hjUIZ32G82nHKlE6jo09gH5aeXsqWS1t4vM7j\nakcSoqAP4tROYHVHjhzh448/ZtCgQYSHh3P48OG8Yvz06dO8++67edvGxcWhKAre3t5WzTBhwgS+\n//575syZQ9u2be+5fXHdVu6nS0tpWZLHx8eH+Ph49Hp9gdb4siDFuhBClBGjycimC5sAaOt77z9e\nFcGQRkNo6t2Urv7FfwwuhGqquKqdwKqSk5Px9PTEwcGBCRMmsGLFCqZMmcKGDRtITEws0Lc8MzMT\nnU5n0Q2c9zJlyhQ+/PBDpk+fzuuvv37P7b28vAptPU9OTgYotJW7LFmax8nJCZPJRFZWFm5ubmWe\nT7rBCCFEGfnt5m/EpcfhrnOni7/1+4faosBqgfSt3xcXXfmMkiBEZbd27Vr69esHQJMmTQgLC2Pj\nxo1ERkayZcsW+vbtm297b29vsrOzrTZW+JQpU5g8eTKTJ0/mgw8+KNE+zZs35/Tp0wVuhj1+/DgA\nzZo1s0q2krI0T3JyMo6OjuVSqIMU60IIUWbWn18PQI+AHhVyxlIhhPrWrVuXbxSTWbNm4e7uziuv\nvMLOnTsL3KjZuHFjAC5cuHDf5542bRqTJ09m/PjxFs2KOnDgQO7cucOaNWvyLV+yZAl+fn48/PDD\n953NEpbmuXjxIkFBQeWWT4p1IYQoAxk5GeyI2QFA/wb977F1xbPk5BIGbhjIpZRLakcRokI5f/48\nAQEBREZGMm/ePNq1a5dvvO9atWoxffp0Lly4gEajKdDdpXPnzoD5ptTCbN26lXXr1rF161YATp06\nxerVq1m9ejUZGRl52/3nP/9h4sSJ9OrViyeffJJff/01379ce/bsQavVMnXq1LxlvXv3Jjg4mFGj\nRrFgwQIiIyMZOXIkERERzJ49u0BmRVHychdl69atrF69mk2bNhWZu7AsluYxGo0cOHCgTEbTKYr0\nWRdCiDLw45UfydRnUte9Lq1qtFI7Trk7cOMA52+fZ+OFjYxpM0btOEJUGCkpKcTExNC1a1ceffRR\nduzYUWCb119/nY0bN+YbBSaXv78/jz32GBs2bGDkyJEF1o8aNYqYmJi8x6tWrWLVqlUAXLp0iYCA\nAIC8ojgiIoKIiIgCxzGZTHn/GwwGjEZjvvVr165l3LhxTJw4keTkZBo3bkx4eDhDhw7Nt92dO3cA\n85uQ4pQkd1FZLMmze/duUlJSCAsLKzaPNSmm3GfTxhiNRtLS0vItc3d3LzCAvyhb0dHR5OTkoNPp\naNmypdpxRDmT6196b+9+mx0xOxjdajSvtXxN7Tilcj/Xf9vlbbyz5x18XXzZ9vQ2HDTWu5lNlD17\nf+3Hxsbi7++vdowyExkZybVr1xg0aBBOToV3sbt16xYuLi44OjoWWLdmzRpCQ0OJiYmhdu3aBdZn\nZGRgMplQFKXcZuksSm6/++joaJo3b65qFoDhw4dz8eLFEg3dWNjPYWnqW2lZF0KIMjDr8VkMiBtA\no+qN7r1xBdTZvzPuVdy5mXGTAzcO8IjfI2pHEqLCKEkXjOrVqxe5LiQkhPbt2/PRRx8xd+5ca0az\nusjISIYOHWoThfqFCxdYsWIFu3btKtfzSjO1EEKUAZ1Gx+N1HsfX1VftKKpwdHCkd0BvADZe2Khy\nGiHEXymKwoIFC/Dz8yu0S4gt+fjjj1m2bJnaMQC4cuUKc+fOpVOnTuV6XmlZF0IIKzKZTBhNRun2\nAfRr0I+V51ay88pO0nPScdVVrPGthbBnzZo1K/chEu1dly5dyvXG0lzSsi6EEFYUnRBNzzU9mR89\nX+0oqmvh3YKAqgFk6jPZfnm72nGEEMIuScu6EEJY0cYLG7mZcZMraVfUjqI6RVEY3HAwJxJP8IDH\nA2rHEUIIuyTFuhBCWMldw10iLpmHMOv3QD+V09iG55o+p3YEIYSwa9INRgghrCTySiRpOWnUcq1F\n+5rt1Y4jhBCiApBiXQghrOSHiz8A0Ld+XzSK/HrNZTKZOHfrHN+c+AYbndpDCCFslnSDEUIIK0i5\nm8K+OPMkGU/Wf1LlNLYlU59J2OYwsgxZdKjVgSCvILUjCSGE3bC46efOnTu8+eab+Pn54eTkRKtW\nrVi+fLnFJx4/fjyKosiwQUKICmHnlZ3ojXoaVm8oN1P+jYvOhcfrPA7A1ktbVU4jhBD2xeJiPSQk\nhCVLljBp0iS2bt1K+/btGTZsmEUD1h89epRPPvkEX9/KOVmIEKLiaerVlNBGoQxuOFjtKDapd6B5\ngqSIyxEYTbY9CYsQQtgSi7rBbNmyhR07drBs2TKGDRsGmAeIj4mJYezYsYSGhuLgUPxEIHq9nhEj\nRvDqq68SHR1NYmJi6dMLIYSNaOTZiPEdxqsdw2Y9VucxXHWu3Ei/QXRCNK19WqsdSQgh7IJFLevr\n1q3Dzc2NwYPztxyNGDGCuLg4oqKi7nmMmTNnkpyczPTp0y1LKoQQwm45OjjSrW43ALZc3KJyGiHE\n/QgICOCFF14os+MvW7aM//3vf2V2fHtjUcv6iRMnaNKkCVpt/t1atGiRt75jx45F7n/q1Ck+/PBD\n1q5di5ubm8VhT548idEoH5+Wp5ycnLz/o6OjVU5T8d3VG0nIMBB/x0B8hp7EDANOWgUfFy0+bg7U\ncNFS3VmDRlHKJY9c/5L5If4HGrg0oKFrwwo1Coy1r38jUyMAtlzYQm+n3jgoxX8SK8qRyYRDdgpV\nMq5TJeMmnmnX0Oakku3ozcXrv5Dj4ku2S02MOle1k5aITqcjIyND7Rh2K3fUJpPJVOjzaDKZ0Ov1\nZfYcf/fdd5w6dYqRI0eWyfHLS1paWoHfnRqNhrp161p0HIuK9aSkJOrXr19guaenZ976ohiNRl58\n8UVCQkLo06ePRSFz6fV6DAZDqfYV9y/3D7ewnmtpevbGZBF98y7xGQZS7957WDutBrydHahTVcuj\n/o485OeEo7bsi3e5/oVLzE5kedxyFBT+2/C/eOg81I5UJqxx/Rs6NcTNwQ2DycC19GvUcqxlhWSi\nNBSjnqoJB/G8tguX1PNUybiJg/HuPffT69zIdq5Jmmdzkup0J6NaIyinxgNLaLVaGSa0EJmZmTg7\nO1u0T3HPY1k/x/Z+DU0mU4HfnffqLl4Yi4duVIp5URa37r///S+///47GzdutPSUebRaLRpNxWm1\nsgd//SHT6XQqJqk4UrIM/HQlk92X0vk9uWAB5KxV8HF1oIarlhouDmTqTcSn60lIN5CUaUBvhBvp\nBm6kGzh0/S5O2jQ6+jvTOcCFZj6OOGis94dTrv+9/Zb8GwBN3JpQw6WGymmsy9rXX4eO8Q3GU9Ox\nJlqNjBxc7kwmnG+fofqV7Xhc3Yku+3aBTXKcvMh2rkmWsw8GXVV0WYk4ZsVTJeMm2pxUtDl30Oac\nxyX1PL6X15HlVpdbdXtwq04wOa628+ZLUZQia5JMfWaR+2kUDY4OjiXaVlEUnBycSrXt/Zg+fToz\nZsxg3759zJo1i8jISBRFoXcNCYiIAAAgAElEQVTv3syaNYsaNcy/h5o0aUJQUBDPPfccM2fO5OzZ\ns4wePZpp06aRlZXFjBkzWL16NXFxcXh7e/PUU08xadIkPDw88orknJwcpkyZwrJly0hLS6NVq1bM\nnDkz3/f110zp6en5sn733Xe89tprnDp1inr16uUtX7FiBV9++SUnT54EoH79+owaNYrnn3+eXr16\n8dNPPwHk64Xx92PbA0VRCvzuLE0da9FvSy8vr0Jbz5OTk4E/W9j/7sqVK0ycOJGZM2dSpUoVbt82\n/4LQ6/UYjUZu376No6PjPd/tNW3aVIr1chYdHU1OTg46nY6WLVuqHcdumUwmdp6OJ/zAFfacS0Bv\nNP8idNAoPP6gN0+19KOhrzv+1V2o6qwt8o+M3mDkRmoWV29l8suFJNYduUpscia7LmWw61IGNas6\n0b+1HyM6BlKz2v3/YZDrf28fbvoQgEHNB9GyYcV6jsri+rekYj1HdiErBQ4sgOjlkPT7n8tda0Cz\nQfBgMFQPgGp10Gkd0QHnC7v2d9PgdiwknYdT6+HMZpzuXKHWqa+pdeprqPcotAqDFqHgoO6bsdjY\nWFxcXApd9/CSh4vc77Haj/F/3f8v73Hn7zsXWYS3823Hol6L8h73Wt6LW3dvFbptU6+mLO9r+TDX\nhckt/p555hmGDBnC6NGjOXnyJBMmTODcuXNERUWh0+lQFIXo6GjGjx/P+PHjCQwMxNXVFWdnZ0JC\nQti5cyf//ve/eeyxxzh27BiTJk3i4MGD7N+/H4PBgMlk4vXXX2fZsmW88847BAcHc+LECZ555hnS\n0tLQarV5z3Fupr8/546O5jc+zs7OeesmTpzItGnTCAkJYezYsVSrVo0TJ05w/fp1XFxc+PLLLxk5\nciQXLlxg3bp1eccq6nraMnd3d/z9/fMtMxqNpKWlWXQci15NzZs3Jzw8HL1en6/f+vHjxwGKHDP9\n4sWLZGZmMmbMGMaMGVNgffXq1RkzZozcTCAqpPPxaUzeeIqfz/858lGLOtUY0Ko2T7X0o4a7YzF7\n56d10FCnugt1qrvQob4Xb3V/kN9ibrH2yDV+iI7jRmoW8/dc5Lv9MbzR9UFe7BSAo1b6BZeViykX\nOZN8Bq2iJbhusNpx7IrJZCI9Jx23KpbfvyRKyGiE6HD4cRKkJ5iXaZ2g8ZPQYig80AUcLPjExNEd\nfIPM/4L6QVYqnN4Ex5bDpZ8gZp/5369fQJ+Pod4jZfN9CcA8lPbs2bMB6NGjB76+voSFhbFy5UrC\nwsIAiI+P59SpUzRs2DBvv23btrFt2zZmz57N2LFjAQgODsbf35/Q0FC+/fZbwsLCOHv2LN9//z1v\nvfVW3nmCg4PzzlMaly5dYsaMGYSFhbF06dK85cHBf/7+DAoKwsPDA0dHRzp06FCq81Q0FhXrAwcO\nZMGCBaxZs4bQ0NC85UuWLMHPz4+HHy783WqrVq2IjIwssPzNN98kJSWFRYsWUadOHQujC2Hb0rJy\n+Hzn7yzadxm90UQVrYYXOgYwpF0dGvi4W+UciqLQLsCTdgGeTHoqiMgz8Xy19yKHr9xmVsQZVh2K\nZVK/pjzRsGJ1z7AV2y5tA+ARv0fwcKqYfdXLwt6re5n+63Ra+rRk9uOz1Y5TMcUdgS1j4epB82Ov\nBtDpLWjSD5yqWuccTlWhdZj5X8pVc8v9L5/DzeOwqJe5hT14KrjXtM75rCTqmaJHrnPQ5G/c2D1k\nd5Hb/v1m8oinI0q8rTX8vWAeMmQIzz//PJGRkXnrWrRoka9QB9i1axdAgdFcBg8ezIsvvsjOnTsJ\nCwtj7969xZ6nNHbs2IHBYGD06NGl2r+ysqhY7927N8HBwYwaNYrU1FQaNGhAeHg4ERERLF26NK/T\n/EsvvcSSJUu4cOEC9erVw8PDg86dOxc4noeHB3q9vtB1Qtgrk8nE+qPXmLHlDAlp5hu2ujfxZWLf\nIOp6ld3HeI5aB3o1q0XPpjVZd8R8/ouJ6Tz/zQF6BPkyoW8Q/p729zGirTKZTGy5ZB6CMHfCH1Ey\n1R2rE5cex63YW2TkZOCik59Lq8lIhp1T4bfFgAmquMET78LDo0BbpezOW60OPP4OtH3BfP7D38Kx\nFXBmM3R+Hx5+zbJW/DJkyc9bWW1rDTVr5n8TpNVqC3RXrlWr4H0ESUlJaLXavL7tuRRFoWbNmnn7\n53ZxLuo8pZGQYP6ERxpoLWPxW721a9cyfPhwJk6cSK9evYiKiiI8PDzfOy+DwZDX30mIyiQmKZ0h\n8/fz1opoEtLuEuDlwqIX2vP18+3KtFD/K0VRCGlTh13vPMHLnQJx0ChsP3WT7v/dw7zI8xiN8rq0\nhqSsJLIMWTg6ONLFv4vacexKM+9m1HGrQ6Y+k71X96odp+I4Gg5z2sBviwATNB8Mrx+ER8eUbaH+\nV67e0O9zeGUn1G4L2Xdg+3j4oiNcPVQ+GSqJGzdu5Hus1+tJSkrKV0gXdv+Tl5cXer0+r3DOZTKZ\nuHHjBt7e3sCf9yEWdZ6/cnIy3yN1927+EYX+PvFl7huEq1evFv/NiXwsLtbd3Nz47LPPuH79Onfv\n3iU6OpqhQ4fm22bx4sWYTCYCAgKKPdbu3bs5ceKEpRGEsEl7zyXw1JyfOXj5Fs46B8b2bMS2tx6n\nS2MfVfJUddIxvm8QW8c8RscHvLirN/LxtrO88u0hUrNkGMb75e3szbant7HqqVXS79pCiqLkfRqR\n++mEuA+GHNj8L1j/GmTeAt9m8MIWePprqOqnTqbabeGlH6HfXHDxhsRzsKi3ucVdWMX333+f7/HK\nlStL1FuhWzfz5GR/7TMOsGbNGtLT0/PWP/bYY8We569y671jx47lW75p06Z8j3v06IGDgwNffPFF\nsRkdHR3JzCx6dJ3KRsbOEuI+mUwmFvx0kZlbz2A0QSt/D+aFtaG2h2Vj2ZaVhr7ufP/yw6z67Srj\n159g55l4Bszbx4Ln2vFADSky74dG0RBYLVDtGHapd2BvFhxfwM/XfiY1O5WqVazUj7qyuZMAq543\n39gJ0PkDeOxfqo/GAoBGA22GQ5O+sOF1OPMDbHwDrh+DXh/ZTLcYe7V27Vq0Wi3BwcF5o8G0bNmS\nIUOGFLtfcHAwPXv25L333iM1NZVHH300bzSY1q1bM3z4cAwGA40bN2bo0KH873//Q6fT0b17d06c\nOMEnn3xC1ar5X699+vTB09OTl156ialTp6LValm8eDGxsbH5tgsICOCDDz5g2rRpZGZmMmzYMKpV\nq8apU6dITExkypQpgHlAk7Vr1/LFF1/Qtm1bNBoN7dq1s+4TaEdkHEQh7kNmtoExy48yY4u5UB/S\nrg4rXu1gM4V6LkVRGNLOn9WvPUKtak5cTEhnwNx97Dx9U+1odik1O5Uco3w6cT8erP4gDTwakGPM\nYdeVXWrHsU9xR+CrzuZCvYo7DFsOnd+zjUL9r5yrw5DvoMs48+ODC+Db/uY3GqLU1q5dy5kzZwgJ\nCWHixIk89dRTbN++nSpViu/ypCgK69ev5+2332bRokX06dOHTz75hOHDh7Nr16684RYBvvjiC95+\n+20WL15Mv379WLlyJWvWrKF69er5jlm1alUiIiJwd3fn2Wef5bXXXqNZs2aMGzeuwPmnTp3Kt99+\nS0xMDGFhYQwYMIBFixYRGPhnw8eYMWMYNGgQH3zwAR06dKB9+/b3+WzZN8Vkox3LCxuH0t3dXcZZ\nL2cyznbRrt7K4NXvfuNkXCpajcLEp4IY3qFesZOD2YKEtLv84/vfOHj5FooC/wpuyOguDQrNLde/\ncB9FfcSWS1t4u+3bDHxwoNpxykxZX//50fOZe3QuHf06Mj94vtWPX6EdW2lupdZnmUd6GRoONRre\ne78SKrNrf2YLrB0J2WlQtQ4MXQp+ra13/D/ExsYWGN+6opg8eTJTpkwhISEhr3+5tWVkZGAymVAU\nxS7HN7cVhf0clqa+lcpXiFKIuphEv7n7OBmXipdrFZa+/DDPPRJg84U6QA13R75/uQPPdqiLyQSf\nbD/HP74/TEa2/t47CwxGA9tjtnP77m28nEs3IoIw6xPYhyENhzCyxUi1o9gPoxG2jYO1r5gL9Qd7\nwiu7rFqol6nGfcx5vRpA6lX4phccW6V2KiFsmhTrQlho77kEnvvmAMnp2TT1q8rGNzrRob59FW1V\ntBo+HNCcj0Kao3NQ2HriBi8uPigFewn8dvM3EjMTqVqlKo/Ukklf7od/VX8mPDKBtr5t1Y5iH4wG\n2Pg67J9rfvzYO+auL07V1M1lqRoNzQX7gz3NbzjWvvzHUJNCiMJIsS6EBfaeS+Dlbw9xV2+kW2Mf\nVr/W0eb6p1ti2EN1+f7lDrg5avn1YrIU7CWw7bJ5IqTu9bqjkxvkRHkxGsw3aR79HhQHCPkauk0w\n38Rpj5yqmd9oPPya+fGmMXBokbqZ7MTkyZMxmUxl1gVG2B47fZULUf72/FGoZ+uNdG/iy/892wbn\nKg733tHGPRToyZIXH8or2EcskoK9KHqjnh+v/AhAz3o9VU5TcRy+eZiPoj4iMTPx3htXRkYDbBgN\n0cvMhfrTX0OLwWqnun8aDfSaCR3+YX78w5tw6Bt1Mwlhg6RYF6IEdp+N55U/CvXgIF/+L6wNjlr7\nL9Rzta1XPa9gj7qUzAuLDpJ+Vwr2vzt08xDJWcl4OHrQvlblHp3Amv5z6D8sO7OMHTE71I5ie4wG\nWP8PiA43F+qDFkKzELVTWY+iQM8Z0OGP6ed/eAsOLlQ3kxA2Rop1Ie5h99l4Rn73G9l6Iz2CfJn3\nTBuqaCveS6dtvep8+9JDuDtqOXDJ3MKemWNUO5ZNibgUAfzRBUYjXWCspUdAD+DPLkbiD0YDrB8F\nx5b/Uah/A00r4OhDigI9p8Mjr5sfb34bDn59X4fUaDTk5MjwqkI9BoPBaseqeBWHEFYUeTaekd+a\nC/WeTX2ZW0EL9Vxt6v6lYL+czNQ9iWTqpWDPNazxMF5u/jL9H+ivdpQKpWeAuUvR4ZuHic+IVzmN\njTAaYN1rcGwFaLQweBE0HaB2qrKjKNDjQ+j4hvnx5n/BgQWlPpynpyfXr1/PG4JQiPJkMBi4du0a\nNWrUsMrxbGzmBCFsR9TFJF799jeyDUZ6Na3JnGdao3OouIV6rtZ1q/Pdyw8zfGEUpxKymbXvNpO7\n+KgdyyY08mxEI89GaseocGq61qRVjVYcTTjKjpgdhDUJUzuSukwm8w2Xx1eaC/VBiyCon9qpyp6i\nQPA0QIFfPoct70AVV2j1jMWHcnZ2pnbt2iQlJZGUlGT9rBVcWlpa3jjr7u7uasexSz4+Pjg5OVnl\nWFKsC1GICwl3zF1fDOauL5WlUM/Vyt+DpS89TOj8XziRkMO8A7f4prXJLsaRF/apZ0BPjiYcZdvl\nbVKs//QfOPIdKJrKU6jnUhQIngomo3mIyo1vQNXaUP8Jiw/l4OCAj480NJTGXyfFqqiTS9mTylN9\nCFFCSXfuMmLRQVIyc2hd14PPh1WuQj1XS38P3nvUC40CkZcz+HznebUjqSbHkMPkXyazJ3YPBqP1\n+iGKPwXXCwbgSPwRbqTfUDmNio6vhl3TzF/3nl25CvVcuS3sTUPAqIcVwyH+jNqphFBN5atAhChG\nVo6Bl789xJXkDPw9nVnwXDucdBVn1BdLtfFz4uXW5o9AP/3xHGsPX1U5kTr2X9/Pmt/XMOmXSWpH\nqbB8XX1p49MGXxdfYtNi1Y6jjphfzDeUgnl0lIdeUTePmjQaGPAF+HeAuymwbDDckfsZROUkxboQ\nfzAaTby98ihHrtymmrOORS88hLebo9qxVNejvgshTdwAeG/NMfZfqHz9P3NHKQmuF4yDpvK+eStr\nn3b5lO2DttO+ZiUcFjPxPCx/BgzZ0Lgv9JimdiL16Zxg6DLwrA+3r8CyUMjOUDuVEOVOinUh/jBr\n2xm2HL+BzkFh/vC2NPBxUzuSzRjeshpPNq9FjsHEq98d4nz8HbUjlZtsQzaRVyKBP0ctEWXD08kT\njVIJ/yylJ5lbjjNvQe22ELIA5E2hmasXhK0GZ0+IOwxrXzGPlCNEJVIJfysKUdD3UTHM33MRgNmD\nWtChvpfKiWyLRlH4z5CWtKnrQWqWnhGLD5B4567ascrFL3G/kJaTRg3nGrTxbaN2nEpBb9RXnn7r\nOVmwfBgkXwSPujBsOVRxUTuVbfF6wNzC7lAFzvwA2yeonUiIciXFuqj09p5LYOKGkwC8HdyQga3r\nqJzINjnpHFjwXDvqeroQm5zJy0sOkZVT8Vu4crvA9AjoUTlbfcvZwRsH6bqyK2/vflvtKGXPZIIN\n/4DYKHCqZm5BdpPRSwpV7xFzH3aAX+fd1xjsQtgb+csjKrXY5AzeCD+CwWji6TZ1eKNrA7Uj2TQv\nN0cWjWhPNWcdR2NvM2XTSbUjlam7hrtExkoXmPIUWC2QlOwUjice52paBb+hef9cOLEGNDoIXQo1\nZAz/YjUfBN0mmr+OeB+u/KpuHiHKiRTrotLKyjHwj+8Pk5KZQ0t/D2aENJNxxEvggRpuzBnWGkWB\n8AOxrDxUcUfuuH7nOrVca+Hj4kPLGi3VjlMpeDt7097XfIPp9pjtKqcpQ5f3wY4/Rhfq9REEPq5u\nHnvR6e0/h3Rc9YKMECMqBSnWRaU1eeNJjl9LobqLji/C2uColRu6SurxhjV4u3tDACasP8GJaykq\nJyobAdUCWNd/HaueWiVdYMpRz0DzpxgRlyJUTlJGUq+bC02TAVqEQvuX1U5kPxQF+s0B70aQdh1W\nvwgGvdqphChT8tdHVEorD8ay/GAsigKfD2uNn4ez2pHszuguDeja2Ie7eiOjvv+NlIwctSOVGU8n\nT7UjVCrd6nbDQXHgdPJprqReUTuOdRlyzIV6ejz4BEHfT80FqCg5Rzdzt6EqbnD5J9g5Re1EQpQp\nKdZFpXPiWgrjN5wA4F/BDXnswRoqJ7JPGo3Cp0Na4e/pTGxyJm+tPIrRaFI7ltXcTL9Jpj5T7RiV\nkqeTJw/VfAj48wbfCmPHJIj9FRyr/lFwuqqdyD7VaAj955m//uVzOLVR3TxClCEp1kWlcjsjm9eW\n/ka23kj3Jj78o7PcUHo/qrno+CKsLY5aDbvOxDMv8rzakazm40Mf88SKJ/jh4g9qR6mUegX2AiDi\ncgXqCnNirXkkEzCPbOL1gLp57F3TAfDI6+av1//DPLGUEBWQFOui0jAaTby14ihXb2VS19OF/wxu\nhUYjHz/fr2a1qzFtQDMA/vvjOfaeS1A50f3LyMlgT+weMvWZBFYLVDtOpdStbjdGNBvBtEcryEye\nCWdhwx+F5aNvQpO+6uapKLpPhrodITsNVg6H7HS1EwlhdVKsi0pjzq7zRJ5NwFGr4Ytn21DNRad2\npApjSDt/hrb3x2SCMcuPcO22fXcf2R27myxDFnXd6xLkGaR2nEqpmmM13m77NkFeFeD5v5sGK56F\nnHQIeAy6yqQ+VuOgg8GLwM0X4k/BpjHm8euFqEAsLtbv3LnDm2++iZ+fH05OTrRq1Yrly5ffc78f\nf/yR4OBg/Pz8cHR0xMfHh65du7Jly5ZSBRfCEr9eTOJ/O88B8OGAZjT1q6Zyoopncr+mNK9djVsZ\nOfwz/Ah6g1HtSKWW2/WiV2AvGc5T3L8tYyHxHLjXgkHfgINW7UQVi3tNGLwYFAc4vgqOfKd2IiGs\nyuJiPSQkhCVLljBp0iS2bt1K+/btGTZsGMuWLSt2v6SkJJo2bcqnn37K9u3bmT9/PjqdjieffJKl\nS5eW+hsQ4l5uZ2Tz1oqjmEwwuG0dBrfzVztSheSkc+D/wtrg7qjlt5hbfL7LPvuPpman8vO1nwHo\nFdBL5TTil7hfGPfzOM4mn1U7SukcWwXR4aBozIW6zFBaNup1hG5/fGKx9T1IOKduHiGsyKK391u2\nbGHHjh0sW7aMYcOGAdClSxdiYmIYO3YsoaGhODgUPlZ1aGgooaGh+Zb17duXwMBAvvrqK5599tlS\nfgtCFM1kMvH+muNcT8ki0NuVyf2aqh2pQvP3dOHDgc0Ys/woc3f9TqcG3jwUaF/DHu66soscYw4N\nPBrwYPUH1Y5T6a06u4ofr/xIDecaNPK0sxk+ky/BD2+Zv378XXNBKcpOxzFwIRIu7YE1L8HLP4LW\nUe1UQtw3i1rW161bh5ubG4MHD863fMSIEcTFxREVFWXRyXU6HR4eHmi18pGgKBvhB2KJOHkDnYPC\n50Nb4+ooP2tlrX+r2jzdpg5GE7y5/Ijdjb+eOxGPtKrbhr+OCmOyp77IhhxY+4r5xkf/DvD4WLUT\nVXwaDQycD86ecOMY7JyqdiIhrMKiyuXEiRM0adKkQHHdokWLvPUdOxbfcmA0GjEajcTHxzN//nzO\nnTvHrFmzSnT+kydPYjTabz9Ye5STk5P3f3R0tMppLBObksPkbeapqMOaV8WYdJnoJJVD2ZnSXv9B\n9Y38ck5LXEoWoxb9xLuPetpN3++QaiHUNtWm/t36dvczb2228PqvbqyOo8aRa3eusW7/Oh5wtY/h\nDmueWoDv1YMYdG6cDXqbnBMn1Y5kEVu49qVVteVYAn/9N+yfy0UlgDTfh9SOZHfs+frbOo1GQ926\ndS3ax6JiPSkpifr16xdY7unpmbf+Xvr06cO2beZJLqpWrcqKFSt48sknS3R+vV6PwWCwILGwptwX\nrz3INpj4ZF8y2QYTLXyq0OcBR7vKb4ssef50wJiHqjIuMplfYjOJ+D2V7oEuZRfOijw1nvT27A3Y\n1898WVPrudCgoZV7K6JSotiXvI+6VSz7I6cG98Sj+Jw134t1uflbZOi8wI5/luztdZDk/RCu9frj\nE7MB/9+mc/LxBegdq6sdy27Z2/W3dUV1Fy+OxX0CimsdK0nL2Zw5c7h9+zbXr19n6dKlhIaGsmTJ\nkrw+8MXRarVoNDLaZHn664tUp7OfoQ6XHLvN5RQ9VR01vNXRC8cqlr84xP1d/ya+Op5tYWBJdAqL\njt6heU0X6lS1n58hYTuv/46eHYlKieJg6kGerfMsGsV2/w44ZKcSeHQmCiaS6vXhTr1g7PGn3lau\nfWndaPk67reO4Zx6ifrHPubSI7PMN/mKErH362/LSlPHWlSse3l5Fdp6npycDPzZwl6cBx/884at\nfv360bt3b0aPHk1oaOg9v4GmTZtKsV7OoqOjycnJQafT0bJlS7XjlEjkmXg2nbsKwP+GtaFLY1+V\nE9mv+73+zZubuJB+gJ/PJzLvcCbrRrfGUWubb5wSMhKY+utU+gT2oVeADNkItvP6b2JowtdXv+ZW\nzi0MNQ20rtlatSzFMpnM46lnJYBXA7zCvsariqvaqUrFVq79fakTDl91purNKFpm/QodRqmdyG5U\niOtvo4xGI2lpaRbtY1Hl27x5c06fPo1er8+3/Pjx4wA0a9bMopMDPPTQQ9y6dYuEBPuf9VCoLz4t\ni3dWmfvXvdAxgK5SqKtKo1H475CWeLpW4dT1VGZH2O7we9tjtrM7djffn/5eCnUbU8WhCl3rdiWw\nWiAZ+gy14xTtt0Vw5gfQ6ODphWCnhXqF4dMEek43f71jIlw/pm4eIUrJomJ94MCB3LlzhzVr1uRb\nvmTJEvz8/Hj44YctOrnJZGLPnj14eHjg5eVl0b5C/F3uMI1J6dk0runO+70bqx1JAD5Vnfh4kPkm\n9IU/X2Lf+USVExVu66WtAPQO7K1yElGY8R3Gs6H/Bh6v87jaUQqXdAG2jTN/3X0S+LVSN48wa/cS\nNHoSDNmwdiTkZKmdSAiLWVSs9+7dm+DgYEaNGsWCBQuIjIxk5MiRREREMHv27LxO8y+99BJarZaY\nmJi8ffv378/EiRNZu3Yte/bsITw8nF69erFnzx6mT58uwzeK+7biYCy7zsRTxUHDZ0Nb46Szze4W\nlVG3Jr6EPWy+MfCdVdGkZNrWDUtxd+KITohGQSG4XrDacUQhnLROtvuJh0EP616FnAwIfAI6jFY7\nkcilKNDvc3D1gYTTEPmh2omEsJjFHcDXrl3L8OHDmThxIr169SIqKorw8HDCwsLytjEYDBgMhnxj\n4j766KNERETw8ssv061bN9544w0UReGHH37gH//4h3W+G1FpXUnKYNoPpwAY27MRjWq6q5xI/N24\nJ5tQz8uF6ylZTNloW8PYbbtsHqGqXc12+LjIDJO2LFOfyckk2/r5Yd+ncPUgOFaDAf9nHu9b2A5X\nb+g3x/z1L3Ph8s/q5hHCQhb/RnFzc+Ozzz7j+vXr3L17l+joaIYOHZpvm8WLF2MymQgICMhb9u67\n73LgwAGSk5PR6/UkJiYSERFR4mEbhSiKwWji7ZVHSc828FCgJy92ClQ7kiiESxUt/x3SCo0Ca49c\nY+vx62pHypPbBUYmQrJtF1Mu0nlFZ17Z/go5Bhv5dOZ6NOyeaf66z2yoVkfdPKJwjXpBm+cAE6wb\nBVmpaicSosTk7b+wewt+usihmFu4VnHgP4Nb4qCx0Y/KBW3rVWdUZ/OkNh+sO058mvr9R2NSYzid\nfBoHxUG6wNi4eu71cNW5kpadxi9xv6gdx9z/ee1IMOqhST9oEap2IlGcnjPAox6kXIFt/1Y7jRAl\nJsW6sGunr6fy3+3nAJj0VFP8Pe1j4p3KbEy3hgTVqsqtjBz+vea46lPIp95NpWWNlnTw60B1J5k4\nxZY5aBzoGdATgIjLESqnAXZNg4Qz5v7Qff9n7h8tbJejOwz8ElDgyFI4s1ntREKUiBTrwm7d1Rt4\na8VRsg1GujfxZXA7+fjZHlTRavg0tBVVHDTsPBPPioOxquZpXqM5S/ss5fMun6uaQ5RMbrG+68ou\nMnJUHMbx8s+wf575635zwFVGNLML9TpCxzfMX2/8J9yRYaOF7ZNiXditT3f8zpkbaXi5VuGjkOa2\nO1KEKKBRTXfe6dkQgGk/nOJKkvpjZ1dxqKJ2BFECLWu0pLZbbTL0GeyO3a1OiKxUc79nTOZ+0I3k\nXge70nU8+ARBRiJsGrFswq4AACAASURBVGOezEoIGybFurBLBy8nM3/vBQBmhDSnhrujyomEpV7q\nVJ+HAj1Jzzbwr1VHMRjL/w/m0fij3M66Xe7nFaWnKAp96/cF4IeLP6gTIuLf5n7PHvXM/aCFfdE6\nQshX5smrzm6Go8vUTiREsaRYF3Yn/a6ef62MxmSCQW3r0LNpTbUjiVJw0Cj8Z3BLXKs4cPDyLRb+\nfLFcz6836nkz8k26rOrC8YTj5XpucX+erG8eRWx/3H5S7qaU78nPboWjSwEFBs4394MW9qdmc+jy\ngfnrre/BbXW74wlRHCnWhd2ZufUMV5Iz8KvmxMSngtSOI+6Dv6dL3jX8ZPs5fr+ZVm7njroeRVJW\nEm46Nxp7yWy39iSwWiATOkxg44CNVHOsVn4nzkg293MGc7/neo+U37mF9T06Buo8BNlpsPF16Q4j\nbJYU68Ku7DufyHe/mmfGnT2oJVWddConEvdrSDt/ujSqQbbeyDurotEbjOVy3twuFL0CeqHTyM+R\nvRnSaAj+Vf3L96Rb3oH0eKjRGLqMK99zC+vTOMCAL0DrDBd3w6GFaicSolBSrAu7kZaVw7urjwHw\nbIe6dHrQW+VEwhoUReGjkBZUddISfTWFL/dcKPNzZuRksPPKTgD6PtC3zM8nKoCT6+HEGlAczLOU\n6pzUTiSswbsBdJ9k/nr7REi+pG4eIQohxbqwG9M3n+ba7Uz8PZ35d+8mascRVlSzmhOT+zUF4LOd\nv3P6etnOLrjzyk4y9ZnUda9LC+8WZXouUXYO3zzMP3f9ky+jvyzbE91JgM1vm7/u9BbUblu25xPl\n66FXoV4nyEmHDaPBWD6f7glRUlKsC7sQeTae5X+Mx/3xoJa4OmpVTiSsbWDr2gQH+ZJjMPGvldFk\n68vuD+bmi+bJUPrW7ytDftqxmxk3iYyNZP359WU3uZbJBJvfgowk8G0GT7xXNucR6tFooP9c0LlC\nzD44MF/tRELkI8W6sHkpGTm8v8bc/WXEowF0qC+Tj1REiqIwY2BzqrvoOHU9lbmR58vkPGnZaRy8\ncRD4c1QRYZ86+3fGVefKtTvXOBJ/pGxOcnw1nN4EGu0f/ZtlPP4KyTMQekwzf/3jFEgsm98/QpSG\nFOvC5k3ZdJKbqXcJ9Hbl3Z4yakdFVsPdkWkDmgEwL/I8x69af1g+9yrubBu0jVmPzaJu1bpWP74o\nP85aZ7rX7Q6U0ZjrqdfNN5WCuUW9lnSZqtDavQj1O4M+E9aPAqNB7URCAFKsCxu3/eQN1h65hkaB\nTwa3xPn/2bvzuCjq/4Hjr9kLFpZTRDkURfECxdu0TM0yzcrwzNTK7K5vWX07/f66+3677bJbzTKP\n8sgyjzI7vG9R8MIDBeSQm+Xc3ZnfH4MgCgoKDAufJ4997OzsZ2bfy8Dsez/zOUx6rUMS6tjN3QIZ\n2S0Ah6zw1I97KbbX/gemn9mPm0JvqvX9CvXvbAfhtfFrKXGU1N6OFUWd3bIoGwK6q23VhcZNkuDW\nT8DFExK3w+aPtY5IEACRrAsNWGZ+CS8sjwHgvmtD6RXio3FEQn15bVQEfhYTR1KtzPw9rtb2W2ft\nmgXN9GnRB383f3JLctmQuKH2drz3e4hbC3oTRH0OejG8Z5Pg3ap8Vto/34C0g9rGIwiIZF1owF5c\nEUO6tZj2/haeuL6D1uEI9cjX3cQbUV0B+PKfY+w+lVUr+/14z8dMXTOVzac318r+BO3pdXpGtlX7\nHtRaU5icRFjzvLo85AXwF6NPNSk9JkPYjeAogeUPgsOmdURCEyeSdaFB+nVfMiv3JaPXSbw/PhJX\no2j+0tTcGN6SqB5ByAr8+8doimxX1hxGVmRWHl/JztSd5JXU30ypQt0bGTqSrn5d6R9YCzOKKgr8\n/C8ozoXgPjDgsSvfp+BcJAlu+RBcvSF5L2z8QOuIhCZOJOtCg3Mmr5j//LQfgIcHt6NbsLfGEQla\nefmWcFp4unD8TD7vrD18RfvalbqL5PxkLEYLg4IH1VKEQkPQ0bcjC0YuYHzH8Ve+s11z4dh6MLiq\no7/oREVBk+QZADe9oy7//Rak7Nc2HqFJE8m60KAoisKM5fvJKrDROcCTf10XpnVIgoa83Iy8OUYd\ngWPOphNsP5F52fs6O7b6sDbDcDWI2SeFSmTFw9r/qMtDXwI/cf5p0rqOg043g2xTm8PYa7EDsyDU\ngEjWhQblp71J/HYgFYNO4r1xkZgM4k+0qRvS0Z8JvVuhlDaHyS+213gfxY5ifov/DVAnQhIap9yS\nXJYcWUKyNbnmG8sy/PSIOotl6wHQ78HaD1BwLpIEN38Abs0gNQb+eVvriIQmSmRCQoORmlvESyti\nAXhsaBhdAj01jkhoKGbc3JlAL1dOZRbw5upDNd7+j5N/kGfLI8A9gF4txFTxjdUz/zzDK1teYfnR\n5TXfePuXcHIjGN3gtlnqrJaCYGkOI99Tlze8D0m7tY1HaJLE2UhoEBRF4bml+8gtstM1yIuHBrfT\nOiShAfF0NfL22EgAvtt6kk1H02u0/bK4ZQDc1v42dJI47TVWt4beCsDyo8tx1GRCm/SjsO5ldfmG\nV8E3tPaDE5xXeBSEjwbFoU6WZCvSOiKhiRGfWkKD8OPORP48fAaTXsd74yMx6sWfplDRNWF+TL5K\nnXH0mSX7yCuq/nBqYzqMoV/LfkS1j6qr8IQGYGjIULxcvEjJT6n+8JxyaQJmL4S2g6D3tLoNUnBO\nI98Dd384cwj++q/W0QhNjMiIBM0lZRfy6soDADw5rAMdWnhoHJHQUD0/ojOtfd1Iyi7k9ZXVn6xk\nRNsRfH3j1wRYAuowOkFrLnoXbgm9BYClcUurt9GWT9TZKk0eMEo0fxGq4OarDucI6symp7ZpG4/Q\npIizkqApWVZ4Zkk01mI7PVp7c99AcflZqJq7i4F3xqqjwyzemcD6Q6kaRyQ0NKPDRgPwd8LfpBde\norlU6gFY/7q6PPy/6uyVglCVTjdB5ERQZPVqTEm+1hEJTYRI1gVNfbslnk1HM3A16nhvXCR6naR1\nSEID1y+0GdOuaQvAM0v2k5lf9XBq25K3MXv/7EsnbUKjEeYTRrfm3bArdlYcXVF1QXsJLH9AnaUy\nbBj0mFJ/QQrOa/ib4BkEmcfg95e0jkZoImqcrFutVqZPn05gYCCurq50796dRYsWXXK7ZcuWMXHi\nRNq3b4/ZbKZNmzZMmjSJuLi4ywpccH5H06z8r3Rkjxdu6kxoc4vGEQnO4ukbO9Le30K6VZ1AS1GU\nSst9e+BbPtj9Ad/GflvPEQpaGhs2Fp2kIyU/pepC/7wNKfvA7AO3fqwO0ycIl2L2hlGfqMs7voKj\nf2gbj9Ak1DhZHz16NPPmzeOll15i9erV9OnTh4kTJ7JgwYKLbvfWW29RUFDAjBkzWLNmDa+//jp7\n9uyhZ8+exMbGXvYbEJyT3SHz1A97KbbLDAzzY3K/EK1DEpyIq1HPzPHdMegkVu1P4efo0xeUSclP\nYWPSRqC8aYTQNAxvO5zfxvzGjKtmVF4gYQdsKB2O7+aZ4NGy/oITnF+766Dv/eryikehMEvbeIRG\nz1CTwqtWreL3339nwYIFTJw4EYAhQ4Zw8uRJnn76aSZMmIBeX/nUzL/88gv+/v4V1l133XW0adOG\nmTNn8vXXX1/mWxCc0ad/HSM6MQcPVwNvj+2GTjR/EWqoa7AX/7oujJnrjvB/P8XQt60vAV7msud/\nOvoTsiLTq0Uv2ni10S5Qod6ZDWbMBnPlT5YUqM1fFFmdoTJcjBAkXIbrX4Fj6yHjKKx6BsZ8pXVE\nQiNWo5r15cuXY7FYGDduXIX1U6dO5fTp02zbVnXv6PMTdYDAwECCg4NJSEioSRiCk9ufmMNHf6jN\nn14bFVEhwRKEmnh4SDsig73ILbLzzJJ9Zc1hZEVmeZw6Mc6YsDFahiho7LT1NNYSa/mKdS+p7Y09\nAuCmd7QLTHBuJjeI+gIkHez/AWIvYyIuQaimGiXrMTExdO7cGYOhYoV8t27dyp6viePHj3Py5EnC\nw8NrtJ3gvIpsDp74YS92WeGmri0Z1T1Q65AEJ2bU63hvfHdcDDo2xKUzf+tJALYmb+V0/mk8TB7c\nEHKDxlEKWnlz+5sMXzqcFcdKO5oeW6/OVArqMI1mH+2CE5xfcG8Y+JS6vPJJyLtIHwlBuAI1agaT\nkZFBaOiFQ+v5+vqWPV9ddrudadOmYbFYeOKJJ6q1TWxsLLIsV/s1hCtns9nK7qOjo694f3N2Z3M0\nzYqPq46JYRL79u274n0Kdae2j39duTPSk692ZfPaygP4OdJZkjEbgKs8r+Jw7GGNo3NeznL8q6LP\n1aOg8P2+7+mW15qO6+/HBKSHRpGU7wdO+J7qi7Mf+/oi+QynvfcK3LKPkDv/bk70f7NRdFYWx7/u\n6HQ6WrduXaNtapSsA0gX+SO82HPnUhSFadOmsWHDBpYuXUqrVtUb29Zut+Nw1GAKaaFWnf3nvVwx\naSX8fFi9HP1gL0/MOhmbTXz5chZXevzr0g1tTGxNMLE/rYT3N2fQroMJg2TgGq9rGnTczsQZf499\nPfqyUFpIQlECOfv+h6noDEXuQZzqMA3ZCd+PVpzx2Nen45HP0mXDg3imbsHr+ArSW4/UOqRaJY5/\n7aqqb+fF1ChZb9asWaW155mZmUB5DfvFKIrCvffey/z585k3bx6jRo2q9usbDAZ0Yna5enXuP6nR\naLzs/VhLZD7dlYsCDGvnzlWtxTCNzqC2jn99ePwqXx5fnUpcpp0++XfwacSduOndtA7LqTnT8a+M\nt9Gbvt592ZS1iXWFB7kaHQm9/4Pe7EnNPy6bFmc/9vXJ4RtGcpf7CYqZRavYzyhs0ZsSS7DWYV0R\ncfzrzuXksTVK1rt27crChQux2+0V2q3v378fgIiIiItufzZRnzt3LrNnz2by5Mk1CjY8PFwk6/Us\nOjoam82G0WgkMjLysvahKAqPL9pLWr6D1r5uvH/nNVhcanxRR9BAbRz/+vS6OZEnFkezODaPsQP7\nE9latEm+Es52/Cszzf1WNm3axGqLG890mkLYkDu0DskpNIZjX6+6dgXrPvTxG+h84D24Zy3onTfJ\nFce/7siyTF5eXo22qVHmGxUVhdVqZenSpRXWz5s3j8DAQPr161fltoqicN999zF37ly++OILpk6d\nWqNABee1fE8SP0efRq+T+OD27iJRF+pM91Ab13V14JAVpi/aS16RuHzbpMkOem/4mBCbjQKdjjWt\nu2odkdBY6XQQ9Tm4ekHSLvjrTa0jEhqRGiXrI0aM4IYbbuChhx7iq6++4s8//+T+++9nzZo1vP32\n22XtcKZNm4bBYODkyZNl2z722GPMnj2bqVOn0rVrV7Zu3Vp227NnT+2+K6HBOJVRwIsr1EmvHh8a\nRk9R0ynUoc+jP2eHfQZ+wf9wKrOAl38+oHVIgpY2fYB0cjOjC9QvbatOrtU4IKFR8wqGWz5Ulze8\nB/GbtI1HaDRqXMW5bNkyZsyYwYsvvkhmZiadOnVi4cKF3H777WVlHA4HDoejwhTgv/zyCwBz5sxh\nzpw5FfYZEhJCfHz8Zb4FoaGyO2SmL96DtdhOnzY+PDKkvdYhCY1Yan4qv8X/BsBzg6J4ZkEGS3cn\nMrhjc26JFEOENjlJu+DP/wIQ1f85LJ5e3NLuFo2DEhq98CiIWwd756uTbz24EczeWkclOLkaNwC3\nWCx8+OGHJCcnU1xcTHR0dIVEHeCbb75BURTatGlTti4+Ph5FUSq9iUS9cfpo/VF2n8rGw9XAzAnd\n0YtZSoU6tOjwIuyKnV4tejG261U8Wvrl8IXl+0nMKtA4OqFeFVth6b0g2yE8Cp/e9zK+4/iqZzUV\nhNo04i3wDYWcBFj5BJxTcSkIl0P01hTqxI74TD5Zr85S+kZUV4J9xKgcQt0ptBfy45EfAZjSeQoA\njw0No0drb/KK7Dy5OBqHLD4wm4zVz0LmcfAMhptnVhj3WlEUCu2FGgYnNHouFhj9NegMELsMohdq\nHZHg5ESyLtS63CIb0xftRVZgdI8gbhVNEIQ69suxX8gpziHYEszgVoMBMOh1fDChO+4mPdvjM/ns\nr6PaBinUj9jlahMEJBj9RYVZSjcmbSRqRRQf7f5Iu/iEpiG4Fwx+Xl1e9bT65VEQLpNI1oVa938/\nxZCUXUhrXzdeGRWudThCIycrMvMPzgdgUudJ6HXlI2iHNHPn1VHqkLIz18Wx51SWJjEK9SQnEX55\nXF0e+CS0ueaCIsdyjrH86HKsJdZ6Dk5ocq55AkKuhhIrLL0PHGJ0KuHyiGRdqFVLdiWyYm/5MI0e\nrs47zqzgHJLzk7GWWHE3unNb+9sueH50zyBuiQzEIavj/eeK4RwbJ4cdlt0PRTkQ2LO8VvMcVwde\nTahXKPm2fJbFLdMgSKFJ0ekh6ovS4Rx3lnV4FoSaEsm6UGuOpObxn5/UCbKmi2EahXoSZAli7Zi1\nzL5xNhbThTPjSpLE67dFEOxj5lRmAc8u2VdhpCqhkfjrv3ByE5gsMObrSiekkSSJyV3UyfgWHFqA\nQ3bUd5RCU+Pdqnw4x43vqyPFCEINiWRdqBUFJXYe+X43RTaZgWF+PCyGaRTqkVFvJLxZ1U2uvMxG\nZt3RE6NeYnVMCvM2x9dfcELdi1unjmsNcOtH0KxdlUVvDr0ZLxcvkqxJ/JnwZz0FKDRp4VHQ5151\nedl9kJOkbTyC0xHJunDFFEXhPz/FEJdmxd/DRQzTKNSbAxkHql07GtnKmxdu6gzAG6sOsi8xuy5D\nE+pLThIsv19d7j0NIsZctLjZYGZ8h/EAfHfgu7qOThBUw96AgEgozIQl94j260KNiGRduGI/7kpk\n2e4kdBJ8NLEHfhYXrUMSmoDMokymrJrCyOUjSS9Mr9Y2dw9ow/DwltgcCo8s2E1OofjAdGoOOyyd\nBgUZ0LIb3Fi9NsETOk7AIBnYnbabQ5mH6jhIQQCMrjDuG3DxhIStsP51rSMSnIhI1oUrcjgljxdX\nxADw1LCOXBXaTOOIhKbix8M/UiKX4O3iTTPX6v3dSZLEW2O70crXTEJmIc8siRbt153Zn6/DqS1g\n8lATIaNrtTZr4d6C6b2m88UNX9DRp2PdxigIZ/mGwqhP1OVNH8CRtdrGIzgNkawLly2/2M7D3++i\nyCZzbYfmPDSo6naiglCbShwlLDq8CIApXaYgSdVvduVlNvLpHb0w6XWsjU1l7qb4OopSqFNHfoON\nM9XlUR9ftJ16Ze4Kv4sBgQNq9LcjCFesyyjo+4C6vPwByE7QNh7BKYhkXbgsiqIwY/l+jp3Jp6Wn\nKzPHR6IT7dSFerImfg3phen4m/0ZFjKsxtt3DfZixki1/fr/Vh9kb4Jov+5UchLL26n3uU/twHcF\nZEWuhaAEoZqGvQaBPaAwS7RfF6pFJOvCZVm0I4GfSsdT//iOHjQT7dSFeqIoSlnHwImdJ2KsZIi+\n6rizfwg3dS1tv/79brILSmozTKGu2EvUBKcwS+2wd+Mbl72rAlsB7+96n1uW30KBraAWgxSEizC4\nwNi54OIFidth3ctaRyQ0cCJZF2ps96ksXloRC8BTwzrQp42vxhEJTclfCX9xKPMQZoOZsWFjL3s/\nkiTx5phuhDRzIym7kH8t3IPdIWpYG7y1z0PCNrWj3rhv1MTnMrnoXVh3ch2n8k6x+PDi2otREC7F\nty3cNktd3vIJ7F+ibTxCgyaSdaFG0nKLePC7XZQ4ZG4Mb8GD14p26kL92pK8BYA7Ot2Bt6v3Fe3L\n09XI55N7YTbq2RCXzjtrD9dGiEJd2TUPdnwNSDD6K7XD3hXQ6/Q80E1tPzwnZg75tvxaCFIQqqnz\nLXD1dHV5xaOQvE/beIQGSyTrQrUV2x08OH8XaXnFhPlbeG98d9FOXah3L/R7gTk3zuHu8LtrZX+d\nAzx5d1wkAF/8c5wVe8WEJQ1SwnZY9W91ecgM6Di8VnY7MnQkIZ4hZBdns/DQwlrZpyBU29AXod1Q\nsBfCokmQn6F1REIDJJJ1oVoUReGlFbHsPpWNp6uBr+7sjcXFoHVYQhPVp2WfK65VP9fIbgE8PFi9\nSvTs0n3EJOXU2r6FWpCbDIungKNErY0c+FSt7dqgM/Bg5IMAzI2Zi7XEWmv7FoRL0ulh7GzwaQs5\np+DHu0SHU+ECIlkXqmXN0XwW7UhAKp34qI2fu9YhCU3MocxDZBZl1tn+nxrWkcEdm1Nkk3ngu11k\nWIvr7LWEGrAXw+LJYE2B5p3hts9AV7sfXSPajKCtV1tyS3KZf3B+re5bEC7J7AMTF4LRHeI3wG//\np3VEQgMjknXhkg6cKeGrXerQds/c2InBHf01jkhoahyyg+f+eY7hS4ezNXlrnbyGXifx4e09aOvn\nTlJ2IY8s2I1NdDjVlqLAr09C0k5w9YKJC8DFo9ZfRq/T83DkwwAsPLQQm6jZFOqbf2eI+lxd3vYZ\n7F2gbTxCgyKSdeGizuTbeW9rDg5FbSrw4KAr69AlCJdjbfxajuUcw6AzEN4svM5ex8ts5MspvXA3\n6dl6PJM3fj1YZ68lVMOOr2HPfJB0MHbOFXcovZhhbYZxX9f7WDBywWUPByoIV6TLrXDtM+ryL9Mh\naZe28QgNhkjWhSoVljh4c2MGOcUybb2NvDO2m5jtT6h3dtnOZ9GfAXB3+N14mGq/ZvVcYS08mDmh\nOwDfbI7nhx1ihkFNnNgAa55Tl69/GdpfX6cvp5N0PNbzMYIsQXX6OoJwUYOfhw4jwFEMiyZDXorW\nEQkNgEjWhUo5ZIXHF+3haKYNi0ni+YHNcDOJDqVC/Vt9YjXxufF4uXgxqfOkennNYeEtmX59GAAv\nLN/Pxrj0enldodSZw7B4Esh2iBgLAx6r9xCyirLq/TUFAZ0ORn8Jfh0g7zR8Pw6KRafnpk4k68IF\nFEXhtZUH+O1AKkYdPDvAmxYWkagL9e/cWvWp4VNxN9Zfx+bHrgvj1shA7LLCg/N3cTA5t95eu0nL\nS4X5Y6EoB4L7wqhPoB6v6FlLrDz515OMWDZCJOyCNlw94Y7F4OYHKfvgx7vBYdc6KkFDIlkXLjB7\n4wm+2RwPwPT+vnT2M2kbkNBk/XLsFxLyEvBx8WFip4n1+to6ncQ747rRr60v1mI7U+fuIDmnsF5j\naHKKrbBgnDqEnW87mLgIjOZ6DcHd6E5iXiL5tny+if2mXl9bEMr4hqoJu8EMR39XO1oritZRCRoR\nybpQwa/7knm9tFPdjJs6c01rN40jEpqytII0DDoD90Tcg5ux/v8WXQx6vpzSm/b+FlJyi5g6dwe5\nRWKkkDrhsMOSeyA5Wq1RnLwE3JvVexiSJPFI90cAdWSYjEIxSY2gkeDe6hjsSLB7Hmx8X+uIBI2I\nZF0oszM+kyd+2AvAXf1DuHdgW40jEpq6ByIfYFXUKiZ0mqBZDF5uRr6Z2ofmHi4cSsnj4fliSMda\npyiw+mmIW6vWJN6xuE5HfrmUa4OvJaJZBIX2wrJmWIKgiU4jYcTb6vIfr8K+H7SNR9CESNYFAI6f\nsXLvtzspsctc37kFL94SLkZ+ERqEAEsAZkP9NoU4X7CPG3Pu6oObSc/Go+k8v2w/irgkXXs2zoSd\ncwAJxnyt1ihqSJIknuj1BAA/HvmRAxkHNI1HaOL63Q/9H1WXf3oYTvyjbTxCvRPJukC6tZi75+4g\nu8BGZCtvPp7YA71OJOqCdr7e/zWxGbFah1FB12AvZt3RE50ES3Yl8sG6OK1Dahz2/Qh/vKIuj3gL\nOt+sbTyl+gb0ZUSbEciKzBvb3kBWxNUUQUM3vAZdRoFsU4d0TBNzQDQlNU7WrVYr06dPJzAwEFdX\nV7p3786iRYsuuV1iYiLTp09n0KBBeHt7I0kS33zzzeXELNSi7IISJn+9jVOZBbT2dWP2Xb0xm/Ra\nhyU0YbtTd/Ph7g+Z9Oskkq3JWodTwZBO/rx+W1cAPvwjjtkbT2gckZM7vBp+elBd7v8o9HtA23jO\n81Tvp3AzuJGan0pyfsP6WxSaGJ0Oor6EVldBcQ58extkHNM6KqGe1DhZHz16NPPmzeOll15i9erV\n9OnTh4kTJ7JgwcWnxj169Cjff/89JpOJm2666bIDFmpPbpGNO+ds51BKHn4WF+bd0xc/i4vWYQlN\nmF2288a2NwC4rf1tBFgCNI7oQnf0a102BvtrKw/w/baTGkfkpI7+AT/cqY6l3nWcWnPYwLRwb8Gs\nobP4+bafxWRJgvaMrjBxIfh3AWsKfDsKsk9pHZVQD2o0ePaqVav4/fffWbBgARMnqsOoDRkyhJMn\nT/L0008zYcIE9PrKa2WvvfZazpw5A8DOnTtZuHDhFYYuXIn80qHo9iXm4OtuYsF9/WjrV39jWAtC\nZRYfXsyRrCN4uXjxeM/HtQ6nSo8PDaPQ5uCLv48zY3kMLgY9Y3sFax2W84jfCIsmgaMEOt8Kt32u\n1hw2QL1batt+XhAqcPOFO1fA3JsgIw7m3QJTV4NnoNaRCXWoRmfH5cuXY7FYGDduXIX1U6dO5fTp\n02zbtq3qF2qgJ+KmqMjm4N55O9l1MgtPVwPfTetLhxZ1O4W7IFxKemE6n+z5BIDHez6Oj6uPxhFV\nTZIknhveibsHtAHgmSXR/BJ9WtugnEXCdvh+PNgLIexGGDMb9A1/0jVZkVkWt6zB9aUQmiCLP9z1\nM/i0gax4mHcrWNO0jkqoQzU6Q8bExNC5c2cMhoqbdevWrez5AQMG1F5054mNjUWWRSefK2FzKLzx\nTzp7UooxGyT+71pf7GfiiT5TRXmbrew+Ojq6HiMVGoL6PP6fn/wcq81KqFso7QvaO8Xf222tFU6n\nuvPbsXweX7SH04mnuCpY25FralNtH39z1mHabZyO3p5PXvPenOj8b5RY5+gotzR5KctTl9POrR0v\nhb2ETmrcFVDi3N/wGfu+Tft/HsWUEUfhlzdy7JoPcbh41cq+xfGvOzqdjtatW9domxol6xkZGYSG\nXjj2ra+vb9nzzGJKPwAAIABJREFUdclut+NwOOr0NRozu6zw3tYc9qQU46KHF67xpq2nVPZPeSnV\nLSc0TnV5/I8XHGdj1kYkJCa1nITD7sCBc/yv39vdnSKbg39OFfHOxgyevdqbHi0bX9+PKz3+5txj\nhG55Sk3UfbsS1+tlZFmnjm7hBK71upbVZ1ZzrOAY68+sZ5DPIK1Dqjfi3N8w2YzNOHzVu3Tc/ATm\n3OO03fQkR656F4fRUruvI45/raqqufjF1Pja48XG3q7rcbkNBoNoTnOZbA6Fj7dlsuN0MUYdzLjW\nj24tXS+93Tn/pEajsS5DFBqg+jr+YZ5hTA2eypmSM3T07Fhnr1NXpvdvhkPJZFNCIe9syeb5gX70\nDLj0/1dDV1vH3zXnGKHbnsVgyyPfpwvxA95Bb3TDmcadam5sztiWY5l/ej5LUpdwle9VWAy1mxQ1\nJOLc7xxk7zYcv2Ym7TY8hntOHB22P8+JAe/gMF1Z01Zx/OvO5eSxNUrWmzVrVmnteWZmJlBew15X\nwsPDRbJ+GQpK7Dw0fzebEgox6iW+nNKbIZ38q7VtdHQ0NpsNo9FIZGRkHUcqNDT1efx70KNO91/X\nvukm89D83aw7mMp/N2TwwYQejOzW8EazqYlaOf6ntsHq6epwcy274X7XL3Q1e9duoPUkXA5n28pt\nxGXFsa5kHS/1eknrkOqMOPc7k0gIC4VvbsY96wARO56BKcvAo+Vl71Ec/7ojyzJ5eXk12qZGmW/X\nrl05ePAgdru9wvr9+/cDEBERUaMXF+peToGNKbO38/eRM5iNer6+q0+1E3VBqGunck+RW5KrdRi1\nwqjX8emkntzcLQCbQ+HRhbtZuL2JD6t2dB18dxsU5UBwX7VTnJMm6gAGnYEZ/WYAsOTIEv5K+Evb\ngAThrJZd4e5fwdIC0mJhzo2QKeaBaCxqlKxHRUVhtVpZunRphfXz5s0jMDCQfv361WpwwpVJyy1i\nwpdbykZ9mX9vPwZ1aK51WIIAQIGtgH+t/xfjfh7H4czDWodTK0wGHR/e3oM7+rVGUeD5Zfv59K+j\nKIqidWj1L2YpLLgdbAXQ/nq48ycwN9wRfqqrV4teTOkyBYBXt7xKsaNY44gEoVTLCLhnTfkoMXOG\nQ+oBraMSakGNmsGMGDGCG264gYceeojc3Fzat2/PwoULWbNmDfPnzy9rND9t2jTmzZvHsWPHCAkJ\nKdt+yZIlABw/fhxQx1u3WNQ2f2PHjq2VNySoTmUUMHm2OjNpcw8XvpvWl04tPbUOSxDKvL3jbY7n\nHKe5uTnN3RrPl0i9TuKN2yLwcTMy689jvL3mMNkFNp4f0anO+/U0GDvnwMonAQXCR0PUF2AwaR1V\nrZneczppBWlMjZiKi77xdSYWnJhvKNyzFr6LgrQDMHcETFoCrfpoHZlwBWrcwXTZsmXMmDGDF198\nkczMTDp16sTChQu5/fbby8o4HA4cDscFtUnnj88+a9YsZs2aBdA0a57qyKGUXO6cvZ20vGJa+7ox\nf1o/Wjdz0zosQSiz5sQalsYtRULifwP/h69r3fZ3qW+SJPH0jZ3wNpt4Y9VBvvznONkFJfw3qisG\nfSPud6MosPF9+ONV9XHve+Cmd0HnTF1JL82kN/HuoHe1DkMQKufREqauUuczSNwO394Kt38P7a7T\nOjLhMtX4U8NisfDhhx+SnJxMcXEx0dHRFRJ1gG+++QZFUWjTpk2F9YqiVHkTasfmY+lM+GIraXnF\ndGrpwZIH+4tEXWhQEvMSeWXLKwDc2/Ve+gU03uZz910byttju6GT4IediTw4fzf5xfZLb+iMHHZY\n/Wx5oj7w3zDy/UaXqFfmYMZBos+IsaiFBsTsozY9azdUbYr2/XiIXqR1VMJlasRVPE2Loih8uyWe\nKbO3k1Noo2drbxbf3x9/T+cfPk5oPGyyjWf/eRarzUpk80ge6v6Q1iHVufG9W/HppF6Y9DrWHUxl\nzGebScgs0Dqs2lWQCd+Pge1fqI+HvQFD/w+aQLOfzUmbmbRqEv/++9/kFOdoHY4glDO5w8RFalM0\n2QbLH4Df/gOyc8xhIZQTyXojUGKXeWF5DC+uiMUhK0T1CGLBfVfh5SbGRhUalrkxc9mXvg8Pkwdv\nXfsWRl3T+BsdHtGSRQ9cRXMPFw6l5HHrJxvZcqxuJ5GrN2mH4Kvr4PhfYHSD8d/BgEe1jqreRPpH\nEuAeQEp+Ci9uelFcKRYaFoMJxsyGa59WH2/+GBaMh8JsbeMSakQk604u3VrM5K+3sXD7KSQJnh/R\niffHR+JqbPyXngXnM77DeIa0GsIrA14hyBKkdTj1qmdrH3559Bq6BXuRVWBjyuxtfLf1pNZhXZnD\na+Dr6yHrBHi1hmm/QZdbtY6qXrkb3Xln0DsYdAbWJ6xn8eHFWockCBXpdHDdf2DsXDCY1SFVv74e\n0o9qHZlQTSJZd2Kxp3MY9ckmtsdn4uFiYM5dfXhgULumM+KE4HS8Xb35cMiH3BByg9ahaKKllys/\nPNCfUd0DscsK//dTDC8s30+JXdY6tJpRFNg4ExbeDiV5EHI13P+nOtZzE9SlWRee7PUkAO/seId9\nZ/ZpHJEgVCJiNExbC57BkBGnXhGLW6d1VEI1iGTdSa3Ym8TYz7aQlF1IWz93lj9ytZjsSGiQMosy\nWXRoUVnzgKb+ZdLVqOeDCd15bkQnJAkWbDvF5K+3kZJTpHVo1VOcB0vvhXUvA4o64suUn8DdT+vI\nNDW582QGBw+mRC7hkT8e4Xj2ca1DEoQLBUSqX6xbXaXOKrxgnPrFW3ayCoMmRiTrTiavyMaTi/fy\n+KK9FNocDAzz46eHr6a9v0Xr0AThAgW2Ah5Z9whvbHuDL/Z9oXU4DYYkSTw4qB2z7+qNxcXA9vhM\nhn/4D2tjU7QO7eISdsDn10DMEtAZYOR7cPPMRjWG+uWSJIm3rn2LiGYRZBdn89PRn7QOSRAqZ/FX\nZxPuMQUUWf3i/d1tkHta68iEKohk3YnsPpXFyI82smxPEjoJHhsaxty7+4iOpEKDZHPYmP7ndGIy\nYvB28WZYm2Fah9TgXNepBSsevZqIIE+yC2w88N0unl+2n4KSBja8o+KAv99WpzDPigevVnDXSuhz\nr9aRNShuRjdmXT+LJ3o9wfRe07UORxCqZnCBWz+GWz5UO4af+Bs+GwAHV2odmVAJkaw7AYes8NEf\ncYz7fAunMgsI8jaz+IH+PHlDh8Y9wYrgtGRFZsbGGWxJ3oLZYObToZ8S6hWqdVgNUrvmFpY9dDUP\nXKv+fhZuP8XNH28kJqlhDANoKkil3YbH4c831KQ9Yiw8uBFC+msdWoPk6+rLPRH3oJPUc7NDdlBk\nd5ImTkLTIknQ62544B+1eUxhFiyeBL88js5eqHV0wjlEptfAJWYVcPuXW3j/9yM4ZIVbIwNZ9fhA\n+rRpXDM+Co2Hoii8uf1NVsevxiAZ+GDwB3Rt3jQ7HlaXyaDj+Zs68/29/Wjh6cLxM/lEfbqJL/85\nhixrNxSgd+IfdPnnPiwZ+8DkAVFfwJivweytWUzOpNhRzL///jdP/vUkNtmmdTiCUDm/MJi2Dq5+\nHJBg1zeE/XkfbjlHtI5MKCWS9QbK7pCZs/EEwz/YwI74LCwuBmZOiOSjiT3wMotmL0LD9eW+L1l4\naCEAr1/zOgOCBmgckfO4ur0fax6/lhvDW2BzKPx31SHGfbGFQym59RtITiIsnkzIjlcw2PPJ9wmH\nBzdA5O1NYqKj2nIi5wQbkzayIWkDL29+GVkRnfiEBspgghtehTtXgEcArtZTdNr4KC1jv4CSRjaJ\nmxMSyXoDtOdUFqNmbeLVlQewFtvp2dqbVY8NJKpHsNahCcIlNTM3QyfpeK7vc4wMHal1OE7Hx93E\n55N78b/RXXEz6dl1Uu2r8t9VB8kvruO27A6bOmnKJ33h4C8okp7TYVM4eu3H4Nu2bl+7Eerk24n3\nBr+HXtLz87GfeX3r69jlBtYfQRDOFToIHtpMduAgdIqDFke+h1n91DkVBM3oX3755Ze1DqIyiqJQ\nUlJSYZ2Li0ujHvYtp8DGaysP8J8VMaTlFePpauDFW7rw2qgIvN21GW0hNTUVWZbR6/W0bNlSkxgE\n7VzO8e/SrAvDQoYxqNWgOo6u8ZIkia5BXkT1CCIpq5C4NCu7Tmbx054kgn3daNfcvfbPhae2waKJ\nsG+ROjV5q6s40utVMgIGoTcYxf//ZQrxDCHQEsifp/4kNiOW2IxYBgcPxqRv2CPoiHN/E2Y0c9jQ\nhTxLKB5ZB9BbT6sjQKXEQHBfcPXSOkKndjn5rahZbwAURWH5nkSGvv8X3287haLA6J5BrP/3YCb1\nC0Gna7xfUATnZy2xMmPjDFLzU8vWtfNup2FEjUegt5nPp/Rizt29CfYxczqniAe+28W983aSkFlL\nl6YLMuHnx2DOMEiNAbOPOkrE1NUUeYnjWBtubXcrMwfPxFXvysakjdy15i5S8hv4MJ1Ck5fTcgCH\nr/9WbcuuM8ChlTCrL2z6UL0KJ9Qbg9YBNGWKorAhLp13fzvMvkR15If2/hZeGxVB/3bNNI5OEC4t\n2ZrMw388zNHsoyTkJTBv+LxGffVLK9d1akH/UD8++TOOL/85zh+H0tgQl87kq0J4eEg7/CwuNd9p\nsRW2fQ6bPlInRwHoMRmufxXcxfmntg0NGcpc97k8+sejJOQlkF2cTUt3UWMtNGyyway2Ze92O/z6\nFJzaDL+/CDvnwpAZEDEGdKLet66JZF0jO+MzeWftYbadyATAzaTnkSHtuW9gKCaD+MMXGr7Y9Fge\nXf8o6YXp+Jn9eLbvsyJRr0Nmk56nb+xEVI8gXlwRy+ZjGczZdIJFO05xz9Vtue/a0Op1PrcVwa65\nsOE9yD+jrmsRATe9K4ZjrGMRfhEsGLmAhLwEOvl20jocQai+Fl1g6irYuwDWvQRZJ2DZversp9f9\nBzqOEJ3P65BI1utZ7Okc3vvtCOsPpQHqkG1TrgrhocGXWTsmCBr4/eTvvLDhBYocRYT5hDHrulkE\nWAK0DqtJaO/vwff39mPj0XTeWatelfvkz6N8uyWeBwe34+4BbXAzVXJqd9ghegH89RbkJqrrfEPV\n2rHw0aJ2rJ4EWgIJtASWPd6btpd9Z/YxpcsU8WVXaNgkCXpMgi6jYPsXanOYtFi1r0tQLxj6IoQO\n1jrKRkkk6/VAURR2xGcxe+Nx1saq7Xr1OonxvYP513VhBHqbNY5QEKon35bPq1teZdWJVQBcHXg1\n7w56F4vJonFkTYskSQwMa8417f1YG5vK+78f5kiqlbfXHGbOxnjuHhDCHf1C8HU3QUk+RC+ELbMg\n87i6A49AGPwsdJ8EejEUrFYyCjN4bP1jZBVn8U/iP7w04CVaebTSOixBuDgXCwx8Cnrfozaj2/Y5\nJO2Cb0dByNXQ/1HocCPo9FpH2miIZL0Oldhlft1/mjkb49l/zmyEt0YG8sQNHWjr565hdIJQcy56\nF+Jz49FJOu4Kv4vHejyGQSdOI1qRJInhES25oUsLfo5OYubvcZzKLODd347w4/qtvBKwhYG5K9Gf\nbZPu1qz0Q3YaGF21DV7A19WXByMfZOaumWxL2caYn8fweM/HmdhpYtkMqILQYJl94PqXoN+DsPF9\n2DkHTm5Sbz5t4aqHoPsd4OKhdaROT1IURbvp8S5ClmXy8vIqrPPw8EDnBJdqM/NL+H7rSb7depIz\necUAuBh0jO4ZzD1XtyGshfP84UZHR2Oz2TAajURGRmodjlDPoqOjSS9Mx9PFkz49+gBwNOsohfZC\nMStpA1Ril9ny9xqkbZ8xoHgjBkmdhCfVEEhO5DTaX38/OrNntfcn/v/rR0JuAi9teYkdKTsA6OHf\ng1cGvEJbL+3GthfHvmm7rOOfkwjbv4Jd30BRtrrOxRN63gl97wefkDqL15lcTn4rqsRqSYld5q/D\naSzfk8QfB9Mocagfkv4eLtw1oA0T+7ZWL0kLgpOQFZkNmRuYnzSfoX5D6YOarLf3aa9xZMIFcpNh\n/4+Y9i1mUGqMuk6CQ67deS9vKH8U9UDepCP4wE5G9wgiqmewuLLXgLTybMXXw75myZElvLfzPfak\n7WHsz2NZcdsKgj3EZHiCk/AKhhtegUHPqE3vtn4GGUdhyydqM7zQweosyJ1uVpvSCNUmkvUroCgK\nexOyWb4niV+iT5NVUD7uaNcgL6Zd05abugaI0V0Ep+KQHfx+6ne+3PclcVlxAMTkxWCTbRh1on1z\ng1GSDwdXqpMYHf8Lzk5lrzdB13Fw1UN0atmVFzMLCNkcz+IdCSRmFfLR+qN8tP4o3Vt5M6ZnEDd3\nC8RHVCRoTifpGN9xPAODBvLylpfxdvGukKjLiiyaxgjOweQOfe6FXvfA0XWwdZZ6jjr+p3ozukPn\nm6HbBDWBF23bL0k0g6khh6wm6H8cTGVNTArH0/PLnmvu4cJt3QOJ6hFMl8DqX2puyMSl0KbDLttZ\nE7+GL/d9yYmcEwC46lwZ6TeSWwJuoVf3XhpHKFCYrX74HVkDh1aBrfz8Q6urIHIChEepbUnP37TE\nwW8HUli+J4l/jpxBLj3zG/USgzo05/rOLbiukz/+nuVt2cX/vzYURaHYUYyrQT0WiXmJTFs7jTvD\n72RM2Jiy9XVJHPumrdaPf+YJ2PeDWrlwtqM7gKWlOrpMx+Fq51RD4x8V73LyW5GsV0NekY0Ncen8\ncTCNvw6nkZFfPk2s2ajnxvAWRPUM5up2zTDoG1fNhzhhNx2f7v2Uz6I/A8DD5MHkzpPp7uiOSTGJ\n46+l9KNqcn5kDZzcDIqj/Dmftupl5W7j1WEYqyktr4if955m+Z4kYk/nVnguMtiL6zq1YGhnf+xn\nTmC328Xx19i7O95l3oF5ADRzbcbUiKmM6zAON6Nbnb2mOPc3bXV2/BUFEndA9CKIXQaFWeXPmSzQ\n7jroMBzChoGlee29bgMikvU6cDQtjxEfbsDmKP81ebgaymqiru/SAotL421NJE7YjZOiKESficag\nMxDhFwFASn4Kk36dxO2dbuf2TrfjYfIQx18LOYlwcos6osKJfyDzWMXn/TqqtVAdR0Krvlc8Ecnh\nlDzWxKSw/lAq0Yk5FZ5rZtYT3txI15ZmxgzsRls/dzEWuAZKHCX8dPQnZu+fzen80wCYDWaua30d\nN4feTP+A/uhruSmB+N9v2url+NtL1CuFh1fBkbWQn3bOkxIE9YQ216g17q36gdm7buKoZyJZr5M4\nFPq8sQ5Ps5Ghnfy5rrM/fdr4YmxkNehVESfsxuV4znF+Pf4rvx7/lSRrEgODBvLp9Z+WPW+X7RWG\nYhTHv47JDkiPU2uaTm5WE/TskxXL6IzQ5mq1tqnDjTWqQa+ptLwi/jyUxh8H09gQl06hzVHheT+L\nC/3a+tK3rS+9QnwIa2HBxSDam9YXm2xj5bGVzImZQ3xuPKAO//jHuD9qfQhV8b/ftNX78ZdlSN6j\nJu2HV0PKvvMKSNAyQk3cW/dXJ2HyCnbKWVPFaDB1QKeT+O2Ja2kmZhcVnNTGpI1sStrEtpRtZR1G\nAdwMbviZ/VAUpay2VIyZXofsJXDmICRHl99SYsBeWLGcpIOASPVDKWQAtBkIrvXTB8bfw5UJfVoz\noU9rimwOFv+xk30phRzKsBGXZSfdWsyv+5P5dX8yoLZ3D/P3ICLIk4ggL8IDvegc4FH5DKrCFTPq\njESFRXFb+9vYl76PX4//ireLd9n/razITF0zlVDvUPq27Eufln3wM/tpHLUgVINOpybgQb1gyAuQ\nk6ReWTy5Sa3IyDwGKfvV27bP1W3MPuq58uytZaRameEEQ3zXVI3PqFarlf/85z/88MMPZGZm0qlT\nJ5577jluv/32S26blpbGM888w8qVKykoKCAyMpLXX3+doUOHXlbw9UUk6oKzSC9M53j2cfoG9C1b\n992B79h8ejMABsnAgKAB3Bx6M4NbDcZsELPn1ipFgfx0yIhTa8zP3qfHQVZ8xfbmZxndIaCbmpiH\nDIDgvvWWnF+Mq1FP9wBXwv30GI1GOnaJYF9iDttPZLDtRCb7EnPIKbRxIDmXA8m5/LAzsWzbIG8z\noc3dadfcQrvm7oQ2t9CuuQV/Dxd0OuerCWtoJEkisnkkkc0r1njuSt3F7rTd7E7bzZIjSwBo59WO\nPi370DegLz38e4jkXXAOXkHQfaJ6A8hLKb36uBlObVUrPgqzSkeZ+at8O4MZmrUDvzBoFqbe+4VB\ns/ZOPTlTjZP10aNHs2PHDt588006dOjAggULmDhxIrIsc8cdd1S5XXFxMUOHDiU7O5sPP/wQf39/\nZs2axfDhw1m3bh2DBg26ojciCE1Jga2AEzknOJJ1hCNZR4jLjiMuK47MokwA1o9bT3M3tXPO8DbD\nCbIE0bdlX/oF9MPH9cKRQoRqUBQozgNrmtq2MicJck5BdgLkJJTeJ1YcoeV8rl7n1AR1h5bd1A8W\nJxi6zNWop29pE5hHUfs9JGYVEns6h9jTucQk5bA/KZd0azFJ2YUkZReyIS69wj5MBh2BXq4E+ZgJ\n8jYT5O1GkI+ZQG9X/D1caG5xxdNsEO3iL1N4s3A+vu5jtqdsZ3vydg5nHeZYzjGO5Rxj0eFFPNHr\nCe6JuAeAtII0/kr4izCfMNp6tsXLxUv83oWGy6MlRIxWbwC2Ikg7oDaXOXulMjVWvVKZGqPezmf2\nAa9W4N1abULj1Qr8O0H76+v3vVyGGiXrq1at4vfffy9L0AGGDBnCyZMnefrpp5kwYQJ6feUfOrNn\nzyYmJobNmzfTv3//sm0jIyN55pln2LZt2xW+FUFwfnbZTnZxNllFWWQVZZFZnElqfiqnrae5r9t9\nZbViX+//mq/2f3XB9hISrT1bk5yfXJasR4VFERUWVa/vo0FTFLAXq4l3cW75fUGmWlNz/s2aBtZU\n9f78JitV8WoNfu3Br4Nao3O2lscz0CnbWFZGkiRa+brRyteN4REBZevTrcUcP5PP8TNWjqfncyxN\nvT+VWUCJXSY+o4D4jIIq92vS6/CzmGju4YKfxQUfdxPeZiPebka83Ez4uBnxNpvwNBuwuBiwuBrw\ncDHiatQ1+WTTzejG4FaDGdxqMADZRdnsTN3J9pTt7ErdRSffTmVl96Tt4bWtr5U9NhvMBLoHEmAJ\nINA9kAgiaGVsBaiVA1abFR8XH4x6MdeC0AAYXdUOqEE9y9c57Gqfn/Q4SD9SemXzqLpckF5+Tj+3\nPXzI1Y0vWV++fDkWi4Vx48ZVWD916lTuuOMOtm3bxoABA6rctmPHjmWJOoDBYGDy5Mm88MILJCUl\nERQUdBlvQRCunEN24FAcKCjIioyiqPcyMrIsYzFZytqF5hTnkFOcg12xY5fVm022ld139euKu1Gd\nHfJAxgGiz0RT4iihyF5Eob0Qq81a9uH3VO+nCPFUp2CevX82H+z+oMoYrw+5vixZD7QE4uvqS5h3\nGGE+YXTw6UCYTxjtvNvVbtMWRVEn21Ec6okQRV139l6RS5flc9bL52x33k12qPuSS/dZ9thR/hry\nuTcHyDZwlIDDVnorKb+3F6mJt72o/LGtCGwFYCssveWr9yUFUGJVk3PZdvH3fTEmD7D4g0cAeLdS\na2e8gkuXW6uXb41Nt3mRn0VNsvu29a2w3uaQSckpIjFLrXU/nV1IUulyck4h6dYScgptlDhkTucU\ncTqnqEavq9dJavLuYsDVqMPNZMBs1ONq0uNm1GM26XE16jDpdbgY9bgYdKU3PSaDDoNewqjXYSy7\nV5cNOh0GnYReJ2HQS+hLH+skdZ1eR9nyufc6Sf1Co5MofSyBRIX1EhKSpH5/K1tGfV6954q+gHi7\nenN9yPVcH3JhMuJh9OCaoGs4knWEtII0Cu2FZbXwAIFtAsuS9T8T/uS5Dc8BYDFa8HbxxsPkgcVk\nwd3ozj0R99DDvwcAx7OP83fi37joXXA1uGLSm3DVq/dGnZEwn7Cy85i1xEpaYRoGyYBO0qGX9Oh1\n+rJld6M7Jr06YZdDdmCTbegkXenvR/05+1gQ0BvUK5XN2qkjZp2rKEe98ll2JfSUet+8szax1lCN\nkvWYmBg6d+6MwVBxs27dupU9X1WyHhMTw8CBAy9Yf3bb2NjYSybrsbGxyLJck5CvmCLLPLB3cpXP\nDyiy8W5G+TjFQwKbUVzFeaNHsY1Z6eVlRwT4klNF+83OJXZmnykfRm10Sx9SqhiBpo3dwYLU7LLH\nd7TwJr6KERoCHDJLU8rHNZ3W3IuDVXQG85YVVp3OLHv8wBYv9lYxTKWrAutPZ5Q9fqqZJ1tcq66B\n2ZxUXnaGrwfrzVX3C1h/Oh1z6ZhFr/hYWO2mTghS2TBGa5Iz8Cmd7eV/3haWWiqWVQC59MS+6nQG\ngQ717+k9b3e+86h6zOLlyZm0tavtjed5uvGVV9VTtS9IyaKLzQ7ARg8zH3tXPa3y5J3LCS5WE0c3\niyv4eiApCt6ygrcs4+OQ8XfIBNgd+M4dhaM0htuA0SjAwdI3Vv7bqPgfcs5v6Zwy0vm/vbOJ9nnP\nVWgR+1OVb8NpOQxmZIM7DoMbDpMXdpNHhXuHyRObiw92F1/srr7YXHxRqpqQxgpY8yHpSL2+h7pk\ns9nK7qOjo2tln25AmAHC/AA/ANfSG9gcCtlFDrKKZLIKHeQUOcgrkckrltX7Ehlr6XK+TaHQJlNo\nU1BQJ6zLKbSRU3gFX8QauLOfFufmpud+glSWs1b9vATcUrreBoZsJGMWUun928dNYE9VU2Kv7ej9\ndUiSjNVmxWqzVniNddtCUPLVTseSx24MLRdX+R7sKbej5KmJveQegyHwu6rLpo5ByVX730huhzEE\nzamyrCPtVuScq9WyrifQB39Z/j7LTmnqL0DOGIacXdr01iUJQ/BnVe5XzhqMnFn6Zcd4BkPrj6ou\nmz0AOWOE+sCQjSHkvarL5vRBTr9VfaDLx9D2zSrLKnmRONLGlr4FG4bQV6sua+2CI3Vi2WND6Isg\nVT7on1LwIZQDAAAOhElEQVQQhiP5zvKybV8HXfGFBXeDUhiC4/S95WVD3gKD9cKygFIciCPxofKy\nrWeCMbPSspT4YU94vOyhvtUnSKbUysvavbCf/Hd52aAvkVwTKi/rcMMe/3x52cC5SObjFxTzyCnm\nc5/aObdVl06no3Xr1jXapkbJekZGBqGhFw4b5uvrW/b8xbY9W66m255lt9txOCrpoFWHFFmm4CI9\ni4uR0Z9zabxQgqIqypegVChbJFHlvosl5bz9+lRdFnvF/eJdZdkih3xeDJ5VlnVVHOgd5WWL8aiy\nrCJX3G8xlov+3s4tW4I7hRfpdKa3F6EvTTQdipmiS5Ut/UKnKK7YL1LjonMUoS9NfvWOS3QidhSj\nt6tJgNlhxF2W0SlgRMGgKBgVMCoKBhRM9qKysu2L4YZ8HS6KgousYFZk3GUF99L7kOJC9KV/07fm\nFnFjXg5eskzDb8FcPQpqtaGC7px7HYp09l5/3rJ6Q6dHkQwokg5FZ1CXdQZknVEtozOWPjah6EzI\nepO6rDch64zIeldkvcsF9w6DGw6DO7LBjMNgBqmGv2kFsDXeZPBibPX0vr1N4G2SaOtpoDofUbKi\nUOxQKLSptwK7QrFdocShri+2q/dFdgW7rFDiAJusYHMo2GQocSjYZAWHDHZZwV5671DK72UZHMrZ\nZQW7ArKivrZctlz+GEX90qwolVcqXK6ySoeqdlqjFzu3sAHsflBUWedTBTL7QmZv0BUhGfLR6fPV\nZV0xkr4Ye34Ail3dn77IByW7B+js6pcAyQ46G5JkB8lBSYkZR2lZgwP0DjMgg1R6lU6SkST1HG5z\ngP3sfh3KRf8abLKCraysjJt0TrXFeR8DdkWmpLSsziBj1FX9t22XHeVldTJGXUmVZR2KnWJ7eaXH\nRctSXha9gsdFytqxU3S2rHSpsrbysoBFV4JURbLuOL+sVIxUxb4dUsWy7roSdFWUlc/br7tUddnz\n9+vGRfYrlVQse5H9KrKhQlkzNgyVlLXbS+rt3HZWVc3FL6ZG46x36NCBdu3asXr16grrk5OTCQwM\n5H//+x/PPfdcpduaTCamTZvGZ59V/Aa7ZcsWBgwYwMKFCyuMKFPZOJSnTp3SpGY9K6eSjgqlXCQj\nPobykRtSbRlVni9NkgFfg1fZ4zRbJnIVpY2SnmaG8gkAztiycFD5ezegw89Y3mkw3ZaFvYqyenQ0\nP6dshj0bW2UjVAA6JHyl8veWSz42xV5pWQkJf2P5l7Esey4lStX/AC2MzcqWs+15FCslSOefUUv5\nGbzRSWrin+uwUiSX/8Od3ebslr4Gr7KyVkdBaQwVy0ilz3vq3cvKFsslOBRH6eVVHbqzF1klyh9p\ndKlVqeL3Alyk/XMV688pX75f6Zw76ZzHEjabvTTJBqPRRIV6d0mCs0l46e8RSVeWoJ99TnBe536I\nGY2irfLlUBS15l9WypN39V457/HZ8upznLu+9Mmz178q+9Q+d5tK46gyvsrX2+32sm2M511Nr4/J\nWWRF/Qw7e452KA5sSknp7/PsJ6dS9nt00blg0rmoXVIUG/kOa1mJs1Gffa+uOjNmvXol1a7YyLWX\nX5k+n6vODTe9e2lZOzn2KmqIS8u66y1l8Wbbq66EdNG5YtF7lr3XTHt61WUlFzxKc4dLlTVJJjzP\nyR3SbWlVljVKRrwM5+QDtrSy35bDXv6/rzcYLyibaTtTZf5ikPR4G8o/47Ns6VXmL3r0+FTIBzKw\nXywnMTY/p2wm9ipykvPL5tizsFWSk7gbTIR61u8ISZXVrNfqOOvNmjWrtAY8M1P9462s5rw2tj0r\nPDy83idFUvWodsmatH6qq7K16dyJEa4WE2M0Oece/whx/JscMTFO0yWOfdMmjn/dqawy+lJqlPl2\n7dqVgwcPYrdX/Cazf/9+ACIiIi667dlyNd1WEARBEARBEJqiGiXrUVFRWK1Wli5dWmH9vHnzCAwM\npF+/fhfd9tChQxWGaLTb7cyfP59+/foRGBhYw9AFQRAEQRAEoXGrUTOYESNGcMMNN/DQQw+Rm5tL\n+/btWbhwIWv+v717DWnq/+MA/p7OTCc677AMLQvMwAwypItaeElxYIpUBBmGolhgVLoQvBUkEaGQ\nQWahFkIl9sQ0yguEoEWlpImVty7SA/N+mcnc+T/40cjf9Jf+czurvV+wJ99zDnu7L4d9dvyez3n8\nGHfv3tUtmj9x4gTKy8vR29sLT89/2tIlJiaiuLgY8fHxKCgogJubG65fv453796hvr5+9f8yIiIi\nIqI/3IqfYFpdXY2srCxkZ2djZGQEPj4+ejeHzs/PY35+Hj/fu2ptbY2GhgZkZGTg1KlTmJmZgb+/\nP+rq6vj0UiIiIiKiRay4WLezs0NRURGKioqW3KesrAxlZWV64+7u7igvL1/pWxIRERERmaUVF+vG\nslhHSWO3baR/WgxZWlrCwsKCn78Z4vybN86/+eLcmzfOv+Es9nn+qov6ivqsG5NGo8H09LTYMYiI\niIiIDEYmk0EqXfr6uRhNy4mIiIiIaBlYrBMRERERmSgW60REREREJspk16xrtVq9RfgSiQQSiUSk\nRERERERE/z9BEPRuKLWwsICFxdLXz022WCciIiIiMndcBkNEREREZKJYrBMRERERmSgW67Sk5uZm\nREVFwdHRETY2Nti8eTMuXLggdiwygra2NsTExEChUMDW1hY+Pj7Iz8/HzMyM2NFoFU1OTiIjIwPh\n4eFwdXWFRCJBbm7uovu+fv0aoaGhsLOzg1wuR2xsLPr6+owbmFbVcuZ/fn4eV69exYEDB+Dh4QFb\nW1ts2bIFKpUKY2Nj4gSn37aSc/8HQRAQFBQEiUSCkydPGicoAWCxTkuorKxEcHAwHBwcUFFRgdra\nWmRmZv7yKVv05+vq6sKuXbswMDCAwsJC1NTU4PDhw8jPz8eRI0fEjkeraHh4GCUlJfj+/TtiYmKW\n3K+7uxshISGYm5vD/fv3cfv2bbx//x579+7F0NCQERPTalrO/KvVauTm5sLT0xOFhYWora1FUlIS\nSkpKsHv3bqjVaiOnptWw3HP/Z8XFxejp6TFwMlqUQPQvX758EWQymZCamip2FBJBVlaWAEDo6elZ\nMJ6cnCwAEEZGRkRKRqtNq9UKWq1WEARBGBoaEgAIOTk5evvFx8cLLi4uwvj4uG5sYGBAsLKyEjIy\nMowVl1bZcuZfo9EI37590zv2wYMHAgDhzp07xohKq2y55/4P/f39gp2dnVBdXS0AENLS0oyUlARB\nEHhlnfSUlpZienoamZmZYkchEVhZWQEAHBwcFozL5XJYWFhgzZo1YsQiA1hOO1yNRoOamhrExcXB\n3t5eN+7p6Yl9+/bh4cOHho5JBrKc+be0tISzs7Pe+M6dOwEAnz9/Nkg2MqyVtsJOTk5GWFgYDh48\naMBUtBQW66Tn2bNncHJyQnd3N/z9/SGVSuHm5oaUlBRMTEyIHY8MLCEhAXK5HKmpqejr68Pk5CRq\nampw48YNpKWlQSaTiR2RjKi3txdqtRp+fn562/z8/NDT04PZ2VkRkpGYGhsbAQBbt24VOQkZWmlp\nKV68eIFr166JHcVssVgnPYODg5iZmUF8fDwOHTqE+vp6nDt3DhUVFYiKiuK69b+cl5cXWlpa0NnZ\nCW9vb9jb20OpVCIhIQFFRUVixyMjGx4eBgA4OTnpbXNycoIgCBgdHTV2LBLR4OAgVCoVduzYgejo\naLHjkAENDg7i7NmzuHz5MhQKhdhxzJZU7ABkerRaLWZnZ5GTkwOVSgUACAkJwZo1a5Ceno6GhgaE\nhoaKnJIMZWBgAEqlEu7u7qiqqoKrqyueP3+OixcvYmpqCrdu3RI7Iongv/5lzidLm4+RkRHdRZt7\n9+7951MX6c+XkpKCbdu2ISkpSewoZo3FOulxdnbGhw8fEBERsWA8MjIS6enpuhZu9HdSqVSYmJhA\ne3u7bslLUFAQXFxckJiYiGPHjiE4OFjklGQsP9Yr/7jC/rORkRFIJBLI5XJjxyIRjI6OIiwsDIOD\ng2hsbMTGjRvFjkQGVFVVhcePH6O5uRnj4+MLts3NzWFsbAwymUx3nxMZDn8Sk57F1qYC0C1/4ZWU\nv1t7ezt8fX311qYHBAQAADo7O8WIRSLx9vaGjY0NOjo69LZ1dHRg06ZNWLt2rQjJyJhGR0cRGhqK\n/v5+PH36dMnvCfp7dHZ2QqPRIDAwEI6OjroXANy8eROOjo549OiRyCnNA6su0hMXFwcAqKurWzBe\nW1sLAAgMDDR6JjIehUKBt2/fYmpqasF4S0sLAMDDw0OMWCQSqVQKpVKJ6upqTE5O6sY/ffqEpqYm\nxMbGipiOjOFHod7X14cnT55g+/btYkciIzh+/Diampr0XgAQExODpqYm7NmzR+SU5oHLYEhPeHg4\nlEol8vPzodVqERgYiJcvXyIvLw/R0dE8Of9y6enpiImJQVhYGE6fPg0XFxe0trbi0qVL8PX1RWRk\npNgRaRXV1dVhenpaV4h3dXWhqqoKABAVFQVbW1vk5eUhICAA0dHRUKlUmJ2dRXZ2NlxcXHDmzBkx\n49Nv+tX8SyQSREREoK2tDYWFhdBoNGhtbdUd7+rqCm9vb1Gy0+/51dx7eXnBy8tr0WPXrVuHkJAQ\nIyUlicDWHrQItVqNvLw8VFZW4uvXr1AoFDh69ChycnJgbW0tdjwysKamJhQUFODNmzcYHx/H+vXr\noVQqcf78+UV7LtOfy8vLCx8/flx0W39/v+7L+tWrV8jMzERLSwukUin279+PK1eusFD7w/1q/gFg\nw4YNSx6fkJCAsrIyQ0QjA1vuuf9vEokEaWlpbOVoRCzWiYiIiIhMFNesExERERGZKBbrREREREQm\nisU6EREREZGJYrFORERERGSiWKwTEREREZkoFutERERERCaKxToRERERkYlisU5EREREZKJYrBMR\nERERmSgW60REREREJorFOhERERGRifofuFOKJOhdILkAAAAASUVORK5CYII=\n",
          "text/plain": "<matplotlib.figure.Figure at 0x1a4bdc4efd0>"
         },
         "metadata": {},
         "output_type": "display_data"
        }
       ]
      }
     },
     "859f087c5fb5433e8e0b0d845f12b21a": {
      "model_module": "@jupyter-widgets/base",
      "model_module_version": "1.0.0",
      "model_name": "LayoutModel",
      "state": {}
     },
     "864960c28ded42908d8943730e926e5e": {
      "model_module": "@jupyter-widgets/base",
      "model_module_version": "1.0.0",
      "model_name": "LayoutModel",
      "state": {}
     },
     "86841bb112f24dbf920756b6cb20b511": {
      "model_module": "@jupyter-widgets/controls",
      "model_module_version": "1.1.0",
      "model_name": "FloatSliderModel",
      "state": {
       "continuous_update": false,
       "description": "process_noise",
       "layout": "IPY_MODEL_29e5bc10ac59476ba2cfb48bc5ff98f5",
       "step": 0.1,
       "style": "IPY_MODEL_9988748e9c5040a99d004563e16a1909",
       "value": 5
      }
     },
     "86d3a820f4c746fbb445ad1f60052a34": {
      "model_module": "@jupyter-widgets/base",
      "model_module_version": "1.0.0",
      "model_name": "LayoutModel",
      "state": {}
     },
     "8725cdec61d645cf85486118334dc476": {
      "model_module": "@jupyter-widgets/base",
      "model_module_version": "1.0.0",
      "model_name": "LayoutModel",
      "state": {}
     },
     "89617fa477734ce3911bfd3ef1797387": {
      "model_module": "@jupyter-widgets/base",
      "model_module_version": "1.0.0",
      "model_name": "LayoutModel",
      "state": {}
     },
     "8a55863a87df4942b07fa83ab325cd25": {
      "model_module": "@jupyter-widgets/base",
      "model_module_version": "1.0.0",
      "model_name": "LayoutModel",
      "state": {}
     },
     "8ac3e01fcc1a4e0bb924dc3e80b528d4": {
      "model_module": "@jupyter-widgets/controls",
      "model_module_version": "1.1.0",
      "model_name": "FloatSliderModel",
      "state": {
       "description": "velocity",
       "layout": "IPY_MODEL_8a55863a87df4942b07fa83ab325cd25",
       "max": 2,
       "min": -2,
       "step": 0.1,
       "style": "IPY_MODEL_33205a2ed11d4867a856339ae5d4d322",
       "value": 1
      }
     },
     "8be0f7f4c4c64334b479a8c3b6a254b0": {
      "model_module": "@jupyter-widgets/controls",
      "model_module_version": "1.1.0",
      "model_name": "SliderStyleModel",
      "state": {
       "description_width": ""
      }
     },
     "8c199ed131504687a4905bf0a8a89991": {
      "model_module": "@jupyter-widgets/controls",
      "model_module_version": "1.1.0",
      "model_name": "FloatSliderModel",
      "state": {
       "description": "sensor_noise",
       "layout": "IPY_MODEL_0dce25f844bf487aa0ffacb0cba10633",
       "step": 0.1,
       "style": "IPY_MODEL_bd20a367a6cd47269e4c150e22d9c08d",
       "value": 5
      }
     },
     "8c20412bafe042bd8abc1890b31d7c91": {
      "model_module": "@jupyter-widgets/controls",
      "model_module_version": "1.1.0",
      "model_name": "SliderStyleModel",
      "state": {
       "description_width": ""
      }
     },
     "8c254e8906574ff5a11a49ee99136664": {
      "model_module": "@jupyter-widgets/base",
      "model_module_version": "1.0.0",
      "model_name": "LayoutModel",
      "state": {}
     },
     "8d40f106fb184b6bb9d4c43dcf358ca3": {
      "model_module": "@jupyter-widgets/controls",
      "model_module_version": "1.1.0",
      "model_name": "VBoxModel",
      "state": {
       "_dom_classes": [
        "widget-interact"
       ],
       "children": [
        "IPY_MODEL_a0f212f216584629ba02354038ad10c0",
        "IPY_MODEL_005ffd8fe4924006baf1c6dcd0f94eed",
        "IPY_MODEL_fcde7a5b198b4096b16773e736fc9d04",
        "IPY_MODEL_e5e17299d1b84799856e6527020faedf",
        "IPY_MODEL_bc2248fad70f461c8e3799be474dae58"
       ],
       "layout": "IPY_MODEL_555feea42c764f4eb959fc890cece38d"
      }
     },
     "8d7cfcf72b914c1ab3cc32d595e1cf67": {
      "model_module": "@jupyter-widgets/controls",
      "model_module_version": "1.1.0",
      "model_name": "FloatSliderModel",
      "state": {
       "description": "m2",
       "layout": "IPY_MODEL_f7e8d047e7bc402d90401fcc16556f77",
       "max": 15,
       "min": 10,
       "step": 0.5,
       "style": "IPY_MODEL_c24fe25a3b234575a12cff9fe42a1a1c",
       "value": 12
      }
     },
     "8f788977ea894031b6b1d38bb851517c": {
      "model_module": "@jupyter-widgets/controls",
      "model_module_version": "1.1.0",
      "model_name": "SliderStyleModel",
      "state": {
       "description_width": ""
      }
     },
     "958e5cfc50f14481bf61b0e6e05b7617": {
      "model_module": "@jupyter-widgets/controls",
      "model_module_version": "1.1.0",
      "model_name": "VBoxModel",
      "state": {
       "_dom_classes": [
        "widget-interact"
       ],
       "children": [
        "IPY_MODEL_03a8cacc3f3848faaea5539ac22dfc0e",
        "IPY_MODEL_28732f35722547ad972d93abc0953515",
        "IPY_MODEL_ebef9bf4675142f596ff7baf486b8560",
        "IPY_MODEL_026364d29eeb48b9b79b634898662c7e",
        "IPY_MODEL_0900d2edeba643fc8458d7552f46eddd"
       ],
       "layout": "IPY_MODEL_0ed926cb54c34ee89c28396840bb7e88"
      }
     },
     "99117d77ea214d81973c3047d11c4f60": {
      "model_module": "@jupyter-widgets/controls",
      "model_module_version": "1.1.0",
      "model_name": "FloatSliderModel",
      "state": {
       "description": "v1",
       "layout": "IPY_MODEL_219592e00a4f46659279861bd0c8a7d5",
       "max": 2,
       "min": 0.1,
       "step": 0.1,
       "style": "IPY_MODEL_7db8fa623d3d48a9923b88b0b5a47961",
       "value": 1
      }
     },
     "9988748e9c5040a99d004563e16a1909": {
      "model_module": "@jupyter-widgets/controls",
      "model_module_version": "1.1.0",
      "model_name": "SliderStyleModel",
      "state": {
       "description_width": ""
      }
     },
     "9a3dfe6497b44fe286da30c99c405c17": {
      "model_module": "@jupyter-widgets/base",
      "model_module_version": "1.0.0",
      "model_name": "LayoutModel",
      "state": {}
     },
     "9bb473ad55244434967a1481c11f5933": {
      "model_module": "@jupyter-widgets/controls",
      "model_module_version": "1.1.0",
      "model_name": "SliderStyleModel",
      "state": {
       "description_width": ""
      }
     },
     "9c215721bb424cecb292ef9c087de81a": {
      "model_module": "@jupyter-widgets/base",
      "model_module_version": "1.0.0",
      "model_name": "LayoutModel",
      "state": {}
     },
     "9c6d64a4ba4d4e048f1d233a7effc8de": {
      "model_module": "@jupyter-widgets/controls",
      "model_module_version": "1.1.0",
      "model_name": "SliderStyleModel",
      "state": {
       "description_width": ""
      }
     },
     "9c758426e7574ce393e9eb0798d69954": {
      "model_module": "@jupyter-widgets/base",
      "model_module_version": "1.0.0",
      "model_name": "LayoutModel",
      "state": {}
     },
     "9cdb05a4873a46c699fd88967fba1680": {
      "model_module": "@jupyter-widgets/controls",
      "model_module_version": "1.1.0",
      "model_name": "SliderStyleModel",
      "state": {
       "description_width": ""
      }
     },
     "9cebfb53b4e6457c817d4b47debe30f5": {
      "model_module": "@jupyter-widgets/controls",
      "model_module_version": "1.1.0",
      "model_name": "SliderStyleModel",
      "state": {
       "description_width": ""
      }
     },
     "9df423414d2948d3b5a2e468539e5af3": {
      "model_module": "@jupyter-widgets/controls",
      "model_module_version": "1.1.0",
      "model_name": "SliderStyleModel",
      "state": {
       "description_width": ""
      }
     },
     "9f4811b1a06a465e9f632ac9bc0bc60b": {
      "model_module": "@jupyter-widgets/output",
      "model_module_version": "1.0.0",
      "model_name": "OutputModel",
      "state": {
       "layout": "IPY_MODEL_0e788290c43a47bcb59f15e45ad178e0",
       "outputs": [
        {
         "data": {
          "image/png": "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\n",
          "text/plain": "<matplotlib.figure.Figure at 0x1a7fc63f748>"
         },
         "metadata": {},
         "output_type": "display_data"
        }
       ]
      }
     },
     "a0f212f216584629ba02354038ad10c0": {
      "model_module": "@jupyter-widgets/controls",
      "model_module_version": "1.1.0",
      "model_name": "IntSliderModel",
      "state": {
       "description": "start_pos",
       "layout": "IPY_MODEL_04e32ea18c164e4cb2d4e80bb3c18ff3",
       "max": 10,
       "min": -10,
       "style": "IPY_MODEL_bfaf487a5240417c8c66efdfb8eda4b4"
      }
     },
     "a0f4fa4f49a84bc1a6a37d48e465c44f": {
      "model_module": "@jupyter-widgets/controls",
      "model_module_version": "1.1.0",
      "model_name": "FloatSliderModel",
      "state": {
       "description": "process_noise",
       "layout": "IPY_MODEL_38ec69850e834913b6753a85057c8f47",
       "step": 0.1,
       "style": "IPY_MODEL_0576c9a9355b44f8864d34874e241d06",
       "value": 5
      }
     },
     "a14fac7c10394cdd9ea37bd7805f5b23": {
      "model_module": "@jupyter-widgets/base",
      "model_module_version": "1.0.0",
      "model_name": "LayoutModel",
      "state": {}
     },
     "a177ba1c72984991bf99b609b1579ce9": {
      "model_module": "@jupyter-widgets/base",
      "model_module_version": "1.0.0",
      "model_name": "LayoutModel",
      "state": {}
     },
     "a237b7d10c78449d8023ef7cffcc34c4": {
      "model_module": "@jupyter-widgets/controls",
      "model_module_version": "1.1.0",
      "model_name": "SliderStyleModel",
      "state": {
       "description_width": ""
      }
     },
     "a31ef5a2816d463587caff183bc95105": {
      "model_module": "@jupyter-widgets/controls",
      "model_module_version": "1.1.0",
      "model_name": "FloatSliderModel",
      "state": {
       "continuous_update": false,
       "description": "process_noise",
       "layout": "IPY_MODEL_81aed4529b704bc7a1bde71cc379b93f",
       "max": 40,
       "step": 0.1,
       "style": "IPY_MODEL_9bb473ad55244434967a1481c11f5933",
       "value": 0.1
      }
     },
     "a3b6617688234b80b3727eca1f9de16f": {
      "model_module": "@jupyter-widgets/controls",
      "model_module_version": "1.1.0",
      "model_name": "FloatSliderModel",
      "state": {
       "description": "velocity",
       "layout": "IPY_MODEL_b2d7044fba8d4fc1ac8239cb35e3ac23",
       "max": 2,
       "min": -2,
       "step": 0.1,
       "style": "IPY_MODEL_ef9dd4712cb24e248a1aff4f5f15a71f",
       "value": 1
      }
     },
     "a3c4591463b945ee80c23eece2b318fe": {
      "model_module": "@jupyter-widgets/base",
      "model_module_version": "1.0.0",
      "model_name": "LayoutModel",
      "state": {}
     },
     "a5dd0be268c44ae492d17c5b2ff2589a": {
      "model_module": "@jupyter-widgets/base",
      "model_module_version": "1.0.0",
      "model_name": "LayoutModel",
      "state": {}
     },
     "a7ee41632f4b4dc081590db1b7d7f017": {
      "model_module": "@jupyter-widgets/base",
      "model_module_version": "1.0.0",
      "model_name": "LayoutModel",
      "state": {}
     },
     "a827ad9b2bd246b1a8aa72b856c0ee06": {
      "model_module": "@jupyter-widgets/base",
      "model_module_version": "1.0.0",
      "model_name": "LayoutModel",
      "state": {}
     },
     "aa02a7f96ffd421980335a86bb5dfd6b": {
      "model_module": "@jupyter-widgets/controls",
      "model_module_version": "1.1.0",
      "model_name": "FloatSliderModel",
      "state": {
       "continuous_update": false,
       "description": "process_noise",
       "layout": "IPY_MODEL_3bcb1f6d26fb4f5682fb0ff544c70206",
       "max": 40,
       "step": 0.1,
       "style": "IPY_MODEL_03b0305ffb5842d8b0358424a5ebcc03",
       "value": 0.1
      }
     },
     "aa8a404be50544f799076ddbb0442785": {
      "model_module": "@jupyter-widgets/controls",
      "model_module_version": "1.1.0",
      "model_name": "IntSliderModel",
      "state": {
       "description": "start_pos",
       "layout": "IPY_MODEL_2b2ee57ef23d455c8f303cd70cb78216",
       "max": 10,
       "min": -10,
       "style": "IPY_MODEL_758bd052a8f84708b064fd72639185ca"
      }
     },
     "aab2f6e001d44b8a9da145fa31edbe0d": {
      "model_module": "@jupyter-widgets/output",
      "model_module_version": "1.0.0",
      "model_name": "OutputModel",
      "state": {
       "layout": "IPY_MODEL_efa8e1510bb142bda72d60e26167d486",
       "outputs": [
        {
         "data": {
          "image/png": "iVBORw0KGgoAAAANSUhEUgAAAusAAAEaCAYAAACo3xkcAAAABHNCSVQICAgIfAhkiAAAAAlwSFlz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\nERERmSgW60REREREJorFOhERERGRifofuFOKJOhdILkAAAAASUVORK5CYII=\n",
          "text/plain": "<matplotlib.figure.Figure at 0x1669dbe6a90>"
         },
         "metadata": {},
         "output_type": "display_data"
        }
       ]
      }
     },
     "abf6b1e8a7854091b390b766fa4c52f1": {
      "model_module": "@jupyter-widgets/base",
      "model_module_version": "1.0.0",
      "model_name": "LayoutModel",
      "state": {}
     },
     "afdc6888118742a2ab84b9bde258426f": {
      "model_module": "@jupyter-widgets/base",
      "model_module_version": "1.0.0",
      "model_name": "LayoutModel",
      "state": {}
     },
     "b21a7ed3613f46dea7a062d10b04d607": {
      "model_module": "@jupyter-widgets/controls",
      "model_module_version": "1.1.0",
      "model_name": "SliderStyleModel",
      "state": {
       "description_width": ""
      }
     },
     "b255774e69a24b6ebbc1c4b39b53c7b6": {
      "model_module": "@jupyter-widgets/controls",
      "model_module_version": "1.1.0",
      "model_name": "FloatSliderModel",
      "state": {
       "description": "m2",
       "layout": "IPY_MODEL_bc294c69ace84e499ae0e96c80d693f0",
       "max": 15,
       "min": 10,
       "step": 0.5,
       "style": "IPY_MODEL_1dc1572ab50a4be484e1d84d79e4b0be",
       "value": 12
      }
     },
     "b2d7044fba8d4fc1ac8239cb35e3ac23": {
      "model_module": "@jupyter-widgets/base",
      "model_module_version": "1.0.0",
      "model_name": "LayoutModel",
      "state": {}
     },
     "b3c31cc98f0e404c826bf9886cd9358e": {
      "model_module": "@jupyter-widgets/output",
      "model_module_version": "1.0.0",
      "model_name": "OutputModel",
      "state": {
       "layout": "IPY_MODEL_9a3dfe6497b44fe286da30c99c405c17",
       "outputs": [
        {
         "data": {
          "text/plain": "<matplotlib.figure.Figure at 0x1669dd10be0>"
         },
         "metadata": {},
         "output_type": "display_data"
        }
       ]
      }
     },
     "b4451a1df1724f2691af2dfeaae2d544": {
      "model_module": "@jupyter-widgets/controls",
      "model_module_version": "1.1.0",
      "model_name": "SliderStyleModel",
      "state": {
       "description_width": ""
      }
     },
     "b466841c991048628e98cee81bf8d202": {
      "model_module": "@jupyter-widgets/controls",
      "model_module_version": "1.1.0",
      "model_name": "FloatSliderModel",
      "state": {
       "description": "v2",
       "layout": "IPY_MODEL_1e36962b95ec45b9a54bb6cdff0dea6e",
       "max": 2,
       "min": 0.1,
       "step": 0.1,
       "style": "IPY_MODEL_59bd6517a6d0460d881029ad25a3fa8f",
       "value": 1
      }
     },
     "b4a3cb2acb4f4f20a2a20e6da6f9a8eb": {
      "model_module": "@jupyter-widgets/controls",
      "model_module_version": "1.1.0",
      "model_name": "FloatSliderModel",
      "state": {
       "continuous_update": false,
       "description": "velocity",
       "layout": "IPY_MODEL_68a16e00ea464980a6176c659452b073",
       "max": 2,
       "min": -2,
       "step": 0.1,
       "style": "IPY_MODEL_d4a3f61a18bc49a4a38160590dfd9db8",
       "value": 1
      }
     },
     "b657048650ab454eb5c219664edb5edb": {
      "model_module": "@jupyter-widgets/controls",
      "model_module_version": "1.1.0",
      "model_name": "SliderStyleModel",
      "state": {
       "description_width": ""
      }
     },
     "b6d619853ea24dcfa2e42503bc6f8e0c": {
      "model_module": "@jupyter-widgets/controls",
      "model_module_version": "1.1.0",
      "model_name": "FloatSliderModel",
      "state": {
       "description": "velocity",
       "layout": "IPY_MODEL_e2b8036302584101839f1459e6050681",
       "max": 2,
       "min": -2,
       "step": 0.1,
       "style": "IPY_MODEL_1faec520822f4bf286aa5b4d6bd37f80",
       "value": 1
      }
     },
     "b7297aa9f91643a1bfcff6b13a75f13f": {
      "model_module": "@jupyter-widgets/controls",
      "model_module_version": "1.1.0",
      "model_name": "SliderStyleModel",
      "state": {
       "description_width": ""
      }
     },
     "b8318ca84e844fbfb563f70c634c28f1": {
      "model_module": "@jupyter-widgets/base",
      "model_module_version": "1.0.0",
      "model_name": "LayoutModel",
      "state": {}
     },
     "bb4824affda74bca8e684efb12bd6063": {
      "model_module": "@jupyter-widgets/controls",
      "model_module_version": "1.1.0",
      "model_name": "VBoxModel",
      "state": {
       "_dom_classes": [
        "widget-interact"
       ],
       "children": [
        "IPY_MODEL_aa8a404be50544f799076ddbb0442785",
        "IPY_MODEL_ecec53a966eb4ce7a866ee51db918da9",
        "IPY_MODEL_3010638c7cf541509753b09577037929",
        "IPY_MODEL_7625ded3fd2d4325800d22e6bab29611",
        "IPY_MODEL_6e33c5d2bcb247afac5b816261184f94"
       ],
       "layout": "IPY_MODEL_8148ad7674f4468cbcd8ca6f085ef866"
      }
     },
     "bc2248fad70f461c8e3799be474dae58": {
      "model_module": "@jupyter-widgets/output",
      "model_module_version": "1.0.0",
      "model_name": "OutputModel",
      "state": {
       "layout": "IPY_MODEL_127398c1c9144fe7b85fb59afbdc7d02",
       "outputs": [
        {
         "data": {
          "image/png": "iVBORw0KGgoAAAANSUhEUgAAAhMAAAC+CAYAAACPvo09AAAABHNCSVQICAgIfAhkiAAAAAlwSFlz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\nEREZEyUTIiIiMiZKJkRERGRM/j8WMahLELmyzgAAAABJRU5ErkJggg==\n",
          "text/plain": "<matplotlib.figure.Figure at 0x25635564320>"
         },
         "metadata": {},
         "output_type": "display_data"
        }
       ]
      }
     },
     "bc294c69ace84e499ae0e96c80d693f0": {
      "model_module": "@jupyter-widgets/base",
      "model_module_version": "1.0.0",
      "model_name": "LayoutModel",
      "state": {}
     },
     "bd20a367a6cd47269e4c150e22d9c08d": {
      "model_module": "@jupyter-widgets/controls",
      "model_module_version": "1.1.0",
      "model_name": "SliderStyleModel",
      "state": {
       "description_width": ""
      }
     },
     "bfaf487a5240417c8c66efdfb8eda4b4": {
      "model_module": "@jupyter-widgets/controls",
      "model_module_version": "1.1.0",
      "model_name": "SliderStyleModel",
      "state": {
       "description_width": ""
      }
     },
     "c12f994b4fac4f8e8beddda188143729": {
      "model_module": "@jupyter-widgets/controls",
      "model_module_version": "1.1.0",
      "model_name": "SliderStyleModel",
      "state": {
       "description_width": ""
      }
     },
     "c173f87d1d09485781c7f3f43cd920c9": {
      "model_module": "@jupyter-widgets/controls",
      "model_module_version": "1.1.0",
      "model_name": "VBoxModel",
      "state": {
       "_dom_classes": [
        "widget-interact"
       ],
       "children": [
        "IPY_MODEL_3a9473d18c9d415b97e4580d8ab873fa",
        "IPY_MODEL_3bb1f026bff94437bb5461684c1081d5",
        "IPY_MODEL_49161475f9dc4b9691e4aaff7f0186f2",
        "IPY_MODEL_0992c9e61af84070a64069c4f0d10858",
        "IPY_MODEL_83d6137b2e714993be9d68b8978d0269"
       ],
       "layout": "IPY_MODEL_e847e07509ca47eb9ef0f25c17cd268d"
      }
     },
     "c24fe25a3b234575a12cff9fe42a1a1c": {
      "model_module": "@jupyter-widgets/controls",
      "model_module_version": "1.1.0",
      "model_name": "SliderStyleModel",
      "state": {
       "description_width": ""
      }
     },
     "c4d91701817f41f48c6c76c598c9bc78": {
      "model_module": "@jupyter-widgets/controls",
      "model_module_version": "1.1.0",
      "model_name": "VBoxModel",
      "state": {
       "_dom_classes": [
        "widget-interact"
       ],
       "children": [
        "IPY_MODEL_4ff8f1c1b239440d9a84f27fb1f627a6",
        "IPY_MODEL_8c199ed131504687a4905bf0a8a89991",
        "IPY_MODEL_a3b6617688234b80b3727eca1f9de16f",
        "IPY_MODEL_a0f4fa4f49a84bc1a6a37d48e465c44f",
        "IPY_MODEL_3de6b5c6812e4976b939adaccab0d279"
       ],
       "layout": "IPY_MODEL_d16273c071cf4fde87995c8a2ceafcab"
      }
     },
     "c5b83685525a42dea42903575679fc68": {
      "model_module": "@jupyter-widgets/controls",
      "model_module_version": "1.1.0",
      "model_name": "FloatSliderModel",
      "state": {
       "description": "process_noise",
       "layout": "IPY_MODEL_6c492880ac674115884dd11d4836cbaa",
       "step": 0.1,
       "style": "IPY_MODEL_6ef9fa9ad5894414910b58f75b630228",
       "value": 5
      }
     },
     "c5b876f5345b404f9144d7bdffdb63b8": {
      "model_module": "@jupyter-widgets/controls",
      "model_module_version": "1.1.0",
      "model_name": "SliderStyleModel",
      "state": {
       "description_width": ""
      }
     },
     "c941e50422f2413bb40f3e2aaf518239": {
      "model_module": "@jupyter-widgets/controls",
      "model_module_version": "1.1.0",
      "model_name": "SliderStyleModel",
      "state": {
       "description_width": ""
      }
     },
     "cd690b1598f6483ca002eb2f526c176f": {
      "model_module": "@jupyter-widgets/controls",
      "model_module_version": "1.1.0",
      "model_name": "VBoxModel",
      "state": {
       "_dom_classes": [
        "widget-interact"
       ],
       "children": [
        "IPY_MODEL_09adfebd232a4a13bff77489310891fa",
        "IPY_MODEL_5815b70d69ee4d60a7548b22f9f6d64b",
        "IPY_MODEL_99117d77ea214d81973c3047d11c4f60",
        "IPY_MODEL_b466841c991048628e98cee81bf8d202",
        "IPY_MODEL_d50cbf85857445789e99eebcf3d4c089"
       ],
       "layout": "IPY_MODEL_e0028922ac934c6da9330d1ddb64328b"
      }
     },
     "cd75ab47767a4e289032dd1bd8c2b2be": {
      "model_module": "@jupyter-widgets/controls",
      "model_module_version": "1.1.0",
      "model_name": "SliderStyleModel",
      "state": {
       "description_width": ""
      }
     },
     "cdb52aeb91ac40d789c3f41a4b910c11": {
      "model_module": "@jupyter-widgets/base",
      "model_module_version": "1.0.0",
      "model_name": "LayoutModel",
      "state": {}
     },
     "cdfe13cf4b4b48c5b6a2591bc66d495a": {
      "model_module": "@jupyter-widgets/controls",
      "model_module_version": "1.1.0",
      "model_name": "VBoxModel",
      "state": {
       "_dom_classes": [
        "widget-interact"
       ],
       "children": [
        "IPY_MODEL_63e46f553a6b41d6b0a7fc3a907f6d56",
        "IPY_MODEL_62cf1b896ab449e2b5cfcecd4fe3b3e5",
        "IPY_MODEL_15c25488bd674ee59cb19f84d84ca3ea",
        "IPY_MODEL_70e5cff5f12c4ef8b1f4b493f0d8c792",
        "IPY_MODEL_b3c31cc98f0e404c826bf9886cd9358e"
       ],
       "layout": "IPY_MODEL_a827ad9b2bd246b1a8aa72b856c0ee06"
      }
     },
     "ce84d13e9bf649b6918f34f815569af5": {
      "model_module": "@jupyter-widgets/controls",
      "model_module_version": "1.1.0",
      "model_name": "SliderStyleModel",
      "state": {
       "description_width": ""
      }
     },
     "cfe94002bc0241c881f75b411b51e011": {
      "model_module": "@jupyter-widgets/controls",
      "model_module_version": "1.1.0",
      "model_name": "FloatSliderModel",
      "state": {
       "description": "v1",
       "layout": "IPY_MODEL_86d3a820f4c746fbb445ad1f60052a34",
       "max": 2,
       "min": 0.1,
       "step": 0.1,
       "style": "IPY_MODEL_9df423414d2948d3b5a2e468539e5af3",
       "value": 1
      }
     },
     "d16273c071cf4fde87995c8a2ceafcab": {
      "model_module": "@jupyter-widgets/base",
      "model_module_version": "1.0.0",
      "model_name": "LayoutModel",
      "state": {}
     },
     "d32124a05f3f475ea067c11cb1cc68d7": {
      "model_module": "@jupyter-widgets/output",
      "model_module_version": "1.0.0",
      "model_name": "OutputModel",
      "state": {
       "layout": "IPY_MODEL_0283bcbb2ddc4239bb8f0d09fcfbf6eb",
       "outputs": [
        {
         "data": {
          "text/plain": "<matplotlib.figure.Figure at 0x1a7fc05b908>"
         },
         "metadata": {},
         "output_type": "display_data"
        }
       ]
      }
     },
     "d33b5a9aba4746e7ba21290f975f25fa": {
      "model_module": "@jupyter-widgets/base",
      "model_module_version": "1.0.0",
      "model_name": "LayoutModel",
      "state": {}
     },
     "d4a3f61a18bc49a4a38160590dfd9db8": {
      "model_module": "@jupyter-widgets/controls",
      "model_module_version": "1.1.0",
      "model_name": "SliderStyleModel",
      "state": {
       "description_width": ""
      }
     },
     "d50cbf85857445789e99eebcf3d4c089": {
      "model_module": "@jupyter-widgets/output",
      "model_module_version": "1.0.0",
      "model_name": "OutputModel",
      "state": {
       "layout": "IPY_MODEL_3b9d308cf9f041dd98b7d0ab0b65653b",
       "outputs": [
        {
         "data": {
          "image/png": "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\n",
          "text/plain": "<matplotlib.figure.Figure at 0x1a7fc22f668>"
         },
         "metadata": {},
         "output_type": "display_data"
        }
       ]
      }
     },
     "d5e322675f224fee8f32b5f7e6271fb5": {
      "model_module": "@jupyter-widgets/controls",
      "model_module_version": "1.1.0",
      "model_name": "FloatSliderModel",
      "state": {
       "continuous_update": false,
       "description": "sensor_noise",
       "layout": "IPY_MODEL_afdc6888118742a2ab84b9bde258426f",
       "step": 0.1,
       "style": "IPY_MODEL_8c20412bafe042bd8abc1890b31d7c91",
       "value": 5
      }
     },
     "d63b2db028054739835f3970a9df990e": {
      "model_module": "@jupyter-widgets/base",
      "model_module_version": "1.0.0",
      "model_name": "LayoutModel",
      "state": {}
     },
     "d7e485fba1334819bd5713657d42111d": {
      "model_module": "@jupyter-widgets/controls",
      "model_module_version": "1.1.0",
      "model_name": "SliderStyleModel",
      "state": {
       "description_width": ""
      }
     },
     "dc7674fc2afe432b85551960531d2e1f": {
      "model_module": "@jupyter-widgets/controls",
      "model_module_version": "1.1.0",
      "model_name": "FloatSliderModel",
      "state": {
       "description": "m1",
       "layout": "IPY_MODEL_686aedf507e44cf4bbe31019a8cdee76",
       "max": 10,
       "min": 5,
       "step": 0.5,
       "style": "IPY_MODEL_7442c4f8542c48ab92859fb4dd798e06",
       "value": 7.5
      }
     },
     "de5af69d277c49bb8e4097527dd9f8ba": {
      "model_module": "@jupyter-widgets/base",
      "model_module_version": "1.0.0",
      "model_name": "LayoutModel",
      "state": {}
     },
     "e0028922ac934c6da9330d1ddb64328b": {
      "model_module": "@jupyter-widgets/base",
      "model_module_version": "1.0.0",
      "model_name": "LayoutModel",
      "state": {}
     },
     "e0b54f5012a84964888f15c1fd7c8ea2": {
      "model_module": "@jupyter-widgets/base",
      "model_module_version": "1.0.0",
      "model_name": "LayoutModel",
      "state": {}
     },
     "e0d1d1c9f9034206b1c7460355f1eaac": {
      "model_module": "@jupyter-widgets/controls",
      "model_module_version": "1.1.0",
      "model_name": "FloatSliderModel",
      "state": {
       "description": "v2",
       "layout": "IPY_MODEL_6a969d2a4f6c4235a825d2352a26dd73",
       "max": 2,
       "min": 0.1,
       "step": 0.1,
       "style": "IPY_MODEL_5b1b2e92af5b4fd9a487e0188616d864",
       "value": 1
      }
     },
     "e10bbb97f5144fe98bd4855cfd52a4b7": {
      "model_module": "@jupyter-widgets/base",
      "model_module_version": "1.0.0",
      "model_name": "LayoutModel",
      "state": {}
     },
     "e2875dd42d454b6496a13fb1c6226570": {
      "model_module": "@jupyter-widgets/controls",
      "model_module_version": "1.1.0",
      "model_name": "SliderStyleModel",
      "state": {
       "description_width": ""
      }
     },
     "e2b8036302584101839f1459e6050681": {
      "model_module": "@jupyter-widgets/base",
      "model_module_version": "1.0.0",
      "model_name": "LayoutModel",
      "state": {}
     },
     "e361e47f9ba14a10b0813dba5eb11b4b": {
      "model_module": "@jupyter-widgets/controls",
      "model_module_version": "1.1.0",
      "model_name": "IntSliderModel",
      "state": {
       "description": "start_pos",
       "layout": "IPY_MODEL_f85d3e52220643b1a5e4060eb33282a9",
       "max": 10,
       "min": -10,
       "style": "IPY_MODEL_c5b876f5345b404f9144d7bdffdb63b8"
      }
     },
     "e3ace564a0e94faf90ef4845b258927d": {
      "model_module": "@jupyter-widgets/base",
      "model_module_version": "1.0.0",
      "model_name": "LayoutModel",
      "state": {}
     },
     "e5e17299d1b84799856e6527020faedf": {
      "model_module": "@jupyter-widgets/controls",
      "model_module_version": "1.1.0",
      "model_name": "FloatSliderModel",
      "state": {
       "continuous_update": false,
       "description": "process_noise",
       "layout": "IPY_MODEL_a177ba1c72984991bf99b609b1579ce9",
       "max": 40,
       "step": 0.1,
       "style": "IPY_MODEL_e2875dd42d454b6496a13fb1c6226570",
       "value": 0.1
      }
     },
     "e82f62af573c4cc19388471a8808b080": {
      "model_module": "@jupyter-widgets/base",
      "model_module_version": "1.0.0",
      "model_name": "LayoutModel",
      "state": {}
     },
     "e83744fb3f4c45c5a80510fbaceb2510": {
      "model_module": "@jupyter-widgets/base",
      "model_module_version": "1.0.0",
      "model_name": "LayoutModel",
      "state": {}
     },
     "e847e07509ca47eb9ef0f25c17cd268d": {
      "model_module": "@jupyter-widgets/base",
      "model_module_version": "1.0.0",
      "model_name": "LayoutModel",
      "state": {}
     },
     "e84e3f5ad8244ac8b5a1a522d4fdb707": {
      "model_module": "@jupyter-widgets/output",
      "model_module_version": "1.0.0",
      "model_name": "OutputModel",
      "state": {
       "layout": "IPY_MODEL_38c8d26f9b544ed5ad86a0ef8b8e58a2",
       "outputs": [
        {
         "data": {
          "image/png": "iVBORw0KGgoAAAANSUhEUgAAAusAAAEaCAYAAACo3xkcAAAABHNCSVQICAgIfAhkiAAAAAlwSFlz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\nERERmSgW60REREREJorFOhERERGRifofuFOKJOhdILkAAAAASUVORK5CYII=\n",
          "text/plain": "<matplotlib.figure.Figure at 0x229ce74fda0>"
         },
         "metadata": {},
         "output_type": "display_data"
        }
       ]
      }
     },
     "e8e07a68a0ea4fef84220d73ce46ea86": {
      "model_module": "@jupyter-widgets/controls",
      "model_module_version": "1.1.0",
      "model_name": "FloatSliderModel",
      "state": {
       "continuous_update": false,
       "description": "velocity",
       "layout": "IPY_MODEL_864960c28ded42908d8943730e926e5e",
       "max": 2,
       "min": -2,
       "step": 0.1,
       "style": "IPY_MODEL_d7e485fba1334819bd5713657d42111d",
       "value": 1
      }
     },
     "eaf994a16d8d4dca96970ab80128a3a0": {
      "model_module": "@jupyter-widgets/controls",
      "model_module_version": "1.1.0",
      "model_name": "SliderStyleModel",
      "state": {
       "description_width": ""
      }
     },
     "ebef9bf4675142f596ff7baf486b8560": {
      "model_module": "@jupyter-widgets/controls",
      "model_module_version": "1.1.0",
      "model_name": "FloatSliderModel",
      "state": {
       "description": "v1",
       "layout": "IPY_MODEL_f319e4cbf7454038bc97f2c4ab2ba414",
       "max": 2,
       "min": 0.1,
       "step": 0.1,
       "style": "IPY_MODEL_ce84d13e9bf649b6918f34f815569af5",
       "value": 1
      }
     },
     "eca9816c3069401a9eeda3327720961f": {
      "model_module": "@jupyter-widgets/controls",
      "model_module_version": "1.1.0",
      "model_name": "IntSliderModel",
      "state": {
       "description": "start_pos",
       "layout": "IPY_MODEL_f353a9386bb6474c92048520af0af1a8",
       "max": 10,
       "min": -10,
       "style": "IPY_MODEL_305137f4ac924fe699a466a3d0c3c39c"
      }
     },
     "ecec53a966eb4ce7a866ee51db918da9": {
      "model_module": "@jupyter-widgets/controls",
      "model_module_version": "1.1.0",
      "model_name": "FloatSliderModel",
      "state": {
       "continuous_update": false,
       "description": "sensor_noise",
       "layout": "IPY_MODEL_32a4368d324e482b982adcb55526e0fa",
       "step": 0.1,
       "style": "IPY_MODEL_a237b7d10c78449d8023ef7cffcc34c4",
       "value": 5
      }
     },
     "ef9dd4712cb24e248a1aff4f5f15a71f": {
      "model_module": "@jupyter-widgets/controls",
      "model_module_version": "1.1.0",
      "model_name": "SliderStyleModel",
      "state": {
       "description_width": ""
      }
     },
     "efa8e1510bb142bda72d60e26167d486": {
      "model_module": "@jupyter-widgets/base",
      "model_module_version": "1.0.0",
      "model_name": "LayoutModel",
      "state": {}
     },
     "f05bb041bec8447292eec1114847a0c5": {
      "model_module": "@jupyter-widgets/controls",
      "model_module_version": "1.1.0",
      "model_name": "IntSliderModel",
      "state": {
       "description": "start_pos",
       "layout": "IPY_MODEL_e3ace564a0e94faf90ef4845b258927d",
       "max": 10,
       "min": -10,
       "style": "IPY_MODEL_413485a0b43d456791570633e4fd1d30"
      }
     },
     "f0e21b9df58b4f2c94223f5120159fd8": {
      "model_module": "@jupyter-widgets/output",
      "model_module_version": "1.0.0",
      "model_name": "OutputModel",
      "state": {
       "layout": "IPY_MODEL_49c177b6614c4627ae21b6debace3486",
       "outputs": [
        {
         "data": {
          "image/png": "iVBORw0KGgoAAAANSUhEUgAAAhMAAAC+CAYAAACPvo09AAAABHNCSVQICAgIfAhkiAAAAAlwSFlz\nAAALEgAACxIB0t1+/AAAADl0RVh0U29mdHdhcmUAbWF0cGxvdGxpYiB2ZXJzaW9uIDIuMS4wLCBo\ndHRwOi8vbWF0cGxvdGxpYi5vcmcvpW3flQAAIABJREFUeJzt3Xl8VfWd//HXNwkhC1khKxCyELYE\nSCBQBVFRK2rV2qptlWm1tlLH2tZ2nNEpv7bOzCMd+xunnbaO4zi/+rD9/WLHFuuItlq0ghuCRjZB\nlhBIwpINsu/Jvd/fH/cSE0wgJPfmLnk/H4/7uOeec+65n2/OTc4n3/NdjLUWERERkdEK8XUAIiIi\nEtiUTIiIiMiYKJkQERGRMVEyISIiImMS5q0DNzc3q2WniIhIEIqLizMDX6tmQkRERMZEyYSIiIiM\nidducwwUFxfn0eOVlpYCUFRU5NHj+iuVN7ipvMFN5Q1uE6m8zc3Nw25TzYSIiIiMiZIJERERGRMl\nEyIiIkGgpKSEzMxMQkJCyMzMpKSkZNw+e1zaTIiIiIj3lJSUsG7dOjo6OgCorKxk3bp1AKxdu9br\nn3/emgljzExjzGZjzH5jzD5jzHfc6xONMa8aY8rczwlej1ZEREQ+Yf369f2JxBkdHR2sX79+XD5/\nJLc5+oC/sdbOBy4CvmmMWQA8BPzFWpsL/MX9WkRERMZZVVXVBa33NHOhU5AbY14AHnM/LrfWVhtj\n0oAt1tq5Z/YbOAJmWVmZh8IVERGRs91www3U1NR8Yn1qaiovvviiRz4jNze3f3lMI2AaYzKBQmA7\nkGKtrQZwPyePMU4REREZhXvvvZeIiIhB6yIiIrj33nvH5fNH3ADTGDMFeA6431rbYow531v6eXow\nj4k0SAiovMFO5Q1uKm9w85fyFhUVkZ2dzfr166mqqiIjI4Pi4mKPNr4816BVI0omjDGTcCUSJdba\nP7hX1xpj0gbc5qgbc6QiIiIyKmvXrh2XnhtDGUlvDgP8Cthvrf3pgE0bgTvcy3cAL3g+PBEREfF3\nI6mZWAl8GfjQGLPLve77wCPA74wxXwOqgFu9E6KIiIj4s/MmE9bat4HhGkhc6dlwREREJNBoOG0R\nERF8Oxx1oNNw2iIiMuH5ejhqT7DW0tjaRWJs5Lh/tmomRERkwvP1cNRj0dDSyYY3PuIb//oSP3p6\nMxc6GKUnqGZCREQmPF8PR32hnE7LB4dOsqm0nPf2n8RpLflZSVxdlOOTeJRMiIjIhJeRkUFlZeWQ\n6/1JXWM7r5aW89qOo5xq7iAuejKfWzWPTy/NZnpSrM/iUjIhIiITXnFx8aA2EwBRUVEUFxf7MCqX\nPoeT7R8d58/vl7Or3DX/xpLcNO7+zBKWz59OWKjvWywomRARkQnvTCNLbw5HfaGO17ew6f1yXt95\nlOb2bqbFRXHbFflctTSbpPhon8U1FCUTIiIi+HY46jO6e/p4Z+8xNpWWs6+intAQw6fmT+fqohwK\nc9MICRn5vFjjScmEiIiIjx052cif3z/MG7srae/qJX3qFO5cs5grl2YTPyXi/AfwMSUTIiIi46Ck\npGTQbZQf/sM/kTbvIjaVlnP4RCOTwkK4JD+Dq5flkJeZxIXMzu1rSiZERES8bNCgWFHTqHSkse6n\nL7NocQ0ri/JYd/0SVhdmMSUy3NehjoqSCRERES+y1vJ3P3qEjpjZMCMDwmPA2YfjdDm1W/fyi1/v\nDqhaiKEomRAREfEway0Hqk7xzt5jvLvvGCejFkKkhfY6qN8PzZXg7KPamIBPJEDJhIiIiEf0OZzs\nPVrH1r3H2PbRcRrbuggLDaFwdirJPRXUHd4Bju5B7/G3QbFGS8mEiIjIKPX2OTl4spm3K7axff8J\n2jp7mDwplKK56azIm0nR3HSiIiaRE/ZNd5uJj9/rL4NieYKSCRERkQvQ2d1L6cGTbN13jFe37aO7\n18n01CSWz5vOyvyZFOamET4pdNB7/HFQLE9SMiEiInIerR3dvLf/BFv3HWPn4Rp6+5zERU9mSfZU\nFmcm8MXrV593WGt/GBTLW5RMiIiIDKGhpZNtHx3n3Y+Osae8Dqe1JMVFcd2ncrl4wQzmz0pix44P\nAPxifgxfUjIhIiLiVt/Uzjt7j7F17zEOHDuFtTB9Wgw3Xzqfi/NmMHt6YlD0vvA0JRMiIjKhWWvZ\ne7SOjVsPsn3/CayF7LR4br9yISvyZjIzOVYJxHkomRARkQmpp9fBG7sr2Lj1IBU1zcREhnPrZQu4\namk2aVNjfB1eQFEyISIiE8rp5g7+tL2Ml7cfprWzh8zUOL79+eVctjjzE70wZGSUTIiISNCz1nLw\n2Gk2vnOQrfuO4bSWT82fzo0r5pKflazbGGOkZEJERIJWn8PJW3sqeXHrIcpONBAdMYkbV8zlMxfl\nkpI4xdfhBQ0lEyIiEnSa2rp45b3D/GlbGY1tXUyfFsNf31jEFUuyiAjXpc/T9BMVEZGgUX6igY1b\nD/Lmnir6HE6WzknjxhVzKcxN1a0ML1IyISIiAc3hcPLuR8d5cetBPqo8RUR4GNcsy+H6i+cwPSnW\n1+FNCEomREQkILV2dPPn98v547YyTjV3kJIQzdevK+SqpdlER4b7OrwJRcmEiIgElMqaJl569xCv\n76ygp8/Bouxk7rlhKcvmTSckRLcyfOG8yYQx5ingeqDOWpvvXvcwcDdQ797t+9baP3krSBERmbj6\nHE4OVp1iz5FadpbVsL/qFOFhoVxeMIsbVswlMzXe1yFOeCOpmXgaeAz4zVnrf2atfdTjEYmIyITm\ndFrKTzawp7yWPUdq2VdRT3evA2MgJz2BO9YsZs2yHGKiJvs6VHEz1trz72RMJvDSWTUTbedKJpqb\nm/sPXFZWNtY4RUQkSFlrqW3q4lB1C4erWzhc3UpnjwOA1PhIctNjyU2LISc1hqjJujvvK7m5uf3L\ncXFxg+4njeWs3GeM+QpQCvyNtbZxDMcSEZEJwlrL6dZuDle3UlbdQll1K62dvQBMjZnM4swEctNj\nmZ0aS2zUJB9HKyMx2pqJFOAUYIF/AtKstXcNfM/Amom4uDjPRQyUlpYCUFRU5NHj+iuVN7ipvMFN\n5XVpaOlkd3lN/62LuqYOABJjIlmUk8yi7BQW56SSnBA97jGPxUQ6v83Nzf3LHqmZsNbWnlk2xvwX\n8NJogxMRkeDT2tHNh0fqXAnEkVqO17cCMCUynEXZyXx+1XwWz05l+rQYDSYVBEaVTBhj0qy11e6X\nnwP2ei4kEREJNL19Dj6qqGfje8c4VN1Cx/NlWAsR4WHkZSZxdVEOi3NSyUqLV/IQhEbSNfS3wOXA\nNGPMceBHwOXGmAJctzkqgG94MUYREfFDNQ1tfHDwJB8cqmbPkVq6ex20tTSTmTKFz61cyKKcFHJn\nTCUsNMTXoYqXnTeZsNbeNsTqX3khFhER8WPdPX18eLSOHYeq+eDQSU6ebgMgNTGaq5Zms3ROGj2N\nx5k8KZSionyPf35JSQnr16+nqqqKjIwMiouLWbt2rcc/Ry6c+tiIiMiQrLUcr2/hA3fysK+int4+\nJ+FhoSzKSeb6i+ewdE46aVOn9N+6KC2tPs9RR6ekpIR169bR0eFquFlZWcm6desAlFD4ASUTIiLS\nr6Orl93lNe7ah2rqm10X75lJsXzmU7ksnZvOgllJhE8KHde41q9f359I9Mfa0cH69euVTPgBJRMi\nIhOYtZaj1U18cOgkO8qq2V95CofTEhkeRsHsVL6wOo+lc9JIij9/l82SkhIeeOABamtrPX4boqqq\n6oLWy/hSMiEi4ifGq01Aa0c3O8tq2FFWzY5D1TS2dQGQnRbP51fNZ8mcNOZlTLughpPevg2RkZFB\nZWXlkOvF95RMiIj4AW9ejPscTg4dO83Osmp2Hq7h0PHTWAsxkeEU5qaydE46hbmpJMREjvozvH0b\nori4eNDPByAqKori4uIxH1vGTsmEiIgf8OTF2FpLTUNbf+3DnvJaOnv6MAbmzpzKl1bns3ROGrkz\npnpsym5v34Y48zNQbw7/pGRCRMQPjPVi3N7Zw+7y2v7ah9rGdgCS46O4bPEsCnPTWJyTQnRkuMdi\nHmg8bkOsXbtWyYOfUjIhIuIHLvRi7HA4KTvR4Eoeymo4eOw0TutqOLkoJ4XPr5pPYW4qqYlTxmXE\nSd2GmNiUTIiI+IGRXIxrG9rYebiGnWXV7C6vpb2rF2Mgd3oiX7h8AYW5acyZ6ZsRJ8/UGHirN4f4\nNyUTIiJ+YKg2AT/8h39iduFl/McL77OzrIbqBteIk9PioliZP7P/1kVM1OQRfYa3e4usXbuWuXPn\nAhNjFk35mJIJERE/cfvtt3Px6ut4/8AJdpRV88Kh0zx/8C0iwsNYmJXMDSvmsCQ3jfRRzLSpESTF\nm5RMiIj4WG1DG1t2VbBldwXH61sxBmanJ3LLZfMpzL3wMR+GohEkxZuUTIiI+EBLezdvf1jFll0V\n7K86BUB+VhKfXTmPixfMIG5KhEc/TyNIijcpmRARGSfdPX28d+AEm3dWsKOsGofTkpEcyx1rFnPp\nolkkJ5x/yOrR0giS4k1KJkQCiKZgDjxOp6WsuoW3jr7L1n3H6erpY2psJJ9dOZfLCzLJTI1X100J\neEomRAKEGtAFDmst5Scb2bKrgudf301LZy/pKUmsWpjB5QWZ5Gcle2zkyZHSCJLiTUomRAKEGtD5\nv5qGNt7YVcHmXRWcONVKWGgImclTWJKTyJc/e+W4T9t9No0gKd6iZEIkQKgBnX8605By866jHKg6\nDbgaUn7uknmsXJjBgX17AHyeSIh4k5IJkQChBnT+o7unj+37T7Bl18cNKWelxHHHmsVctngWSfHe\na0gp4o+UTIgECDWg8x1rLZW1zew7WsfeijpKD1bT1dPHtLgobrpkXn9DSpGJSsmESIBQA7rx0+dw\ncvhEA/uO1rGvop6PKutp7+oFYGpsJKsWZrC60NWQcjx6Yoj4OyUTIgFEDei8o6unj4NVp9h7tI6P\nKus5UHWanj4HANOnxbAyfyZ5mcnkZSaRnBCtBELkLEomRGTCae3o5qOKevZV1LOvoo7yk404nBZj\nICs1nmuW55CXmcyCzCTiPTwSpUgwUjIhIkHvVHOHO3moY+/ROqrqWgAICw1hzoxEbr50PgtmJTF/\nVhJREZN8HK1I4FEyISJBxVrLyVOt/bUO+yrqqW1sByAyPIz5s6Zx2eJM8jKTyJ0xVV02RTxAyYSI\n+Iy1lu5eB53dvXT19NHZ3ed+dr3u6umj0/3c//qsfV379NLV8/FxHE4LQFz0ZPIyk7jh4jnkZSWT\nlRpP6Bhn3xSRT1IyISJe19bZw/7KevYereMv2z6ioa2H6JeO0tXTN+JjGAOR4ZOICA8jcnJY/3Pc\nlMmkhEcTMSmMyMmu7SkJ0eRlJTN9WowaS4qMAyUTIuJxja2drtsM7nEZKmubsdbVRiE2zJCfEc/c\n2dnuhODsBMH1OiI8jMjwj9dNCgtRYiDip5RMiMiYWGupb+pg71FX48Z9FXWcPN0GQER4GPMypnJJ\nfgZ5WcnMmTGVPbt3AlBUtMSXYYuIBymZEJELYq3leH0L+yrq3clDPaeaXaNyTokMJy8ziWuWzyYv\nM5ns9ATCgqiNgqaAFxnaeZMJY8xTwPVAnbU2370uEXgWyAQqgC9Yaxu9F6aI+IrD4eRoTVP/aJD7\nKupp6egGIGFKBPlZrsGc8rKSmZUSF7S3IjQFvMjwRlIz8TTwGPCbAeseAv5irX3EGPOQ+/WDng9P\nRMZbb5+Dwyca+msdPqqop9PdUDI1MZpl89LJy0wiPyuZ1MQpQZs8nE1TwIsMz1hrz7+TMZnASwNq\nJg4Cl1trq40xacAWa+3cge9pbm7uP3BZWZknYxYRD+pzODl+uoOy6hYOV7dytLaNXocTgJT4CHJS\nY8hJjSE7JYb46HAfR+s7y5cvZ6i/l8YY3nvvPR9EJDK+cnNz+5fj4uIG/Rcx2jYTKdbaagB3QpE8\n+vBEZDw5nZYTDR0crm6lrLqFI7WtdPe6kof0xEgumpvE7NQYslOnMEWjQfZLSUmhpqZmyPUiE924\nNMAsKiry6PFKS0u9clx/pfIGN2+X98z02XvKa9lzpJa9R+v6Z8CcPi2Wm6/IZWF2Cguzkokbh3ko\nAvX8Pvroo0NOAf/oo4+esyyBWt7RUnmDV3Nz87DbRptM1Bpj0gbc5qgb5XFExMOstZw41dqfPHx4\npK6/wWRqYjQr8mayOCeFhdkpJMZG+jjawKEp4EWGN9pkYiNwB/CI+/kFj0UkIhfEWkttY/ug5KGh\ntROAaXFRFM1NY1G2K3lIToj2aawlJSU88MAD1NbWBuTFWFPAiwxtJF1DfwtcDkwzxhwHfoQrifid\nMeZrQBVwqzeDFJHBTjV39CcPe8prqXeP8xA/JYJF2cksyk5hUU6KX/W2UNdKkeB13mTCWnvbMJuu\n9HAsInIO1lre23+C323Zx6HjDQDERIazMDuZmy+dz6KcFGYkxfpN8nA2da0UCV4aAVPEz1lreXff\ncZ7dvJcj1U2kJERz17UFFMxOJTM13qPJgzdHeKyqqrqg9SISOIJnnFsRP1BSUkJmZiYhISFkZmZS\nUlIy6mM5nZY3d1dy38//xD8/8zZdPX3cf/OneOJ71/O5VfPJSkvweCKxbt06KisrXT1A3LchxlKG\ngTIyMi5ovYgEDtVMiHiIp9oEOBxO3thdye+27OPEqVZmJsXyt19cwSULMwgJ8d4tDG/fhiguLh6y\na2VxcfGYjy0ivqVkQsRDxnox7nM42bzzKL/bso+ahnYyU+N46LaVrMifOS7tILx9G+LMzyCQe3OI\nyNCUTIh4yGgvxn0OJ9vLTvH4X16kvrmD2dMT+F9/tYTl86ePa2PKjIwMKisrh1zvKWvXrmXuXNfI\n+xNhkB+RiULJhIiHXOjFuKfXwZ/fP8x//uFDmjt6+NTCHL550zKWzEnzSY8M3YYQkdFSMiHiISO9\nGHf19PHy9jL+8NYBmtq6mBY7mdtWZXL7jVf4tFunRngUkdFSMiHiIee7GHd29/LHbWU8/9YBWjq6\nWZyTwoO3raTrtOs2iD+MD6ERHkVkNJRMiHjQUBfj9s4eXnz3EC+8c5C2zh6Wzknji6vzmD8rCYDS\n0xpnQUQCm5IJES9p7ejmhXcO8uLWQ3R097J8XjpfuiKf3BlTfR2aiIhHKZkQ8bCmti5eePsAL20r\no6unjxV5M/ji6nyy0xN8HZqIiFcomRDxAIfDyY6yal4tPcJ7B07gtJZVCzP4wuV5zEqN93V4IiJe\npWRinHlz7gMZfzUNbbxaWs5rHxylobWTuOjJ3LhiLmuW5TA9KdbX4YmIjAslE+NIUzAHh55eB+/u\nO8am0nL2HKnDGFg6J41vLF3K8vnTCQvVlDciMrEomRhHmoI5sB052cirpeVs3lVBe1cvKQnR/NVV\nC7lyaTbT4qJ8HZ6IiM8omRhHmoI58LR39vDG7ko2lZZTfrKRSWEhXLxgBlcX5bAoJ8UvxoYQEfE1\nJRPjaDzmPpCxs9ayr6KeTe+X887eY/T0OchKjWfd9Uu4vCCTmKjJvg5RRMSvKJkYR5r7wL81tHTy\n+s6jbHq/nOqGNqImT+LKJVlcvSyHnPQE1UKIiAxDycQ40twH51dSUjKuU1Q7HE5KD55kU2k5pQer\ncVpLflYSX7oin5X5M5kcrl8REZHz0V/Kcaa5D4Y3nr1dTp5q5dXScv6y4yiNbV0kTIng86vmcdXS\nbHXpFBG5QEomxG94q7dLU1sXR6sbOXKykaM1TRw52cix+haMgWVz07m6KIelc9PVpVNEZJSUTIjf\nGGtvF4fDycnTrRytbuJIdaMrgahuoqmtq3+faXFRZKfFc8WSLK4ozCIxNtIjsYuITGRKJsRvXEhv\nl/bOHipqmjha08TR6kaOVjdRWdtMT58DgLDQEDKSY1k6J42s1Hiy0xPITI1XTwwRES9QMiF+Y6je\nLpFRUfzd//oHtn10vD9pOFLdSG1je/8+MZHhZKcncN2nZpOdnkBWWgIzkmJ120JEZJwomRC/sXbt\nWhxOy3d/+C809EwiNnkWC5as4OUj4bx85C2MgfSpMeTOSOTqohyy0uLJTksgMTZS3TYF0Nw3Ir6i\nZEJ8zlrLgapTbNlVwVsVkSy49h4mTwqhcH4WWakJrtqG1HhmpcYToa6aMgzNfSPiO/rLLD5TfbqV\nzTsr2LKrguqGNsLDQrlowXSuyY9jTnosF31qua9DlACiuW9EfEfJhIyr1o5u3tpTxes7j3Lw2GmM\ngYVZyXxxdR4X580kKmISpaWlvg5TApDmvhHxHSUT4nU9vQ7eP3CCzbsq+OBQNX0OJ7NS4rhzzWIu\nK8jUjJviEZr7RsR3lEz4gLWW3j4n4ZNCfR2K15yZLGvLrgre/rCK9q5eEmMiueHiOawuzCQzNV6N\nJsWjNPeNiO+MKZkwxlQArYAD6LPWFnkiqGB2or6Fnz+3nf1Vp5gSGU5yfBRJ8dEkx0eTnOB6ToqP\nIjk+mtjoyQF3wT1e38LmnUfZsquCuqYOIsLDuHjBDK5YksWi7BRCQgKrPBI4NPeNiO94omZitbX2\nlAeOE9ScTssL7xzg/736IeGTQvnC5Qto6+yhrqmd6tOt7C6vpaunb9B7Jk8KJSk+ir6OFhKmhHOk\nNbI/4UhOiCYxJtIvLs7NbV28uaeSzTsrKDvRgDFQODuVL1+9mIsWzFAPDBk3mvtGxDeMtXb0b3bV\nTBQNlUw0Nzf3H7isrGzUnxEMapo6+e+3jlJZ387CWfHcfPEs4qLCB+1jraWj20Fjew+Nbd00tLme\nXa97aGjrpr1rcLIRGmKIi5pEwpTJJE4J73+Ojw4nJnISoSGG0BBDSIghxLgfIa73ffzaEGK44BqQ\nnj4He6ua+ODwaQ6caMFpLdOnRlGUM5XC7MRPlE9EZKDw8HAmTZoUcLWvE4G1lt7eXnp6egatz83N\n7V+Oi4sbdOLG+i+jBTYZYyzwn9baJ8d4vKDicFq27K3hlZ0nmBwWypcvz6YwK3HIXx5jDNERYURH\nhDFj6tANErt7Hf3JRWNbd3+S0djWQ1l1K80dpxltbjh8omEIDWFQQhIaYjjd2k1Xr4P46HBWL0yl\nKGcqqQn+P8/Fyy+/zOOPP05tbS0pKSnce++9XHvttb4OS2RCCQ8PZ8aMGUyerOHt/VV3dzfHjx//\nREIxnLHWTKRba08aY5KBV4FvWWvfhME1E3FxcaP+jKGc6TpYVOS/TTQqa5r4+XPbKTvRwIq8Gfz1\nZ5cRPyViVMcaaXn7HE5ON3dQ19ROc3s3TqfF4XS6n13LDqfF4XDitLZ/2XGO/RxO697XicPx8bb4\nKRFcumgWC7OTPf6fhbfO79mDGoGrgd6TTz7p06rxQPg+e5LKG9xGUt76+nqSkpLGKySvam93De0f\nHR3t40g87+zz1Nzc3L/s0ZoJa+1J93OdMeZ5YDnw5liOGej6HE7+8OZ+fvv6XqImT+LB21ZyycLx\n6ZoWFhpCSuIUUhKnjMvnBRoNaiQi4h2jTiaMMdFAiLW21b18NfCPHossAFXUNPFvG7ZRfrKRSxbO\n5J4biogbZW2EeJ4GNRIR8Y6x1EykAM+7q7jDgGesta94JKoA0+dwsuGNj3h28z6iIybx97dfwor8\nmb4OS86iQY1ERD5WUVHB1q1buf3228d8rFHP0WytPWKtXex+5FlrJ+TIMEdONvK9f/8zJa99yMr8\nmTx+/2eUSPip4uJioqIGN27VoEYi/q+kpITMzExCQkLIzMykpKTE1yF5XF9f3/l38rCKigqeeeYZ\njxxr1MnERNfncFLy6h6+9/ifaWzrYv1freKBL64gNlqtk/3V2rVrefLJJ5k1axbGGGbNmuXzxpci\ncm5nGk5XVlZire2fDXasCUVFRQXz5s3j61//Ovn5+axdu5bXXnuNlStXkpuby3vvvUd7ezt33XUX\ny5Yto7CwkBdeeKH/vatWrWLJkiWsXLmSbdu2AVBdXc2ll15KQUEB+fn5vPXWWwBMmfJxO7YNGzZw\n5513AnDnnXfyve99j9WrV/Pggw8O+3lPP/00N910EzfccANZWVk89thj/PSnP6WwsJCLLrqIhoYG\nAMrLy7nmmmtYunQpq1at4sCBA/2f8+1vf5sVK1aQnZ3Nhg0bAHjooYd46623KCgo4Gc/+9mYfp4a\nTWgUDp9o4OfPbaOippnVBZncff0SYqKURAQCDWokEli82XD68OHD/P73v+fJJ59k2bJlPPPMM7z9\n9tts3LiRH//4xyxYsIArrriCp556iqamJpYvX85VV11FcnIyr776KhEREezevZuvfvWr7Nixg2ee\neYY1a9awfv16HA7HJ+IeyqFDh3jttdcIDQ3l+9///pCfB7B371527txJV1cXs2fP5ic/+Qk7d+7k\nu9/9Lr/5zW+4//77WbduHU888QS5ubls376de++9l9dffx1wJTpvv/02Bw4c4MYbb+SWW27hkUce\n4dFHH+Wll14a088RlExckN4+B//9+l42vLGf+CkR/PArl7Js3nRfhyUiErS82XA6KyuLhQsXApCX\nl8eVV16JMYaFCxdSUVHB8ePH2bhxI48++igAXV1dVFVVkZ6ezn333ceuXbswxnD48GEAli1bxl13\n3UVvby833XQTBQUF543h1ltvJTTUNU/Tpk2bhvw8gNWrVxMTE0NMTAxxcXHccMMNACxcuJA9e/bQ\n1tbG1q1bufXWW/uP3d3d3b980003ERISwoIFC6itrR3rj+4TlEyMUNnx0/zbhm1U1bVw5ZIsvv6Z\nJUyJ1CiPIiLe5M2G0wMHzQoJCel/HRISQl9fH6GhoTz33HPMnTt30PsefvhhUlJS2L17N62trUyd\nOhWASy+9lDfffJM//vGPfPnLX+Zv//Zv+cpXvjJoLJ6urq5Bxxo4PoW1dsjP2759+3ljdTqdxMfH\ns2vXrvOWdSzjSw1HbSbOo6fXwa9f2cXf/Mcm2rt6efiOy7j/louUSIiIjANfNpxes2YNv/zlL/sv\nvjt37gRcgzelpaUREhLCb3/7WxwOBwCVlZUkJydz991387WvfY0dO3YAkJKSwv79+3E6nTz//PMX\n/HkjERsbS1ZWFr///e8BV8Kfz/kcAAAKOUlEQVSwe/fuc74nJiaG1tbWEX/GuSiZOIeDVaf4zmMv\ns+HN/Xx6aTb//p3rWDo33ddhiYhMGL5sOP2DH/yA3t5eFi1aRH5+Pj/4wQ8AuPfee/n1r3/NRRdd\nxOHDh/trF7Zs2UJBQQGFhYU899xzfOc73wHgkUce4frrr+eKK64gLS3tgj9vpEpKSvjVr37F4sWL\nycvL62/AOZxFixYRFhbG4sWLx9wAc0zDaZ9LoA6n7XRaTrd08OLWQ/zPOweYGhvFtz63nCVzhv8C\neJuG4w1uKm9wU3k/ScNpB4ZxG07bF0pKSnjggQeora0lIyOD4uLiC8pQ+xxOGlo6qW1so66xnbqm\ndmob26lrbKe2sY3TLZ04nK486JplOXz12kKiIiZ5qzgiIiIBL6CSibMnajrT3xjoTyj6HE7qm9r7\nEwVXktBOfXM7tQ3tnGrpGDSzpjGQGBNJcnw0CzKTSI6PJjk+mtnTE8mZnjjuZRQREQk0AZVMDOpv\nHJUEk2PpCI/mWz95ht2tydQ1tdPQ2vmJZGFabBTJCdHkZyWTkhBNcoIrYUhOiCYpPpqw0I+bjpSU\nlPCNdeupqqoaVc2HiIjIRBNQycSgfsVphRA5FbA09nQSFhpCwexUkuOjByUMU+OiBiUL5zKSmg8R\nEREZLKCSiUH9jY9vA2cf9HYya1YGP777yjEfX1NUi4iIXLiA6ho6qL9xdwv0dhAVFemx/saaolpE\nROTCBVQycaa/cWpqqlf6Gw83opqmqBYRCS6/+MUvmD9/PgkJCTzyyCOAa2TLM0NZP/3005w8edKX\nIQaUgLrNAa6E4sxQo57ut11cXDyozQRoimoRkWD0+OOP8/LLL5OVlTXk9qeffpr8/HzS00c+UGFf\nXx9hYQF3WfWIgKqZ8DZNUS0iEvzuuecejhw5wo033sjPfvYz7rvvvkHbN2zYQGlpKWvXrqWgoIDO\nzk4++OADLrvsMpYuXcqaNWuorq4G4JprruHhhx/msssu4+c//7kviuMXJmYKdQ6aolpEZHz9/X+9\n5tHj/fPdV51z+xNPPMErr7zC5s2bh5x++5ZbbuGxxx7j0UcfpaioiN7eXr71rW/xwgsvkJSUxLPP\nPsv69et56qmnAGhqauKNN97waBkCjZIJERGRczh48CB79+7l05/+NAAOh2PQHBs333yzr0LzG0om\nRETEp85Xk+Br1lry8vJ49913h9wejPNyXCi1mRARETnLwOm5586dS319fX8y0dvby759+3wZnt9R\nMiEXpKSkhMzMTEJCQsjMzKSkpMTXIYmIeNydd97JPffcQ0FBAQ6Hgw0bNvDggw+yePFiCgoK2Lp1\nq69D9Cu6zRFkSkpKWL/eO3OLaLhxEQkWFRUVgCtpuPPOOwHXOBNn3HzzzYPaQhQUFPDmm29+4jiv\nvPKKN8MMGKqZCCJnLvaVlZVYa/sv9p6qPTjXcOMiIjJxKZkIIt6+2Gu4cRERGYqSiSDi7Yu9hhsX\nEZGhKJkIIt6+2A+aaM1Nw42LyIUKCQmhq6vL12HIOXR1dRESMvIUQQ0wg4i35xY508jSWw08RWRi\nSExMpKGhob/rZSA7ffo0AFOnTvVxJJ4VEhJCYmLiiPdXMhFExuNir+HGRWSsjDFBc/GtrKwEYN68\neT6OxLeUTAQZXexFRGS8qc2EiIiIjImx1nrlwM3Nzd45sIiIiPhUXFycGfhaNRMiIiIyJkomRERE\nZEy8dptDREREJgbVTIiIiMiYKJkQERGRMfH7ZMIYc40x5qAx5rAx5qEhtk82xjzr3r7dGJM5/lF6\nhjFmpjFmszFmvzFmnzHmO0Psc7kxptkYs8v9+KEvYvUUY0yFMeZDd1lKh9hujDG/cJ/fPcaYJb6I\n0xOMMXMHnLddxpgWY8z9Z+0T0OfXGPOUMabOGLN3wLpEY8yrxpgy93PCMO+9w71PmTHmjvGLevSG\nKe+/GGMOuL+vzxtj4od57zm/+/5omPI+bIw5MeA7e90w7z3n33J/NEx5nx1Q1gpjzK5h3htw53dM\nrLV++wBCgXIgGwgHdgMLztrnXuAJ9/KXgGd9HfcYypsGLHEvxwCHhijv5cBLvo7Vg2WuAKadY/t1\nwMuAAS4Ctvs6Zg+VOxSoAWYF0/kFLgWWAHsHrPvfwEPu5YeAnwzxvkTgiPs5wb2c4OvyjLK8VwNh\n7uWfDFVe97Zzfvf98TFMeR8GHjjP+877t9wfH0OV96zt/wr8MFjO71ge/l4zsRw4bK09Yq3tAf4b\n+OxZ+3wW+LV7eQNwpTHGEICstdXW2h3u5VZgPzDdt1H53GeB31iXbUC8MSbN10F5wJVAubW20teB\neJK19k2g4azVA39Hfw3cNMRb1wCvWmsbrLWNwKvANV4L1EOGKq+1dpO1ts/9chswY9wD85Jhzu9I\njORvud85V3nd15kvAL8d16D8lL8nE9OBYwNeH+eTF9f+fdy/wM1AwA/67r5dUwhsH2LzxcaY3caY\nl40xeeMamOdZYJMx5gNjzLohto/kOxCIvsTwf4SC6fwCpFhrq8GVMAPJQ+wTrOf5Llw1a0M533c/\nkNznvq3z1DC3sYLx/K4Caq21ZcNsD6bze17+nkwMVcNwdl/WkewTUIwxU4DngPuttS1nbd6Bq2p8\nMfBL4H/GOz4PW2mtXQJcC3zTGHPpWduD8fyGAzcCvx9ic7Cd35EKxvO8HugDSobZ5Xzf/UDxH0AO\nUABU46r6P1vQnV/gNs5dKxEs53dE/D2ZOA7MHPB6BnByuH2MMWFAHKOrhvMLxphJuBKJEmvtH87e\nbq1tsda2uZf/BEwyxkwb5zA9xlp70v1cBzyPqzp0oJF8BwLNtcAOa23t2RuC7fy61Z65NeV+rhti\nn6A6z+4GpNcDa637BvrZRvDdDwjW2lprrcNa6wT+i6HLEWznNwz4PPDscPsEy/kdKX9PJt4Hco0x\nWe7/5r4EbDxrn43AmZbftwCvD/fL6+/c9+B+Bey31v50mH1Sz7QJMcYsx3UOT49flJ5jjIk2xsSc\nWcbVcG3vWbttBL7i7tVxEdB8pso8gA37H00wnd8BBv6O3gG8MMQ+fwauNsYkuKvJr3avCzjGmGuA\nB4EbrbUdw+wzku9+QDirDdPnGLocI/lbHkiuAg5Ya48PtTGYzu+I+boF6PkeuFrzH8LVEni9e90/\n4vpFBYjAVV18GHgPyPZ1zGMo6yW4qv72ALvcj+uAe4B73PvcB+zD1Rp6G7DC13GPobzZ7nLsdpfp\nzPkdWF4D/Lv7/H8IFPk67jGWOQpXchA3YF3QnF9cSVI10Ivrv9Gv4WrD9BegzP2c6N63CPg/A957\nl/v3+DDwVV+XZQzlPYyrfcCZ3+Ezvc3SgT+5l4f87vv7Y5jy/l/37+YeXAlC2tnldb/+xN9yf38M\nVV73+qfP/M4O2Dfgz+9YHhpOW0RERMbE329ziIiIiJ9TMiEiIiJjomRCRERExkTJhIiIiIyJkgkR\nEREZEyUTIiIiMiZKJkRERGRM/j8WMahLELmyzgAAAABJRU5ErkJggg==\n",
          "text/plain": "<matplotlib.figure.Figure at 0x229ce84ee48>"
         },
         "metadata": {},
         "output_type": "display_data"
        }
       ]
      }
     },
     "f1df9e9424b64fd0a525613b5bf46872": {
      "model_module": "@jupyter-widgets/controls",
      "model_module_version": "1.1.0",
      "model_name": "SliderStyleModel",
      "state": {
       "description_width": ""
      }
     },
     "f28a229c6b604cc5ae95a962cc028465": {
      "model_module": "@jupyter-widgets/controls",
      "model_module_version": "1.1.0",
      "model_name": "SliderStyleModel",
      "state": {
       "description_width": ""
      }
     },
     "f319e4cbf7454038bc97f2c4ab2ba414": {
      "model_module": "@jupyter-widgets/base",
      "model_module_version": "1.0.0",
      "model_name": "LayoutModel",
      "state": {}
     },
     "f353a9386bb6474c92048520af0af1a8": {
      "model_module": "@jupyter-widgets/base",
      "model_module_version": "1.0.0",
      "model_name": "LayoutModel",
      "state": {}
     },
     "f5329de0771a4ef886ec5f7cb8fba95b": {
      "model_module": "@jupyter-widgets/controls",
      "model_module_version": "1.1.0",
      "model_name": "SliderStyleModel",
      "state": {
       "description_width": ""
      }
     },
     "f6f5a4cfb86c4921b05290ff4dd74cb6": {
      "model_module": "@jupyter-widgets/base",
      "model_module_version": "1.0.0",
      "model_name": "LayoutModel",
      "state": {}
     },
     "f7e8d047e7bc402d90401fcc16556f77": {
      "model_module": "@jupyter-widgets/base",
      "model_module_version": "1.0.0",
      "model_name": "LayoutModel",
      "state": {}
     },
     "f85d3e52220643b1a5e4060eb33282a9": {
      "model_module": "@jupyter-widgets/base",
      "model_module_version": "1.0.0",
      "model_name": "LayoutModel",
      "state": {}
     },
     "f9620034c3834a64b12cb1e676ddfe6d": {
      "model_module": "@jupyter-widgets/controls",
      "model_module_version": "1.1.0",
      "model_name": "FloatSliderModel",
      "state": {
       "description": "process_noise",
       "layout": "IPY_MODEL_3aa4921cb10f4e1d86a75c7166c576f2",
       "step": 0.1,
       "style": "IPY_MODEL_3f148519c85a425aa85c7d96821de88c",
       "value": 5
      }
     },
     "fb9a9a77d88d456eb6447e93f30ba2a9": {
      "model_module": "@jupyter-widgets/controls",
      "model_module_version": "1.1.0",
      "model_name": "SliderStyleModel",
      "state": {
       "description_width": ""
      }
     },
     "fcde7a5b198b4096b16773e736fc9d04": {
      "model_module": "@jupyter-widgets/controls",
      "model_module_version": "1.1.0",
      "model_name": "FloatSliderModel",
      "state": {
       "continuous_update": false,
       "description": "velocity",
       "layout": "IPY_MODEL_64433d39295047f1b0b12c69392d4cd7",
       "max": 2,
       "min": -2,
       "step": 0.1,
       "style": "IPY_MODEL_9cdb05a4873a46c699fd88967fba1680",
       "value": 1
      }
     },
     "fd172594797448eaad18420057deac83": {
      "model_module": "@jupyter-widgets/base",
      "model_module_version": "1.0.0",
      "model_name": "LayoutModel",
      "state": {}
     },
     "fe6bb1c192d44741aa36af64ebe855ed": {
      "model_module": "@jupyter-widgets/controls",
      "model_module_version": "1.1.0",
      "model_name": "FloatSliderModel",
      "state": {
       "continuous_update": false,
       "description": "velocity",
       "layout": "IPY_MODEL_a7ee41632f4b4dc081590db1b7d7f017",
       "max": 2,
       "min": -2,
       "step": 0.1,
       "style": "IPY_MODEL_b4451a1df1724f2691af2dfeaae2d544",
       "value": 1
      }
     }
    },
    "version_major": 2,
    "version_minor": 0
   }
  }
 },
 "nbformat": 4,
 "nbformat_minor": 1
}
