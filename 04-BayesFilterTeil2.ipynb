{
 "cells": [
  {
   "cell_type": "markdown",
   "metadata": {},
   "source": [
    "# Der diskrete Bayes-Filter zum Tracken eines Roboterfahrzeugs, Teil 2\n",
    "16.10.2021, S. Mack"
   ]
  },
  {
   "cell_type": "markdown",
   "metadata": {},
   "source": [
    "Nachfolgend werden aus dem voran gegangenen Teil 1 die nötigen Importe und Funktionsdefinitionen wiederholt."
   ]
  },
  {
   "cell_type": "code",
   "execution_count": 1,
   "metadata": {},
   "outputs": [],
   "source": [
    "# display plots inside this notebook\n",
    "%matplotlib inline \n",
    "import matplotlib.pyplot as plt\n",
    "import numpy as np\n",
    "\n",
    "def barPlot(belief_data, y_lim=1.1): # helper function to plot\n",
    "    plt.grid(zorder=0)\n",
    "    plt.ylim(0,y_lim)\n",
    "    x = np.arange(len(belief_data))\n",
    "    plt.xticks(x)\n",
    "    plt.bar(x, belief_data, color='C0',zorder=3) # zorder to have bars in front of grid\n",
    "\n",
    "def twoBarPlots(plot_one, title_one, plot_two, title_two, y_lim=1.1): # helper function to plot\n",
    "    x = np.arange(len(plot_one))\n",
    "    plt.figure(figsize=(14,4))\n",
    "\n",
    "    plt.subplot(121) # First of two plots side by side\n",
    "    plt.grid(zorder=0)\n",
    "    plt.ylim(0,y_lim)\n",
    "    plt.xticks(x)\n",
    "    plt.title(title_one)\n",
    "    plt.bar(x,plot_one,color='C0',zorder=3)\n",
    "\n",
    "    plt.subplot(122) # Second of two plots side by side\n",
    "    plt.grid(zorder=0)\n",
    "    plt.ylim(0,y_lim)\n",
    "    plt.xticks(x)\n",
    "    plt.title(title_two)\n",
    "    plt.bar(x,plot_two,color='C0',zorder=3)\n",
    "    \n",
    "def lh_hallway(hallway, z, z_prob):\n",
    "    \"\"\"Compute likelihood that a binary door measurement matches positions in the hallway.\n",
    "    z = 1 stands for an open und z = 0 for a closed door detected. z_prob is the confidence\n",
    "    level of the door measurement. Each element of the array hallway represents a door position.\n",
    "    An element with value 0 indicates an open door.\"\"\"    \n",
    "    try: # This will catch the case if there is no measurement error\n",
    "        scale = z_prob / (1. - z_prob)\n",
    "    except ZeroDivisionError: # Give error report\n",
    "        scale = 1e8\n",
    "    likelihood = np.ones(len(hallway))\n",
    "    # only state of likelihood equal to z will be scaled\n",
    "    likelihood[hallway==z] *= scale # [hallway==z] selects index of position z\n",
    "    return likelihood\n",
    "\n",
    "def update(likelihood, prior):\n",
    "    \"\"\"Compute posterior based on likelihood and prior.\"\"\"\n",
    "    posterior = (likelihood * prior)/sum(likelihood * prior)\n",
    "    return (posterior)"
   ]
  },
  {
   "cell_type": "markdown",
   "metadata": {},
   "source": [
    "## Allgemeine Rechnung mit verrauschten Positionsannahmen und verrauschten Bewegungmesswerten\n",
    "\n",
    "### Die Faltungsfunktion\n",
    "\n",
    "In dem exemplarischen Beispiel des vorherigen Abschnitts war der maximale Fehler der Bewegungsmessung +/- eine Position. Dies soll nun allgemeiner gefasst werden. Nachfolgend wird aus der Funktion ``predict_move()`` die Funktion ``predict_move_convolution()`` entwickelt, die auch größere Messunsicherheiten wie zwei oder drei Türpositionen berücksichtigt. Es ist aber nach wie vor der Fall, dass *nur Bewegungsschritte, jedoch keine neuen Türmessschritte betrachtet werden*.    \n",
    "Wie schon erwähnt, ist die mathematische Operation der *Faltung* hierfür optimal geeignet. Bei einer Faltung wird eine Funktion durch eine anderen Funktion modifiziert. Im hier vorliegenden Fall wird die Wahrscheinlichkeitsverteilung der Fahrzeugposition durch die Funktion der Fehlerverteilung des Bewegungssensors modifiziert.  \n",
    "**Die Implementierung der Funktion ``predict_move()`` oben ist im Ergebnis tatsächlich schon eine Faltung.**  \n",
    "\n",
    "Sie ist bloß nur formal nicht als solche leicht zu erkennen. Eine Faltung ist definiert als\n",
    "\n",
    "$$ (f \\ast g) (t) = \\int_0^t \\!f(\\tau) \\, g(t-\\tau) \\, \\mathrm{d}\\tau$$\n",
    "\n",
    "wobei die Schreibweise $f\\ast g$ bedeutet \"f wird mit g gefaltet\".  \n",
    "\n",
    ">**Achtung: Falten bedeutet nicht Multiplizieren:**  $ f\\ast g \\neq f \\cdot g$. "
   ]
  },
  {
   "cell_type": "markdown",
   "metadata": {},
   "source": [
    "Bei der Faltung verschwindet die Variable $\\tau$ durch die Integration. Die Variable $t$ ist so etwas wie ein Aufpunkt für das Falten. Mann kann sich die Faltungsoperation so vorstellen, dass die Funktion $g$ wíe eine Schablone über die Funktion $f$ gelegt wird, und dabei das durch die  Schablone Sichbare aufintegriert wird. Die Variable $t$ bestimmt dabei den Ort von $f$, an dem die Schablone aufgelegt wird. $\\tau$ ist die Integrationsvariable, die nach erfolgter Integration verschwindet.   \n",
    "In der Bildverarbeitung beispielsweise bedeutet Falten Weichzeichnen: Hier kann man sich das Falten so vorstellen, dass eine kleine Streuscheibe über das Bild gelegt wird und dieses abrastert.    \n",
    "\n",
    "Die Definition der Faltung oben verwendet Integrale und ist daher für kontinuierliche Funktionen gedacht. In der digitalen Datenverarbeitung dreht sich Alles um diskrete Werte, die z.B. als Arrays vorliegen. Daher wird hier das Integral durch eine Summe ersetzt und die runden Klammern durch eckige Array-Klammern:\n",
    "\n",
    "$$ (f \\ast g) [t] = \\sum\\limits_{\\tau=0}^t \\!f[\\tau] \\, g[t-\\tau]$$\n",
    "\n",
    "Die schon verwendete Funktion `predict_move()` folgt genau dieser Gleichung - sie berechnet die Summe aus einer Folge von Multiplikationen.  \n",
    "\n",
    "**Nochmals zum sicheren Verständnis des Grundprinzips:** Bei der Faltung wird ein Array (*Kernel* genannt) gegen ein zweites Array verschoben. Man sagt *das letztere Array wird mit dem Kernel gefaltet.*  \n",
    "Der Index $t$ gibt dabei an, um wieviel die beiden Arrays gegeneinander verschoben sind. Zur Faltung werden die beiden Elemente der Arrays die sich überdecken miteinander multipliziert und dann aufaddiert.  \n",
    "\n",
    "Genau das wird in der neuen Funktion ``predict_move_convolution()`` durchgeführt. Die Variable ``belief`` wird nun in ``pd`` umgetauft. ``pd`` steht für \"Probability Distribution\" (Wahrscheinlichkeitsverteilung)."
   ]
  },
  {
   "cell_type": "code",
   "execution_count": 2,
   "metadata": {},
   "outputs": [],
   "source": [
    "def predict_move_convolution(pd, offset, kernel):\n",
    "    N = len(pd)\n",
    "    kN = len(kernel)\n",
    "    width = int((kN - 1) / 2)\n",
    "\n",
    "    prior = np.zeros(N)\n",
    "    for i in range(N):\n",
    "        for k in range (kN):\n",
    "            index = (i + (width-k) - offset) % N\n",
    "            prior[i] += pdf[index] * kernel[k]\n",
    "    return prior"
   ]
  },
  {
   "cell_type": "markdown",
   "metadata": {},
   "source": [
    "Der Code oben ist aufgrund der For-Schleife recht langsam. Viel schneller ist die Faltungs-Funktion `convolve()` aus dem ``SciPy``-Package, die schon in der ``NumPy``-Version bei dem Beispielen zum g-h-Filter für die gleitende Mittelwertbildung verwendet wurde (leider gibt es in der ``NumPy``-Version nicht den Modus \"wrap\" für die hier verwendeten \"kreisförmigen\" Arrays). Die ``pd`` muss jedoch vorher noch mit der Funktion ``np.roll()`` um den ``offset`` verschoben werden.  \n",
    "\n",
    "Damit kann der Bewegungs-/Vorhersageschritt nun mit einer Codezeile implementiert werden:\n",
    "\n",
    "```python\n",
    "convolve(np.roll(pd, offset), kernel, mode='wrap')\n",
    "```\n",
    "\n",
    "### Anwendung der Faltung für Bewegung um einen Schritt nach Rechts"
   ]
  },
  {
   "cell_type": "code",
   "execution_count": 3,
   "metadata": {
    "scrolled": true
   },
   "outputs": [
    {
     "data": {
      "image/png": "[encoded data removed]",
      "text/plain": [
       "<Figure size 1008x288 with 2 Axes>"
      ]
     },
     "metadata": {
      "needs_background": "light"
     },
     "output_type": "display_data"
    }
   ],
   "source": [
    "from scipy.ndimage.filters import convolve\n",
    "\n",
    "def predict(pd, offset, kernel):\n",
    "    prior = convolve(np.roll(pd, offset), kernel, mode='wrap')\n",
    "    return prior\n",
    "\n",
    "belief = [.05, .05, .05, .05, .55, .05, .05, .05, .05, .05]\n",
    "prior = predict(belief, offset=1, kernel=[.1, .8, .1])\n",
    "twoBarPlots(belief, 'Positionsannahme vor Bewegung', prior, 'Positionsannahme nach Bewegung, 1 Schritt')"
   ]
  },
  {
   "cell_type": "markdown",
   "metadata": {},
   "source": [
    "Im Code oben wird die Vorhersage aufgrund einer gemessenen Bewegung um eine Position (``offset=1``) mit den Messunsicherheiten 10 %, 80 % und 10 % berechnet. \n",
    "Die Werte bei Index 4 und 6 der Verteilung nach der Bewegung (prior) berechnen sich zu  \n",
    "\n",
    "$$(0.1 \\times 0.05)+ (0.8 \\times 0.05) + (0.1 \\times 0.55) = 0.1$$  \n",
    "\n",
    "Der Wert des Index 5 berechnet sich zu $$(0.1 \\times 0.05) + (0.8 \\times 0.55)+ (0.1 \\times 0.05) = 0.45$$  "
   ]
  },
  {
   "cell_type": "markdown",
   "metadata": {},
   "source": [
    "### Wiederholung Kerngedanken der Bewegungsvorhersage via Faltung\n",
    "Sowohl die Wahrscheinlichkeitsverteilung der Position als auch der Messwert der Bewegung liegen jeweils als Array vor. Die Vorhersage erzeugt die Wahrscheinlichkeitsverteilung für den nächsten Zeitpunkt (Prior genannt) mittels einer Faltung des Bewegungsarrays mit Wahrscheinlichkeitsverteilung zum aktuellen Zeitpunkt.   \n",
    "\n",
    "Allgemein drückt man dieses mathematische Vorgehen mit folgender Formel aus:\n",
    "\n",
    "$$ \\bar{ \\mathbf x}_{k+1} = \\mathbf {\\hat x}_k \\ast f_{\\mathbf x}(\\bullet)$$\n",
    "\n",
    "$f_x(\\bullet)$ steht für die \"Propagationsfunktion\" des Zustands. Einfacher ausgedrückt: Sie legt fest, wie viel die Elemente des Vektors ${\\hat x}_k$ sich während eines Samplingintervalls ändern. \n",
    ">Die aktuelle Wahrscheinlichkeitsverteilung der Position wird mit einer statistischen Annahme über die Bewegung *gefaltet*.\n",
    "\n",
    "Der Index $k$ bezeichnet nun die aufeinander folgenden Iterationen bzw. Zeitpunkte. $\\mathbf x$ ist fettgedruckt, denn es steht für ein Array. Die Elemente dieses Arrays sind die verschiedenen Wahrscheinlichkeiten für die unterschiedlichen Zustände (hier Türpositionen). Nach der Vorhersage wird das Array als $\\mathbf {\\bar x}$ und nach der Korrektur als $\\mathbf {\\hat x}$ bezeichnet."
   ]
  },
  {
   "cell_type": "markdown",
   "metadata": {},
   "source": [
    "## Iterationen aus Türmessungen *und* Bewegungsvorhersagen\n",
    "\n",
    "Bisher wurde von einer willkürlichen initiale Wahrscheinlichkeitsverteilung der Position ausgegangen. Diese Verteilung wurde anschließend durch eine oder mehrere aufeinanderfolgende Vorhersagen \"propagiert\" oder besser gesagt \"verschmiert\". Jede Vorhersage berechnete sich jeweils aus einer Bewegungsmessung. Dadurch wurde die Positionsinformation immer diffuser - genau das Gegenteil, was man von einem Kalman-Filter erwartet!    \n",
    "\n",
    "**Nun wird endlich der realistische Fall betrachtet, dass sowohl eine Türmessung als auch eine Bewegungsvorhersage pro Iteration stattfindet. Jede Vorhersage wird von einer Korrektur gefolgt, bei der eine neue Türmessung berücksichtigt wird.**  \n",
    "Dieser Korrektur-Schritt *erhöht* das Wissen über die Fahrzeugposition. Ausgehend von dieser konkreteren Information wird anschließend eine Vorhersage berechnet, die dieses Wissen wieder etwas diffuser macht. Das Vorhersageergebnis wird in der nächsten Iteration jedoch wieder durch eine Korrektur mit einer Türmessung konkretisiert usw.  \n",
    "Durch diesen Prozess steigt das Wissen über die Position von Iteration zu Iteration, d.h. das Fahrzeug wird Schritt für Schritt besser lokalisiert - jetzt findet eine Filterwirkung tatsächlich statt.  "
   ]
  },
  {
   "cell_type": "markdown",
   "metadata": {},
   "source": [
    "**Die Iteration aus *Vorhersage* und *Korrektur* kann jetzt sofort implementiert werden, da die beiden Funktionen ``predict()`` und ``update()`` dazu schon erstellt wurden.**\n",
    "Nachfolgend wird eine solche Iteration für das Fahrzeug durchgeführt. Anders als bisher wird als Startpunkt nicht die bekannte Position 0 sondern eine völlig unbekannte Position gewählt. Diese Positionsannahme hat in jedem Element den Wert 1/10 - das Fahrzeug kann überall sein. Sie stellt in der Filteriteration auch den ersten Vorhersagewert d.h. den ersten Prior da. Denn eine Gleichverteilung kann man propagieren/falten/verschmieren wie man will - sie bleibt eine Gleichverteilung.  \n",
    "**Im Korrektur-Schritt wird anschließend mit Hilfe des ersten Türmesswerts aus dem Vorhersagewert (Prior) ein Korrekturwert (Posterior) berechnet.** Dieser Korrekturwert (Posterior) ist dann auch der erste Ausgabewert des Filters.\n",
    "\n",
    "> *Nullter Iterationsschritt:* Initiale Positionsannahme: Gleichverteilung. Nullter Vorhersagewert wieder Gleichwerteilung, da Bewegung diese nicht ändert. Mit Hilfe Positionsmesswert Berechnung Korrekturwert = Ausgabewert.\n",
    "\n",
    "> *Erster Iterationsschritt:* Berechnung Vorhersagewert aus vorherigem Korrekturwert mit Hilfe Bewegungsmesswert, mit Hilfe Positionsmesswert Berechnung Korrekturwert = Ausgabewert.\n",
    "\n",
    "> *Zweiter Iterationsschritt:* siehe oben.\n",
    "  \n",
    "## Vorhersage ohne Bewegungssensor unter der Annahme einer gleichförmigen Bewegung\n",
    "Beim g-h-Filter basierte die Vorhersage nur auf dem physikalischen Modell und nicht zusätzlich auf einem Messwert des Bewegungssensors. Sensormesswerte flossen dort nur bei der Korrektur ein.  \n",
    "In diesem Sinne wird nun auch der Bayes-Filter verwendet: Das Roboterfahrzeug bewege sich nun gleichförmig nach Rechts um jeweils eine Türposition pro Sekunde. Der Bewegungssensor wird eigentlich nicht mehr benötigt, denn er würde ohnehin immer nur den Wert 1 ausgeben. Trotzdem wird nachfolgend immer ein fiktiver Bewegungsmesswert von 1 angenommen und dazu auch eine fiktive Messunsicherheit berücksichtigt, die als Kernel vorliegt. D.h. die \"gleichförmige\" Bewegung des Fahrzeugs ist nicht wirklich exakt gleichförmig: Nominell bewegt es sich um eine Position pro Sekunde. Es kann aber auch vorkommen, dass es sich gar nicht oder zwei Positionen pro Sekunde bewegt.  \n",
    "\n",
    "In der nachfolgenden Beispielrechnung wird im \"nullten\" und ersten Schritt eine offene Türe und in den vier folgenden Schritten jeweils eine geschlossene Türe gemessen."
   ]
  },
  {
   "cell_type": "code",
   "execution_count": 4,
   "metadata": {
    "scrolled": false
   },
   "outputs": [
    {
     "data": {
      "image/png": "[encoded data removed]",
      "text/plain": [
       "<Figure size 1008x288 with 2 Axes>"
      ]
     },
     "metadata": {
      "needs_background": "light"
     },
     "output_type": "display_data"
    }
   ],
   "source": [
    "hallway = np.array([1, 1, 0, 0, 0, 0, 0, 0, 1, 0]) # Positions of open doors in hallway\n",
    "initial_prior = np.array([.1] * 10) # no position information at all\n",
    "prior_0 = initial_prior\n",
    "likelihood = lh_hallway(hallway, z=1, z_prob=.75) # 1 stands for detection of open door detected\n",
    "posterior_0 = update(likelihood, prior_0)\n",
    "twoBarPlots(prior_0, 'Iteration 0: Position vor Korrektur', posterior_0, 'Iteration 0: Position nach Korrektur', y_lim=0.4)"
   ]
  },
  {
   "cell_type": "markdown",
   "metadata": {},
   "source": [
    "#### Iteration 0:\n",
    "Der linke Plot oben zeigt die Ausgangslage mit \"Null\" Wissen zur Fahrzeugposition. Der rechte Plot zeigt die Wahrscheinlichkeitsverteilung nach dem der Türsensor die Türe als offen detektiert hat. Dadurch sind an den Indizes 0, 1 und 8 die Aufenthaltswahrscheinlichkeiten angewachsen.  \n",
    "> Der Übergang vom linken zum rechten Plot oben ist der \"Korrekturschritt\".    \n",
    "\n",
    "#### Iteration 1:\n",
    "Es folgt ein Vorhersageschritt: Mit der Information des Bewegungssensors (hier Bewegung um einen Schritt nach rechts) wird aus dem Posterior ein neuer Prior erzeugt."
   ]
  },
  {
   "cell_type": "code",
   "execution_count": 5,
   "metadata": {},
   "outputs": [
    {
     "data": {
      "image/png": "[encoded data removed]",
      "text/plain": [
       "<Figure size 1008x288 with 2 Axes>"
      ]
     },
     "metadata": {
      "needs_background": "light"
     },
     "output_type": "display_data"
    }
   ],
   "source": [
    "kernel = (.1, .8, .1)\n",
    "prior_1 = predict(posterior_0, 1, kernel) # prediction with movement one step to the right\n",
    "twoBarPlots(posterior_0, 'Iteration 1: Position vor Vorhersage', prior_1, 'Iteration 1: Position nach Vorhersage', y_lim=0.4)"
   ]
  },
  {
   "cell_type": "markdown",
   "metadata": {},
   "source": [
    "Die Wahrscheinlichkeitsverteilung wird durch die Faltung mit dem Kernel um eine Position nach rechts verschoben und etwas verschmiert, wie im Vergleich der beiden Plots oben gut sichtbar ist.  \n",
    ">Der Übergang vom linken zum rechten Plot oben ist der \"Vorhersageschritt\".  \n",
    "\n",
    "Die erste Iteration wird anschließend mit einem Korrekturschritt abgeschlossen. Der Türsensor detektiert eine offene Türe. Damit ergibt sich grafisch als Histogramm dargestellt folgender Übergang durch die Korrektur:"
   ]
  },
  {
   "cell_type": "code",
   "execution_count": 6,
   "metadata": {},
   "outputs": [
    {
     "data": {
      "image/png": "[encoded data removed]",
      "text/plain": [
       "<Figure size 1008x288 with 2 Axes>"
      ]
     },
     "metadata": {
      "needs_background": "light"
     },
     "output_type": "display_data"
    }
   ],
   "source": [
    "likelihood = lh_hallway(hallway, z=1, z_prob=.75) # 1 stands for detection of open door detected\n",
    "posterior_1 = update(likelihood, prior_1)\n",
    "twoBarPlots(prior_1, 'Iteration 1: Position vor Korrektur', posterior_1, 'Iteration 1: Position nach Korrektur', y_lim=0.4)"
   ]
  },
  {
   "cell_type": "markdown",
   "metadata": {},
   "source": [
    "Infolge der Erkennung der offenen Tür wird der aktuelle Array Prior mit dem Array ``likelyhood`` multipliziert (darin steckt das Messergebnis ``z=1`` sowie dessen Signifikanz ``z_prob``). Dadurch steigen die Wahrscheinlichkeiten an den Positionen 0, 1 und 8. \n",
    "Die Wahrscheinlichkeitsverteilung der Fahrzeugposition wird deshalb konkreter, weil nun erneut eine offene Tür detektiert wurde,  nachdem das Fahrzeug eine Position nach Rechts gefahren war. Dies passt zu der im \"Modell\" angenommenen Verteilung der offenen Türen. Die erste Iteration ist damit abgeschlossen, der Filter gibt die Wahrscheinlichkeitsverteilung als Filterausgangssignal aus.  \n",
    "\n",
    "**Die zweite und die folgenden Iterationen werden jeweils \"in einem Rutsch\" durchgeführt. Die Plots zeigen also jeweils den Posterior (Korrekturwert) nach Iteration 2, Iteration 3, usw.**"
   ]
  },
  {
   "cell_type": "code",
   "execution_count": 7,
   "metadata": {},
   "outputs": [
    {
     "data": {
      "image/png": "[encoded data removed]",
      "text/plain": [
       "<Figure size 1008x288 with 2 Axes>"
      ]
     },
     "metadata": {
      "needs_background": "light"
     },
     "output_type": "display_data"
    }
   ],
   "source": [
    "prior_2 = predict(posterior_1, 1, kernel) # prediction with movement one step to the right\n",
    "likelihood = lh_hallway(hallway, z=0, z_prob=.75) # 0 stands for closed door detected\n",
    "posterior_2 = update(likelihood, prior_2)\n",
    "\n",
    "prior_3 = predict(posterior_2, 1, kernel) # prediction with movement one step to the right\n",
    "likelihood = lh_hallway(hallway, z=0, z_prob=.75) # 0 stands for closed door detected\n",
    "posterior_3 = update(likelihood, prior_3)\n",
    "\n",
    "twoBarPlots(posterior_2, 'Pos. nach Iteration 2 (Posterior)', posterior_3, 'Pos. nach Iteration 3 (Posterior)', y_lim=0.4)"
   ]
  },
  {
   "cell_type": "markdown",
   "metadata": {},
   "source": [
    "#### Iterationen 2 und 3:\n",
    "*Achtung: Die Plots oben stehen nicht mehr nur für einen einzelnen Vorhersage- bzw. Korrekturschritt. Sie stellen nun jeweils die Positionsannahme (Posterior) nach einer kompletten Iteration aus Vorhersage und Korrektur dar.*  \n",
    "\n",
    "Der Sensor detektiert eine Bewegung nach rechts um einen Schritt. Obwohl die Vorhersage mit den verrauschten Bewegungsmessdaten immer etwas die Daten verschmiert, tritt nach Iteration 2 die Position 2 trotzdem deutlicher hervor als nach Iteration 2 die Position 1. Dies ist auch für die Iteration 3 noch leicht der Fall. Der Effekt wird aber schwächer, da es wesentlich mehr geschlossene Türen (7) als offene Türen (3) gibt. Mit einem Messwert \"Türe geschlossen\" lässt sich das Fahrzeug wesentlich schlechter lokalisieren als mit einem Messwert \"Türe offen\"."
   ]
  },
  {
   "cell_type": "code",
   "execution_count": 8,
   "metadata": {},
   "outputs": [
    {
     "data": {
      "image/png": "[encoded data removed]",
      "text/plain": [
       "<Figure size 1008x288 with 2 Axes>"
      ]
     },
     "metadata": {
      "needs_background": "light"
     },
     "output_type": "display_data"
    }
   ],
   "source": [
    "prior_4 = predict(posterior_3, 1, kernel) # prediction with movement one step to the right\n",
    "likelihood = lh_hallway(hallway, z=0, z_prob=.75) # closed door detected\n",
    "posterior_4 = update(likelihood, prior_4)\n",
    "\n",
    "prior_5 = predict(posterior_4, 1, kernel) # prediction with movement one step to the right\n",
    "likelihood = lh_hallway(hallway, z=0, z_prob=.75) # closed door detected\n",
    "posterior_5 = update(likelihood, prior_5)\n",
    "\n",
    "twoBarPlots(posterior_4, 'Pos. nach Iteration 4 (Posterior)', posterior_5, 'Pos. nach Iteration 5 (Posterior)', y_lim=0.4)"
   ]
  },
  {
   "cell_type": "markdown",
   "metadata": {},
   "source": [
    "#### Iterationen 4 und 5:\n",
    "Da wiederholt nun geschlossene Türen gemessen werden, nimmt die Lokalisierung des Fahrzeugs nach Iteration 4 und 5 leicht ab. Denn eine geschlossene Tür kann wie schon erwähnt 7 der 10 Positionen zugeordnet werden.  \n",
    "Die Faltung mit dem Bewegungsarray (Vorhersageschritt) verschmiert immer die Verteilung etwas. Die Multiplikation mit der Likelyhood (Korrekturschritt) kann dies aber jetzt nicht komplett gegenkompensieren.  \n",
    "Betrachtet man den Verlauf der Histogramme über alle sechs Iterationen, so hat sich die Lokalisierung des Fahrzeugs doch erheblich konkretisiert. Stets ist die wahre Position des Fahrzeugs auch dort, wo die Wahrscheinlichkeitsverteilung ihr Maximum besitzt."
   ]
  },
  {
   "cell_type": "markdown",
   "metadata": {},
   "source": [
    "## Der Bayes-Filter-Algorithmus\n",
    "### Rückblick auf den g-h-Filter des ersten Jupyter-Notebooks\n",
    "Für die Vorhersagen wurden in den obigen Beispielen zunächst Bewegungsinformationen eines verrauschten Bewegungssensors verwendet. Im Jupyter-Notebook zum g-h-Filter kam jedoch die Bewegungsinformation (Abstandsänderung zur Wand) wie im letzten Beispiel aus dem physikalischen Modell.  \n",
    "Weiter unten im Abschnitt \"Simulation und Tracking eines Roboterfahrzeugs im kreisförmigen Flur mit Vorhersage über Steuerbefehle statt Bewegungssensorwerte\" wird eine dritte Möglichkeit verwendet, um den Vorhersageschritt mit den nötigen Informationen zu versorgen: Wenn das Roboterfahrzeug gesteuert wird, dann können die Steuerbefehle für die Bewegung als Input verwendet werden.  \n",
    "\n",
    "Ein ganz wesentlicher Unterschied zwischen dem g-h-Filter und dem Bayes-Filter sind die *Statistikgrundlagen*:  \n",
    "In den Jupyter-Notebooks zum g-h-Filter sind im Filteralgorithmus keine statistischen Berechnungen zu finden. Die Zustandsgröße \"Abstand zur Wand\" konnte innerhalb der Sensorauflösung beliebige Werte annehmen. Implizit wurde angenommen, dass der Schätzwert des Wandabstands um den (einen) wahren Wert streut. Es wurde also stillschweigend eine sogenannte **\"unimodale\" Wahrscheinlichkeitsdichte** angenommen: Es war anders als beim Bayes-Filter nie die Rede davon, das Fahrzeug könne sich mit ähnlicher Wahrscheinlichkeit  beispielsweise 200 mm und 400 mm von der Wand entfernt befinden.  \n",
    "\n",
    "### Der Bayes-Filter als Vorhersage-Korrektur-Algorithmus\n",
    "Dem Bayes-Filter liegt eine ganz anderer Umgang mit der Wahrscheinlichkeitsrechnung als dem g-h-Filter zugrunde:  \n",
    "\n",
    ">Beim Bayes-Filter geht es um **multimodale Wahrscheinlichkeitsverteilungen**: Als Ergebnis einer Schätzung kann das Fahrzeug sich mit gleicher Wahrscheinlichkeit an zwei verschiedenen Positionen befinden, wie es einige der Histogramme oben auch verdeutlichen. Hier geht es nicht um eine Zustandsgröße, die um einen Erwartungswert streut. Es geht um ein Array, dessen Elemente für die verschiedenen Zustände des Systems stehen. Der Wert des jeweiligen Elements gibt dabei die geschätzte Wahrscheinlichkeit für diesen Zustand aus.  \n",
    "\n",
    "Konkret ist dies oben das Array ``posterior``, dessen zehn Elemente für die zehn möglichen Positionen im Flur stehen. Wäre der Flur doppelt so lange, dann hätte das Array zwanzig Elemente.  \n",
    "Bildlich ausgedrückt geht es beim Bayes-Filter um *Histogramme*, beim g-h-Filter geht es um einen einzelnen Wert."
   ]
  },
  {
   "cell_type": "markdown",
   "metadata": {},
   "source": [
    "In folgender Grafik ist nochmals der Algorithmus des g-h-Filters verdeutlicht. Das selbe Bild wurde schon im entsprechenden Jupyter-Notebook dazu dargestellt. Er besteht aus einer Initialisierung mit Startwerten und anschließenden Iterationen. Jede Iteration besteht aus einem Vorhersageschritt (engl. Prediction) und aus einem Korrekturschritt (engl. Update). Die Vorhersage wird mit Hilfe des physikalischen Modells gemacht, die Korrektur mit Hilfe neuer Messwerte.   \n",
    "Nach dem Korrekturschritt gibt der Filter jeweils neue Schätzwerte aus, die dann beispielsweise in einen Regelalgorithmus einfließen."
   ]
  },
  {
   "cell_type": "markdown",
   "metadata": {},
   "source": [
    "![title](gh_AlgoGrafik.png)"
   ]
  },
  {
   "cell_type": "markdown",
   "metadata": {},
   "source": [
    "> Der bis hierhin entwickelte Bayes-Filter folgt genau dem selben Schema. Um das Verständnis zu vereinfachen wurde lediglich ein Bewegungssensor eingeführt, welcher anstelle des physikalischen Modells den Input für die Vorhersage liefert.  \n",
    "\n",
    "Der Bayes-Filter ist also eine Form des g-h-Filters. Es macht aber hier keinen Sinn, heraus zu bekommen, wie er die beiden Parameter $g$ und $h$ bestimmt. Die beiden Parameter werden implizit über die verschiedenen Wahrscheinlichkeitsverteilungen berechnet. \n",
    "\n",
    "An dieser Stelle ist es sinnvoller, sich mit den Grundgleichungen des Bayes-Filters zu beschäftigen:\n",
    "\n",
    "$$\\begin{aligned} \\bar {\\mathbf x} &= \\mathbf {\\hat x} \\ast f_{\\mathbf x}\\, \\, &\\text{Vorhersageschritt} \\\\ \n",
    "\\mathbf {\\hat x} &= \\|\\mathcal L \\circ \\bar{\\mathbf x}\\|\\, \\, &\\text{Korrekturschritt} \\end{aligned}$$\n",
    "\n",
    "$\\mathcal L$ ist die übliche Bezeichnung für die Likelyhood. Die Notation $\\|\\|$ steht für die Normierung, die nötig ist, damit die Summe der Wahrscheinlichkeitsverteilung $x$ den Wert 1 ergibt. Das Zeichen $\\circ$ steht für die elementweise Multiplikation der beiden Vektoren.  \n",
    "$f_x$ nennt man *Zustandspropagationsfunktion*. Sie gibt an, wie sich $x_k$ während eines Zeitschritts ändert.\n",
    "\n",
    "Die beiden Grundgleichungen lassen sich so in Pseudocode umsetzen:\n",
    "\n",
    "**Initialisierung**\n",
    "\n",
    "1. Ein physikalisches Modell erstellen und daraus eine mathematische Berechnungsformel für die Vorhersage ableiten.\n",
    "2. Eine initiale Annahme über den Zustand treffen. (Hier für jede Türposition die selbe Wahrscheinlichkeit von 10 %, initialer Vorhersagewert.) Bei der nullten Iteration also statt einer Vorhersage eine Initialisierung\n",
    "\n",
    "\n",
    "**Vorhersage**\n",
    "\n",
    "1. Vorhersage eines Schätzwerts für den Zustand nach dem nächsten Zeitschritt. (Hier basierend auf dem phys. Modell oder auf dem Bewegungsmesswert \"N Positionen nach Links\", \"Stillstand\" oder \"N Positionen nach Rechts\".)\n",
    "2. Die Positionsannahme anpassen unter Berücksichtigung der Unsicherheit der Vorhersage (hier Unsicherheit des physikalischen Modells oder des Bewegungsmesswert) und Vorhersagewert ausgeben.\n",
    "\n",
    "    \n",
    "**Korrektur**\n",
    "\n",
    "1. Messwert anfordern inkl. dessen statistischer Messunsicherheit. (Hier \"Türe offen\" oder \"Türe geschlossen\".)\n",
    "2. Berechnung der Likelihood, d.h. wie gut die aktuelle Messung sich mit den verschiedenen möglichen Zuständen deckt. (Hier über das vorliegenden Muster der offenen bzw. geschlossenen Türen, je nach Türmesswert.)\n",
    "3. Die Positionsannahme anpassen unter Berücksichtigung der berechneten Likelihood (generell über die Multiplikation der beiden Arrays zur Positionsannahme und Likelihood) und Korrekturwert als neuen Schätzwert ausgeben.\n",
    "    \n",
    "\n",
    "\n",
    "Wenn es später um den Kalman-Filter geht, dann wird genau dieser obige Algorithmus wieder verwendet. \n",
    "\n",
    ">Algorithmen dieser Form bezeichnet man als *Vorhersage-Korrektur*-Algorithmen: Zuerst wird eine Vorhersage erstellt welche anschließend korrigiert wird."
   ]
  },
  {
   "cell_type": "markdown",
   "metadata": {},
   "source": [
    "### Nachteile und Einschränkungen des Bayes-Filters\n",
    "\n",
    "Der Bayes-Filter, wie er hier vorgestellt wurde, wird in dieser Form eher selten angewendet. Dies liegt an drei grundsätzlichen Nachteilen:\n",
    "\n",
    "Will man mehrere Zustandsgrößen filtern, dann werden die Arrays mit den Schätzwerten mehrdimensional und schnell unübersichtlich. In den Beispielen dieses Jupyter-Notebooks waren nur die Position in einer Richtung (Kreisrichtung) von Interesse. Würde man als weitere Zustandsgrößen noch den Wandabstand, die Geschwindigkeit entlang der Kreisbahn und senkrecht dazu filtern, dann würde ``posterior`` zu einem vierdimensionalen Array anwachsen. Der Rechenaufwand würde dadurch stark ansteigen.  \n",
    "\n",
    "Der zweite Nachteil ist die grobe Diskretisierung der Zustandsgröße (hier Position) in Array-Elemente. Will man die Position im Flur feiner auflösen, z.B. statt 10 nun 10.000 mögliche Positionen, dann wachsen dadurch die Arrays entsprechend an. Auch hierdurch steigt der Rechenaufwand stark an.  \n",
    "\n",
    "Ein dritter Nachteil ist die schon besprochene *multimodale* Wahrscheinlichkeitsverteilung. Es gibt Applikationen, die erfordern einen unimodalen Filteroutput: Wenn z.B. die Position via GPS ermittelt wird, dann erwarten die Benutzer eine eindeutige konkrete Positionsangabe und nicht drei verschiedene mögliche Positionen mit ähnlicher Wahrscheinlichkeit.  \n",
    "\n",
    "Trotzdem ist dieses Notebook sehr wichtig für das spätere Verständnis des Kalman-Filters."
   ]
  },
  {
   "cell_type": "markdown",
   "metadata": {},
   "source": [
    "## Simulation und Tracking eines Roboterfahrzeugs im kreisförmigen Flur mit Vorhersage über Steuerbefehle statt Bewegungssensorwerte und mit einem Abstandssensor statt Türsensor\n",
    "\n",
    "Das Gedankenexperiment mit dem Roboterfahrzeug im Flur ist zugegeben etwas an den Haaren herbei gezogen.  \n",
    "Besonders der Bewegungssensor, dessen Signal für die Vorhersage verwendet wurde, ist eigentlich an einem Roboterfahrzeug nicht nötig. Denn das Fahrzeug muss in irgendeiner Weise gesteuert werden, und bewegt sich daher mehr oder minder vorhersehbar. Daher kennt man zumindest die Steuerbefehle und kann daraus Rückschlüsse auf die Sollbewegung des Fahrzeugs ziehen.   \n",
    "\n",
    "In diesem Sinne wird das Gedankenexperiment weiter gesponnen:  \n",
    "Das Fahrzeug erhält nun von Außen zu jeder Samplingzeit (hier jede Sekunde) einen Steuerbefehl für seine Bewegung. Der Befehl kann z.B. \"*4 Positionen nach Rechts*\", \"*Stopp*\" oder \"*2 Positionen nach Links*\" lauten. **Dieser Steuerbefehl dient als Input für die Vorhersage.**      \n",
    "Welche Bewegung das Fahrzeug tatsächlich ausführt, steht auf einem anderen Blatt: Die Motoren und die Räder sind nicht perfekt, der Untergrund ist nicht absolut eben und überall gleich griffig.  \n",
    "Hierdurch kommt wieder eine statistische Unsicherheit in die tatsächlich ausgeführte Bewegung hinein. Eine Soll-Bewegung um 5 Positionen nach Rechts endet mit einer bestimmten Wahrscheinlichkeit in einer tatsächlichen Bewegung um 4, 6 oder gar 7 Positionen in diese Richtung.  \n",
    "Statistisch verhält sich diese Soll-Ist-Abweichung genau so wie die Messabweichung des Bewegungssensors in den voran gegangenen Abschnitten. Der Vorhersagefunktion ``predict()`` wird somit nicht mehr der Bewegungsmesswert sondern der Bewegungsbefehl übergeben. Ansonsten bleibt Alles beim Alten.  \n",
    "\n",
    "Um das Gedankenexperiment weiter zu vereinfachen, soll das Roboterfahrzeug nach wie vor auf einem kreisförmigen Flur unterwegs sein. Es wird auch wieder entlang des Flurs geführt, so dass es parallel zur Wand fährt.  \n",
    "Bisher gab es in diesem Flur zehn verschiedene Türpositionen, an denen das Fahrzeug sich befinden kann. Diese Zahl ist nun über den Parameter ``track_len`` frei wählbar.\n",
    "**Auf Position 0 befindet sich ein Abstandssensor, der mit einer vorgegebenen Messunsicherheit den Abstand des Fahrzeugs entlang des Flurs zyklisch erfasst. Der Abstandsensor misst also direkt die Position des Fahrzeugs auf dessen Kreisbahn im Flur.** Seine Auflösung ist die der möglichen Positionen, d.h. der Abstandssensor gibt als Messwert eine der möglichen Türpositionen aus, keine Werte dazwischen. Der Türsensor, welcher mit seinem Messwert \"Türe offen\" oder \"Türe geschlossen\" zusammen mit dem Muster der geöffneten Türen eine Postitionsannahme lieferte, hat nun ausgedient. Die Position wird nun direkt gemessen und es handelt sich hierbei auch nicht mehr um eine multimodale Wahrscheinlichkeitsverteilung. Das Fahrzeug besitzt eine wahre Position um die die Positionsmesswerte streuen.  \n",
    "\n",
    "**Nach wie vor wird hier ein Bayes-Filter verwendet. Die Positionsannahme könnte auch hier von der verwendeten Mathematik her multimodal sein. Aufgrund der unimodalen Streuung von Positionsmesswert und Bewegung wird sich jedoch eine unimodale Wahrscheinlichkeitsverteilung der Position ergeben. Dies ist schon ein erster Schritt in Richtung Kalman-Filter. Jedoch werden die Wahrscheinlichkeiten hier immer noch wertdiskret als Histogramme angenommen. Später beim Kalman-Filter nimmt man Gaßverteilungen und wertkontinuierliche Zustände (Positionen) an.**"
   ]
  },
  {
   "cell_type": "markdown",
   "metadata": {},
   "source": [
    "### Die Klasse RoboCar für die Simulation der Bewegung und der Abstandsmesswerte\n",
    "Für das Roboterfahrzeug wird die Klasse ``RoboCar`` erstellt. Diese enthält die Methode ``move()`` für die tatsächliche Bewegung nach einen Bewegungsbefehl und die Methode ``sense()`` für die Durchführung einer Abstandsmessung.  \n",
    "\n",
    "Beide Methoden sind mit einer statistischen Unsicherheit behaftet:  \n",
    "1. Zu ``move()`` gehört eine Faltungskern (engl. Kernel) der die tatsächliche Bewegung gegenüber der Soll-Bewegung ``distance`` \"verschmiert\". Die Elemente des Kernels geben an, mit welcher Wahrscheinlichkeit eine Abweichung eintritt. Beispielsweise bedeutet ein Kernel (0.1,0.8,0.1), dass zu 10 % die tatsächliche Bewegung um 1 kleiner, zu 10 % um 1 größer und zu 80 % ohne Abweichung ausfällt.\n",
    "2. Zu ``sense()`` gehört das Attribut ``sensor_accuracy``. Mit einer Wahrscheinlichkeit von $(1-sensor\\_accuracy)$ erhält der Messwert eine Abweichung von 1 (einer Türposition). Diese Abweichung ist symmetrisch, der Messwert weicht also genau so oft nach oben wie nach unten ab. Beträgt ``sensor_accuracy`` beispielsweise 0.90 und der wahre Abstandswert 7, dann wird der Sensor mit einer Wahrscheinlichkeit von jeweils 5 % als Messwert 6 oder 8 ausgeben."
   ]
  },
  {
   "cell_type": "code",
   "execution_count": 9,
   "metadata": {},
   "outputs": [],
   "source": [
    "class RoboCar(object):\n",
    "\n",
    "    def __init__(self, track_len, kernel=[1.], sensor_accuracy=.9):\n",
    "        self.track_len = track_len\n",
    "        self.pos = 0\n",
    "        self.kernel = kernel # must have odd number of elements, center element means no error\n",
    "        self.sensor_accuracy = sensor_accuracy\n",
    "\n",
    "    def move(self, distance=1):\n",
    "        \"\"\" move in the specified direction\n",
    "        with some small chance of error\"\"\"\n",
    "\n",
    "        self.pos += distance\n",
    "        # insert random movement error according to kernel\n",
    "        r = random.random() # generates random number between 0...1\n",
    "        s = 0\n",
    "        offset = -(len(self.kernel) - 1) / 2  # starting with maximum negative error value\n",
    "        for k in self.kernel:\n",
    "            s += k # adding up kernel elements (=probabilities), last possible run: s = 1 \n",
    "            if r <= s:\n",
    "                break # each run more likely depending on kernel element probabilities\n",
    "            offset += 1 # next 1 unit bigger until max positive error value\n",
    "        self.pos = int((self.pos + offset) % self.track_len)\n",
    "        return self.pos\n",
    "\n",
    "    def sense(self):\n",
    "        pos = self.pos\n",
    "        # insert random sensor error of -1 or +1.  \n",
    "        if random.random() > self.sensor_accuracy: # more likely for smaller accuracy\n",
    "            if random.random() > 0.5: # 50/50 chance for negative/positive error\n",
    "                pos += 1\n",
    "            else:\n",
    "                pos -= 1\n",
    "        return pos"
   ]
  },
  {
   "cell_type": "markdown",
   "metadata": {},
   "source": [
    "Die Methoden der Klasse ``RoboCar`` simulieren sowohl die Bewegung des Fahrzeugs als auch die Messung des Abstands. Ein Bewegungsschritt wird durch die Methode ``move()`` ausgeführt. Damit wird das Fahrzeug von außen gesteuert.  \n",
    "\n",
    "### Die Funktion robo_filter() für das Tracking mittels Bayes-Filter\n",
    "Im folgenden Quellcode der Funktion ``robo_filter()`` wird ein Bayes-Filter implementiert, der das Roboterfahrzeug trackt, will heißen, dessen aktuelle Position (Zustandswert) aus dem Maximum der Positionsannahme bestimmt.  \n",
    "Das Fahrzeug startet immer an der Position 0. Im nachfolgenden Beispiel wird eine Flurlänge von nur 10 Positionen gewählt, damit die Plots übersichtlich bleiben. "
   ]
  },
  {
   "cell_type": "code",
   "execution_count": 10,
   "metadata": {},
   "outputs": [],
   "source": [
    "def robo_filter(iterations, kernel, sensor_accuracy, move_distance, do_print=True):\n",
    "    # identical kernel for prediction and movement error\n",
    "    track = np.array([0, 1, 2, 3, 4, 5, 6, 7, 8, 9]) # needed for likelihood calculation, contains possible states\n",
    "    prior = np.array([.9] + [0.01]*9) # robot with 90 % confidence at start position 0\n",
    "    posterior = prior[:] \n",
    "    prior = prior/np.sum(prior) # normalize prior\n",
    "    \n",
    "    robot = RoboCar(len(track), kernel, sensor_accuracy)\n",
    "    for i in range(iterations):\n",
    "        robot.move(distance=move_distance) # simulation movement step, true position is robot.pos\n",
    "        prior = predict(posterior, move_distance, kernel) # predition based on movement error kernel       \n",
    "        z = robot.sense() # distance measurement with sensor_accuracy\n",
    "        likelihood = lh_hallway(track, z, sensor_accuracy) #compute position likelihood including sensor error\n",
    "        posterior = update(likelihood, prior)\n",
    "        i_post = np.argmax(posterior) # find index (=position) with highest probability\n",
    "        i_prio = np.argmax(prior)\n",
    "\n",
    "        if do_print:\n",
    "            print('t={:2}: Wahr {}, Vorh. {}, Mess. {}, Schätz. {}, Konf. {:.4f} %'.format(\n",
    "                    i, robot.pos, i_prio, z, i_post, posterior[i_post]*100)) \n",
    "         \n",
    "\n",
    "    barPlot(posterior)\n",
    "    if do_print:\n",
    "        print()\n",
    "        print('Letzte wahre Position ist ', robot.pos)\n",
    "        print('Letzte geschätzte Position ist {} mit Konfidenz {:.4f} %'.format(i_post, posterior[i_post]*100))"
   ]
  },
  {
   "cell_type": "markdown",
   "metadata": {},
   "source": [
    "Um die Berechnung der Likelihood im Code oben nachzuvollziehen, macht es Sinn, nochmals einen Blick auf die wesentlichen Codezeilen der aufgerufenen Funktion ``lh_hallway(track, z, sensor_accuracy)`` zu werfen:  \n",
    "\n",
    "```Python\n",
    "def lh_hallway(hallway, z, z_prob):\n",
    "    scale = z_prob / (1. - z_prob)\n",
    "    likelihood = np.ones(len(hallway))\n",
    "    # only state of likelihood equal to z will be scaled\n",
    "    likelihood[hallway==z] *= scale # [hallway==z] selects index of position z\n",
    "    return likelihood\n",
    "```\n",
    "Jedes Element des Arrays ``likelyhood`` entspricht einem möglichen Zustand. Daher wird dieser Array mit der selben Größe wie ``hallway`` angelegt, denn in letzteren Array stecken die Abstandswerte 0...9 für die hier 10 verschiedenen Fahrzeugpositionen. Der Messwert ``z`` ist eine Position, die einem Index von ``likelyhood`` bzw. ``hallway`` entspricht. Das Element von ``likelyhood`` an diesem Index wird um den Faktor ``scale`` vergrößert, der angibt, wieviel wahrscheinlicher der Sensor richtig als falsch gemessen hat. "
   ]
  },
  {
   "cell_type": "markdown",
   "metadata": {},
   "source": [
    "### Verknüpfung von Simulation und Tracking\n",
    "Der Roboterfahrzeug wird mit konstanter Geschwindigkeit simuliert: Bei jeder Iteration legt es im Mittel ``move_distance`` Schritte zurück. Über den Kernel wird gesteuert, wie stark die tatsächliche Schrittanzahl streut. Die wahre Position unter Berücksichtigung der Streuung wird im Attribut ``.pos`` abgelegt.  \n",
    "Die Vorhersage kennt die aktuelle tatsächliche Schrittanzahl nicht, sondern geht von der Sollschrittanzahl ``move_distance`` aus. Sie berücksichtigt aber die über den Kernel spezifizierte Streuung dieser Sollschrittweite. Das macht Sinn, denn diese Streuung der Schrittanzahl könnte vorher ja am Roboterfahrzeug bestimmt werden, und ist damit eine Systemeigenschaft. Das Roboterfahrzeug startet immer an der Position 0.\n",
    "\n",
    "Der mit der Vorhersage erstellte Vorhersagewert (Prior) wird nun mit dem (simulierten) Messwert der Position korrigiert. Dieser Abstandsmesswert hat eine Unsicherheit von +/-1 Schrittweiten. Die Wahrscheinlichkeit, dass es eine Messabweichung gibt, ist (1 - sensor_accuracy), eine Abweichung von +1 ist genau so wahrscheinlich wie eine von -1. Das Ergebnis der Korrektur ist ein neuer Korrekturwert, d.h. eine neue normierte Likelyhood, oder anders ausgedrückt eine Wahrscheinlichkeitsverteilung der Position. *Deren Maximum wird als Schätzwert des Zustands ausgegeben.*  \n",
    "\n",
    "Danach beginnt eine neue Iteration.\n",
    "\n",
    "**Der ausgegebene Positions-Schätzwert ist also der Index der Wahrscheinlichkeitsverteilung, in dem sich das Maximum findet. Denn die diesem Index entsprechende Position ist die Position, wo sich das Fahrzeug am wahrscheinlichsten aufhält. Wie sicher sich der Filter, ist, dass das Fahrzeug wirklich dort ist, wird durch den Wert des Array-Elements ausgedruckt: Er ist die sogenannte \"Konfidenz\" oder anders ausgedrückt das \"Vertrauensniveau\".**   \n",
    "\n",
    "Über den Befehl ``random.seed(10)`` im Code wird bewirkt, dass die Folge der Zufallszahlen bei jeder Ausführung des Codes die selbe ist. Nur so ist es in diesem Notebook für den Autor machbar, sich im Text auf einen bestimmten statistischen Ausreißer zu beziehen.  \n",
    "Die mittlere Geschwindigkeit beträgt bei allen Simulationen 4 pro Sekunde und ist konstant."
   ]
  },
  {
   "cell_type": "markdown",
   "metadata": {},
   "source": [
    "#### Simulation Roboterfahrzeug mit idealem Abstandsensor und ohne Bewegungsabweichung\n",
    "Die folgende Simulation dient dazu, die Klasse ``RoboCar`` und die Funktion ``robo_filter()`` zu testen:  \n",
    "Die Sollgeschwindigkeit ist 4 pro Sekunde, der Abweichung der Ist-Bewegung ist 0 und der Abstandssensor liefert zu 99,9 % fehlerfreie Messwerte - Ideale Bedingungen also.  \n",
    "Der Flur ist kreisförmig und 10 Positionen lang: Daher kommt nach Position 8 und einer Bewegung von 4 Schritten wieder die Position 2. Die Schätzwerte entsprechen alle den wahren Positionen, und es verwundert nicht, dass die Konfidenz schnell 100 % groß wird.  "
   ]
  },
  {
   "cell_type": "code",
   "execution_count": 11,
   "metadata": {
    "scrolled": false
   },
   "outputs": [
    {
     "name": "stdout",
     "output_type": "stream",
     "text": [
      "t= 0: Wahr 4, Vorh. 4, Mess. 4, Schätz. 4, Konf. 99.9900 %\n",
      "t= 1: Wahr 8, Vorh. 8, Mess. 8, Schätz. 8, Konf. 100.0000 %\n",
      "t= 2: Wahr 2, Vorh. 2, Mess. 2, Schätz. 2, Konf. 100.0000 %\n",
      "t= 3: Wahr 6, Vorh. 6, Mess. 6, Schätz. 6, Konf. 100.0000 %\n",
      "\n",
      "Letzte wahre Position ist  6\n",
      "Letzte geschätzte Position ist 6 mit Konfidenz 100.0000 %\n"
     ]
    },
    {
     "data": {
      "image/png": "[encoded data removed]",
      "text/plain": [
       "<Figure size 432x288 with 1 Axes>"
      ]
     },
     "metadata": {
      "needs_background": "light"
     },
     "output_type": "display_data"
    }
   ],
   "source": [
    "import random\n",
    "\n",
    "random.seed(10)\n",
    "np.set_printoptions(precision=2, suppress=True, linewidth=60)\n",
    "robo_filter(4, kernel=[1.], sensor_accuracy=.999,\n",
    "             move_distance=4, do_print=True)"
   ]
  },
  {
   "cell_type": "markdown",
   "metadata": {},
   "source": [
    "Der Code funktioniert also einwandfrei."
   ]
  },
  {
   "cell_type": "markdown",
   "metadata": {},
   "source": [
    "#### Simulation Roboterfahrzeug mit fast idealem Abstandsensor und signifikanten Bewegungsabweichungen\n",
    "Nun wird eine Simulation mit fast noch idealen Sensor aber signifikanten Bewegungsabweichungen durchgeführt."
   ]
  },
  {
   "cell_type": "code",
   "execution_count": 12,
   "metadata": {},
   "outputs": [
    {
     "name": "stdout",
     "output_type": "stream",
     "text": [
      "t= 0: Wahr 4, Vorh. 4, Mess. 4, Schätz. 4, Konf. 98.8621 %\n",
      "t= 1: Wahr 8, Vorh. 8, Mess. 8, Schätz. 8, Konf. 99.1057 %\n",
      "t= 2: Wahr 2, Vorh. 2, Mess. 2, Schätz. 2, Konf. 99.1126 %\n",
      "t= 3: Wahr 6, Vorh. 6, Mess. 6, Schätz. 6, Konf. 99.1128 %\n",
      "t= 4: Wahr 0, Vorh. 0, Mess. 0, Schätz. 0, Konf. 99.1128 %\n",
      "t= 5: Wahr 4, Vorh. 4, Mess. 4, Schätz. 4, Konf. 99.1128 %\n",
      "t= 6: Wahr 9, Vorh. 8, Mess. 9, Schätz. 9, Konf. 89.7613 %\n",
      "t= 7: Wahr 4, Vorh. 3, Mess. 4, Schätz. 4, Konf. 88.4094 %\n",
      "t= 8: Wahr 8, Vorh. 8, Mess. 8, Schätz. 8, Konf. 98.8244 %\n",
      "t= 9: Wahr 2, Vorh. 2, Mess. 2, Schätz. 2, Konf. 99.1055 %\n",
      "t=10: Wahr 6, Vorh. 6, Mess. 6, Schätz. 6, Konf. 99.1126 %\n",
      "t=11: Wahr 9, Vorh. 0, Mess. 9, Schätz. 9, Konf. 89.7614 %\n",
      "\n",
      "Letzte wahre Position ist  9\n",
      "Letzte geschätzte Position ist 9 mit Konfidenz 89.7614 %\n"
     ]
    },
    {
     "data": {
      "image/png": "[encoded data removed]",
      "text/plain": [
       "<Figure size 432x288 with 1 Axes>"
      ]
     },
     "metadata": {
      "needs_background": "light"
     },
     "output_type": "display_data"
    }
   ],
   "source": [
    "random.seed(10)\n",
    "robo_filter(12, kernel=[.15, .7, .15], sensor_accuracy=.98,\n",
    "         move_distance=4, do_print=True)"
   ]
  },
  {
   "cell_type": "markdown",
   "metadata": {},
   "source": [
    "In dem Fall oben ist die Messabweichung des Sensors sehr gering, jedoch liegt die Vorhersage manchmal daneben, wenn die tatsächliche Schrittweite von ``move_distance`` abweicht, wie z.B. zur Zeit 6. Dies bewirkt einen vorrübergehenden moderaten Einbruch der Konfidenz."
   ]
  },
  {
   "cell_type": "markdown",
   "metadata": {},
   "source": [
    "#### Simulation Roboterfahrzeug mit realitätsnahem Abstandsensor und leichten Bewegungsabweichungen\n",
    "Es folgt eine Simulation mit geringen Bewegungsabweichungen aber eine Messabweichung, die der einfacher preiswerter Sensoren entspricht."
   ]
  },
  {
   "cell_type": "code",
   "execution_count": 13,
   "metadata": {},
   "outputs": [
    {
     "name": "stdout",
     "output_type": "stream",
     "text": [
      "t= 0: Wahr 4, Vorh. 4, Mess. 4, Schätz. 4, Konf. 95.3803 %\n",
      "t= 1: Wahr 8, Vorh. 8, Mess. 8, Schätz. 8, Konf. 97.0361 %\n",
      "t= 2: Wahr 2, Vorh. 2, Mess. 3, Schätz. 2, Konf. 88.0445 %\n",
      "t= 3: Wahr 6, Vorh. 6, Mess. 6, Schätz. 6, Konf. 94.3388 %\n",
      "t= 4: Wahr 0, Vorh. 0, Mess. 0, Schätz. 0, Konf. 96.6838 %\n",
      "t= 5: Wahr 4, Vorh. 4, Mess. 3, Schätz. 4, Konf. 87.4311 %\n",
      "t= 6: Wahr 8, Vorh. 8, Mess. 8, Schätz. 8, Konf. 94.1052 %\n",
      "t= 7: Wahr 2, Vorh. 2, Mess. 2, Schätz. 2, Konf. 96.6023 %\n",
      "t= 8: Wahr 6, Vorh. 6, Mess. 6, Schätz. 6, Konf. 97.4805 %\n",
      "t= 9: Wahr 0, Vorh. 0, Mess. 0, Schätz. 0, Konf. 97.7827 %\n",
      "t=10: Wahr 4, Vorh. 4, Mess. 5, Schätz. 4, Konf. 88.6530 %\n",
      "t=11: Wahr 8, Vorh. 8, Mess. 8, Schätz. 8, Konf. 94.5809 %\n",
      "\n",
      "Letzte wahre Position ist  8\n",
      "Letzte geschätzte Position ist 8 mit Konfidenz 94.5809 %\n"
     ]
    },
    {
     "data": {
      "image/png": "[encoded data removed]",
      "text/plain": [
       "<Figure size 432x288 with 1 Axes>"
      ]
     },
     "metadata": {
      "needs_background": "light"
     },
     "output_type": "display_data"
    }
   ],
   "source": [
    "random.seed(10)\n",
    "robo_filter(12, kernel=[.02, .96, .02], sensor_accuracy=.75,\n",
    "         move_distance=4, do_print=True)"
   ]
  },
  {
   "cell_type": "markdown",
   "metadata": {},
   "source": [
    "Die Vorhersage liegt nie daneben. Jedoch sinkt die Konfidenz der geschätzten Position nach einem Ausreißer des Abstandssensors deutlich ab, wie z.B. zur Zeit 5. Dies heilt nach einigen Schritten ohne Ausreißer aber wieder aus."
   ]
  },
  {
   "cell_type": "markdown",
   "metadata": {},
   "source": [
    "#### Simulation Roboterfahrzeug mit realitätsnahem Abstandsensor und signifikanten Bewegungsabweichungen\n",
    "Diese Simulation besitzt sowohl für die Bewegungsabweichungen als auch für die Messunsicherheit recht große Werte, die realitätsnah für preiswerte Mechatronikkomponenten sind."
   ]
  },
  {
   "cell_type": "code",
   "execution_count": 14,
   "metadata": {},
   "outputs": [
    {
     "name": "stdout",
     "output_type": "stream",
     "text": [
      "t= 0: Wahr 4, Vorh. 4, Mess. 4, Schätz. 4, Konf. 84.1755 %\n",
      "t= 1: Wahr 8, Vorh. 8, Mess. 8, Schätz. 8, Konf. 82.3295 %\n",
      "t= 2: Wahr 2, Vorh. 2, Mess. 3, Schätz. 2, Konf. 44.1766 %\n",
      "t= 3: Wahr 6, Vorh. 6, Mess. 6, Schätz. 6, Konf. 65.5570 %\n",
      "t= 4: Wahr 0, Vorh. 0, Mess. 0, Schätz. 0, Konf. 75.1121 %\n",
      "t= 5: Wahr 5, Vorh. 4, Mess. 4, Schätz. 4, Konf. 78.9778 %\n",
      "t= 6: Wahr 0, Vorh. 8, Mess. 0, Schätz. 8, Konf. 54.9246 %\n",
      "t= 7: Wahr 4, Vorh. 2, Mess. 4, Schätz. 2, Konf. 37.4931 %\n",
      "t= 8: Wahr 8, Vorh. 6, Mess. 8, Schätz. 8, Konf. 39.3592 %\n",
      "t= 9: Wahr 2, Vorh. 2, Mess. 2, Schätz. 2, Konf. 56.7531 %\n",
      "t=10: Wahr 5, Vorh. 6, Mess. 6, Schätz. 6, Konf. 68.8410 %\n",
      "t=11: Wahr 0, Vorh. 0, Mess. 0, Schätz. 0, Konf. 75.5576 %\n",
      "\n",
      "Letzte wahre Position ist  0\n",
      "Letzte geschätzte Position ist 0 mit Konfidenz 75.5576 %\n"
     ]
    },
    {
     "data": {
      "image/png": "[encoded data removed]",
      "text/plain": [
       "<Figure size 432x288 with 1 Axes>"
      ]
     },
     "metadata": {
      "needs_background": "light"
     },
     "output_type": "display_data"
    }
   ],
   "source": [
    "random.seed(10)\n",
    "robo_filter(12, kernel=[.15, .70, .15], sensor_accuracy=.75,\n",
    "         move_distance=4, do_print=True)"
   ]
  },
  {
   "cell_type": "markdown",
   "metadata": {},
   "source": [
    "In dem Worst Case Beispiel oben ist schön zu sehen, dass der Filter sich immer wieder fängt, falls mal ein Ausreißer im Messwert oder in der Schrittanzahl zugeschlagen hat.\n",
    "\n",
    "#### Große Anzahl Iterationen mit realitätsnahen Abstandssensor und realitätsnahen Bewegungsabweichungen\n",
    "Im abschließenden Code werden sehr viele Iterationen ausgeführt, wovon neun aufeinanderfolgende als Histogramme dargestellt werden.  \n",
    "*Achtung*: Die Ausführung dieses Codes dauert ein wenig länger als gewöhnt."
   ]
  },
  {
   "cell_type": "code",
   "execution_count": 15,
   "metadata": {
    "scrolled": false
   },
   "outputs": [
    {
     "data": {
      "image/png": "[encoded data removed]",
      "text/plain": [
       "<Figure size 720x504 with 9 Axes>"
      ]
     },
     "metadata": {
      "needs_background": "light"
     },
     "output_type": "display_data"
    }
   ],
   "source": [
    "plt.figure(figsize=(10, 7)) # figure size\n",
    "for i in range (9):\n",
    "    random.seed(3)    \n",
    "    plt.subplot(3,3,1+i) # 3x3 plots in figure, 1+i is number of active plot\n",
    "    robo_filter(152+i, kernel=[.1, .8, .1], sensor_accuracy=.8, move_distance=4, do_print=False)\n",
    "    plt.title ('Iteration {}'.format(152+i))\n",
    "    plt.tight_layout()"
   ]
  },
  {
   "cell_type": "markdown",
   "metadata": {},
   "source": [
    "Es ist gut sichtbar, wie die Position sich von Iteration zu Iteration um 4 Schritte ändert. Das Roboterfahrzeug fährt also immer im Kreis.  \n",
    "Bei Iteration 155 sinkt auf einmal die Konfidenz auf unter 60 % ab. Aber bei Iteration 159 ist die Wahrscheinlichkeitsdichte der Position wieder angewachsen auf das vorherige Niveau von ca. 85 %.  \n",
    "Es gibt also immer wieder mal Einbrüche der Konfidenz - entweder durch einen falschen Messwert oder durch eine falsche Vorhersage."
   ]
  },
  {
   "cell_type": "markdown",
   "metadata": {},
   "source": [
    "## Am Ende nun die Theorie: Keine Angst vor dem Bayes Theorem\n",
    "Am besten löst man ein Problem zunächst hemdsärmelig mit viel Intuition und gesundem Menschenverstand. Erst danach sollte man sich Gedanken über die Theorie dazu machen. Diesem Leitbild folgt dieses Jupyter-Notebook. Bisher sind noch keine Theoreme oder komplizierten Matrizengleichungen aufgetaucht. Zum Glück.  \n",
    "\n",
    "Denn viele Lehrbücher zum Kalman-Filter gehen genau den umgekehrten Weg: Sie knallen dem Leser erst die Theorie vor den Latz und präsentieren anschließend - wenn überhaupt - einige wenige Anwendungsbeispiele dazu. Ein solches Vorgehen wird an Hochschule zumal auch als \"Forschung\" beschrieben. Aber auch an Gymnasien ist diese Pseudowissenschaftlichkeit oft zu finden, wenn die Lehrer sich für Fachwissenschaftler und nicht für Pädagogen halten. Genug gelästert.   \n",
    "\n",
    "Die statistischen Betrachtungen im bisherigen Verlauf dieses Notebooks mündeten in die beiden zentralen Filterfunktionen ``predict()`` und ``update()``.\n",
    "\n",
    "Der Funktion `update()` liegt folgende zentrale Berechnung zugrunde:\n",
    "\n",
    "$$\\mathtt{Posterior} = \\frac{\\mathtt{Likelihood} \\circ \\mathtt{Prior}}{\\mathtt{Normierung}}$$ \n",
    "\n",
    ">Der *prior* ist eine Wahrscheinlichkeitsverteilung, die auf einer Vorhersage basiert, dem sogenannte *Vorhersagewert*. Die Messung liefert eine Annahme (engl. *Likelihood*) über den Zustand, mit der der Prior korrigiert und daraus der Korrekturwert *Posterior* berechnet wird. Der Posterior ist der Schätzwert zur Wahrscheinlichkeitsverteilung, den der Filter schließlich ausgibt."
   ]
  },
  {
   "cell_type": "markdown",
   "metadata": {},
   "source": [
    "#### Das Bayes-Theorem\n",
    "Das Bayes-Theorem lautet:\n",
    "\n",
    "$$P(A \\mid B) = \\frac{P(B \\mid A)\\, P(A)}{P(B)}$$\n",
    "\n",
    "*Wieder liegt der Hase in der Notation und in den Begrifflichkeiten begraben:*   \n",
    "  \n",
    "* Definition: $P(A)$ steht für die Eintrittswahrscheinlichkeit eines Ereignisses mit der Bezeichnung $A$.  \n",
    "Wenn $A$ z.B. das Ergebnis \"Zahl\" bei einem Münzenwurf fist, dann wäre $P(A) = 0.5$, also 50 %.\n",
    "\n",
    "* Definition: $P(A \\mid B)$ nennt man \"bedingte Wahrscheinlichkeit\". Damit ist die Wahrscheinlichkeit gemeint für das Eintreten von Ereignis $A$ *wenn* gleichzeitig auch Ereignis $B$ eintritt.\n",
    "\n",
    "Zum Beispiel ist das Ereignis \"Regen\" heute wahrscheinlicher, wenn es gestern auch schon geregnet hat. Die bedingte Wahrscheinlichkeit für heutigen Regen bei gleichzeitig gestrigen Regen würde also mit $P(\\mathtt{Heute\\_Regen} \\mid \\mathtt{Gestern\\_Regen})$ ausgedrückt werden."
   ]
  },
  {
   "cell_type": "markdown",
   "metadata": {},
   "source": [
    "#### Der Update-Algorithmus als Spezialform des Bayes-Theorems\n",
    "Nun wird gezeigt, dass die Wahrscheinlichkeitsverteilung des Roboterfahrzeugs dem Ereignis $A$ und eine Messung dem Ereignis $B$ des Bayes-Theorems entspricht:  \n",
    "\n",
    "Dafür muss die Gleichung etwas umgeschrieben werden. $x_i$ steht für die Position mit Index *i* im Array der Wahrscheinlichkeitsdichte und $z$ für den Positionsmesswert. **Aufgabe der Funkton ``update()`` ist es $P(x_i \\mid Z)$ zu berechnen: Die Wahrscheinlichkeit der Position $x_i$ unter Berücksichtigung des Messwerts $z$.** \n",
    "\n",
    "Also gilt nach dem Bayes-Theorem:\n",
    "\n",
    "$$P(x_i \\mid z) = \\frac{P(z \\mid x_i) P(x_i)}{P(z)}$$\n",
    "\n",
    "$P(x_i)$ ist der Prior, also die Wahrscheinlichkeit für die Position i nach der Vorhersage. Im Beispiel des Roboterfahrzeugs bedeutet beispielsweise $i = 4$ die Position 4, also vor der Türe 4. $P(x_4)$ ist dann die Wahrscheinlichkeit, dass sich das Fahrzeug an Position 4 befindet.  \n",
    "\n",
    "$P(z \\mid x_i)$ ist die bedingte Wahrscheinlichkeit für einen Messwert $z$, wenn sich das Fahrzeug an der Position i befindet: Befindet sich das Fahrzeug beispielsweise an Position 4 mit $sensor\\_accuracy = 0,75$ und $z = 4$, dann beträgt diese 75 %. Führt man dies für jeden Index des Arrays durch, so erhält man am Ende einen Array, wo in jedem Element die Wahrscheinlichkeit für die entsprechende Position *aufgrund des Messwerts $z$ steht*.   \n",
    "Dies ist eine unnormierte Annahme der Position (Wahrscheinlichkeitsdichteverteilung) aufgrund der Messung - **dies ist die Likelihood**.\n",
    "\n",
    "$ P(z \\mid x_i) P(x_i)$ ist identisch zur elementweisen Multiplikation ``likelihood * prior`` in der ``update()``-Funktion:\n",
    "\n",
    "```python\n",
    "def update(likelihood, prior):\n",
    "    posterior = (likelihood * prior)/sum(likelihood * prior)\n",
    "    return (posterior)\n",
    "```\n",
    "\n",
    "$P(z)$ ist die Wahrscheinlichkeit, unabhängig von der tatsächlichen Position den Messwert $z$ zu erhalten. Durch die Division mit $P(z)$ wird der Term des Bayes-Theorems rechts neben dem Gleichheitszeichen normiert. Das dem tatsächlich so ist, ist gar nicht so einfach zu erkennen. Und tatsächlich liegt beim Bayes-Theorem im Term $P(z)$ oft der Hase begraben.   \n",
    "\n",
    "**Die ``update()``-Funktion ist also identisch zum Bayes-Theorem:  \n",
    "Links steht der Korrekturwert (Posterior) und rechts die Berechnungsformel ${(\\mathtt{Likelihood} \\times \\mathtt{Prior}})/{\\mathtt{Normierung}}$ dafür.**\n",
    "\n",
    "In der Literatur taucht das Bayes-Theorem auch in Form von Integralen, also für eine kontinuierliche und nicht wie hier diskrete Berechnung. Also keine Angst, wenn in einem Lehrbuch folgendes Theorem abgebildet ist:\n",
    "\n",
    "$$P(A \\mid B) = \\frac{P(B \\mid A)\\, P(A)}{\\int P(B \\mid A_j) P(A_j) \\mathtt{d}A_j}\\cdot$$ \n",
    "Dies ist nur die analoge Version des digitalen Bayestheorems von ganz oben.  \n",
    "\n",
    "Damit wäre die Theorie rund um die ``update()``-Funktion abgefrühstückt. Es bleibt noch die Theorie zur ``predict()``-Funktion."
   ]
  },
  {
   "cell_type": "markdown",
   "metadata": {
    "collapsed": true
   },
   "source": [
    "## Am Ende nun die Theorie: Keine Angst vor dem Satz / Gesetz der totalen Wahrscheinlichkeit\n",
    "Die Funktion ``update()`` gehört zum Korrekturschritt des g-h-Filters und basiert auf dem Bayes-Theorem wie oben dargestellt.  \n",
    "Die Funktion ``predict()`` gehört zum Vorhersageschritt des g-h-Filters, und kann ebenso theoretisch untermauert werden: *Hiefür ist das \"Gesetz bzw. der Satz der totalen Wahrscheinlichkeit\" zuständig.*  \n",
    "\n",
    "Die Funktion ``predict()`` berechnet die Wahrscheinlichkeitsdichte für den nächsten Zeitpunkt, indem für jedes Element (Position) des Posteriors jede mögliche Propagation (Bewegung) durchgespielt wird. Für jede Ausgangsposition gibt es dadurch eine Verteilung von Positionen zum nächsten Zeitpunkt. Die Wahrscheinlichkeiten all dieser Verteilungen werden getrennt für jeden Index aufaddiert und bilden damit den neuen Prior.  \n",
    "\n",
    "Mathematisch formuliert, sieht das so aus:\n",
    "* Die Wahrscheinlichkeit, dass sich das Roboterfahrzeug zur aktuellen Zeit $t$ an der Position $X_i$ befindet, beträgt $P(X_i^t)$. \n",
    "* Die Wahrscheinlichkeit, dass es sich zum Zeitpunkt $t-1$ davor an der Position $X_j$ befunden hatte, beträgt $P(X_j^{t-1})$.\n",
    "* Die Wahrscheinlichkeit, dass es sich in der Zeit dazwischen von der Position $X_j$ auf die Position $X_i$ bewegt hat, beträgt $P(X_i | X_j)$.   \n",
    "\n",
    "Da das Fahrzeug über viele mögliche Bewegungen zur Position $X_i$ gelangt sein kann, muss man die Wahrscheinlichkeiten der möglichen Wege aufaddieren: \n",
    "\n",
    "$$P(X_i^t) = \\sum_j P(X_j^{t-1})  P(X_i | X_j)$$\n",
    "\n",
    "Diese Gleichung ist nichts Anderes als das **\"Gesetz bzw. der Satz der totalen Wahrscheinlichkeit\"**. \n",
    "Ein Blick auf den Quellcodeausschnitt der Funktion ``predict_move()`` aus dem vorherigen Notebook zeigt, dass hier genau die gleiche Berechnung durchgeführt wird. Hier werden nur die drei möglichen Bewegungen \"Ein Schritt vor\", \"Ein Schritt zurück\" und \"Stillstand\" betrachtet.\n",
    "\n",
    "```python\n",
    "    for i in range(n):\n",
    "        prior[i] = (\n",
    "            belief[(i-move) % n]   * p_correct +\n",
    "            belief[(i-move-1) % n] * p_over +\n",
    "            belief[(i-move+1) % n] * p_under)\n",
    "```\n",
    "In der aus ``predict_move()`` weiter entwickelten endgültigen Vorhersagefunktion ``predict()`` sind beliebig viele Schritte möglich. Das Aufsummieren wird hier nicht mehr explizit im Code ausgeführt, sondern von einer Faltungsoperation übernommen."
   ]
  },
  {
   "cell_type": "markdown",
   "metadata": {},
   "source": [
    "## Zusammenfassung\n",
    "Der Quellcode für die beiden Kernalgorithmen \"Vorhersage\" und \"Korrektur\" ist sehr kurz aber mächtig. Er bildet den Kern des hier vorgestellten Bayes-Filters.  \n",
    "Die Beispiele zeigen eindrücklich, wie ohne Startinformation trotz stark verrauschter Messdaten die Position des Roboterfahrzeugs nach einigen Filteriterationen mit > 80 % Vertrauensniveau geschätzt wird.  \n",
    "Der Vorhersageschritt hat meistens das Vertrauensniveau etwas vermindert. Aber die anschließende Messung, egal wie verrauscht sie war, konnte über den Korrekturschritt das Vertrauensniveau wieder erhöhen.  \n",
    "\n",
    "Die bisherigen Inhalte dienen alle der Vorbereitung auf den Kalman-Filter. Dieser verwendet zwar eine andere mathematische Berechnung, **die zugrunde liegende Logik ist aber identisch zum Bayes-Filter**: \n",
    "> Beim Bayes-Filter werden mit Hilfe des Bayes-Theorems Schätzwerte aus mit Messwerten korrigierten Vorhersagewerten berechnet. Grob gesagt bewirkt die Vorhersage das Verschieben und die Korrektur eine Multiplikation der Wahrscheinlichkeitsverteilung. Wobei die Wahrscheinlichkeitsverteilung den geschätzten Zustandswert repräsentiert.  \n",
    "\n",
    "> Das Verschieben (also die Vorhersage) geschieht mathematisch über ein Faltung. \n",
    "\n",
    "**Das Verständnis der o.g. grundlegenden Gedanken ist absolut nötig, um den Kalman-Filter in den folgenden Jupyter-Notebooks zu verstehen.** Im letzten Abschnitt \"...mit einem Abstandssensor statt Türsensor\" war der Bayes-Filter eigentlich überdimensioniert. Denn die Wahrscheinlichkeitsverteilung der Abstandsmessung wie auch der Bewegung waren unimodal. Deshalb waren die Histogramme eigentlich gar nicht so arg von Interesse, denn es interessierte nur der Index des höchsten Histogrammbalkens sowie dessen Höhe (= Wahrscheinlichkeit dieser Position).  \n",
    "**Der Kalman-Filter beschränkt sich auf unimodale *gaußförmige* Verteilungen. Hier sind Histogramme nicht mehr nötig, denn Gaußverteilungen werden stattdessen über deren Erwartungswert und Varianz eindeutig definiert. Genau in dieser Hinsicht wird der hier eingeführte Bayes-Filter in den folgenden Jupyter-Notebooks zu einem Kalman-Filter weiterentwickelt.**"
   ]
  }
 ],
 "metadata": {
  "anaconda-cloud": {},
  "kernelspec": {
   "display_name": "Python 3",
   "language": "python",
   "name": "python3"
  },
  "language_info": {
   "codemirror_mode": {
    "name": "ipython",
    "version": 3
   },
   "file_extension": ".py",
   "mimetype": "text/x-python",
   "name": "python",
   "nbconvert_exporter": "python",
   "pygments_lexer": "ipython3",
   "version": "3.8.10"
  },
  "widgets": {
   "application/vnd.jupyter.widget-state+json": {
    "state": {},
    "version_major": 2,
    "version_minor": 0
   }
  }
 },
 "nbformat": 4,
 "nbformat_minor": 1
}
